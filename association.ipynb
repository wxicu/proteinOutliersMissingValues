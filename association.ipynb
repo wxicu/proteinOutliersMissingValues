{
 "cells": [
  {
   "cell_type": "code",
   "execution_count": 1,
   "id": "2ecba544",
   "metadata": {},
   "outputs": [
    {
     "name": "stderr",
     "output_type": "stream",
     "text": [
      "\n",
      "Attache Paket: ‘dplyr’\n",
      "\n",
      "\n",
      "Die folgenden Objekte sind maskiert von ‘package:data.table’:\n",
      "\n",
      "    between, first, last\n",
      "\n",
      "\n",
      "Die folgenden Objekte sind maskiert von ‘package:stats’:\n",
      "\n",
      "    filter, lag\n",
      "\n",
      "\n",
      "Die folgenden Objekte sind maskiert von ‘package:base’:\n",
      "\n",
      "    intersect, setdiff, setequal, union\n",
      "\n",
      "\n"
     ]
    }
   ],
   "source": [
    "library(data.table)\n",
    "library(dplyr)\n",
    "library(stringr)"
   ]
  },
  {
   "cell_type": "code",
   "execution_count": 2,
   "id": "b1a7b901",
   "metadata": {},
   "outputs": [
    {
     "data": {
      "text/html": [
       "<table class=\"dataframe\">\n",
       "<caption>A data.table: 6 × 19</caption>\n",
       "<thead>\n",
       "\t<tr><th scope=col>Identifier</th><th scope=col>sampleID</th><th scope=col>frequency</th><th scope=col>dbSNP id (g)</th><th scope=col>Gene name (d)</th><th scope=col>Entrez gene id (e)</th><th scope=col>Chromosome (f)</th><th scope=col>Start (f)</th><th scope=col>End (f)</th><th scope=col>Cytoband (f)</th><th scope=col>AA Impact (h)</th><th scope=col>1000 Genome (i)</th><th scope=col>ESP5400 (j)</th><th scope=col>SIFT Score (k)</th><th scope=col>SNP Type (l)</th><th scope=col>Polyphen (m)</th><th scope=col>Variant class (n)</th><th scope=col>AF</th><th scope=col>rare</th></tr>\n",
       "\t<tr><th scope=col>&lt;chr&gt;</th><th scope=col>&lt;chr&gt;</th><th scope=col>&lt;dbl&gt;</th><th scope=col>&lt;chr&gt;</th><th scope=col>&lt;chr&gt;</th><th scope=col>&lt;int&gt;</th><th scope=col>&lt;chr&gt;</th><th scope=col>&lt;int&gt;</th><th scope=col>&lt;int&gt;</th><th scope=col>&lt;chr&gt;</th><th scope=col>&lt;chr&gt;</th><th scope=col>&lt;dbl&gt;</th><th scope=col>&lt;dbl&gt;</th><th scope=col>&lt;dbl&gt;</th><th scope=col>&lt;chr&gt;</th><th scope=col>&lt;dbl&gt;</th><th scope=col>&lt;chr&gt;</th><th scope=col>&lt;dbl&gt;</th><th scope=col>&lt;lgl&gt;</th></tr>\n",
       "</thead>\n",
       "<tbody>\n",
       "\t<tr><td>chr10:100010849_G_A</td><td>ME:SK-MEL-2  </td><td> 45.238</td><td>-          </td><td>LOXL4</td><td>84171</td><td>10</td><td>100010849</td><td>100010849</td><td>10q24</td><td>R725W</td><td>0.00</td><td>0.00000</td><td>0.00</td><td>Missense</td><td>1</td><td>Type 2</td><td>1.0e-06</td><td> TRUE</td></tr>\n",
       "\t<tr><td>chr10:100013418_T_G</td><td>ME:SK-MEL-2  </td><td> 56.140</td><td>rs148260647</td><td>LOXL4</td><td>84171</td><td>10</td><td>100013418</td><td>100013418</td><td>10q24</td><td>Y576S</td><td>0.00</td><td>0.00019</td><td>0.32</td><td>Missense</td><td>1</td><td>Type 1</td><td>6.0e-05</td><td> TRUE</td></tr>\n",
       "\t<tr><td>chr10:100017453_T_G</td><td>BR:MCF7      </td><td> 64.151</td><td>rs1983864  </td><td>LOXL4</td><td>84171</td><td>10</td><td>100017453</td><td>100017453</td><td>10q24</td><td>D405A</td><td>0.36</td><td>0.24900</td><td>0.00</td><td>Missense</td><td>1</td><td>Type 1</td><td>2.9e-01</td><td>FALSE</td></tr>\n",
       "\t<tr><td>chr10:100017453_T_G</td><td>BR:MDA-MB-231</td><td> 28.571</td><td>rs1983864  </td><td>LOXL4</td><td>84171</td><td>10</td><td>100017453</td><td>100017453</td><td>10q24</td><td>D405A</td><td>0.36</td><td>0.24900</td><td>0.00</td><td>Missense</td><td>1</td><td>Type 1</td><td>2.9e-01</td><td>FALSE</td></tr>\n",
       "\t<tr><td>chr10:100017453_T_G</td><td>BR:HS 578T   </td><td>100.000</td><td>rs1983864  </td><td>LOXL4</td><td>84171</td><td>10</td><td>100017453</td><td>100017453</td><td>10q24</td><td>D405A</td><td>0.36</td><td>0.24900</td><td>0.00</td><td>Missense</td><td>1</td><td>Type 1</td><td>2.9e-01</td><td>FALSE</td></tr>\n",
       "\t<tr><td>chr10:100017453_T_G</td><td>CNS:U251     </td><td> 27.273</td><td>rs1983864  </td><td>LOXL4</td><td>84171</td><td>10</td><td>100017453</td><td>100017453</td><td>10q24</td><td>D405A</td><td>0.36</td><td>0.24900</td><td>0.00</td><td>Missense</td><td>1</td><td>Type 1</td><td>2.9e-01</td><td>FALSE</td></tr>\n",
       "</tbody>\n",
       "</table>\n"
      ],
      "text/latex": [
       "A data.table: 6 × 19\n",
       "\\begin{tabular}{lllllllllllllllllll}\n",
       " Identifier & sampleID & frequency & dbSNP id (g) & Gene name (d) & Entrez gene id (e) & Chromosome (f) & Start (f) & End (f) & Cytoband (f) & AA Impact (h) & 1000 Genome (i) & ESP5400 (j) & SIFT Score (k) & SNP Type (l) & Polyphen (m) & Variant class (n) & AF & rare\\\\\n",
       " <chr> & <chr> & <dbl> & <chr> & <chr> & <int> & <chr> & <int> & <int> & <chr> & <chr> & <dbl> & <dbl> & <dbl> & <chr> & <dbl> & <chr> & <dbl> & <lgl>\\\\\n",
       "\\hline\n",
       "\t chr10:100010849\\_G\\_A & ME:SK-MEL-2   &  45.238 & -           & LOXL4 & 84171 & 10 & 100010849 & 100010849 & 10q24 & R725W & 0.00 & 0.00000 & 0.00 & Missense & 1 & Type 2 & 1.0e-06 &  TRUE\\\\\n",
       "\t chr10:100013418\\_T\\_G & ME:SK-MEL-2   &  56.140 & rs148260647 & LOXL4 & 84171 & 10 & 100013418 & 100013418 & 10q24 & Y576S & 0.00 & 0.00019 & 0.32 & Missense & 1 & Type 1 & 6.0e-05 &  TRUE\\\\\n",
       "\t chr10:100017453\\_T\\_G & BR:MCF7       &  64.151 & rs1983864   & LOXL4 & 84171 & 10 & 100017453 & 100017453 & 10q24 & D405A & 0.36 & 0.24900 & 0.00 & Missense & 1 & Type 1 & 2.9e-01 & FALSE\\\\\n",
       "\t chr10:100017453\\_T\\_G & BR:MDA-MB-231 &  28.571 & rs1983864   & LOXL4 & 84171 & 10 & 100017453 & 100017453 & 10q24 & D405A & 0.36 & 0.24900 & 0.00 & Missense & 1 & Type 1 & 2.9e-01 & FALSE\\\\\n",
       "\t chr10:100017453\\_T\\_G & BR:HS 578T    & 100.000 & rs1983864   & LOXL4 & 84171 & 10 & 100017453 & 100017453 & 10q24 & D405A & 0.36 & 0.24900 & 0.00 & Missense & 1 & Type 1 & 2.9e-01 & FALSE\\\\\n",
       "\t chr10:100017453\\_T\\_G & CNS:U251      &  27.273 & rs1983864   & LOXL4 & 84171 & 10 & 100017453 & 100017453 & 10q24 & D405A & 0.36 & 0.24900 & 0.00 & Missense & 1 & Type 1 & 2.9e-01 & FALSE\\\\\n",
       "\\end{tabular}\n"
      ],
      "text/markdown": [
       "\n",
       "A data.table: 6 × 19\n",
       "\n",
       "| Identifier &lt;chr&gt; | sampleID &lt;chr&gt; | frequency &lt;dbl&gt; | dbSNP id (g) &lt;chr&gt; | Gene name (d) &lt;chr&gt; | Entrez gene id (e) &lt;int&gt; | Chromosome (f) &lt;chr&gt; | Start (f) &lt;int&gt; | End (f) &lt;int&gt; | Cytoband (f) &lt;chr&gt; | AA Impact (h) &lt;chr&gt; | 1000 Genome (i) &lt;dbl&gt; | ESP5400 (j) &lt;dbl&gt; | SIFT Score (k) &lt;dbl&gt; | SNP Type (l) &lt;chr&gt; | Polyphen (m) &lt;dbl&gt; | Variant class (n) &lt;chr&gt; | AF &lt;dbl&gt; | rare &lt;lgl&gt; |\n",
       "|---|---|---|---|---|---|---|---|---|---|---|---|---|---|---|---|---|---|---|\n",
       "| chr10:100010849_G_A | ME:SK-MEL-2   |  45.238 | -           | LOXL4 | 84171 | 10 | 100010849 | 100010849 | 10q24 | R725W | 0.00 | 0.00000 | 0.00 | Missense | 1 | Type 2 | 1.0e-06 |  TRUE |\n",
       "| chr10:100013418_T_G | ME:SK-MEL-2   |  56.140 | rs148260647 | LOXL4 | 84171 | 10 | 100013418 | 100013418 | 10q24 | Y576S | 0.00 | 0.00019 | 0.32 | Missense | 1 | Type 1 | 6.0e-05 |  TRUE |\n",
       "| chr10:100017453_T_G | BR:MCF7       |  64.151 | rs1983864   | LOXL4 | 84171 | 10 | 100017453 | 100017453 | 10q24 | D405A | 0.36 | 0.24900 | 0.00 | Missense | 1 | Type 1 | 2.9e-01 | FALSE |\n",
       "| chr10:100017453_T_G | BR:MDA-MB-231 |  28.571 | rs1983864   | LOXL4 | 84171 | 10 | 100017453 | 100017453 | 10q24 | D405A | 0.36 | 0.24900 | 0.00 | Missense | 1 | Type 1 | 2.9e-01 | FALSE |\n",
       "| chr10:100017453_T_G | BR:HS 578T    | 100.000 | rs1983864   | LOXL4 | 84171 | 10 | 100017453 | 100017453 | 10q24 | D405A | 0.36 | 0.24900 | 0.00 | Missense | 1 | Type 1 | 2.9e-01 | FALSE |\n",
       "| chr10:100017453_T_G | CNS:U251      |  27.273 | rs1983864   | LOXL4 | 84171 | 10 | 100017453 | 100017453 | 10q24 | D405A | 0.36 | 0.24900 | 0.00 | Missense | 1 | Type 1 | 2.9e-01 | FALSE |\n",
       "\n"
      ],
      "text/plain": [
       "  Identifier          sampleID      frequency dbSNP id (g) Gene name (d)\n",
       "1 chr10:100010849_G_A ME:SK-MEL-2    45.238   -            LOXL4        \n",
       "2 chr10:100013418_T_G ME:SK-MEL-2    56.140   rs148260647  LOXL4        \n",
       "3 chr10:100017453_T_G BR:MCF7        64.151   rs1983864    LOXL4        \n",
       "4 chr10:100017453_T_G BR:MDA-MB-231  28.571   rs1983864    LOXL4        \n",
       "5 chr10:100017453_T_G BR:HS 578T    100.000   rs1983864    LOXL4        \n",
       "6 chr10:100017453_T_G CNS:U251       27.273   rs1983864    LOXL4        \n",
       "  Entrez gene id (e) Chromosome (f) Start (f) End (f)   Cytoband (f)\n",
       "1 84171              10             100010849 100010849 10q24       \n",
       "2 84171              10             100013418 100013418 10q24       \n",
       "3 84171              10             100017453 100017453 10q24       \n",
       "4 84171              10             100017453 100017453 10q24       \n",
       "5 84171              10             100017453 100017453 10q24       \n",
       "6 84171              10             100017453 100017453 10q24       \n",
       "  AA Impact (h) 1000 Genome (i) ESP5400 (j) SIFT Score (k) SNP Type (l)\n",
       "1 R725W         0.00            0.00000     0.00           Missense    \n",
       "2 Y576S         0.00            0.00019     0.32           Missense    \n",
       "3 D405A         0.36            0.24900     0.00           Missense    \n",
       "4 D405A         0.36            0.24900     0.00           Missense    \n",
       "5 D405A         0.36            0.24900     0.00           Missense    \n",
       "6 D405A         0.36            0.24900     0.00           Missense    \n",
       "  Polyphen (m) Variant class (n) AF      rare \n",
       "1 1            Type 2            1.0e-06  TRUE\n",
       "2 1            Type 1            6.0e-05  TRUE\n",
       "3 1            Type 1            2.9e-01 FALSE\n",
       "4 1            Type 1            2.9e-01 FALSE\n",
       "5 1            Type 1            2.9e-01 FALSE\n",
       "6 1            Type 1            2.9e-01 FALSE"
      ]
     },
     "metadata": {},
     "output_type": "display_data"
    }
   ],
   "source": [
    "variant <- fread(\"variant_with_maf_new.csv\")\n",
    "head(variant)"
   ]
  },
  {
   "cell_type": "code",
   "execution_count": 3,
   "id": "f05ee358",
   "metadata": {},
   "outputs": [],
   "source": [
    "variant$sampleID <- variant$sampleID %>%\n",
    "  strsplit(\":\")  %>%\n",
    "  sapply( tail, 1 ) %>%\n",
    "  str_replace_all(\"-\",\"\")%>%\n",
    "  str_replace_all(\" \",\"\")%>%\n",
    "  str_replace(\"(TB)\",\"\")%>%\n",
    "  str_replace(\"UO31\",\"U031\")"
   ]
  },
  {
   "cell_type": "code",
   "execution_count": 4,
   "id": "93eb6cee",
   "metadata": {},
   "outputs": [
    {
     "data": {
      "text/html": [
       "<table class=\"dataframe\">\n",
       "<caption>A data.table: 6 × 19</caption>\n",
       "<thead>\n",
       "\t<tr><th scope=col>Identifier</th><th scope=col>sampleID</th><th scope=col>frequency</th><th scope=col>dbSNP id (g)</th><th scope=col>Gene name (d)</th><th scope=col>Entrez gene id (e)</th><th scope=col>Chromosome (f)</th><th scope=col>Start (f)</th><th scope=col>End (f)</th><th scope=col>Cytoband (f)</th><th scope=col>AA Impact (h)</th><th scope=col>1000 Genome (i)</th><th scope=col>ESP5400 (j)</th><th scope=col>SIFT Score (k)</th><th scope=col>SNP Type (l)</th><th scope=col>Polyphen (m)</th><th scope=col>Variant class (n)</th><th scope=col>AF</th><th scope=col>rare</th></tr>\n",
       "\t<tr><th scope=col>&lt;chr&gt;</th><th scope=col>&lt;chr&gt;</th><th scope=col>&lt;dbl&gt;</th><th scope=col>&lt;chr&gt;</th><th scope=col>&lt;chr&gt;</th><th scope=col>&lt;int&gt;</th><th scope=col>&lt;chr&gt;</th><th scope=col>&lt;int&gt;</th><th scope=col>&lt;int&gt;</th><th scope=col>&lt;chr&gt;</th><th scope=col>&lt;chr&gt;</th><th scope=col>&lt;dbl&gt;</th><th scope=col>&lt;dbl&gt;</th><th scope=col>&lt;dbl&gt;</th><th scope=col>&lt;chr&gt;</th><th scope=col>&lt;dbl&gt;</th><th scope=col>&lt;chr&gt;</th><th scope=col>&lt;dbl&gt;</th><th scope=col>&lt;lgl&gt;</th></tr>\n",
       "</thead>\n",
       "<tbody>\n",
       "\t<tr><td>chr10:100010849_G_A</td><td>SKMEL2  </td><td> 45.238</td><td>-          </td><td>LOXL4</td><td>84171</td><td>10</td><td>100010849</td><td>100010849</td><td>10q24</td><td>R725W</td><td>0.00</td><td>0.00000</td><td>0.00</td><td>Missense</td><td>1</td><td>Type 2</td><td>1.0e-06</td><td> TRUE</td></tr>\n",
       "\t<tr><td>chr10:100013418_T_G</td><td>SKMEL2  </td><td> 56.140</td><td>rs148260647</td><td>LOXL4</td><td>84171</td><td>10</td><td>100013418</td><td>100013418</td><td>10q24</td><td>Y576S</td><td>0.00</td><td>0.00019</td><td>0.32</td><td>Missense</td><td>1</td><td>Type 1</td><td>6.0e-05</td><td> TRUE</td></tr>\n",
       "\t<tr><td>chr10:100017453_T_G</td><td>MCF7    </td><td> 64.151</td><td>rs1983864  </td><td>LOXL4</td><td>84171</td><td>10</td><td>100017453</td><td>100017453</td><td>10q24</td><td>D405A</td><td>0.36</td><td>0.24900</td><td>0.00</td><td>Missense</td><td>1</td><td>Type 1</td><td>2.9e-01</td><td>FALSE</td></tr>\n",
       "\t<tr><td>chr10:100017453_T_G</td><td>MDAMB231</td><td> 28.571</td><td>rs1983864  </td><td>LOXL4</td><td>84171</td><td>10</td><td>100017453</td><td>100017453</td><td>10q24</td><td>D405A</td><td>0.36</td><td>0.24900</td><td>0.00</td><td>Missense</td><td>1</td><td>Type 1</td><td>2.9e-01</td><td>FALSE</td></tr>\n",
       "\t<tr><td>chr10:100017453_T_G</td><td>HS578T  </td><td>100.000</td><td>rs1983864  </td><td>LOXL4</td><td>84171</td><td>10</td><td>100017453</td><td>100017453</td><td>10q24</td><td>D405A</td><td>0.36</td><td>0.24900</td><td>0.00</td><td>Missense</td><td>1</td><td>Type 1</td><td>2.9e-01</td><td>FALSE</td></tr>\n",
       "\t<tr><td>chr10:100017453_T_G</td><td>U251    </td><td> 27.273</td><td>rs1983864  </td><td>LOXL4</td><td>84171</td><td>10</td><td>100017453</td><td>100017453</td><td>10q24</td><td>D405A</td><td>0.36</td><td>0.24900</td><td>0.00</td><td>Missense</td><td>1</td><td>Type 1</td><td>2.9e-01</td><td>FALSE</td></tr>\n",
       "</tbody>\n",
       "</table>\n"
      ],
      "text/latex": [
       "A data.table: 6 × 19\n",
       "\\begin{tabular}{lllllllllllllllllll}\n",
       " Identifier & sampleID & frequency & dbSNP id (g) & Gene name (d) & Entrez gene id (e) & Chromosome (f) & Start (f) & End (f) & Cytoband (f) & AA Impact (h) & 1000 Genome (i) & ESP5400 (j) & SIFT Score (k) & SNP Type (l) & Polyphen (m) & Variant class (n) & AF & rare\\\\\n",
       " <chr> & <chr> & <dbl> & <chr> & <chr> & <int> & <chr> & <int> & <int> & <chr> & <chr> & <dbl> & <dbl> & <dbl> & <chr> & <dbl> & <chr> & <dbl> & <lgl>\\\\\n",
       "\\hline\n",
       "\t chr10:100010849\\_G\\_A & SKMEL2   &  45.238 & -           & LOXL4 & 84171 & 10 & 100010849 & 100010849 & 10q24 & R725W & 0.00 & 0.00000 & 0.00 & Missense & 1 & Type 2 & 1.0e-06 &  TRUE\\\\\n",
       "\t chr10:100013418\\_T\\_G & SKMEL2   &  56.140 & rs148260647 & LOXL4 & 84171 & 10 & 100013418 & 100013418 & 10q24 & Y576S & 0.00 & 0.00019 & 0.32 & Missense & 1 & Type 1 & 6.0e-05 &  TRUE\\\\\n",
       "\t chr10:100017453\\_T\\_G & MCF7     &  64.151 & rs1983864   & LOXL4 & 84171 & 10 & 100017453 & 100017453 & 10q24 & D405A & 0.36 & 0.24900 & 0.00 & Missense & 1 & Type 1 & 2.9e-01 & FALSE\\\\\n",
       "\t chr10:100017453\\_T\\_G & MDAMB231 &  28.571 & rs1983864   & LOXL4 & 84171 & 10 & 100017453 & 100017453 & 10q24 & D405A & 0.36 & 0.24900 & 0.00 & Missense & 1 & Type 1 & 2.9e-01 & FALSE\\\\\n",
       "\t chr10:100017453\\_T\\_G & HS578T   & 100.000 & rs1983864   & LOXL4 & 84171 & 10 & 100017453 & 100017453 & 10q24 & D405A & 0.36 & 0.24900 & 0.00 & Missense & 1 & Type 1 & 2.9e-01 & FALSE\\\\\n",
       "\t chr10:100017453\\_T\\_G & U251     &  27.273 & rs1983864   & LOXL4 & 84171 & 10 & 100017453 & 100017453 & 10q24 & D405A & 0.36 & 0.24900 & 0.00 & Missense & 1 & Type 1 & 2.9e-01 & FALSE\\\\\n",
       "\\end{tabular}\n"
      ],
      "text/markdown": [
       "\n",
       "A data.table: 6 × 19\n",
       "\n",
       "| Identifier &lt;chr&gt; | sampleID &lt;chr&gt; | frequency &lt;dbl&gt; | dbSNP id (g) &lt;chr&gt; | Gene name (d) &lt;chr&gt; | Entrez gene id (e) &lt;int&gt; | Chromosome (f) &lt;chr&gt; | Start (f) &lt;int&gt; | End (f) &lt;int&gt; | Cytoband (f) &lt;chr&gt; | AA Impact (h) &lt;chr&gt; | 1000 Genome (i) &lt;dbl&gt; | ESP5400 (j) &lt;dbl&gt; | SIFT Score (k) &lt;dbl&gt; | SNP Type (l) &lt;chr&gt; | Polyphen (m) &lt;dbl&gt; | Variant class (n) &lt;chr&gt; | AF &lt;dbl&gt; | rare &lt;lgl&gt; |\n",
       "|---|---|---|---|---|---|---|---|---|---|---|---|---|---|---|---|---|---|---|\n",
       "| chr10:100010849_G_A | SKMEL2   |  45.238 | -           | LOXL4 | 84171 | 10 | 100010849 | 100010849 | 10q24 | R725W | 0.00 | 0.00000 | 0.00 | Missense | 1 | Type 2 | 1.0e-06 |  TRUE |\n",
       "| chr10:100013418_T_G | SKMEL2   |  56.140 | rs148260647 | LOXL4 | 84171 | 10 | 100013418 | 100013418 | 10q24 | Y576S | 0.00 | 0.00019 | 0.32 | Missense | 1 | Type 1 | 6.0e-05 |  TRUE |\n",
       "| chr10:100017453_T_G | MCF7     |  64.151 | rs1983864   | LOXL4 | 84171 | 10 | 100017453 | 100017453 | 10q24 | D405A | 0.36 | 0.24900 | 0.00 | Missense | 1 | Type 1 | 2.9e-01 | FALSE |\n",
       "| chr10:100017453_T_G | MDAMB231 |  28.571 | rs1983864   | LOXL4 | 84171 | 10 | 100017453 | 100017453 | 10q24 | D405A | 0.36 | 0.24900 | 0.00 | Missense | 1 | Type 1 | 2.9e-01 | FALSE |\n",
       "| chr10:100017453_T_G | HS578T   | 100.000 | rs1983864   | LOXL4 | 84171 | 10 | 100017453 | 100017453 | 10q24 | D405A | 0.36 | 0.24900 | 0.00 | Missense | 1 | Type 1 | 2.9e-01 | FALSE |\n",
       "| chr10:100017453_T_G | U251     |  27.273 | rs1983864   | LOXL4 | 84171 | 10 | 100017453 | 100017453 | 10q24 | D405A | 0.36 | 0.24900 | 0.00 | Missense | 1 | Type 1 | 2.9e-01 | FALSE |\n",
       "\n"
      ],
      "text/plain": [
       "  Identifier          sampleID frequency dbSNP id (g) Gene name (d)\n",
       "1 chr10:100010849_G_A SKMEL2    45.238   -            LOXL4        \n",
       "2 chr10:100013418_T_G SKMEL2    56.140   rs148260647  LOXL4        \n",
       "3 chr10:100017453_T_G MCF7      64.151   rs1983864    LOXL4        \n",
       "4 chr10:100017453_T_G MDAMB231  28.571   rs1983864    LOXL4        \n",
       "5 chr10:100017453_T_G HS578T   100.000   rs1983864    LOXL4        \n",
       "6 chr10:100017453_T_G U251      27.273   rs1983864    LOXL4        \n",
       "  Entrez gene id (e) Chromosome (f) Start (f) End (f)   Cytoband (f)\n",
       "1 84171              10             100010849 100010849 10q24       \n",
       "2 84171              10             100013418 100013418 10q24       \n",
       "3 84171              10             100017453 100017453 10q24       \n",
       "4 84171              10             100017453 100017453 10q24       \n",
       "5 84171              10             100017453 100017453 10q24       \n",
       "6 84171              10             100017453 100017453 10q24       \n",
       "  AA Impact (h) 1000 Genome (i) ESP5400 (j) SIFT Score (k) SNP Type (l)\n",
       "1 R725W         0.00            0.00000     0.00           Missense    \n",
       "2 Y576S         0.00            0.00019     0.32           Missense    \n",
       "3 D405A         0.36            0.24900     0.00           Missense    \n",
       "4 D405A         0.36            0.24900     0.00           Missense    \n",
       "5 D405A         0.36            0.24900     0.00           Missense    \n",
       "6 D405A         0.36            0.24900     0.00           Missense    \n",
       "  Polyphen (m) Variant class (n) AF      rare \n",
       "1 1            Type 2            1.0e-06  TRUE\n",
       "2 1            Type 1            6.0e-05  TRUE\n",
       "3 1            Type 1            2.9e-01 FALSE\n",
       "4 1            Type 1            2.9e-01 FALSE\n",
       "5 1            Type 1            2.9e-01 FALSE\n",
       "6 1            Type 1            2.9e-01 FALSE"
      ]
     },
     "metadata": {},
     "output_type": "display_data"
    }
   ],
   "source": [
    "head(variant)"
   ]
  },
  {
   "cell_type": "code",
   "execution_count": 5,
   "id": "8235d107",
   "metadata": {},
   "outputs": [
    {
     "data": {
      "text/html": [
       "<table class=\"dataframe\">\n",
       "<caption>A data.table: 6 × 4</caption>\n",
       "<thead>\n",
       "\t<tr><th scope=col>Identifier</th><th scope=col>sampleID</th><th scope=col>geneID</th><th scope=col>rare</th></tr>\n",
       "\t<tr><th scope=col>&lt;chr&gt;</th><th scope=col>&lt;chr&gt;</th><th scope=col>&lt;chr&gt;</th><th scope=col>&lt;lgl&gt;</th></tr>\n",
       "</thead>\n",
       "<tbody>\n",
       "\t<tr><td>chr10:100010849_G_A</td><td>SKMEL2  </td><td>LOXL4</td><td> TRUE</td></tr>\n",
       "\t<tr><td>chr10:100013418_T_G</td><td>SKMEL2  </td><td>LOXL4</td><td> TRUE</td></tr>\n",
       "\t<tr><td>chr10:100017453_T_G</td><td>MCF7    </td><td>LOXL4</td><td>FALSE</td></tr>\n",
       "\t<tr><td>chr10:100017453_T_G</td><td>MDAMB231</td><td>LOXL4</td><td>FALSE</td></tr>\n",
       "\t<tr><td>chr10:100017453_T_G</td><td>HS578T  </td><td>LOXL4</td><td>FALSE</td></tr>\n",
       "\t<tr><td>chr10:100017453_T_G</td><td>U251    </td><td>LOXL4</td><td>FALSE</td></tr>\n",
       "</tbody>\n",
       "</table>\n"
      ],
      "text/latex": [
       "A data.table: 6 × 4\n",
       "\\begin{tabular}{llll}\n",
       " Identifier & sampleID & geneID & rare\\\\\n",
       " <chr> & <chr> & <chr> & <lgl>\\\\\n",
       "\\hline\n",
       "\t chr10:100010849\\_G\\_A & SKMEL2   & LOXL4 &  TRUE\\\\\n",
       "\t chr10:100013418\\_T\\_G & SKMEL2   & LOXL4 &  TRUE\\\\\n",
       "\t chr10:100017453\\_T\\_G & MCF7     & LOXL4 & FALSE\\\\\n",
       "\t chr10:100017453\\_T\\_G & MDAMB231 & LOXL4 & FALSE\\\\\n",
       "\t chr10:100017453\\_T\\_G & HS578T   & LOXL4 & FALSE\\\\\n",
       "\t chr10:100017453\\_T\\_G & U251     & LOXL4 & FALSE\\\\\n",
       "\\end{tabular}\n"
      ],
      "text/markdown": [
       "\n",
       "A data.table: 6 × 4\n",
       "\n",
       "| Identifier &lt;chr&gt; | sampleID &lt;chr&gt; | geneID &lt;chr&gt; | rare &lt;lgl&gt; |\n",
       "|---|---|---|---|\n",
       "| chr10:100010849_G_A | SKMEL2   | LOXL4 |  TRUE |\n",
       "| chr10:100013418_T_G | SKMEL2   | LOXL4 |  TRUE |\n",
       "| chr10:100017453_T_G | MCF7     | LOXL4 | FALSE |\n",
       "| chr10:100017453_T_G | MDAMB231 | LOXL4 | FALSE |\n",
       "| chr10:100017453_T_G | HS578T   | LOXL4 | FALSE |\n",
       "| chr10:100017453_T_G | U251     | LOXL4 | FALSE |\n",
       "\n"
      ],
      "text/plain": [
       "  Identifier          sampleID geneID rare \n",
       "1 chr10:100010849_G_A SKMEL2   LOXL4   TRUE\n",
       "2 chr10:100013418_T_G SKMEL2   LOXL4   TRUE\n",
       "3 chr10:100017453_T_G MCF7     LOXL4  FALSE\n",
       "4 chr10:100017453_T_G MDAMB231 LOXL4  FALSE\n",
       "5 chr10:100017453_T_G HS578T   LOXL4  FALSE\n",
       "6 chr10:100017453_T_G U251     LOXL4  FALSE"
      ]
     },
     "metadata": {},
     "output_type": "display_data"
    }
   ],
   "source": [
    "variant <- variant[,c(1,2,5, 19)]\n",
    "colnames(variant)[3] <- \"geneID\"\n",
    "head(variant)\n"
   ]
  },
  {
   "cell_type": "code",
   "execution_count": 6,
   "id": "c99fac85",
   "metadata": {
    "scrolled": true
   },
   "outputs": [
    {
     "data": {
      "text/html": [
       "<table class=\"dataframe\">\n",
       "<caption>A data.table: 6 × 3</caption>\n",
       "<thead>\n",
       "\t<tr><th scope=col>featureID</th><th scope=col>Gene names</th><th scope=col>geneID</th></tr>\n",
       "\t<tr><th scope=col>&lt;chr&gt;</th><th scope=col>&lt;chr&gt;</th><th scope=col>&lt;chr&gt;</th></tr>\n",
       "</thead>\n",
       "<tbody>\n",
       "\t<tr><td>P0DN26;A0A075B759;Q9Y536;F5H284;A0A0B4J2A2;P0DN37</td><td>PPIAL4E;PPIAL4A;PPIAL4D;PPIAL4C</td><td>PPIAL4E </td></tr>\n",
       "\t<tr><td>A0A0B4J2F0                                       </td><td>PIGBOS1                        </td><td>PIGBOS1 </td></tr>\n",
       "\t<tr><td>A0A0C4DH73                                       </td><td>IGKV1-12                       </td><td>IGKV1-12</td></tr>\n",
       "\t<tr><td>A0A5B9;P01850                                    </td><td>TRBC2;TRBC1                    </td><td>TRBC2   </td></tr>\n",
       "\t<tr><td>A0AV96;A0AV96-2                                  </td><td>RBM47                          </td><td>RBM47   </td></tr>\n",
       "\t<tr><td>A0AVF1;A0AVF1-2;A0AVF1-3                         </td><td>TTC26                          </td><td>TTC26   </td></tr>\n",
       "</tbody>\n",
       "</table>\n"
      ],
      "text/latex": [
       "A data.table: 6 × 3\n",
       "\\begin{tabular}{lll}\n",
       " featureID & Gene names & geneID\\\\\n",
       " <chr> & <chr> & <chr>\\\\\n",
       "\\hline\n",
       "\t P0DN26;A0A075B759;Q9Y536;F5H284;A0A0B4J2A2;P0DN37 & PPIAL4E;PPIAL4A;PPIAL4D;PPIAL4C & PPIAL4E \\\\\n",
       "\t A0A0B4J2F0                                        & PIGBOS1                         & PIGBOS1 \\\\\n",
       "\t A0A0C4DH73                                        & IGKV1-12                        & IGKV1-12\\\\\n",
       "\t A0A5B9;P01850                                     & TRBC2;TRBC1                     & TRBC2   \\\\\n",
       "\t A0AV96;A0AV96-2                                   & RBM47                           & RBM47   \\\\\n",
       "\t A0AVF1;A0AVF1-2;A0AVF1-3                          & TTC26                           & TTC26   \\\\\n",
       "\\end{tabular}\n"
      ],
      "text/markdown": [
       "\n",
       "A data.table: 6 × 3\n",
       "\n",
       "| featureID &lt;chr&gt; | Gene names &lt;chr&gt; | geneID &lt;chr&gt; |\n",
       "|---|---|---|\n",
       "| P0DN26;A0A075B759;Q9Y536;F5H284;A0A0B4J2A2;P0DN37 | PPIAL4E;PPIAL4A;PPIAL4D;PPIAL4C | PPIAL4E  |\n",
       "| A0A0B4J2F0                                        | PIGBOS1                         | PIGBOS1  |\n",
       "| A0A0C4DH73                                        | IGKV1-12                        | IGKV1-12 |\n",
       "| A0A5B9;P01850                                     | TRBC2;TRBC1                     | TRBC2    |\n",
       "| A0AV96;A0AV96-2                                   | RBM47                           | RBM47    |\n",
       "| A0AVF1;A0AVF1-2;A0AVF1-3                          | TTC26                           | TTC26    |\n",
       "\n"
      ],
      "text/plain": [
       "  featureID                                        \n",
       "1 P0DN26;A0A075B759;Q9Y536;F5H284;A0A0B4J2A2;P0DN37\n",
       "2 A0A0B4J2F0                                       \n",
       "3 A0A0C4DH73                                       \n",
       "4 A0A5B9;P01850                                    \n",
       "5 A0AV96;A0AV96-2                                  \n",
       "6 A0AVF1;A0AVF1-2;A0AVF1-3                         \n",
       "  Gene names                      geneID  \n",
       "1 PPIAL4E;PPIAL4A;PPIAL4D;PPIAL4C PPIAL4E \n",
       "2 PIGBOS1                         PIGBOS1 \n",
       "3 IGKV1-12                        IGKV1-12\n",
       "4 TRBC2;TRBC1                     TRBC2   \n",
       "5 RBM47                           RBM47   \n",
       "6 TTC26                           TTC26   "
      ]
     },
     "metadata": {},
     "output_type": "display_data"
    }
   ],
   "source": [
    "prot <- fread(\"proteinGroups.txt\")\n",
    "prot <- prot[,c(1,7)]\n",
    "colnames(prot)[1] <- 'featureID'\n",
    "prot$geneID <- lapply(prot$`Gene names`, function(x){\n",
    "    strsplit(x,\";\")[[1]][1]\n",
    "})\n",
    "prot$geneID <- as.character(prot$geneID)\n",
    "head(prot)"
   ]
  },
  {
   "cell_type": "code",
   "execution_count": 7,
   "id": "cadb0f4a",
   "metadata": {},
   "outputs": [
    {
     "data": {
      "text/html": [
       "<table class=\"dataframe\">\n",
       "<caption>A data.table: 6 × 5</caption>\n",
       "<thead>\n",
       "\t<tr><th scope=col>geneID</th><th scope=col>Identifier</th><th scope=col>sampleID</th><th scope=col>rare</th><th scope=col>featureID</th></tr>\n",
       "\t<tr><th scope=col>&lt;chr&gt;</th><th scope=col>&lt;chr&gt;</th><th scope=col>&lt;chr&gt;</th><th scope=col>&lt;lgl&gt;</th><th scope=col>&lt;chr&gt;</th></tr>\n",
       "</thead>\n",
       "<tbody>\n",
       "\t<tr><td>A1CF</td><td>chr10:52566602_C_A</td><td>RPMI8226</td><td>TRUE</td><td>Q9NQ94-6;Q9NQ94;Q9NQ94-2;Q9NQ94-5;Q9NQ94-3;Q9NQ94-4</td></tr>\n",
       "\t<tr><td>A1CF</td><td>chr10:52569690_T_G</td><td>MDAMB435</td><td>TRUE</td><td>Q9NQ94-6;Q9NQ94;Q9NQ94-2;Q9NQ94-5;Q9NQ94-3;Q9NQ94-4</td></tr>\n",
       "\t<tr><td>A1CF</td><td>chr10:52569690_T_G</td><td>MDAN    </td><td>TRUE</td><td>Q9NQ94-6;Q9NQ94;Q9NQ94-2;Q9NQ94-5;Q9NQ94-3;Q9NQ94-4</td></tr>\n",
       "\t<tr><td>A1CF</td><td>chr10:52575948_C_A</td><td>MOLT4   </td><td>TRUE</td><td>Q9NQ94-6;Q9NQ94;Q9NQ94-2;Q9NQ94-5;Q9NQ94-3;Q9NQ94-4</td></tr>\n",
       "\t<tr><td>A1CF</td><td>chr10:52580356_T_C</td><td>DU145   </td><td>TRUE</td><td>Q9NQ94-6;Q9NQ94;Q9NQ94-2;Q9NQ94-5;Q9NQ94-3;Q9NQ94-4</td></tr>\n",
       "\t<tr><td>A1CF</td><td>chr10:52587972_C_A</td><td>DU145   </td><td>TRUE</td><td>Q9NQ94-6;Q9NQ94;Q9NQ94-2;Q9NQ94-5;Q9NQ94-3;Q9NQ94-4</td></tr>\n",
       "</tbody>\n",
       "</table>\n"
      ],
      "text/latex": [
       "A data.table: 6 × 5\n",
       "\\begin{tabular}{lllll}\n",
       " geneID & Identifier & sampleID & rare & featureID\\\\\n",
       " <chr> & <chr> & <chr> & <lgl> & <chr>\\\\\n",
       "\\hline\n",
       "\t A1CF & chr10:52566602\\_C\\_A & RPMI8226 & TRUE & Q9NQ94-6;Q9NQ94;Q9NQ94-2;Q9NQ94-5;Q9NQ94-3;Q9NQ94-4\\\\\n",
       "\t A1CF & chr10:52569690\\_T\\_G & MDAMB435 & TRUE & Q9NQ94-6;Q9NQ94;Q9NQ94-2;Q9NQ94-5;Q9NQ94-3;Q9NQ94-4\\\\\n",
       "\t A1CF & chr10:52569690\\_T\\_G & MDAN     & TRUE & Q9NQ94-6;Q9NQ94;Q9NQ94-2;Q9NQ94-5;Q9NQ94-3;Q9NQ94-4\\\\\n",
       "\t A1CF & chr10:52575948\\_C\\_A & MOLT4    & TRUE & Q9NQ94-6;Q9NQ94;Q9NQ94-2;Q9NQ94-5;Q9NQ94-3;Q9NQ94-4\\\\\n",
       "\t A1CF & chr10:52580356\\_T\\_C & DU145    & TRUE & Q9NQ94-6;Q9NQ94;Q9NQ94-2;Q9NQ94-5;Q9NQ94-3;Q9NQ94-4\\\\\n",
       "\t A1CF & chr10:52587972\\_C\\_A & DU145    & TRUE & Q9NQ94-6;Q9NQ94;Q9NQ94-2;Q9NQ94-5;Q9NQ94-3;Q9NQ94-4\\\\\n",
       "\\end{tabular}\n"
      ],
      "text/markdown": [
       "\n",
       "A data.table: 6 × 5\n",
       "\n",
       "| geneID &lt;chr&gt; | Identifier &lt;chr&gt; | sampleID &lt;chr&gt; | rare &lt;lgl&gt; | featureID &lt;chr&gt; |\n",
       "|---|---|---|---|---|\n",
       "| A1CF | chr10:52566602_C_A | RPMI8226 | TRUE | Q9NQ94-6;Q9NQ94;Q9NQ94-2;Q9NQ94-5;Q9NQ94-3;Q9NQ94-4 |\n",
       "| A1CF | chr10:52569690_T_G | MDAMB435 | TRUE | Q9NQ94-6;Q9NQ94;Q9NQ94-2;Q9NQ94-5;Q9NQ94-3;Q9NQ94-4 |\n",
       "| A1CF | chr10:52569690_T_G | MDAN     | TRUE | Q9NQ94-6;Q9NQ94;Q9NQ94-2;Q9NQ94-5;Q9NQ94-3;Q9NQ94-4 |\n",
       "| A1CF | chr10:52575948_C_A | MOLT4    | TRUE | Q9NQ94-6;Q9NQ94;Q9NQ94-2;Q9NQ94-5;Q9NQ94-3;Q9NQ94-4 |\n",
       "| A1CF | chr10:52580356_T_C | DU145    | TRUE | Q9NQ94-6;Q9NQ94;Q9NQ94-2;Q9NQ94-5;Q9NQ94-3;Q9NQ94-4 |\n",
       "| A1CF | chr10:52587972_C_A | DU145    | TRUE | Q9NQ94-6;Q9NQ94;Q9NQ94-2;Q9NQ94-5;Q9NQ94-3;Q9NQ94-4 |\n",
       "\n"
      ],
      "text/plain": [
       "  geneID Identifier         sampleID rare\n",
       "1 A1CF   chr10:52566602_C_A RPMI8226 TRUE\n",
       "2 A1CF   chr10:52569690_T_G MDAMB435 TRUE\n",
       "3 A1CF   chr10:52569690_T_G MDAN     TRUE\n",
       "4 A1CF   chr10:52575948_C_A MOLT4    TRUE\n",
       "5 A1CF   chr10:52580356_T_C DU145    TRUE\n",
       "6 A1CF   chr10:52587972_C_A DU145    TRUE\n",
       "  featureID                                          \n",
       "1 Q9NQ94-6;Q9NQ94;Q9NQ94-2;Q9NQ94-5;Q9NQ94-3;Q9NQ94-4\n",
       "2 Q9NQ94-6;Q9NQ94;Q9NQ94-2;Q9NQ94-5;Q9NQ94-3;Q9NQ94-4\n",
       "3 Q9NQ94-6;Q9NQ94;Q9NQ94-2;Q9NQ94-5;Q9NQ94-3;Q9NQ94-4\n",
       "4 Q9NQ94-6;Q9NQ94;Q9NQ94-2;Q9NQ94-5;Q9NQ94-3;Q9NQ94-4\n",
       "5 Q9NQ94-6;Q9NQ94;Q9NQ94-2;Q9NQ94-5;Q9NQ94-3;Q9NQ94-4\n",
       "6 Q9NQ94-6;Q9NQ94;Q9NQ94-2;Q9NQ94-5;Q9NQ94-3;Q9NQ94-4"
      ]
     },
     "metadata": {},
     "output_type": "display_data"
    },
    {
     "data": {
      "text/html": [
       "178358"
      ],
      "text/latex": [
       "178358"
      ],
      "text/markdown": [
       "178358"
      ],
      "text/plain": [
       "[1] 178358"
      ]
     },
     "metadata": {},
     "output_type": "display_data"
    }
   ],
   "source": [
    "variant_prot <- merge(variant, prot[,-2])\n",
    "head(variant_prot)\n",
    "nrow(variant_prot)"
   ]
  },
  {
   "cell_type": "code",
   "execution_count": 8,
   "id": "3bf8d402",
   "metadata": {},
   "outputs": [
    {
     "name": "stderr",
     "output_type": "stream",
     "text": [
      "\u001b[1m\u001b[22m`summarise()` has grouped output by 'sampleID'. You can override using the `.groups`\n",
      "argument.\n"
     ]
    },
    {
     "data": {
      "text/html": [
       "<table class=\"dataframe\">\n",
       "<caption>A grouped_df: 6 × 3</caption>\n",
       "<thead>\n",
       "\t<tr><th scope=col>sampleID</th><th scope=col>featureID</th><th scope=col>num_rare</th></tr>\n",
       "\t<tr><th scope=col>&lt;chr&gt;</th><th scope=col>&lt;chr&gt;</th><th scope=col>&lt;int&gt;</th></tr>\n",
       "</thead>\n",
       "<tbody>\n",
       "\t<tr><td>7860</td><td>A0AV96;A0AV96-2  </td><td>0</td></tr>\n",
       "\t<tr><td>7860</td><td>A0FGR8-2;A0FGR8-5</td><td>0</td></tr>\n",
       "\t<tr><td>7860</td><td>A0FGR8-4         </td><td>0</td></tr>\n",
       "\t<tr><td>7860</td><td>A0FGR8-6;A0FGR8  </td><td>0</td></tr>\n",
       "\t<tr><td>7860</td><td>A1IGU5           </td><td>0</td></tr>\n",
       "\t<tr><td>7860</td><td>A1Z1Q3-2;A1Z1Q3  </td><td>0</td></tr>\n",
       "</tbody>\n",
       "</table>\n"
      ],
      "text/latex": [
       "A grouped\\_df: 6 × 3\n",
       "\\begin{tabular}{lll}\n",
       " sampleID & featureID & num\\_rare\\\\\n",
       " <chr> & <chr> & <int>\\\\\n",
       "\\hline\n",
       "\t 7860 & A0AV96;A0AV96-2   & 0\\\\\n",
       "\t 7860 & A0FGR8-2;A0FGR8-5 & 0\\\\\n",
       "\t 7860 & A0FGR8-4          & 0\\\\\n",
       "\t 7860 & A0FGR8-6;A0FGR8   & 0\\\\\n",
       "\t 7860 & A1IGU5            & 0\\\\\n",
       "\t 7860 & A1Z1Q3-2;A1Z1Q3   & 0\\\\\n",
       "\\end{tabular}\n"
      ],
      "text/markdown": [
       "\n",
       "A grouped_df: 6 × 3\n",
       "\n",
       "| sampleID &lt;chr&gt; | featureID &lt;chr&gt; | num_rare &lt;int&gt; |\n",
       "|---|---|---|\n",
       "| 7860 | A0AV96;A0AV96-2   | 0 |\n",
       "| 7860 | A0FGR8-2;A0FGR8-5 | 0 |\n",
       "| 7860 | A0FGR8-4          | 0 |\n",
       "| 7860 | A0FGR8-6;A0FGR8   | 0 |\n",
       "| 7860 | A1IGU5            | 0 |\n",
       "| 7860 | A1Z1Q3-2;A1Z1Q3   | 0 |\n",
       "\n"
      ],
      "text/plain": [
       "  sampleID featureID         num_rare\n",
       "1 7860     A0AV96;A0AV96-2   0       \n",
       "2 7860     A0FGR8-2;A0FGR8-5 0       \n",
       "3 7860     A0FGR8-4          0       \n",
       "4 7860     A0FGR8-6;A0FGR8   0       \n",
       "5 7860     A1IGU5            0       \n",
       "6 7860     A1Z1Q3-2;A1Z1Q3   0       "
      ]
     },
     "metadata": {},
     "output_type": "display_data"
    },
    {
     "name": "stderr",
     "output_type": "stream",
     "text": [
      "\u001b[1m\u001b[22m`summarise()` has grouped output by 'sampleID'. You can override using the `.groups`\n",
      "argument.\n"
     ]
    },
    {
     "data": {
      "text/html": [
       "<table class=\"dataframe\">\n",
       "<caption>A grouped_df: 6 × 3</caption>\n",
       "<thead>\n",
       "\t<tr><th scope=col>sampleID</th><th scope=col>featureID</th><th scope=col>num_var</th></tr>\n",
       "\t<tr><th scope=col>&lt;chr&gt;</th><th scope=col>&lt;chr&gt;</th><th scope=col>&lt;int&gt;</th></tr>\n",
       "</thead>\n",
       "<tbody>\n",
       "\t<tr><td>7860</td><td>A0AV96;A0AV96-2  </td><td>1</td></tr>\n",
       "\t<tr><td>7860</td><td>A0FGR8-2;A0FGR8-5</td><td>3</td></tr>\n",
       "\t<tr><td>7860</td><td>A0FGR8-4         </td><td>3</td></tr>\n",
       "\t<tr><td>7860</td><td>A0FGR8-6;A0FGR8  </td><td>3</td></tr>\n",
       "\t<tr><td>7860</td><td>A1IGU5           </td><td>4</td></tr>\n",
       "\t<tr><td>7860</td><td>A1Z1Q3-2;A1Z1Q3  </td><td>1</td></tr>\n",
       "</tbody>\n",
       "</table>\n"
      ],
      "text/latex": [
       "A grouped\\_df: 6 × 3\n",
       "\\begin{tabular}{lll}\n",
       " sampleID & featureID & num\\_var\\\\\n",
       " <chr> & <chr> & <int>\\\\\n",
       "\\hline\n",
       "\t 7860 & A0AV96;A0AV96-2   & 1\\\\\n",
       "\t 7860 & A0FGR8-2;A0FGR8-5 & 3\\\\\n",
       "\t 7860 & A0FGR8-4          & 3\\\\\n",
       "\t 7860 & A0FGR8-6;A0FGR8   & 3\\\\\n",
       "\t 7860 & A1IGU5            & 4\\\\\n",
       "\t 7860 & A1Z1Q3-2;A1Z1Q3   & 1\\\\\n",
       "\\end{tabular}\n"
      ],
      "text/markdown": [
       "\n",
       "A grouped_df: 6 × 3\n",
       "\n",
       "| sampleID &lt;chr&gt; | featureID &lt;chr&gt; | num_var &lt;int&gt; |\n",
       "|---|---|---|\n",
       "| 7860 | A0AV96;A0AV96-2   | 1 |\n",
       "| 7860 | A0FGR8-2;A0FGR8-5 | 3 |\n",
       "| 7860 | A0FGR8-4          | 3 |\n",
       "| 7860 | A0FGR8-6;A0FGR8   | 3 |\n",
       "| 7860 | A1IGU5            | 4 |\n",
       "| 7860 | A1Z1Q3-2;A1Z1Q3   | 1 |\n",
       "\n"
      ],
      "text/plain": [
       "  sampleID featureID         num_var\n",
       "1 7860     A0AV96;A0AV96-2   1      \n",
       "2 7860     A0FGR8-2;A0FGR8-5 3      \n",
       "3 7860     A0FGR8-4          3      \n",
       "4 7860     A0FGR8-6;A0FGR8   3      \n",
       "5 7860     A1IGU5            4      \n",
       "6 7860     A1Z1Q3-2;A1Z1Q3   1      "
      ]
     },
     "metadata": {},
     "output_type": "display_data"
    }
   ],
   "source": [
    "variant_prot_stat <- variant_prot %>% group_by(sampleID, featureID) %>%\n",
    "  summarise(num_rare = sum(rare)) \n",
    "head(variant_prot_stat)\n",
    "variant_prot_stat_2 <- variant_prot %>% group_by(sampleID, featureID) %>%\n",
    "  summarise(num_var = n()) \n",
    "head(variant_prot_stat_2)"
   ]
  },
  {
   "cell_type": "code",
   "execution_count": 9,
   "id": "0945fe63",
   "metadata": {},
   "outputs": [
    {
     "data": {
      "text/html": [
       "<table class=\"dataframe\">\n",
       "<caption>A data.frame: 6 × 5</caption>\n",
       "<thead>\n",
       "\t<tr><th></th><th scope=col>sampleID</th><th scope=col>featureID</th><th scope=col>num_rare</th><th scope=col>num_var</th><th scope=col>proportion</th></tr>\n",
       "\t<tr><th></th><th scope=col>&lt;chr&gt;</th><th scope=col>&lt;chr&gt;</th><th scope=col>&lt;int&gt;</th><th scope=col>&lt;int&gt;</th><th scope=col>&lt;dbl&gt;</th></tr>\n",
       "</thead>\n",
       "<tbody>\n",
       "\t<tr><th scope=row>1</th><td>7860</td><td>A0AV96;A0AV96-2  </td><td>0</td><td>1</td><td>0</td></tr>\n",
       "\t<tr><th scope=row>2</th><td>7860</td><td>A0FGR8-2;A0FGR8-5</td><td>0</td><td>3</td><td>0</td></tr>\n",
       "\t<tr><th scope=row>3</th><td>7860</td><td>A0FGR8-4         </td><td>0</td><td>3</td><td>0</td></tr>\n",
       "\t<tr><th scope=row>4</th><td>7860</td><td>A0FGR8-6;A0FGR8  </td><td>0</td><td>3</td><td>0</td></tr>\n",
       "\t<tr><th scope=row>5</th><td>7860</td><td>A1IGU5           </td><td>0</td><td>4</td><td>0</td></tr>\n",
       "\t<tr><th scope=row>6</th><td>7860</td><td>A1Z1Q3-2;A1Z1Q3  </td><td>0</td><td>1</td><td>0</td></tr>\n",
       "</tbody>\n",
       "</table>\n"
      ],
      "text/latex": [
       "A data.frame: 6 × 5\n",
       "\\begin{tabular}{r|lllll}\n",
       "  & sampleID & featureID & num\\_rare & num\\_var & proportion\\\\\n",
       "  & <chr> & <chr> & <int> & <int> & <dbl>\\\\\n",
       "\\hline\n",
       "\t1 & 7860 & A0AV96;A0AV96-2   & 0 & 1 & 0\\\\\n",
       "\t2 & 7860 & A0FGR8-2;A0FGR8-5 & 0 & 3 & 0\\\\\n",
       "\t3 & 7860 & A0FGR8-4          & 0 & 3 & 0\\\\\n",
       "\t4 & 7860 & A0FGR8-6;A0FGR8   & 0 & 3 & 0\\\\\n",
       "\t5 & 7860 & A1IGU5            & 0 & 4 & 0\\\\\n",
       "\t6 & 7860 & A1Z1Q3-2;A1Z1Q3   & 0 & 1 & 0\\\\\n",
       "\\end{tabular}\n"
      ],
      "text/markdown": [
       "\n",
       "A data.frame: 6 × 5\n",
       "\n",
       "| <!--/--> | sampleID &lt;chr&gt; | featureID &lt;chr&gt; | num_rare &lt;int&gt; | num_var &lt;int&gt; | proportion &lt;dbl&gt; |\n",
       "|---|---|---|---|---|---|\n",
       "| 1 | 7860 | A0AV96;A0AV96-2   | 0 | 1 | 0 |\n",
       "| 2 | 7860 | A0FGR8-2;A0FGR8-5 | 0 | 3 | 0 |\n",
       "| 3 | 7860 | A0FGR8-4          | 0 | 3 | 0 |\n",
       "| 4 | 7860 | A0FGR8-6;A0FGR8   | 0 | 3 | 0 |\n",
       "| 5 | 7860 | A1IGU5            | 0 | 4 | 0 |\n",
       "| 6 | 7860 | A1Z1Q3-2;A1Z1Q3   | 0 | 1 | 0 |\n",
       "\n"
      ],
      "text/plain": [
       "  sampleID featureID         num_rare num_var proportion\n",
       "1 7860     A0AV96;A0AV96-2   0        1       0         \n",
       "2 7860     A0FGR8-2;A0FGR8-5 0        3       0         \n",
       "3 7860     A0FGR8-4          0        3       0         \n",
       "4 7860     A0FGR8-6;A0FGR8   0        3       0         \n",
       "5 7860     A1IGU5            0        4       0         \n",
       "6 7860     A1Z1Q3-2;A1Z1Q3   0        1       0         "
      ]
     },
     "metadata": {},
     "output_type": "display_data"
    }
   ],
   "source": [
    "variant_prot <- merge(variant_prot_stat, variant_prot_stat_2)\n",
    "variant_prot$proportion <- variant_prot$num_rare/variant_prot$num_var\n",
    "head(variant_prot)"
   ]
  },
  {
   "cell_type": "code",
   "execution_count": 10,
   "id": "1a0d2f1c",
   "metadata": {},
   "outputs": [
    {
     "data": {
      "text/html": [
       "1"
      ],
      "text/latex": [
       "1"
      ],
      "text/markdown": [
       "1"
      ],
      "text/plain": [
       "[1] 1"
      ]
     },
     "metadata": {},
     "output_type": "display_data"
    }
   ],
   "source": [
    "max(variant_prot$prop)"
   ]
  },
  {
   "cell_type": "code",
   "execution_count": 11,
   "id": "b632bfc5",
   "metadata": {},
   "outputs": [
    {
     "data": {
      "text/html": [
       "<table class=\"dataframe\">\n",
       "<caption>A data.table: 6 × 6</caption>\n",
       "<thead>\n",
       "\t<tr><th scope=col>featureID</th><th scope=col>sampleID</th><th scope=col>protein_intensity</th><th scope=col>measured</th><th scope=col>predprob</th><th scope=col>missing</th></tr>\n",
       "\t<tr><th scope=col>&lt;chr&gt;</th><th scope=col>&lt;chr&gt;</th><th scope=col>&lt;dbl&gt;</th><th scope=col>&lt;int&gt;</th><th scope=col>&lt;dbl&gt;</th><th scope=col>&lt;dbl&gt;</th></tr>\n",
       "</thead>\n",
       "<tbody>\n",
       "\t<tr><td>A0AV96;A0AV96-2</td><td>X786O</td><td>26.95893</td><td>1</td><td>0.97</td><td>0.03</td></tr>\n",
       "\t<tr><td>A0AV96;A0AV96-2</td><td>A498 </td><td>28.67702</td><td>1</td><td>0.99</td><td>0.01</td></tr>\n",
       "\t<tr><td>A0AV96;A0AV96-2</td><td>A549 </td><td>29.12149</td><td>1</td><td>0.99</td><td>0.01</td></tr>\n",
       "\t<tr><td>A0AV96;A0AV96-2</td><td>ACHN </td><td>29.22591</td><td>1</td><td>0.99</td><td>0.01</td></tr>\n",
       "\t<tr><td>A0AV96;A0AV96-2</td><td>BT549</td><td>24.08905</td><td>1</td><td>0.86</td><td>0.14</td></tr>\n",
       "\t<tr><td>A0AV96;A0AV96-2</td><td>CAKI1</td><td>27.47051</td><td>1</td><td>0.98</td><td>0.02</td></tr>\n",
       "</tbody>\n",
       "</table>\n"
      ],
      "text/latex": [
       "A data.table: 6 × 6\n",
       "\\begin{tabular}{llllll}\n",
       " featureID & sampleID & protein\\_intensity & measured & predprob & missing\\\\\n",
       " <chr> & <chr> & <dbl> & <int> & <dbl> & <dbl>\\\\\n",
       "\\hline\n",
       "\t A0AV96;A0AV96-2 & X786O & 26.95893 & 1 & 0.97 & 0.03\\\\\n",
       "\t A0AV96;A0AV96-2 & A498  & 28.67702 & 1 & 0.99 & 0.01\\\\\n",
       "\t A0AV96;A0AV96-2 & A549  & 29.12149 & 1 & 0.99 & 0.01\\\\\n",
       "\t A0AV96;A0AV96-2 & ACHN  & 29.22591 & 1 & 0.99 & 0.01\\\\\n",
       "\t A0AV96;A0AV96-2 & BT549 & 24.08905 & 1 & 0.86 & 0.14\\\\\n",
       "\t A0AV96;A0AV96-2 & CAKI1 & 27.47051 & 1 & 0.98 & 0.02\\\\\n",
       "\\end{tabular}\n"
      ],
      "text/markdown": [
       "\n",
       "A data.table: 6 × 6\n",
       "\n",
       "| featureID &lt;chr&gt; | sampleID &lt;chr&gt; | protein_intensity &lt;dbl&gt; | measured &lt;int&gt; | predprob &lt;dbl&gt; | missing &lt;dbl&gt; |\n",
       "|---|---|---|---|---|---|\n",
       "| A0AV96;A0AV96-2 | X786O | 26.95893 | 1 | 0.97 | 0.03 |\n",
       "| A0AV96;A0AV96-2 | A498  | 28.67702 | 1 | 0.99 | 0.01 |\n",
       "| A0AV96;A0AV96-2 | A549  | 29.12149 | 1 | 0.99 | 0.01 |\n",
       "| A0AV96;A0AV96-2 | ACHN  | 29.22591 | 1 | 0.99 | 0.01 |\n",
       "| A0AV96;A0AV96-2 | BT549 | 24.08905 | 1 | 0.86 | 0.14 |\n",
       "| A0AV96;A0AV96-2 | CAKI1 | 27.47051 | 1 | 0.98 | 0.02 |\n",
       "\n"
      ],
      "text/plain": [
       "  featureID       sampleID protein_intensity measured predprob missing\n",
       "1 A0AV96;A0AV96-2 X786O    26.95893          1        0.97     0.03   \n",
       "2 A0AV96;A0AV96-2 A498     28.67702          1        0.99     0.01   \n",
       "3 A0AV96;A0AV96-2 A549     29.12149          1        0.99     0.01   \n",
       "4 A0AV96;A0AV96-2 ACHN     29.22591          1        0.99     0.01   \n",
       "5 A0AV96;A0AV96-2 BT549    24.08905          1        0.86     0.14   \n",
       "6 A0AV96;A0AV96-2 CAKI1    27.47051          1        0.98     0.02   "
      ]
     },
     "metadata": {},
     "output_type": "display_data"
    }
   ],
   "source": [
    "missing_pred <- fread('missing_pred.csv')\n",
    "missing_pred$sampleID <- gsub(\"_NCI60\",\"\",missing_pred$sampleID)\n",
    "head(missing_pred)"
   ]
  },
  {
   "cell_type": "code",
   "execution_count": 18,
   "id": "f6a14a8a",
   "metadata": {},
   "outputs": [
    {
     "data": {
      "text/html": [
       "<table class=\"dataframe\">\n",
       "<caption>A data.table: 6 × 7</caption>\n",
       "<thead>\n",
       "\t<tr><th scope=col>sampleID</th><th scope=col>featureID</th><th scope=col>protein_intensity</th><th scope=col>measured</th><th scope=col>predprob</th><th scope=col>missing</th><th scope=col>proportion</th></tr>\n",
       "\t<tr><th scope=col>&lt;chr&gt;</th><th scope=col>&lt;chr&gt;</th><th scope=col>&lt;dbl&gt;</th><th scope=col>&lt;int&gt;</th><th scope=col>&lt;dbl&gt;</th><th scope=col>&lt;dbl&gt;</th><th scope=col>&lt;dbl&gt;</th></tr>\n",
       "</thead>\n",
       "<tbody>\n",
       "\t<tr><td>A498</td><td>A0AV96;A0AV96-2                  </td><td>28.67702</td><td>1</td><td>0.99</td><td>0.01</td><td> 0</td></tr>\n",
       "\t<tr><td>A498</td><td>A0AVF1;A0AVF1-2;A0AVF1-3         </td><td>24.47958</td><td>1</td><td>0.89</td><td>0.11</td><td>NA</td></tr>\n",
       "\t<tr><td>A498</td><td>A0AVT1;A0AVT1-2;A0AVT1-3;A0AVT1-4</td><td>31.70965</td><td>1</td><td>1.00</td><td>0.00</td><td>NA</td></tr>\n",
       "\t<tr><td>A498</td><td>A0FGR8-6;A0FGR8                  </td><td>26.32843</td><td>1</td><td>0.96</td><td>0.04</td><td>NA</td></tr>\n",
       "\t<tr><td>A498</td><td>A0JLT2;A0JLT2-2                  </td><td>25.56828</td><td>1</td><td>0.94</td><td>0.06</td><td>NA</td></tr>\n",
       "\t<tr><td>A498</td><td>A0JNW5;A0JNW5-2;Q32M92-2;Q32M92  </td><td>26.91917</td><td>1</td><td>0.97</td><td>0.03</td><td>NA</td></tr>\n",
       "</tbody>\n",
       "</table>\n"
      ],
      "text/latex": [
       "A data.table: 6 × 7\n",
       "\\begin{tabular}{lllllll}\n",
       " sampleID & featureID & protein\\_intensity & measured & predprob & missing & proportion\\\\\n",
       " <chr> & <chr> & <dbl> & <int> & <dbl> & <dbl> & <dbl>\\\\\n",
       "\\hline\n",
       "\t A498 & A0AV96;A0AV96-2                   & 28.67702 & 1 & 0.99 & 0.01 &  0\\\\\n",
       "\t A498 & A0AVF1;A0AVF1-2;A0AVF1-3          & 24.47958 & 1 & 0.89 & 0.11 & NA\\\\\n",
       "\t A498 & A0AVT1;A0AVT1-2;A0AVT1-3;A0AVT1-4 & 31.70965 & 1 & 1.00 & 0.00 & NA\\\\\n",
       "\t A498 & A0FGR8-6;A0FGR8                   & 26.32843 & 1 & 0.96 & 0.04 & NA\\\\\n",
       "\t A498 & A0JLT2;A0JLT2-2                   & 25.56828 & 1 & 0.94 & 0.06 & NA\\\\\n",
       "\t A498 & A0JNW5;A0JNW5-2;Q32M92-2;Q32M92   & 26.91917 & 1 & 0.97 & 0.03 & NA\\\\\n",
       "\\end{tabular}\n"
      ],
      "text/markdown": [
       "\n",
       "A data.table: 6 × 7\n",
       "\n",
       "| sampleID &lt;chr&gt; | featureID &lt;chr&gt; | protein_intensity &lt;dbl&gt; | measured &lt;int&gt; | predprob &lt;dbl&gt; | missing &lt;dbl&gt; | proportion &lt;dbl&gt; |\n",
       "|---|---|---|---|---|---|---|\n",
       "| A498 | A0AV96;A0AV96-2                   | 28.67702 | 1 | 0.99 | 0.01 |  0 |\n",
       "| A498 | A0AVF1;A0AVF1-2;A0AVF1-3          | 24.47958 | 1 | 0.89 | 0.11 | NA |\n",
       "| A498 | A0AVT1;A0AVT1-2;A0AVT1-3;A0AVT1-4 | 31.70965 | 1 | 1.00 | 0.00 | NA |\n",
       "| A498 | A0FGR8-6;A0FGR8                   | 26.32843 | 1 | 0.96 | 0.04 | NA |\n",
       "| A498 | A0JLT2;A0JLT2-2                   | 25.56828 | 1 | 0.94 | 0.06 | NA |\n",
       "| A498 | A0JNW5;A0JNW5-2;Q32M92-2;Q32M92   | 26.91917 | 1 | 0.97 | 0.03 | NA |\n",
       "\n"
      ],
      "text/plain": [
       "  sampleID featureID                         protein_intensity measured\n",
       "1 A498     A0AV96;A0AV96-2                   28.67702          1       \n",
       "2 A498     A0AVF1;A0AVF1-2;A0AVF1-3          24.47958          1       \n",
       "3 A498     A0AVT1;A0AVT1-2;A0AVT1-3;A0AVT1-4 31.70965          1       \n",
       "4 A498     A0FGR8-6;A0FGR8                   26.32843          1       \n",
       "5 A498     A0JLT2;A0JLT2-2                   25.56828          1       \n",
       "6 A498     A0JNW5;A0JNW5-2;Q32M92-2;Q32M92   26.91917          1       \n",
       "  predprob missing proportion\n",
       "1 0.99     0.01     0        \n",
       "2 0.89     0.11    NA        \n",
       "3 1.00     0.00    NA        \n",
       "4 0.96     0.04    NA        \n",
       "5 0.94     0.06    NA        \n",
       "6 0.97     0.03    NA        "
      ]
     },
     "metadata": {},
     "output_type": "display_data"
    }
   ],
   "source": [
    "res <- merge(missing_pred, variant_prot[,c(1,2,5)], by = c('sampleID', 'featureID'), all.x=TRUE)\n",
    "head(res)"
   ]
  },
  {
   "cell_type": "code",
   "execution_count": 19,
   "id": "83dca5d5",
   "metadata": {},
   "outputs": [],
   "source": [
    "res[is.na(res$proportion)]$proportion <- 0\n"
   ]
  },
  {
   "cell_type": "code",
   "execution_count": 20,
   "id": "623caf61",
   "metadata": {},
   "outputs": [],
   "source": [
    "library(ggplot2)"
   ]
  },
  {
   "cell_type": "code",
   "execution_count": 21,
   "id": "61e60089",
   "metadata": {},
   "outputs": [
    {
     "data": {
      "image/png": "[encoded data removed]",
      "text/plain": [
       "plot without title"
      ]
     },
     "metadata": {
      "image/png": {
       "height": 420,
       "width": 420
      }
     },
     "output_type": "display_data"
    }
   ],
   "source": [
    "ggplot(res, aes(x = missing, y = proportion)) + geom_point() + scale_x_reverse()"
   ]
  },
  {
   "cell_type": "code",
   "execution_count": null,
   "id": "5a4fa82b",
   "metadata": {},
   "outputs": [],
   "source": []
  }
 ],
 "metadata": {
  "kernelspec": {
   "display_name": "R",
   "language": "R",
   "name": "ir"
  },
  "language_info": {
   "codemirror_mode": "r",
   "file_extension": ".r",
   "mimetype": "text/x-r-source",
   "name": "R",
   "pygments_lexer": "r",
   "version": "4.2.2"
  }
 },
 "nbformat": 4,
 "nbformat_minor": 5
}
