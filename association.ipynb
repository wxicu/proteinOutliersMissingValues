{
 "cells": [
  {
   "cell_type": "code",
   "execution_count": 1,
   "id": "2ecba544",
   "metadata": {},
   "outputs": [
    {
     "name": "stderr",
     "output_type": "stream",
     "text": [
      "\n",
      "Attache Paket: ‘dplyr’\n",
      "\n",
      "\n",
      "Die folgenden Objekte sind maskiert von ‘package:data.table’:\n",
      "\n",
      "    between, first, last\n",
      "\n",
      "\n",
      "Die folgenden Objekte sind maskiert von ‘package:stats’:\n",
      "\n",
      "    filter, lag\n",
      "\n",
      "\n",
      "Die folgenden Objekte sind maskiert von ‘package:base’:\n",
      "\n",
      "    intersect, setdiff, setequal, union\n",
      "\n",
      "\n"
     ]
    }
   ],
   "source": [
    "library(data.table)\n",
    "library(dplyr)\n",
    "library(stringr)\n",
    "library(ggplot2)"
   ]
  },
  {
   "cell_type": "code",
   "execution_count": 2,
   "id": "b1a7b901",
   "metadata": {},
   "outputs": [
    {
     "data": {
      "text/html": [
       "<table class=\"dataframe\">\n",
       "<caption>A data.table: 6 × 19</caption>\n",
       "<thead>\n",
       "\t<tr><th scope=col>Identifier</th><th scope=col>sampleID</th><th scope=col>frequency</th><th scope=col>dbSNP id (g)</th><th scope=col>Gene name (d)</th><th scope=col>Entrez gene id (e)</th><th scope=col>Chromosome (f)</th><th scope=col>Start (f)</th><th scope=col>End (f)</th><th scope=col>Cytoband (f)</th><th scope=col>AA Impact (h)</th><th scope=col>1000 Genome (i)</th><th scope=col>ESP5400 (j)</th><th scope=col>SIFT Score (k)</th><th scope=col>SNP Type (l)</th><th scope=col>Polyphen (m)</th><th scope=col>Variant class (n)</th><th scope=col>AF</th><th scope=col>rare</th></tr>\n",
       "\t<tr><th scope=col>&lt;chr&gt;</th><th scope=col>&lt;chr&gt;</th><th scope=col>&lt;dbl&gt;</th><th scope=col>&lt;chr&gt;</th><th scope=col>&lt;chr&gt;</th><th scope=col>&lt;int&gt;</th><th scope=col>&lt;chr&gt;</th><th scope=col>&lt;int&gt;</th><th scope=col>&lt;int&gt;</th><th scope=col>&lt;chr&gt;</th><th scope=col>&lt;chr&gt;</th><th scope=col>&lt;dbl&gt;</th><th scope=col>&lt;dbl&gt;</th><th scope=col>&lt;dbl&gt;</th><th scope=col>&lt;chr&gt;</th><th scope=col>&lt;dbl&gt;</th><th scope=col>&lt;chr&gt;</th><th scope=col>&lt;dbl&gt;</th><th scope=col>&lt;lgl&gt;</th></tr>\n",
       "</thead>\n",
       "<tbody>\n",
       "\t<tr><td>chr10:100010849_G_A</td><td>ME:SK-MEL-2</td><td>45.238</td><td>-          </td><td>LOXL4  </td><td>84171</td><td>10</td><td>100010849</td><td>100010849</td><td>10q24  </td><td>R725W</td><td>0</td><td>0.00000</td><td>0.00</td><td>Missense</td><td>1.000</td><td>Type 2</td><td>1e-06</td><td>TRUE</td></tr>\n",
       "\t<tr><td>chr10:100013418_T_G</td><td>ME:SK-MEL-2</td><td>56.140</td><td>rs148260647</td><td>LOXL4  </td><td>84171</td><td>10</td><td>100013418</td><td>100013418</td><td>10q24  </td><td>Y576S</td><td>0</td><td>0.00019</td><td>0.32</td><td>Missense</td><td>1.000</td><td>Type 1</td><td>6e-05</td><td>TRUE</td></tr>\n",
       "\t<tr><td>chr10:100017532_G_T</td><td>LC:EKVX    </td><td>82.456</td><td>-          </td><td>LOXL4  </td><td>84171</td><td>10</td><td>100017532</td><td>100017532</td><td>10q24  </td><td>R379S</td><td>0</td><td>0.00000</td><td>0.04</td><td>Missense</td><td>0.999</td><td>Type 2</td><td>9e-03</td><td>TRUE</td></tr>\n",
       "\t<tr><td>chr10:100020867_C_A</td><td>CO:HCT-15  </td><td>38.889</td><td>-          </td><td>LOXL4  </td><td>84171</td><td>10</td><td>100020867</td><td>100020867</td><td>10q24  </td><td>E158D</td><td>0</td><td>0.00000</td><td>0.53</td><td>Missense</td><td>0.956</td><td>Type 2</td><td>1e-06</td><td>TRUE</td></tr>\n",
       "\t<tr><td>chr10:100021911_C_T</td><td>BR:MCF7    </td><td>29.508</td><td>rs139735732</td><td>LOXL4  </td><td>84171</td><td>10</td><td>100021911</td><td>100021911</td><td>10q24  </td><td>G113R</td><td>0</td><td>0.00019</td><td>0.58</td><td>Missense</td><td>0.000</td><td>Type 1</td><td>2e-04</td><td>TRUE</td></tr>\n",
       "\t<tr><td>chr10:100167409_A_C</td><td>CO:HCC-2998</td><td>44.000</td><td>-          </td><td>PYROXD2</td><td>84795</td><td>10</td><td>100167409</td><td>100167409</td><td>10q24.2</td><td>F82C </td><td>0</td><td>0.00000</td><td>0.00</td><td>Missense</td><td>0.999</td><td>Type 2</td><td>1e-06</td><td>TRUE</td></tr>\n",
       "</tbody>\n",
       "</table>\n"
      ],
      "text/latex": [
       "A data.table: 6 × 19\n",
       "\\begin{tabular}{lllllllllllllllllll}\n",
       " Identifier & sampleID & frequency & dbSNP id (g) & Gene name (d) & Entrez gene id (e) & Chromosome (f) & Start (f) & End (f) & Cytoband (f) & AA Impact (h) & 1000 Genome (i) & ESP5400 (j) & SIFT Score (k) & SNP Type (l) & Polyphen (m) & Variant class (n) & AF & rare\\\\\n",
       " <chr> & <chr> & <dbl> & <chr> & <chr> & <int> & <chr> & <int> & <int> & <chr> & <chr> & <dbl> & <dbl> & <dbl> & <chr> & <dbl> & <chr> & <dbl> & <lgl>\\\\\n",
       "\\hline\n",
       "\t chr10:100010849\\_G\\_A & ME:SK-MEL-2 & 45.238 & -           & LOXL4   & 84171 & 10 & 100010849 & 100010849 & 10q24   & R725W & 0 & 0.00000 & 0.00 & Missense & 1.000 & Type 2 & 1e-06 & TRUE\\\\\n",
       "\t chr10:100013418\\_T\\_G & ME:SK-MEL-2 & 56.140 & rs148260647 & LOXL4   & 84171 & 10 & 100013418 & 100013418 & 10q24   & Y576S & 0 & 0.00019 & 0.32 & Missense & 1.000 & Type 1 & 6e-05 & TRUE\\\\\n",
       "\t chr10:100017532\\_G\\_T & LC:EKVX     & 82.456 & -           & LOXL4   & 84171 & 10 & 100017532 & 100017532 & 10q24   & R379S & 0 & 0.00000 & 0.04 & Missense & 0.999 & Type 2 & 9e-03 & TRUE\\\\\n",
       "\t chr10:100020867\\_C\\_A & CO:HCT-15   & 38.889 & -           & LOXL4   & 84171 & 10 & 100020867 & 100020867 & 10q24   & E158D & 0 & 0.00000 & 0.53 & Missense & 0.956 & Type 2 & 1e-06 & TRUE\\\\\n",
       "\t chr10:100021911\\_C\\_T & BR:MCF7     & 29.508 & rs139735732 & LOXL4   & 84171 & 10 & 100021911 & 100021911 & 10q24   & G113R & 0 & 0.00019 & 0.58 & Missense & 0.000 & Type 1 & 2e-04 & TRUE\\\\\n",
       "\t chr10:100167409\\_A\\_C & CO:HCC-2998 & 44.000 & -           & PYROXD2 & 84795 & 10 & 100167409 & 100167409 & 10q24.2 & F82C  & 0 & 0.00000 & 0.00 & Missense & 0.999 & Type 2 & 1e-06 & TRUE\\\\\n",
       "\\end{tabular}\n"
      ],
      "text/markdown": [
       "\n",
       "A data.table: 6 × 19\n",
       "\n",
       "| Identifier &lt;chr&gt; | sampleID &lt;chr&gt; | frequency &lt;dbl&gt; | dbSNP id (g) &lt;chr&gt; | Gene name (d) &lt;chr&gt; | Entrez gene id (e) &lt;int&gt; | Chromosome (f) &lt;chr&gt; | Start (f) &lt;int&gt; | End (f) &lt;int&gt; | Cytoband (f) &lt;chr&gt; | AA Impact (h) &lt;chr&gt; | 1000 Genome (i) &lt;dbl&gt; | ESP5400 (j) &lt;dbl&gt; | SIFT Score (k) &lt;dbl&gt; | SNP Type (l) &lt;chr&gt; | Polyphen (m) &lt;dbl&gt; | Variant class (n) &lt;chr&gt; | AF &lt;dbl&gt; | rare &lt;lgl&gt; |\n",
       "|---|---|---|---|---|---|---|---|---|---|---|---|---|---|---|---|---|---|---|\n",
       "| chr10:100010849_G_A | ME:SK-MEL-2 | 45.238 | -           | LOXL4   | 84171 | 10 | 100010849 | 100010849 | 10q24   | R725W | 0 | 0.00000 | 0.00 | Missense | 1.000 | Type 2 | 1e-06 | TRUE |\n",
       "| chr10:100013418_T_G | ME:SK-MEL-2 | 56.140 | rs148260647 | LOXL4   | 84171 | 10 | 100013418 | 100013418 | 10q24   | Y576S | 0 | 0.00019 | 0.32 | Missense | 1.000 | Type 1 | 6e-05 | TRUE |\n",
       "| chr10:100017532_G_T | LC:EKVX     | 82.456 | -           | LOXL4   | 84171 | 10 | 100017532 | 100017532 | 10q24   | R379S | 0 | 0.00000 | 0.04 | Missense | 0.999 | Type 2 | 9e-03 | TRUE |\n",
       "| chr10:100020867_C_A | CO:HCT-15   | 38.889 | -           | LOXL4   | 84171 | 10 | 100020867 | 100020867 | 10q24   | E158D | 0 | 0.00000 | 0.53 | Missense | 0.956 | Type 2 | 1e-06 | TRUE |\n",
       "| chr10:100021911_C_T | BR:MCF7     | 29.508 | rs139735732 | LOXL4   | 84171 | 10 | 100021911 | 100021911 | 10q24   | G113R | 0 | 0.00019 | 0.58 | Missense | 0.000 | Type 1 | 2e-04 | TRUE |\n",
       "| chr10:100167409_A_C | CO:HCC-2998 | 44.000 | -           | PYROXD2 | 84795 | 10 | 100167409 | 100167409 | 10q24.2 | F82C  | 0 | 0.00000 | 0.00 | Missense | 0.999 | Type 2 | 1e-06 | TRUE |\n",
       "\n"
      ],
      "text/plain": [
       "  Identifier          sampleID    frequency dbSNP id (g) Gene name (d)\n",
       "1 chr10:100010849_G_A ME:SK-MEL-2 45.238    -            LOXL4        \n",
       "2 chr10:100013418_T_G ME:SK-MEL-2 56.140    rs148260647  LOXL4        \n",
       "3 chr10:100017532_G_T LC:EKVX     82.456    -            LOXL4        \n",
       "4 chr10:100020867_C_A CO:HCT-15   38.889    -            LOXL4        \n",
       "5 chr10:100021911_C_T BR:MCF7     29.508    rs139735732  LOXL4        \n",
       "6 chr10:100167409_A_C CO:HCC-2998 44.000    -            PYROXD2      \n",
       "  Entrez gene id (e) Chromosome (f) Start (f) End (f)   Cytoband (f)\n",
       "1 84171              10             100010849 100010849 10q24       \n",
       "2 84171              10             100013418 100013418 10q24       \n",
       "3 84171              10             100017532 100017532 10q24       \n",
       "4 84171              10             100020867 100020867 10q24       \n",
       "5 84171              10             100021911 100021911 10q24       \n",
       "6 84795              10             100167409 100167409 10q24.2     \n",
       "  AA Impact (h) 1000 Genome (i) ESP5400 (j) SIFT Score (k) SNP Type (l)\n",
       "1 R725W         0               0.00000     0.00           Missense    \n",
       "2 Y576S         0               0.00019     0.32           Missense    \n",
       "3 R379S         0               0.00000     0.04           Missense    \n",
       "4 E158D         0               0.00000     0.53           Missense    \n",
       "5 G113R         0               0.00019     0.58           Missense    \n",
       "6 F82C          0               0.00000     0.00           Missense    \n",
       "  Polyphen (m) Variant class (n) AF    rare\n",
       "1 1.000        Type 2            1e-06 TRUE\n",
       "2 1.000        Type 1            6e-05 TRUE\n",
       "3 0.999        Type 2            9e-03 TRUE\n",
       "4 0.956        Type 2            1e-06 TRUE\n",
       "5 0.000        Type 1            2e-04 TRUE\n",
       "6 0.999        Type 2            1e-06 TRUE"
      ]
     },
     "metadata": {},
     "output_type": "display_data"
    }
   ],
   "source": [
    "variant <- fread(\"variant_with_maf_new.csv\")\n",
    "variant <- variant[variant$rare==TRUE,]\n",
    "head(variant)"
   ]
  },
  {
   "cell_type": "code",
   "execution_count": 3,
   "id": "f05ee358",
   "metadata": {},
   "outputs": [],
   "source": [
    "variant$sampleID <- variant$sampleID %>%\n",
    "  strsplit( \":\")  %>%\n",
    "  sapply( tail, 1 ) %>%\n",
    "  str_replace_all(\"-\",\"\")%>%\n",
    "  str_replace_all(\" \",\"\")%>%\n",
    "  str_replace(\"(TB)\",\"\")%>%\n",
    "  str_replace(\"UO31\",\"U031\")%>%\n",
    "  str_replace_all('\\\\(|\\\\)', \"\")%>%\n",
    "  str_replace_all(\"A549/ATCC\",\"A549\")%>%\n",
    "  str_replace_all(\"7860\",\"X786O\")%>%\n",
    "  str_replace_all(\"MDAN\",\"MDAMB468\")%>%\n",
    "  str_replace_all(\"NCI/ADRRES\",\"NCIADRES\")"
   ]
  },
  {
   "cell_type": "code",
   "execution_count": 4,
   "id": "93eb6cee",
   "metadata": {},
   "outputs": [
    {
     "data": {
      "text/html": [
       "<table class=\"dataframe\">\n",
       "<caption>A data.table: 6 × 19</caption>\n",
       "<thead>\n",
       "\t<tr><th scope=col>Identifier</th><th scope=col>sampleID</th><th scope=col>frequency</th><th scope=col>dbSNP id (g)</th><th scope=col>Gene name (d)</th><th scope=col>Entrez gene id (e)</th><th scope=col>Chromosome (f)</th><th scope=col>Start (f)</th><th scope=col>End (f)</th><th scope=col>Cytoband (f)</th><th scope=col>AA Impact (h)</th><th scope=col>1000 Genome (i)</th><th scope=col>ESP5400 (j)</th><th scope=col>SIFT Score (k)</th><th scope=col>SNP Type (l)</th><th scope=col>Polyphen (m)</th><th scope=col>Variant class (n)</th><th scope=col>AF</th><th scope=col>rare</th></tr>\n",
       "\t<tr><th scope=col>&lt;chr&gt;</th><th scope=col>&lt;chr&gt;</th><th scope=col>&lt;dbl&gt;</th><th scope=col>&lt;chr&gt;</th><th scope=col>&lt;chr&gt;</th><th scope=col>&lt;int&gt;</th><th scope=col>&lt;chr&gt;</th><th scope=col>&lt;int&gt;</th><th scope=col>&lt;int&gt;</th><th scope=col>&lt;chr&gt;</th><th scope=col>&lt;chr&gt;</th><th scope=col>&lt;dbl&gt;</th><th scope=col>&lt;dbl&gt;</th><th scope=col>&lt;dbl&gt;</th><th scope=col>&lt;chr&gt;</th><th scope=col>&lt;dbl&gt;</th><th scope=col>&lt;chr&gt;</th><th scope=col>&lt;dbl&gt;</th><th scope=col>&lt;lgl&gt;</th></tr>\n",
       "</thead>\n",
       "<tbody>\n",
       "\t<tr><td>chr10:100010849_G_A</td><td>SKMEL2 </td><td>45.238</td><td>-          </td><td>LOXL4  </td><td>84171</td><td>10</td><td>100010849</td><td>100010849</td><td>10q24  </td><td>R725W</td><td>0</td><td>0.00000</td><td>0.00</td><td>Missense</td><td>1.000</td><td>Type 2</td><td>1e-06</td><td>TRUE</td></tr>\n",
       "\t<tr><td>chr10:100013418_T_G</td><td>SKMEL2 </td><td>56.140</td><td>rs148260647</td><td>LOXL4  </td><td>84171</td><td>10</td><td>100013418</td><td>100013418</td><td>10q24  </td><td>Y576S</td><td>0</td><td>0.00019</td><td>0.32</td><td>Missense</td><td>1.000</td><td>Type 1</td><td>6e-05</td><td>TRUE</td></tr>\n",
       "\t<tr><td>chr10:100017532_G_T</td><td>EKVX   </td><td>82.456</td><td>-          </td><td>LOXL4  </td><td>84171</td><td>10</td><td>100017532</td><td>100017532</td><td>10q24  </td><td>R379S</td><td>0</td><td>0.00000</td><td>0.04</td><td>Missense</td><td>0.999</td><td>Type 2</td><td>9e-03</td><td>TRUE</td></tr>\n",
       "\t<tr><td>chr10:100020867_C_A</td><td>HCT15  </td><td>38.889</td><td>-          </td><td>LOXL4  </td><td>84171</td><td>10</td><td>100020867</td><td>100020867</td><td>10q24  </td><td>E158D</td><td>0</td><td>0.00000</td><td>0.53</td><td>Missense</td><td>0.956</td><td>Type 2</td><td>1e-06</td><td>TRUE</td></tr>\n",
       "\t<tr><td>chr10:100021911_C_T</td><td>MCF7   </td><td>29.508</td><td>rs139735732</td><td>LOXL4  </td><td>84171</td><td>10</td><td>100021911</td><td>100021911</td><td>10q24  </td><td>G113R</td><td>0</td><td>0.00019</td><td>0.58</td><td>Missense</td><td>0.000</td><td>Type 1</td><td>2e-04</td><td>TRUE</td></tr>\n",
       "\t<tr><td>chr10:100167409_A_C</td><td>HCC2998</td><td>44.000</td><td>-          </td><td>PYROXD2</td><td>84795</td><td>10</td><td>100167409</td><td>100167409</td><td>10q24.2</td><td>F82C </td><td>0</td><td>0.00000</td><td>0.00</td><td>Missense</td><td>0.999</td><td>Type 2</td><td>1e-06</td><td>TRUE</td></tr>\n",
       "</tbody>\n",
       "</table>\n"
      ],
      "text/latex": [
       "A data.table: 6 × 19\n",
       "\\begin{tabular}{lllllllllllllllllll}\n",
       " Identifier & sampleID & frequency & dbSNP id (g) & Gene name (d) & Entrez gene id (e) & Chromosome (f) & Start (f) & End (f) & Cytoband (f) & AA Impact (h) & 1000 Genome (i) & ESP5400 (j) & SIFT Score (k) & SNP Type (l) & Polyphen (m) & Variant class (n) & AF & rare\\\\\n",
       " <chr> & <chr> & <dbl> & <chr> & <chr> & <int> & <chr> & <int> & <int> & <chr> & <chr> & <dbl> & <dbl> & <dbl> & <chr> & <dbl> & <chr> & <dbl> & <lgl>\\\\\n",
       "\\hline\n",
       "\t chr10:100010849\\_G\\_A & SKMEL2  & 45.238 & -           & LOXL4   & 84171 & 10 & 100010849 & 100010849 & 10q24   & R725W & 0 & 0.00000 & 0.00 & Missense & 1.000 & Type 2 & 1e-06 & TRUE\\\\\n",
       "\t chr10:100013418\\_T\\_G & SKMEL2  & 56.140 & rs148260647 & LOXL4   & 84171 & 10 & 100013418 & 100013418 & 10q24   & Y576S & 0 & 0.00019 & 0.32 & Missense & 1.000 & Type 1 & 6e-05 & TRUE\\\\\n",
       "\t chr10:100017532\\_G\\_T & EKVX    & 82.456 & -           & LOXL4   & 84171 & 10 & 100017532 & 100017532 & 10q24   & R379S & 0 & 0.00000 & 0.04 & Missense & 0.999 & Type 2 & 9e-03 & TRUE\\\\\n",
       "\t chr10:100020867\\_C\\_A & HCT15   & 38.889 & -           & LOXL4   & 84171 & 10 & 100020867 & 100020867 & 10q24   & E158D & 0 & 0.00000 & 0.53 & Missense & 0.956 & Type 2 & 1e-06 & TRUE\\\\\n",
       "\t chr10:100021911\\_C\\_T & MCF7    & 29.508 & rs139735732 & LOXL4   & 84171 & 10 & 100021911 & 100021911 & 10q24   & G113R & 0 & 0.00019 & 0.58 & Missense & 0.000 & Type 1 & 2e-04 & TRUE\\\\\n",
       "\t chr10:100167409\\_A\\_C & HCC2998 & 44.000 & -           & PYROXD2 & 84795 & 10 & 100167409 & 100167409 & 10q24.2 & F82C  & 0 & 0.00000 & 0.00 & Missense & 0.999 & Type 2 & 1e-06 & TRUE\\\\\n",
       "\\end{tabular}\n"
      ],
      "text/markdown": [
       "\n",
       "A data.table: 6 × 19\n",
       "\n",
       "| Identifier &lt;chr&gt; | sampleID &lt;chr&gt; | frequency &lt;dbl&gt; | dbSNP id (g) &lt;chr&gt; | Gene name (d) &lt;chr&gt; | Entrez gene id (e) &lt;int&gt; | Chromosome (f) &lt;chr&gt; | Start (f) &lt;int&gt; | End (f) &lt;int&gt; | Cytoband (f) &lt;chr&gt; | AA Impact (h) &lt;chr&gt; | 1000 Genome (i) &lt;dbl&gt; | ESP5400 (j) &lt;dbl&gt; | SIFT Score (k) &lt;dbl&gt; | SNP Type (l) &lt;chr&gt; | Polyphen (m) &lt;dbl&gt; | Variant class (n) &lt;chr&gt; | AF &lt;dbl&gt; | rare &lt;lgl&gt; |\n",
       "|---|---|---|---|---|---|---|---|---|---|---|---|---|---|---|---|---|---|---|\n",
       "| chr10:100010849_G_A | SKMEL2  | 45.238 | -           | LOXL4   | 84171 | 10 | 100010849 | 100010849 | 10q24   | R725W | 0 | 0.00000 | 0.00 | Missense | 1.000 | Type 2 | 1e-06 | TRUE |\n",
       "| chr10:100013418_T_G | SKMEL2  | 56.140 | rs148260647 | LOXL4   | 84171 | 10 | 100013418 | 100013418 | 10q24   | Y576S | 0 | 0.00019 | 0.32 | Missense | 1.000 | Type 1 | 6e-05 | TRUE |\n",
       "| chr10:100017532_G_T | EKVX    | 82.456 | -           | LOXL4   | 84171 | 10 | 100017532 | 100017532 | 10q24   | R379S | 0 | 0.00000 | 0.04 | Missense | 0.999 | Type 2 | 9e-03 | TRUE |\n",
       "| chr10:100020867_C_A | HCT15   | 38.889 | -           | LOXL4   | 84171 | 10 | 100020867 | 100020867 | 10q24   | E158D | 0 | 0.00000 | 0.53 | Missense | 0.956 | Type 2 | 1e-06 | TRUE |\n",
       "| chr10:100021911_C_T | MCF7    | 29.508 | rs139735732 | LOXL4   | 84171 | 10 | 100021911 | 100021911 | 10q24   | G113R | 0 | 0.00019 | 0.58 | Missense | 0.000 | Type 1 | 2e-04 | TRUE |\n",
       "| chr10:100167409_A_C | HCC2998 | 44.000 | -           | PYROXD2 | 84795 | 10 | 100167409 | 100167409 | 10q24.2 | F82C  | 0 | 0.00000 | 0.00 | Missense | 0.999 | Type 2 | 1e-06 | TRUE |\n",
       "\n"
      ],
      "text/plain": [
       "  Identifier          sampleID frequency dbSNP id (g) Gene name (d)\n",
       "1 chr10:100010849_G_A SKMEL2   45.238    -            LOXL4        \n",
       "2 chr10:100013418_T_G SKMEL2   56.140    rs148260647  LOXL4        \n",
       "3 chr10:100017532_G_T EKVX     82.456    -            LOXL4        \n",
       "4 chr10:100020867_C_A HCT15    38.889    -            LOXL4        \n",
       "5 chr10:100021911_C_T MCF7     29.508    rs139735732  LOXL4        \n",
       "6 chr10:100167409_A_C HCC2998  44.000    -            PYROXD2      \n",
       "  Entrez gene id (e) Chromosome (f) Start (f) End (f)   Cytoband (f)\n",
       "1 84171              10             100010849 100010849 10q24       \n",
       "2 84171              10             100013418 100013418 10q24       \n",
       "3 84171              10             100017532 100017532 10q24       \n",
       "4 84171              10             100020867 100020867 10q24       \n",
       "5 84171              10             100021911 100021911 10q24       \n",
       "6 84795              10             100167409 100167409 10q24.2     \n",
       "  AA Impact (h) 1000 Genome (i) ESP5400 (j) SIFT Score (k) SNP Type (l)\n",
       "1 R725W         0               0.00000     0.00           Missense    \n",
       "2 Y576S         0               0.00019     0.32           Missense    \n",
       "3 R379S         0               0.00000     0.04           Missense    \n",
       "4 E158D         0               0.00000     0.53           Missense    \n",
       "5 G113R         0               0.00019     0.58           Missense    \n",
       "6 F82C          0               0.00000     0.00           Missense    \n",
       "  Polyphen (m) Variant class (n) AF    rare\n",
       "1 1.000        Type 2            1e-06 TRUE\n",
       "2 1.000        Type 1            6e-05 TRUE\n",
       "3 0.999        Type 2            9e-03 TRUE\n",
       "4 0.956        Type 2            1e-06 TRUE\n",
       "5 0.000        Type 1            2e-04 TRUE\n",
       "6 0.999        Type 2            1e-06 TRUE"
      ]
     },
     "metadata": {},
     "output_type": "display_data"
    }
   ],
   "source": [
    "head(variant)"
   ]
  },
  {
   "cell_type": "code",
   "execution_count": 5,
   "id": "8235d107",
   "metadata": {},
   "outputs": [
    {
     "data": {
      "text/html": [
       "<table class=\"dataframe\">\n",
       "<caption>A data.table: 6 × 3</caption>\n",
       "<thead>\n",
       "\t<tr><th scope=col>Identifier</th><th scope=col>sampleID</th><th scope=col>geneID</th></tr>\n",
       "\t<tr><th scope=col>&lt;chr&gt;</th><th scope=col>&lt;chr&gt;</th><th scope=col>&lt;chr&gt;</th></tr>\n",
       "</thead>\n",
       "<tbody>\n",
       "\t<tr><td>chr10:100010849_G_A</td><td>SKMEL2 </td><td>LOXL4  </td></tr>\n",
       "\t<tr><td>chr10:100013418_T_G</td><td>SKMEL2 </td><td>LOXL4  </td></tr>\n",
       "\t<tr><td>chr10:100017532_G_T</td><td>EKVX   </td><td>LOXL4  </td></tr>\n",
       "\t<tr><td>chr10:100020867_C_A</td><td>HCT15  </td><td>LOXL4  </td></tr>\n",
       "\t<tr><td>chr10:100021911_C_T</td><td>MCF7   </td><td>LOXL4  </td></tr>\n",
       "\t<tr><td>chr10:100167409_A_C</td><td>HCC2998</td><td>PYROXD2</td></tr>\n",
       "</tbody>\n",
       "</table>\n"
      ],
      "text/latex": [
       "A data.table: 6 × 3\n",
       "\\begin{tabular}{lll}\n",
       " Identifier & sampleID & geneID\\\\\n",
       " <chr> & <chr> & <chr>\\\\\n",
       "\\hline\n",
       "\t chr10:100010849\\_G\\_A & SKMEL2  & LOXL4  \\\\\n",
       "\t chr10:100013418\\_T\\_G & SKMEL2  & LOXL4  \\\\\n",
       "\t chr10:100017532\\_G\\_T & EKVX    & LOXL4  \\\\\n",
       "\t chr10:100020867\\_C\\_A & HCT15   & LOXL4  \\\\\n",
       "\t chr10:100021911\\_C\\_T & MCF7    & LOXL4  \\\\\n",
       "\t chr10:100167409\\_A\\_C & HCC2998 & PYROXD2\\\\\n",
       "\\end{tabular}\n"
      ],
      "text/markdown": [
       "\n",
       "A data.table: 6 × 3\n",
       "\n",
       "| Identifier &lt;chr&gt; | sampleID &lt;chr&gt; | geneID &lt;chr&gt; |\n",
       "|---|---|---|\n",
       "| chr10:100010849_G_A | SKMEL2  | LOXL4   |\n",
       "| chr10:100013418_T_G | SKMEL2  | LOXL4   |\n",
       "| chr10:100017532_G_T | EKVX    | LOXL4   |\n",
       "| chr10:100020867_C_A | HCT15   | LOXL4   |\n",
       "| chr10:100021911_C_T | MCF7    | LOXL4   |\n",
       "| chr10:100167409_A_C | HCC2998 | PYROXD2 |\n",
       "\n"
      ],
      "text/plain": [
       "  Identifier          sampleID geneID \n",
       "1 chr10:100010849_G_A SKMEL2   LOXL4  \n",
       "2 chr10:100013418_T_G SKMEL2   LOXL4  \n",
       "3 chr10:100017532_G_T EKVX     LOXL4  \n",
       "4 chr10:100020867_C_A HCT15    LOXL4  \n",
       "5 chr10:100021911_C_T MCF7     LOXL4  \n",
       "6 chr10:100167409_A_C HCC2998  PYROXD2"
      ]
     },
     "metadata": {},
     "output_type": "display_data"
    }
   ],
   "source": [
    "variant <- variant[,c(1,2,5)]\n",
    "colnames(variant)[3] <- \"geneID\"\n",
    "head(variant)\n"
   ]
  },
  {
   "cell_type": "code",
   "execution_count": 6,
   "id": "c99fac85",
   "metadata": {
    "scrolled": true
   },
   "outputs": [
    {
     "data": {
      "text/html": [
       "<table class=\"dataframe\">\n",
       "<caption>A data.table: 6 × 3</caption>\n",
       "<thead>\n",
       "\t<tr><th scope=col>featureID</th><th scope=col>Gene names</th><th scope=col>geneID</th></tr>\n",
       "\t<tr><th scope=col>&lt;chr&gt;</th><th scope=col>&lt;chr&gt;</th><th scope=col>&lt;chr&gt;</th></tr>\n",
       "</thead>\n",
       "<tbody>\n",
       "\t<tr><td>P0DN26;A0A075B759;Q9Y536;F5H284;A0A0B4J2A2;P0DN37</td><td>PPIAL4E;PPIAL4A;PPIAL4D;PPIAL4C</td><td>PPIAL4E </td></tr>\n",
       "\t<tr><td>A0A0B4J2F0                                       </td><td>PIGBOS1                        </td><td>PIGBOS1 </td></tr>\n",
       "\t<tr><td>A0A0C4DH73                                       </td><td>IGKV1-12                       </td><td>IGKV1-12</td></tr>\n",
       "\t<tr><td>A0A5B9;P01850                                    </td><td>TRBC2;TRBC1                    </td><td>TRBC2   </td></tr>\n",
       "\t<tr><td>A0AV96;A0AV96-2                                  </td><td>RBM47                          </td><td>RBM47   </td></tr>\n",
       "\t<tr><td>A0AVF1;A0AVF1-2;A0AVF1-3                         </td><td>TTC26                          </td><td>TTC26   </td></tr>\n",
       "</tbody>\n",
       "</table>\n"
      ],
      "text/latex": [
       "A data.table: 6 × 3\n",
       "\\begin{tabular}{lll}\n",
       " featureID & Gene names & geneID\\\\\n",
       " <chr> & <chr> & <chr>\\\\\n",
       "\\hline\n",
       "\t P0DN26;A0A075B759;Q9Y536;F5H284;A0A0B4J2A2;P0DN37 & PPIAL4E;PPIAL4A;PPIAL4D;PPIAL4C & PPIAL4E \\\\\n",
       "\t A0A0B4J2F0                                        & PIGBOS1                         & PIGBOS1 \\\\\n",
       "\t A0A0C4DH73                                        & IGKV1-12                        & IGKV1-12\\\\\n",
       "\t A0A5B9;P01850                                     & TRBC2;TRBC1                     & TRBC2   \\\\\n",
       "\t A0AV96;A0AV96-2                                   & RBM47                           & RBM47   \\\\\n",
       "\t A0AVF1;A0AVF1-2;A0AVF1-3                          & TTC26                           & TTC26   \\\\\n",
       "\\end{tabular}\n"
      ],
      "text/markdown": [
       "\n",
       "A data.table: 6 × 3\n",
       "\n",
       "| featureID &lt;chr&gt; | Gene names &lt;chr&gt; | geneID &lt;chr&gt; |\n",
       "|---|---|---|\n",
       "| P0DN26;A0A075B759;Q9Y536;F5H284;A0A0B4J2A2;P0DN37 | PPIAL4E;PPIAL4A;PPIAL4D;PPIAL4C | PPIAL4E  |\n",
       "| A0A0B4J2F0                                        | PIGBOS1                         | PIGBOS1  |\n",
       "| A0A0C4DH73                                        | IGKV1-12                        | IGKV1-12 |\n",
       "| A0A5B9;P01850                                     | TRBC2;TRBC1                     | TRBC2    |\n",
       "| A0AV96;A0AV96-2                                   | RBM47                           | RBM47    |\n",
       "| A0AVF1;A0AVF1-2;A0AVF1-3                          | TTC26                           | TTC26    |\n",
       "\n"
      ],
      "text/plain": [
       "  featureID                                        \n",
       "1 P0DN26;A0A075B759;Q9Y536;F5H284;A0A0B4J2A2;P0DN37\n",
       "2 A0A0B4J2F0                                       \n",
       "3 A0A0C4DH73                                       \n",
       "4 A0A5B9;P01850                                    \n",
       "5 A0AV96;A0AV96-2                                  \n",
       "6 A0AVF1;A0AVF1-2;A0AVF1-3                         \n",
       "  Gene names                      geneID  \n",
       "1 PPIAL4E;PPIAL4A;PPIAL4D;PPIAL4C PPIAL4E \n",
       "2 PIGBOS1                         PIGBOS1 \n",
       "3 IGKV1-12                        IGKV1-12\n",
       "4 TRBC2;TRBC1                     TRBC2   \n",
       "5 RBM47                           RBM47   \n",
       "6 TTC26                           TTC26   "
      ]
     },
     "metadata": {},
     "output_type": "display_data"
    }
   ],
   "source": [
    "prot <- fread(\"proteinGroups.txt\")\n",
    "prot <- prot[,c(1,7)]\n",
    "colnames(prot)[1] <- 'featureID'\n",
    "prot$geneID <- lapply(prot$`Gene names`, function(x){\n",
    "    strsplit(x,\";\")[[1]][1]\n",
    "})\n",
    "prot$geneID <- as.character(prot$geneID)\n",
    "head(prot)"
   ]
  },
  {
   "cell_type": "code",
   "execution_count": 7,
   "id": "cadb0f4a",
   "metadata": {},
   "outputs": [
    {
     "data": {
      "text/html": [
       "<table class=\"dataframe\">\n",
       "<caption>A data.table: 6 × 4</caption>\n",
       "<thead>\n",
       "\t<tr><th scope=col>geneID</th><th scope=col>Identifier</th><th scope=col>sampleID</th><th scope=col>featureID</th></tr>\n",
       "\t<tr><th scope=col>&lt;chr&gt;</th><th scope=col>&lt;chr&gt;</th><th scope=col>&lt;chr&gt;</th><th scope=col>&lt;chr&gt;</th></tr>\n",
       "</thead>\n",
       "<tbody>\n",
       "\t<tr><td>A1CF</td><td>chr10:52566602_C_A</td><td>RPMI8226</td><td>Q9NQ94-6;Q9NQ94;Q9NQ94-2;Q9NQ94-5;Q9NQ94-3;Q9NQ94-4</td></tr>\n",
       "\t<tr><td>A1CF</td><td>chr10:52569690_T_G</td><td>MDAMB435</td><td>Q9NQ94-6;Q9NQ94;Q9NQ94-2;Q9NQ94-5;Q9NQ94-3;Q9NQ94-4</td></tr>\n",
       "\t<tr><td>A1CF</td><td>chr10:52569690_T_G</td><td>MDAMB468</td><td>Q9NQ94-6;Q9NQ94;Q9NQ94-2;Q9NQ94-5;Q9NQ94-3;Q9NQ94-4</td></tr>\n",
       "\t<tr><td>A1CF</td><td>chr10:52575948_C_A</td><td>MOLT4   </td><td>Q9NQ94-6;Q9NQ94;Q9NQ94-2;Q9NQ94-5;Q9NQ94-3;Q9NQ94-4</td></tr>\n",
       "\t<tr><td>A1CF</td><td>chr10:52580356_T_C</td><td>DU145   </td><td>Q9NQ94-6;Q9NQ94;Q9NQ94-2;Q9NQ94-5;Q9NQ94-3;Q9NQ94-4</td></tr>\n",
       "\t<tr><td>A1CF</td><td>chr10:52587972_C_A</td><td>DU145   </td><td>Q9NQ94-6;Q9NQ94;Q9NQ94-2;Q9NQ94-5;Q9NQ94-3;Q9NQ94-4</td></tr>\n",
       "</tbody>\n",
       "</table>\n"
      ],
      "text/latex": [
       "A data.table: 6 × 4\n",
       "\\begin{tabular}{llll}\n",
       " geneID & Identifier & sampleID & featureID\\\\\n",
       " <chr> & <chr> & <chr> & <chr>\\\\\n",
       "\\hline\n",
       "\t A1CF & chr10:52566602\\_C\\_A & RPMI8226 & Q9NQ94-6;Q9NQ94;Q9NQ94-2;Q9NQ94-5;Q9NQ94-3;Q9NQ94-4\\\\\n",
       "\t A1CF & chr10:52569690\\_T\\_G & MDAMB435 & Q9NQ94-6;Q9NQ94;Q9NQ94-2;Q9NQ94-5;Q9NQ94-3;Q9NQ94-4\\\\\n",
       "\t A1CF & chr10:52569690\\_T\\_G & MDAMB468 & Q9NQ94-6;Q9NQ94;Q9NQ94-2;Q9NQ94-5;Q9NQ94-3;Q9NQ94-4\\\\\n",
       "\t A1CF & chr10:52575948\\_C\\_A & MOLT4    & Q9NQ94-6;Q9NQ94;Q9NQ94-2;Q9NQ94-5;Q9NQ94-3;Q9NQ94-4\\\\\n",
       "\t A1CF & chr10:52580356\\_T\\_C & DU145    & Q9NQ94-6;Q9NQ94;Q9NQ94-2;Q9NQ94-5;Q9NQ94-3;Q9NQ94-4\\\\\n",
       "\t A1CF & chr10:52587972\\_C\\_A & DU145    & Q9NQ94-6;Q9NQ94;Q9NQ94-2;Q9NQ94-5;Q9NQ94-3;Q9NQ94-4\\\\\n",
       "\\end{tabular}\n"
      ],
      "text/markdown": [
       "\n",
       "A data.table: 6 × 4\n",
       "\n",
       "| geneID &lt;chr&gt; | Identifier &lt;chr&gt; | sampleID &lt;chr&gt; | featureID &lt;chr&gt; |\n",
       "|---|---|---|---|\n",
       "| A1CF | chr10:52566602_C_A | RPMI8226 | Q9NQ94-6;Q9NQ94;Q9NQ94-2;Q9NQ94-5;Q9NQ94-3;Q9NQ94-4 |\n",
       "| A1CF | chr10:52569690_T_G | MDAMB435 | Q9NQ94-6;Q9NQ94;Q9NQ94-2;Q9NQ94-5;Q9NQ94-3;Q9NQ94-4 |\n",
       "| A1CF | chr10:52569690_T_G | MDAMB468 | Q9NQ94-6;Q9NQ94;Q9NQ94-2;Q9NQ94-5;Q9NQ94-3;Q9NQ94-4 |\n",
       "| A1CF | chr10:52575948_C_A | MOLT4    | Q9NQ94-6;Q9NQ94;Q9NQ94-2;Q9NQ94-5;Q9NQ94-3;Q9NQ94-4 |\n",
       "| A1CF | chr10:52580356_T_C | DU145    | Q9NQ94-6;Q9NQ94;Q9NQ94-2;Q9NQ94-5;Q9NQ94-3;Q9NQ94-4 |\n",
       "| A1CF | chr10:52587972_C_A | DU145    | Q9NQ94-6;Q9NQ94;Q9NQ94-2;Q9NQ94-5;Q9NQ94-3;Q9NQ94-4 |\n",
       "\n"
      ],
      "text/plain": [
       "  geneID Identifier         sampleID\n",
       "1 A1CF   chr10:52566602_C_A RPMI8226\n",
       "2 A1CF   chr10:52569690_T_G MDAMB435\n",
       "3 A1CF   chr10:52569690_T_G MDAMB468\n",
       "4 A1CF   chr10:52575948_C_A MOLT4   \n",
       "5 A1CF   chr10:52580356_T_C DU145   \n",
       "6 A1CF   chr10:52587972_C_A DU145   \n",
       "  featureID                                          \n",
       "1 Q9NQ94-6;Q9NQ94;Q9NQ94-2;Q9NQ94-5;Q9NQ94-3;Q9NQ94-4\n",
       "2 Q9NQ94-6;Q9NQ94;Q9NQ94-2;Q9NQ94-5;Q9NQ94-3;Q9NQ94-4\n",
       "3 Q9NQ94-6;Q9NQ94;Q9NQ94-2;Q9NQ94-5;Q9NQ94-3;Q9NQ94-4\n",
       "4 Q9NQ94-6;Q9NQ94;Q9NQ94-2;Q9NQ94-5;Q9NQ94-3;Q9NQ94-4\n",
       "5 Q9NQ94-6;Q9NQ94;Q9NQ94-2;Q9NQ94-5;Q9NQ94-3;Q9NQ94-4\n",
       "6 Q9NQ94-6;Q9NQ94;Q9NQ94-2;Q9NQ94-5;Q9NQ94-3;Q9NQ94-4"
      ]
     },
     "metadata": {},
     "output_type": "display_data"
    },
    {
     "data": {
      "text/html": [
       "39844"
      ],
      "text/latex": [
       "39844"
      ],
      "text/markdown": [
       "39844"
      ],
      "text/plain": [
       "[1] 39844"
      ]
     },
     "metadata": {},
     "output_type": "display_data"
    }
   ],
   "source": [
    "variant_prot <- merge(variant, prot[,-2])\n",
    "head(variant_prot)\n",
    "nrow(variant_prot)"
   ]
  },
  {
   "cell_type": "code",
   "execution_count": 8,
   "id": "fb2b125e",
   "metadata": {},
   "outputs": [
    {
     "data": {
      "text/html": [
       "<table class=\"dataframe\">\n",
       "<caption>A data.table: 6 × 3</caption>\n",
       "<thead>\n",
       "\t<tr><th scope=col>sampleID</th><th scope=col>featureID</th><th scope=col>rare</th></tr>\n",
       "\t<tr><th scope=col>&lt;chr&gt;</th><th scope=col>&lt;chr&gt;</th><th scope=col>&lt;dbl&gt;</th></tr>\n",
       "</thead>\n",
       "<tbody>\n",
       "\t<tr><td>RPMI8226</td><td>Q9NQ94-6;Q9NQ94;Q9NQ94-2;Q9NQ94-5;Q9NQ94-3;Q9NQ94-4</td><td>1</td></tr>\n",
       "\t<tr><td>MDAMB435</td><td>Q9NQ94-6;Q9NQ94;Q9NQ94-2;Q9NQ94-5;Q9NQ94-3;Q9NQ94-4</td><td>1</td></tr>\n",
       "\t<tr><td>MDAMB468</td><td>Q9NQ94-6;Q9NQ94;Q9NQ94-2;Q9NQ94-5;Q9NQ94-3;Q9NQ94-4</td><td>1</td></tr>\n",
       "\t<tr><td>MOLT4   </td><td>Q9NQ94-6;Q9NQ94;Q9NQ94-2;Q9NQ94-5;Q9NQ94-3;Q9NQ94-4</td><td>1</td></tr>\n",
       "\t<tr><td>DU145   </td><td>Q9NQ94-6;Q9NQ94;Q9NQ94-2;Q9NQ94-5;Q9NQ94-3;Q9NQ94-4</td><td>1</td></tr>\n",
       "\t<tr><td>LOXIMVI </td><td>Q9NQ94-6;Q9NQ94;Q9NQ94-2;Q9NQ94-5;Q9NQ94-3;Q9NQ94-4</td><td>1</td></tr>\n",
       "</tbody>\n",
       "</table>\n"
      ],
      "text/latex": [
       "A data.table: 6 × 3\n",
       "\\begin{tabular}{lll}\n",
       " sampleID & featureID & rare\\\\\n",
       " <chr> & <chr> & <dbl>\\\\\n",
       "\\hline\n",
       "\t RPMI8226 & Q9NQ94-6;Q9NQ94;Q9NQ94-2;Q9NQ94-5;Q9NQ94-3;Q9NQ94-4 & 1\\\\\n",
       "\t MDAMB435 & Q9NQ94-6;Q9NQ94;Q9NQ94-2;Q9NQ94-5;Q9NQ94-3;Q9NQ94-4 & 1\\\\\n",
       "\t MDAMB468 & Q9NQ94-6;Q9NQ94;Q9NQ94-2;Q9NQ94-5;Q9NQ94-3;Q9NQ94-4 & 1\\\\\n",
       "\t MOLT4    & Q9NQ94-6;Q9NQ94;Q9NQ94-2;Q9NQ94-5;Q9NQ94-3;Q9NQ94-4 & 1\\\\\n",
       "\t DU145    & Q9NQ94-6;Q9NQ94;Q9NQ94-2;Q9NQ94-5;Q9NQ94-3;Q9NQ94-4 & 1\\\\\n",
       "\t LOXIMVI  & Q9NQ94-6;Q9NQ94;Q9NQ94-2;Q9NQ94-5;Q9NQ94-3;Q9NQ94-4 & 1\\\\\n",
       "\\end{tabular}\n"
      ],
      "text/markdown": [
       "\n",
       "A data.table: 6 × 3\n",
       "\n",
       "| sampleID &lt;chr&gt; | featureID &lt;chr&gt; | rare &lt;dbl&gt; |\n",
       "|---|---|---|\n",
       "| RPMI8226 | Q9NQ94-6;Q9NQ94;Q9NQ94-2;Q9NQ94-5;Q9NQ94-3;Q9NQ94-4 | 1 |\n",
       "| MDAMB435 | Q9NQ94-6;Q9NQ94;Q9NQ94-2;Q9NQ94-5;Q9NQ94-3;Q9NQ94-4 | 1 |\n",
       "| MDAMB468 | Q9NQ94-6;Q9NQ94;Q9NQ94-2;Q9NQ94-5;Q9NQ94-3;Q9NQ94-4 | 1 |\n",
       "| MOLT4    | Q9NQ94-6;Q9NQ94;Q9NQ94-2;Q9NQ94-5;Q9NQ94-3;Q9NQ94-4 | 1 |\n",
       "| DU145    | Q9NQ94-6;Q9NQ94;Q9NQ94-2;Q9NQ94-5;Q9NQ94-3;Q9NQ94-4 | 1 |\n",
       "| LOXIMVI  | Q9NQ94-6;Q9NQ94;Q9NQ94-2;Q9NQ94-5;Q9NQ94-3;Q9NQ94-4 | 1 |\n",
       "\n"
      ],
      "text/plain": [
       "  sampleID featureID                                           rare\n",
       "1 RPMI8226 Q9NQ94-6;Q9NQ94;Q9NQ94-2;Q9NQ94-5;Q9NQ94-3;Q9NQ94-4 1   \n",
       "2 MDAMB435 Q9NQ94-6;Q9NQ94;Q9NQ94-2;Q9NQ94-5;Q9NQ94-3;Q9NQ94-4 1   \n",
       "3 MDAMB468 Q9NQ94-6;Q9NQ94;Q9NQ94-2;Q9NQ94-5;Q9NQ94-3;Q9NQ94-4 1   \n",
       "4 MOLT4    Q9NQ94-6;Q9NQ94;Q9NQ94-2;Q9NQ94-5;Q9NQ94-3;Q9NQ94-4 1   \n",
       "5 DU145    Q9NQ94-6;Q9NQ94;Q9NQ94-2;Q9NQ94-5;Q9NQ94-3;Q9NQ94-4 1   \n",
       "6 LOXIMVI  Q9NQ94-6;Q9NQ94;Q9NQ94-2;Q9NQ94-5;Q9NQ94-3;Q9NQ94-4 1   "
      ]
     },
     "metadata": {},
     "output_type": "display_data"
    },
    {
     "data": {
      "text/html": [
       "32221"
      ],
      "text/latex": [
       "32221"
      ],
      "text/markdown": [
       "32221"
      ],
      "text/plain": [
       "[1] 32221"
      ]
     },
     "metadata": {},
     "output_type": "display_data"
    }
   ],
   "source": [
    "prot_samp_withRare <- variant_prot[,-c(1:2)]\n",
    "prot_samp_withRare  <- prot_samp_withRare[!duplicated(prot_samp_withRare),]\n",
    "prot_samp_withRare$rare <- 1\n",
    "head(prot_samp_withRare)\n",
    "nrow(prot_samp_withRare)"
   ]
  },
  {
   "cell_type": "code",
   "execution_count": 9,
   "id": "fa6b2fc2",
   "metadata": {},
   "outputs": [
    {
     "name": "stderr",
     "output_type": "stream",
     "text": [
      "Warning message in fread(\"outrider_res.txt\"):\n",
      "“Detected 19 column names but the data has 20 columns (i.e. invalid file). Added 1 extra default column name for the first column which is guessed to be row names or an index. Use setnames() afterwards if this guess is not correct, or fix the file write command that created the file to create a valid file.”\n"
     ]
    },
    {
     "data": {
      "text/html": [
       "397026"
      ],
      "text/latex": [
       "397026"
      ],
      "text/markdown": [
       "397026"
      ],
      "text/plain": [
       "[1] 397026"
      ]
     },
     "metadata": {},
     "output_type": "display_data"
    },
    {
     "data": {
      "text/html": [
       "<table class=\"dataframe\">\n",
       "<caption>A data.table: 6 × 19</caption>\n",
       "<thead>\n",
       "\t<tr><th scope=col>featureID</th><th scope=col>sampleID</th><th scope=col>pValue</th><th scope=col>padjust</th><th scope=col>zScore</th><th scope=col>fc</th><th scope=col>log2fc</th><th scope=col>input_value</th><th scope=col>preprocessed_raw</th><th scope=col>preprocessed_expected</th><th scope=col>normalized</th><th scope=col>meanCorrected</th><th scope=col>sd</th><th scope=col>sizefactor</th><th scope=col>pvalDistribution</th><th scope=col>aberrant</th><th scope=col>AberrantBySample</th><th scope=col>AberrantByFeature</th><th scope=col>padj_rank</th></tr>\n",
       "\t<tr><th scope=col>&lt;chr&gt;</th><th scope=col>&lt;chr&gt;</th><th scope=col>&lt;dbl&gt;</th><th scope=col>&lt;dbl&gt;</th><th scope=col>&lt;dbl&gt;</th><th scope=col>&lt;dbl&gt;</th><th scope=col>&lt;dbl&gt;</th><th scope=col>&lt;dbl&gt;</th><th scope=col>&lt;dbl&gt;</th><th scope=col>&lt;dbl&gt;</th><th scope=col>&lt;dbl&gt;</th><th scope=col>&lt;dbl&gt;</th><th scope=col>&lt;dbl&gt;</th><th scope=col>&lt;dbl&gt;</th><th scope=col>&lt;chr&gt;</th><th scope=col>&lt;lgl&gt;</th><th scope=col>&lt;int&gt;</th><th scope=col>&lt;int&gt;</th><th scope=col>&lt;dbl&gt;</th></tr>\n",
       "</thead>\n",
       "<tbody>\n",
       "\t<tr><td>P98175-2;P98175                                                               </td><td>SN12C </td><td>3.582025e-10</td><td>2.244320e-05</td><td>-6.27</td><td>0.85</td><td>-0.24</td><td>  17657000</td><td>24.07</td><td>28.43</td><td>25.35</td><td>29.93</td><td>0.94</td><td>1.00</td><td>gaussian</td><td>TRUE</td><td>4</td><td>1</td><td>1.0</td></tr>\n",
       "\t<tr><td>Q96JM3                                                                        </td><td>DU145 </td><td>4.589631e-10</td><td>2.898043e-05</td><td>-6.23</td><td>0.81</td><td>-0.30</td><td>   7064000</td><td>22.75</td><td>27.93</td><td>23.55</td><td>28.91</td><td>1.12</td><td>0.99</td><td>gaussian</td><td>TRUE</td><td>7</td><td>1</td><td>1.0</td></tr>\n",
       "\t<tr><td>P78347-2;P78347-4;P78347-3;P78347;P78347-5;Q86UP8-4;Q86UP8-2;Q6EKJ0-2;Q86UP8-5</td><td>HCT15 </td><td>1.240254e-09</td><td>7.842967e-05</td><td>-6.08</td><td>0.82</td><td>-0.29</td><td>  50830000</td><td>25.60</td><td>31.20</td><td>25.97</td><td>31.66</td><td>1.09</td><td>1.02</td><td>gaussian</td><td>TRUE</td><td>8</td><td>1</td><td>1.0</td></tr>\n",
       "\t<tr><td>Q16778;P06899                                                                 </td><td>HL60  </td><td>2.462365e-09</td><td>1.544331e-04</td><td>-5.96</td><td>0.88</td><td>-0.18</td><td> 241780000</td><td>27.85</td><td>31.50</td><td>28.70</td><td>32.45</td><td>0.85</td><td>1.00</td><td>gaussian</td><td>TRUE</td><td>6</td><td>1</td><td>1.0</td></tr>\n",
       "\t<tr><td>Q9Y263                                                                        </td><td>SKMEL5</td><td>2.647038e-09</td><td>1.652732e-04</td><td>-5.95</td><td>0.75</td><td>-0.41</td><td>   1864200</td><td>20.83</td><td>27.64</td><td>22.93</td><td>30.43</td><td>1.41</td><td>1.01</td><td>gaussian</td><td>TRUE</td><td>2</td><td>1</td><td>1.0</td></tr>\n",
       "\t<tr><td>P24928;P24928-2                                                               </td><td>U031  </td><td>2.089773e-08</td><td>6.533725e-04</td><td> 5.60</td><td>1.06</td><td> 0.08</td><td>4244200000</td><td>31.98</td><td>30.26</td><td>32.37</td><td>30.62</td><td>0.59</td><td>0.99</td><td>gaussian</td><td>TRUE</td><td>3</td><td>1</td><td>1.5</td></tr>\n",
       "</tbody>\n",
       "</table>\n"
      ],
      "text/latex": [
       "A data.table: 6 × 19\n",
       "\\begin{tabular}{lllllllllllllllllll}\n",
       " featureID & sampleID & pValue & padjust & zScore & fc & log2fc & input\\_value & preprocessed\\_raw & preprocessed\\_expected & normalized & meanCorrected & sd & sizefactor & pvalDistribution & aberrant & AberrantBySample & AberrantByFeature & padj\\_rank\\\\\n",
       " <chr> & <chr> & <dbl> & <dbl> & <dbl> & <dbl> & <dbl> & <dbl> & <dbl> & <dbl> & <dbl> & <dbl> & <dbl> & <dbl> & <chr> & <lgl> & <int> & <int> & <dbl>\\\\\n",
       "\\hline\n",
       "\t P98175-2;P98175                                                                & SN12C  & 3.582025e-10 & 2.244320e-05 & -6.27 & 0.85 & -0.24 &   17657000 & 24.07 & 28.43 & 25.35 & 29.93 & 0.94 & 1.00 & gaussian & TRUE & 4 & 1 & 1.0\\\\\n",
       "\t Q96JM3                                                                         & DU145  & 4.589631e-10 & 2.898043e-05 & -6.23 & 0.81 & -0.30 &    7064000 & 22.75 & 27.93 & 23.55 & 28.91 & 1.12 & 0.99 & gaussian & TRUE & 7 & 1 & 1.0\\\\\n",
       "\t P78347-2;P78347-4;P78347-3;P78347;P78347-5;Q86UP8-4;Q86UP8-2;Q6EKJ0-2;Q86UP8-5 & HCT15  & 1.240254e-09 & 7.842967e-05 & -6.08 & 0.82 & -0.29 &   50830000 & 25.60 & 31.20 & 25.97 & 31.66 & 1.09 & 1.02 & gaussian & TRUE & 8 & 1 & 1.0\\\\\n",
       "\t Q16778;P06899                                                                  & HL60   & 2.462365e-09 & 1.544331e-04 & -5.96 & 0.88 & -0.18 &  241780000 & 27.85 & 31.50 & 28.70 & 32.45 & 0.85 & 1.00 & gaussian & TRUE & 6 & 1 & 1.0\\\\\n",
       "\t Q9Y263                                                                         & SKMEL5 & 2.647038e-09 & 1.652732e-04 & -5.95 & 0.75 & -0.41 &    1864200 & 20.83 & 27.64 & 22.93 & 30.43 & 1.41 & 1.01 & gaussian & TRUE & 2 & 1 & 1.0\\\\\n",
       "\t P24928;P24928-2                                                                & U031   & 2.089773e-08 & 6.533725e-04 &  5.60 & 1.06 &  0.08 & 4244200000 & 31.98 & 30.26 & 32.37 & 30.62 & 0.59 & 0.99 & gaussian & TRUE & 3 & 1 & 1.5\\\\\n",
       "\\end{tabular}\n"
      ],
      "text/markdown": [
       "\n",
       "A data.table: 6 × 19\n",
       "\n",
       "| featureID &lt;chr&gt; | sampleID &lt;chr&gt; | pValue &lt;dbl&gt; | padjust &lt;dbl&gt; | zScore &lt;dbl&gt; | fc &lt;dbl&gt; | log2fc &lt;dbl&gt; | input_value &lt;dbl&gt; | preprocessed_raw &lt;dbl&gt; | preprocessed_expected &lt;dbl&gt; | normalized &lt;dbl&gt; | meanCorrected &lt;dbl&gt; | sd &lt;dbl&gt; | sizefactor &lt;dbl&gt; | pvalDistribution &lt;chr&gt; | aberrant &lt;lgl&gt; | AberrantBySample &lt;int&gt; | AberrantByFeature &lt;int&gt; | padj_rank &lt;dbl&gt; |\n",
       "|---|---|---|---|---|---|---|---|---|---|---|---|---|---|---|---|---|---|---|\n",
       "| P98175-2;P98175                                                                | SN12C  | 3.582025e-10 | 2.244320e-05 | -6.27 | 0.85 | -0.24 |   17657000 | 24.07 | 28.43 | 25.35 | 29.93 | 0.94 | 1.00 | gaussian | TRUE | 4 | 1 | 1.0 |\n",
       "| Q96JM3                                                                         | DU145  | 4.589631e-10 | 2.898043e-05 | -6.23 | 0.81 | -0.30 |    7064000 | 22.75 | 27.93 | 23.55 | 28.91 | 1.12 | 0.99 | gaussian | TRUE | 7 | 1 | 1.0 |\n",
       "| P78347-2;P78347-4;P78347-3;P78347;P78347-5;Q86UP8-4;Q86UP8-2;Q6EKJ0-2;Q86UP8-5 | HCT15  | 1.240254e-09 | 7.842967e-05 | -6.08 | 0.82 | -0.29 |   50830000 | 25.60 | 31.20 | 25.97 | 31.66 | 1.09 | 1.02 | gaussian | TRUE | 8 | 1 | 1.0 |\n",
       "| Q16778;P06899                                                                  | HL60   | 2.462365e-09 | 1.544331e-04 | -5.96 | 0.88 | -0.18 |  241780000 | 27.85 | 31.50 | 28.70 | 32.45 | 0.85 | 1.00 | gaussian | TRUE | 6 | 1 | 1.0 |\n",
       "| Q9Y263                                                                         | SKMEL5 | 2.647038e-09 | 1.652732e-04 | -5.95 | 0.75 | -0.41 |    1864200 | 20.83 | 27.64 | 22.93 | 30.43 | 1.41 | 1.01 | gaussian | TRUE | 2 | 1 | 1.0 |\n",
       "| P24928;P24928-2                                                                | U031   | 2.089773e-08 | 6.533725e-04 |  5.60 | 1.06 |  0.08 | 4244200000 | 31.98 | 30.26 | 32.37 | 30.62 | 0.59 | 0.99 | gaussian | TRUE | 3 | 1 | 1.5 |\n",
       "\n"
      ],
      "text/plain": [
       "  featureID                                                                     \n",
       "1 P98175-2;P98175                                                               \n",
       "2 Q96JM3                                                                        \n",
       "3 P78347-2;P78347-4;P78347-3;P78347;P78347-5;Q86UP8-4;Q86UP8-2;Q6EKJ0-2;Q86UP8-5\n",
       "4 Q16778;P06899                                                                 \n",
       "5 Q9Y263                                                                        \n",
       "6 P24928;P24928-2                                                               \n",
       "  sampleID pValue       padjust      zScore fc   log2fc input_value\n",
       "1 SN12C    3.582025e-10 2.244320e-05 -6.27  0.85 -0.24    17657000 \n",
       "2 DU145    4.589631e-10 2.898043e-05 -6.23  0.81 -0.30     7064000 \n",
       "3 HCT15    1.240254e-09 7.842967e-05 -6.08  0.82 -0.29    50830000 \n",
       "4 HL60     2.462365e-09 1.544331e-04 -5.96  0.88 -0.18   241780000 \n",
       "5 SKMEL5   2.647038e-09 1.652732e-04 -5.95  0.75 -0.41     1864200 \n",
       "6 U031     2.089773e-08 6.533725e-04  5.60  1.06  0.08  4244200000 \n",
       "  preprocessed_raw preprocessed_expected normalized meanCorrected sd  \n",
       "1 24.07            28.43                 25.35      29.93         0.94\n",
       "2 22.75            27.93                 23.55      28.91         1.12\n",
       "3 25.60            31.20                 25.97      31.66         1.09\n",
       "4 27.85            31.50                 28.70      32.45         0.85\n",
       "5 20.83            27.64                 22.93      30.43         1.41\n",
       "6 31.98            30.26                 32.37      30.62         0.59\n",
       "  sizefactor pvalDistribution aberrant AberrantBySample AberrantByFeature\n",
       "1 1.00       gaussian         TRUE     4                1                \n",
       "2 0.99       gaussian         TRUE     7                1                \n",
       "3 1.02       gaussian         TRUE     8                1                \n",
       "4 1.00       gaussian         TRUE     6                1                \n",
       "5 1.01       gaussian         TRUE     2                1                \n",
       "6 0.99       gaussian         TRUE     3                1                \n",
       "  padj_rank\n",
       "1 1.0      \n",
       "2 1.0      \n",
       "3 1.0      \n",
       "4 1.0      \n",
       "5 1.0      \n",
       "6 1.5      "
      ]
     },
     "metadata": {},
     "output_type": "display_data"
    }
   ],
   "source": [
    "training <- fread(\"outrider_res.txt\")\n",
    "training <- training[,-1]\n",
    "training$sampleID <- gsub('_NCI60','',training$sampleID)\n",
    "training <- training[!is.na(training$padjust),]\n",
    "nrow(training)\n",
    "head(training)"
   ]
  },
  {
   "cell_type": "code",
   "execution_count": 10,
   "id": "7c904a92",
   "metadata": {},
   "outputs": [
    {
     "data": {
      "text/html": [
       "<table class=\"dataframe\">\n",
       "<caption>A data.table: 6 × 4</caption>\n",
       "<thead>\n",
       "\t<tr><th scope=col>sampleID</th><th scope=col>featureID</th><th scope=col>padjust</th><th scope=col>rare</th></tr>\n",
       "\t<tr><th scope=col>&lt;chr&gt;</th><th scope=col>&lt;chr&gt;</th><th scope=col>&lt;dbl&gt;</th><th scope=col>&lt;dbl&gt;</th></tr>\n",
       "</thead>\n",
       "<tbody>\n",
       "\t<tr><td>A498</td><td>A2RRD8                               </td><td>NA</td><td>1</td></tr>\n",
       "\t<tr><td>A498</td><td>A2RUS2-2;A2RUS2;A2RUS2-3             </td><td>NA</td><td>1</td></tr>\n",
       "\t<tr><td>A498</td><td>A6NFY7                               </td><td>NA</td><td>1</td></tr>\n",
       "\t<tr><td>A498</td><td>A6NKF1;A6NKF1-2                      </td><td>NA</td><td>1</td></tr>\n",
       "\t<tr><td>A498</td><td>A7E2Y1-3                             </td><td>NA</td><td>1</td></tr>\n",
       "\t<tr><td>A498</td><td>CON__P13645;P13645;CON__Q7Z3Z0;Q7Z3Z0</td><td>NA</td><td>1</td></tr>\n",
       "</tbody>\n",
       "</table>\n"
      ],
      "text/latex": [
       "A data.table: 6 × 4\n",
       "\\begin{tabular}{llll}\n",
       " sampleID & featureID & padjust & rare\\\\\n",
       " <chr> & <chr> & <dbl> & <dbl>\\\\\n",
       "\\hline\n",
       "\t A498 & A2RRD8                                & NA & 1\\\\\n",
       "\t A498 & A2RUS2-2;A2RUS2;A2RUS2-3              & NA & 1\\\\\n",
       "\t A498 & A6NFY7                                & NA & 1\\\\\n",
       "\t A498 & A6NKF1;A6NKF1-2                       & NA & 1\\\\\n",
       "\t A498 & A7E2Y1-3                              & NA & 1\\\\\n",
       "\t A498 & CON\\_\\_P13645;P13645;CON\\_\\_Q7Z3Z0;Q7Z3Z0 & NA & 1\\\\\n",
       "\\end{tabular}\n"
      ],
      "text/markdown": [
       "\n",
       "A data.table: 6 × 4\n",
       "\n",
       "| sampleID &lt;chr&gt; | featureID &lt;chr&gt; | padjust &lt;dbl&gt; | rare &lt;dbl&gt; |\n",
       "|---|---|---|---|\n",
       "| A498 | A2RRD8                                | NA | 1 |\n",
       "| A498 | A2RUS2-2;A2RUS2;A2RUS2-3              | NA | 1 |\n",
       "| A498 | A6NFY7                                | NA | 1 |\n",
       "| A498 | A6NKF1;A6NKF1-2                       | NA | 1 |\n",
       "| A498 | A7E2Y1-3                              | NA | 1 |\n",
       "| A498 | CON__P13645;P13645;CON__Q7Z3Z0;Q7Z3Z0 | NA | 1 |\n",
       "\n"
      ],
      "text/plain": [
       "  sampleID featureID                             padjust rare\n",
       "1 A498     A2RRD8                                NA      1   \n",
       "2 A498     A2RUS2-2;A2RUS2;A2RUS2-3              NA      1   \n",
       "3 A498     A6NFY7                                NA      1   \n",
       "4 A498     A6NKF1;A6NKF1-2                       NA      1   \n",
       "5 A498     A7E2Y1-3                              NA      1   \n",
       "6 A498     CON__P13645;P13645;CON__Q7Z3Z0;Q7Z3Z0 NA      1   "
      ]
     },
     "metadata": {},
     "output_type": "display_data"
    }
   ],
   "source": [
    "res1 <- merge(training[,c(1,2,4)], prot_samp_withRare, by = c('sampleID', 'featureID'), all=TRUE)\n",
    "head(res1[is.na(res1$padjust),])"
   ]
  },
  {
   "cell_type": "code",
   "execution_count": 11,
   "id": "5828a051",
   "metadata": {},
   "outputs": [
    {
     "data": {
      "text/html": [
       "<table class=\"dataframe\">\n",
       "<caption>A data.table: 6 × 4</caption>\n",
       "<thead>\n",
       "\t<tr><th scope=col>sampleID</th><th scope=col>featureID</th><th scope=col>padjust</th><th scope=col>rare</th></tr>\n",
       "\t<tr><th scope=col>&lt;chr&gt;</th><th scope=col>&lt;chr&gt;</th><th scope=col>&lt;dbl&gt;</th><th scope=col>&lt;dbl&gt;</th></tr>\n",
       "</thead>\n",
       "<tbody>\n",
       "\t<tr><td>A498</td><td>A5YKK6;A5YKK6-2;A5YKK6-3;A5YKK6-4</td><td>1</td><td>1</td></tr>\n",
       "\t<tr><td>A498</td><td>A7E2Y1                           </td><td>1</td><td>1</td></tr>\n",
       "\t<tr><td>A498</td><td>CON__Q2M2I5;Q2M2I5               </td><td>1</td><td>1</td></tr>\n",
       "\t<tr><td>A498</td><td>O00170                           </td><td>1</td><td>1</td></tr>\n",
       "\t<tr><td>A498</td><td>O00418                           </td><td>1</td><td>1</td></tr>\n",
       "\t<tr><td>A498</td><td>O00472;O00472-2                  </td><td>1</td><td>1</td></tr>\n",
       "</tbody>\n",
       "</table>\n"
      ],
      "text/latex": [
       "A data.table: 6 × 4\n",
       "\\begin{tabular}{llll}\n",
       " sampleID & featureID & padjust & rare\\\\\n",
       " <chr> & <chr> & <dbl> & <dbl>\\\\\n",
       "\\hline\n",
       "\t A498 & A5YKK6;A5YKK6-2;A5YKK6-3;A5YKK6-4 & 1 & 1\\\\\n",
       "\t A498 & A7E2Y1                            & 1 & 1\\\\\n",
       "\t A498 & CON\\_\\_Q2M2I5;Q2M2I5                & 1 & 1\\\\\n",
       "\t A498 & O00170                            & 1 & 1\\\\\n",
       "\t A498 & O00418                            & 1 & 1\\\\\n",
       "\t A498 & O00472;O00472-2                   & 1 & 1\\\\\n",
       "\\end{tabular}\n"
      ],
      "text/markdown": [
       "\n",
       "A data.table: 6 × 4\n",
       "\n",
       "| sampleID &lt;chr&gt; | featureID &lt;chr&gt; | padjust &lt;dbl&gt; | rare &lt;dbl&gt; |\n",
       "|---|---|---|---|\n",
       "| A498 | A5YKK6;A5YKK6-2;A5YKK6-3;A5YKK6-4 | 1 | 1 |\n",
       "| A498 | A7E2Y1                            | 1 | 1 |\n",
       "| A498 | CON__Q2M2I5;Q2M2I5                | 1 | 1 |\n",
       "| A498 | O00170                            | 1 | 1 |\n",
       "| A498 | O00418                            | 1 | 1 |\n",
       "| A498 | O00472;O00472-2                   | 1 | 1 |\n",
       "\n"
      ],
      "text/plain": [
       "  sampleID featureID                         padjust rare\n",
       "1 A498     A5YKK6;A5YKK6-2;A5YKK6-3;A5YKK6-4 1       1   \n",
       "2 A498     A7E2Y1                            1       1   \n",
       "3 A498     CON__Q2M2I5;Q2M2I5                1       1   \n",
       "4 A498     O00170                            1       1   \n",
       "5 A498     O00418                            1       1   \n",
       "6 A498     O00472;O00472-2                   1       1   "
      ]
     },
     "metadata": {},
     "output_type": "display_data"
    }
   ],
   "source": [
    "res <- merge(training[,c(1,2,4)], prot_samp_withRare, by = c('sampleID', 'featureID'), all.x=TRUE)\n",
    "res[is.na(res$rare)]$rare <- 0\n",
    "res <- res[order(-padjust, -rare),]\n",
    "head(res)"
   ]
  },
  {
   "cell_type": "code",
   "execution_count": 12,
   "id": "eaefcd95",
   "metadata": {},
   "outputs": [
    {
     "data": {
      "text/html": [
       "397026"
      ],
      "text/latex": [
       "397026"
      ],
      "text/markdown": [
       "397026"
      ],
      "text/plain": [
       "[1] 397026"
      ]
     },
     "metadata": {},
     "output_type": "display_data"
    }
   ],
   "source": [
    "nrow(res)"
   ]
  },
  {
   "cell_type": "code",
   "execution_count": 13,
   "id": "96d3cd81",
   "metadata": {},
   "outputs": [
    {
     "data": {
      "text/html": [
       "<table class=\"dataframe\">\n",
       "<caption>A data.table: 6 × 7</caption>\n",
       "<thead>\n",
       "\t<tr><th scope=col>sampleID</th><th scope=col>featureID</th><th scope=col>padjust</th><th scope=col>rare</th><th scope=col>cumsum</th><th scope=col>rank</th><th scope=col>proportion</th></tr>\n",
       "\t<tr><th scope=col>&lt;chr&gt;</th><th scope=col>&lt;chr&gt;</th><th scope=col>&lt;dbl&gt;</th><th scope=col>&lt;dbl&gt;</th><th scope=col>&lt;dbl&gt;</th><th scope=col>&lt;int&gt;</th><th scope=col>&lt;dbl&gt;</th></tr>\n",
       "</thead>\n",
       "<tbody>\n",
       "\t<tr><td>A498</td><td>A5YKK6;A5YKK6-2;A5YKK6-3;A5YKK6-4</td><td>1</td><td>1</td><td>1</td><td>1</td><td>1</td></tr>\n",
       "\t<tr><td>A498</td><td>A7E2Y1                           </td><td>1</td><td>1</td><td>2</td><td>2</td><td>1</td></tr>\n",
       "\t<tr><td>A498</td><td>CON__Q2M2I5;Q2M2I5               </td><td>1</td><td>1</td><td>3</td><td>3</td><td>1</td></tr>\n",
       "\t<tr><td>A498</td><td>O00170                           </td><td>1</td><td>1</td><td>4</td><td>4</td><td>1</td></tr>\n",
       "\t<tr><td>A498</td><td>O00418                           </td><td>1</td><td>1</td><td>5</td><td>5</td><td>1</td></tr>\n",
       "\t<tr><td>A498</td><td>O00472;O00472-2                  </td><td>1</td><td>1</td><td>6</td><td>6</td><td>1</td></tr>\n",
       "</tbody>\n",
       "</table>\n"
      ],
      "text/latex": [
       "A data.table: 6 × 7\n",
       "\\begin{tabular}{lllllll}\n",
       " sampleID & featureID & padjust & rare & cumsum & rank & proportion\\\\\n",
       " <chr> & <chr> & <dbl> & <dbl> & <dbl> & <int> & <dbl>\\\\\n",
       "\\hline\n",
       "\t A498 & A5YKK6;A5YKK6-2;A5YKK6-3;A5YKK6-4 & 1 & 1 & 1 & 1 & 1\\\\\n",
       "\t A498 & A7E2Y1                            & 1 & 1 & 2 & 2 & 1\\\\\n",
       "\t A498 & CON\\_\\_Q2M2I5;Q2M2I5                & 1 & 1 & 3 & 3 & 1\\\\\n",
       "\t A498 & O00170                            & 1 & 1 & 4 & 4 & 1\\\\\n",
       "\t A498 & O00418                            & 1 & 1 & 5 & 5 & 1\\\\\n",
       "\t A498 & O00472;O00472-2                   & 1 & 1 & 6 & 6 & 1\\\\\n",
       "\\end{tabular}\n"
      ],
      "text/markdown": [
       "\n",
       "A data.table: 6 × 7\n",
       "\n",
       "| sampleID &lt;chr&gt; | featureID &lt;chr&gt; | padjust &lt;dbl&gt; | rare &lt;dbl&gt; | cumsum &lt;dbl&gt; | rank &lt;int&gt; | proportion &lt;dbl&gt; |\n",
       "|---|---|---|---|---|---|---|\n",
       "| A498 | A5YKK6;A5YKK6-2;A5YKK6-3;A5YKK6-4 | 1 | 1 | 1 | 1 | 1 |\n",
       "| A498 | A7E2Y1                            | 1 | 1 | 2 | 2 | 1 |\n",
       "| A498 | CON__Q2M2I5;Q2M2I5                | 1 | 1 | 3 | 3 | 1 |\n",
       "| A498 | O00170                            | 1 | 1 | 4 | 4 | 1 |\n",
       "| A498 | O00418                            | 1 | 1 | 5 | 5 | 1 |\n",
       "| A498 | O00472;O00472-2                   | 1 | 1 | 6 | 6 | 1 |\n",
       "\n"
      ],
      "text/plain": [
       "  sampleID featureID                         padjust rare cumsum rank\n",
       "1 A498     A5YKK6;A5YKK6-2;A5YKK6-3;A5YKK6-4 1       1    1      1   \n",
       "2 A498     A7E2Y1                            1       1    2      2   \n",
       "3 A498     CON__Q2M2I5;Q2M2I5                1       1    3      3   \n",
       "4 A498     O00170                            1       1    4      4   \n",
       "5 A498     O00418                            1       1    5      5   \n",
       "6 A498     O00472;O00472-2                   1       1    6      6   \n",
       "  proportion\n",
       "1 1         \n",
       "2 1         \n",
       "3 1         \n",
       "4 1         \n",
       "5 1         \n",
       "6 1         "
      ]
     },
     "metadata": {},
     "output_type": "display_data"
    }
   ],
   "source": [
    "res$cumsum <- cumsum(res$rare)\n",
    "res$rank = 1:nrow(res)\n",
    "res$proportion <- res$cumsum/res$rank\n",
    "head(res)"
   ]
  },
  {
   "cell_type": "code",
   "execution_count": 14,
   "id": "19728906",
   "metadata": {},
   "outputs": [
    {
     "data": {
      "text/html": [
       "19749"
      ],
      "text/latex": [
       "19749"
      ],
      "text/markdown": [
       "19749"
      ],
      "text/plain": [
       "[1] 19749"
      ]
     },
     "metadata": {},
     "output_type": "display_data"
    }
   ],
   "source": [
    "max(res$cumsum)"
   ]
  },
  {
   "cell_type": "code",
   "execution_count": 15,
   "id": "33c42be0",
   "metadata": {},
   "outputs": [
    {
     "data": {
      "image/png": "[encoded data removed]",
      "text/plain": [
       "plot without title"
      ]
     },
     "metadata": {
      "image/png": {
       "height": 420,
       "width": 420
      }
     },
     "output_type": "display_data"
    }
   ],
   "source": [
    "ggplot(res, aes(x = rank, y = proportion)) + geom_line() + geom_point()"
   ]
  },
  {
   "cell_type": "code",
   "execution_count": 16,
   "id": "5a4fa82b",
   "metadata": {},
   "outputs": [
    {
     "data": {
      "text/html": [
       "<table class=\"dataframe\">\n",
       "<caption>A data.table: 6 × 6</caption>\n",
       "<thead>\n",
       "\t<tr><th scope=col>featureID</th><th scope=col>sampleID</th><th scope=col>protein_intensity</th><th scope=col>measured</th><th scope=col>predprob</th><th scope=col>missing</th></tr>\n",
       "\t<tr><th scope=col>&lt;chr&gt;</th><th scope=col>&lt;chr&gt;</th><th scope=col>&lt;dbl&gt;</th><th scope=col>&lt;int&gt;</th><th scope=col>&lt;dbl&gt;</th><th scope=col>&lt;dbl&gt;</th></tr>\n",
       "</thead>\n",
       "<tbody>\n",
       "\t<tr><td>A0AV96;A0AV96-2</td><td>X786O</td><td>26.95893</td><td>1</td><td>0.97</td><td>0.03</td></tr>\n",
       "\t<tr><td>A0AV96;A0AV96-2</td><td>A498 </td><td>28.67702</td><td>1</td><td>0.99</td><td>0.01</td></tr>\n",
       "\t<tr><td>A0AV96;A0AV96-2</td><td>A549 </td><td>29.12149</td><td>1</td><td>0.99</td><td>0.01</td></tr>\n",
       "\t<tr><td>A0AV96;A0AV96-2</td><td>ACHN </td><td>29.22591</td><td>1</td><td>0.99</td><td>0.01</td></tr>\n",
       "\t<tr><td>A0AV96;A0AV96-2</td><td>BT549</td><td>24.08905</td><td>1</td><td>0.86</td><td>0.14</td></tr>\n",
       "\t<tr><td>A0AV96;A0AV96-2</td><td>CAKI1</td><td>27.47051</td><td>1</td><td>0.98</td><td>0.02</td></tr>\n",
       "</tbody>\n",
       "</table>\n"
      ],
      "text/latex": [
       "A data.table: 6 × 6\n",
       "\\begin{tabular}{llllll}\n",
       " featureID & sampleID & protein\\_intensity & measured & predprob & missing\\\\\n",
       " <chr> & <chr> & <dbl> & <int> & <dbl> & <dbl>\\\\\n",
       "\\hline\n",
       "\t A0AV96;A0AV96-2 & X786O & 26.95893 & 1 & 0.97 & 0.03\\\\\n",
       "\t A0AV96;A0AV96-2 & A498  & 28.67702 & 1 & 0.99 & 0.01\\\\\n",
       "\t A0AV96;A0AV96-2 & A549  & 29.12149 & 1 & 0.99 & 0.01\\\\\n",
       "\t A0AV96;A0AV96-2 & ACHN  & 29.22591 & 1 & 0.99 & 0.01\\\\\n",
       "\t A0AV96;A0AV96-2 & BT549 & 24.08905 & 1 & 0.86 & 0.14\\\\\n",
       "\t A0AV96;A0AV96-2 & CAKI1 & 27.47051 & 1 & 0.98 & 0.02\\\\\n",
       "\\end{tabular}\n"
      ],
      "text/markdown": [
       "\n",
       "A data.table: 6 × 6\n",
       "\n",
       "| featureID &lt;chr&gt; | sampleID &lt;chr&gt; | protein_intensity &lt;dbl&gt; | measured &lt;int&gt; | predprob &lt;dbl&gt; | missing &lt;dbl&gt; |\n",
       "|---|---|---|---|---|---|\n",
       "| A0AV96;A0AV96-2 | X786O | 26.95893 | 1 | 0.97 | 0.03 |\n",
       "| A0AV96;A0AV96-2 | A498  | 28.67702 | 1 | 0.99 | 0.01 |\n",
       "| A0AV96;A0AV96-2 | A549  | 29.12149 | 1 | 0.99 | 0.01 |\n",
       "| A0AV96;A0AV96-2 | ACHN  | 29.22591 | 1 | 0.99 | 0.01 |\n",
       "| A0AV96;A0AV96-2 | BT549 | 24.08905 | 1 | 0.86 | 0.14 |\n",
       "| A0AV96;A0AV96-2 | CAKI1 | 27.47051 | 1 | 0.98 | 0.02 |\n",
       "\n"
      ],
      "text/plain": [
       "  featureID       sampleID protein_intensity measured predprob missing\n",
       "1 A0AV96;A0AV96-2 X786O    26.95893          1        0.97     0.03   \n",
       "2 A0AV96;A0AV96-2 A498     28.67702          1        0.99     0.01   \n",
       "3 A0AV96;A0AV96-2 A549     29.12149          1        0.99     0.01   \n",
       "4 A0AV96;A0AV96-2 ACHN     29.22591          1        0.99     0.01   \n",
       "5 A0AV96;A0AV96-2 BT549    24.08905          1        0.86     0.14   \n",
       "6 A0AV96;A0AV96-2 CAKI1    27.47051          1        0.98     0.02   "
      ]
     },
     "metadata": {},
     "output_type": "display_data"
    }
   ],
   "source": [
    "missing_pred <- fread('missing_pred.csv')\n",
    "missing_pred$sampleID <- gsub(\"_NCI60\",\"\",missing_pred$sampleID)\n",
    "head(missing_pred)"
   ]
  },
  {
   "cell_type": "code",
   "execution_count": 17,
   "id": "3c6f8b15",
   "metadata": {},
   "outputs": [
    {
     "data": {
      "text/html": [
       "<table class=\"dataframe\">\n",
       "<caption>A data.table: 6 × 7</caption>\n",
       "<thead>\n",
       "\t<tr><th scope=col>sampleID</th><th scope=col>featureID</th><th scope=col>protein_intensity</th><th scope=col>measured</th><th scope=col>predprob</th><th scope=col>missing</th><th scope=col>rare</th></tr>\n",
       "\t<tr><th scope=col>&lt;chr&gt;</th><th scope=col>&lt;chr&gt;</th><th scope=col>&lt;dbl&gt;</th><th scope=col>&lt;int&gt;</th><th scope=col>&lt;dbl&gt;</th><th scope=col>&lt;dbl&gt;</th><th scope=col>&lt;dbl&gt;</th></tr>\n",
       "</thead>\n",
       "<tbody>\n",
       "\t<tr><td>A498</td><td>A2RRD8                               </td><td>NA</td><td>NA</td><td>NA</td><td>NA</td><td>1</td></tr>\n",
       "\t<tr><td>A498</td><td>A2RUS2-2;A2RUS2;A2RUS2-3             </td><td>NA</td><td>NA</td><td>NA</td><td>NA</td><td>1</td></tr>\n",
       "\t<tr><td>A498</td><td>A6NFY7                               </td><td>NA</td><td>NA</td><td>NA</td><td>NA</td><td>1</td></tr>\n",
       "\t<tr><td>A498</td><td>A6NKF1;A6NKF1-2                      </td><td>NA</td><td>NA</td><td>NA</td><td>NA</td><td>1</td></tr>\n",
       "\t<tr><td>A498</td><td>A7E2Y1-3                             </td><td>NA</td><td>NA</td><td>NA</td><td>NA</td><td>1</td></tr>\n",
       "\t<tr><td>A498</td><td>CON__P13645;P13645;CON__Q7Z3Z0;Q7Z3Z0</td><td>NA</td><td>NA</td><td>NA</td><td>NA</td><td>1</td></tr>\n",
       "</tbody>\n",
       "</table>\n"
      ],
      "text/latex": [
       "A data.table: 6 × 7\n",
       "\\begin{tabular}{lllllll}\n",
       " sampleID & featureID & protein\\_intensity & measured & predprob & missing & rare\\\\\n",
       " <chr> & <chr> & <dbl> & <int> & <dbl> & <dbl> & <dbl>\\\\\n",
       "\\hline\n",
       "\t A498 & A2RRD8                                & NA & NA & NA & NA & 1\\\\\n",
       "\t A498 & A2RUS2-2;A2RUS2;A2RUS2-3              & NA & NA & NA & NA & 1\\\\\n",
       "\t A498 & A6NFY7                                & NA & NA & NA & NA & 1\\\\\n",
       "\t A498 & A6NKF1;A6NKF1-2                       & NA & NA & NA & NA & 1\\\\\n",
       "\t A498 & A7E2Y1-3                              & NA & NA & NA & NA & 1\\\\\n",
       "\t A498 & CON\\_\\_P13645;P13645;CON\\_\\_Q7Z3Z0;Q7Z3Z0 & NA & NA & NA & NA & 1\\\\\n",
       "\\end{tabular}\n"
      ],
      "text/markdown": [
       "\n",
       "A data.table: 6 × 7\n",
       "\n",
       "| sampleID &lt;chr&gt; | featureID &lt;chr&gt; | protein_intensity &lt;dbl&gt; | measured &lt;int&gt; | predprob &lt;dbl&gt; | missing &lt;dbl&gt; | rare &lt;dbl&gt; |\n",
       "|---|---|---|---|---|---|---|\n",
       "| A498 | A2RRD8                                | NA | NA | NA | NA | 1 |\n",
       "| A498 | A2RUS2-2;A2RUS2;A2RUS2-3              | NA | NA | NA | NA | 1 |\n",
       "| A498 | A6NFY7                                | NA | NA | NA | NA | 1 |\n",
       "| A498 | A6NKF1;A6NKF1-2                       | NA | NA | NA | NA | 1 |\n",
       "| A498 | A7E2Y1-3                              | NA | NA | NA | NA | 1 |\n",
       "| A498 | CON__P13645;P13645;CON__Q7Z3Z0;Q7Z3Z0 | NA | NA | NA | NA | 1 |\n",
       "\n"
      ],
      "text/plain": [
       "  sampleID featureID                             protein_intensity measured\n",
       "1 A498     A2RRD8                                NA                NA      \n",
       "2 A498     A2RUS2-2;A2RUS2;A2RUS2-3              NA                NA      \n",
       "3 A498     A6NFY7                                NA                NA      \n",
       "4 A498     A6NKF1;A6NKF1-2                       NA                NA      \n",
       "5 A498     A7E2Y1-3                              NA                NA      \n",
       "6 A498     CON__P13645;P13645;CON__Q7Z3Z0;Q7Z3Z0 NA                NA      \n",
       "  predprob missing rare\n",
       "1 NA       NA      1   \n",
       "2 NA       NA      1   \n",
       "3 NA       NA      1   \n",
       "4 NA       NA      1   \n",
       "5 NA       NA      1   \n",
       "6 NA       NA      1   "
      ]
     },
     "metadata": {},
     "output_type": "display_data"
    }
   ],
   "source": [
    "res2 <- merge(missing_pred, prot_samp_withRare, by = c('sampleID', 'featureID'), all=TRUE)\n",
    "head(res2[is.na(res2$missing),])"
   ]
  },
  {
   "cell_type": "code",
   "execution_count": 18,
   "id": "7420492e",
   "metadata": {},
   "outputs": [
    {
     "data": {
      "text/html": [
       "<table class=\"dataframe\">\n",
       "<caption>A data.table: 6 × 7</caption>\n",
       "<thead>\n",
       "\t<tr><th scope=col>sampleID</th><th scope=col>featureID</th><th scope=col>protein_intensity</th><th scope=col>measured</th><th scope=col>predprob</th><th scope=col>missing</th><th scope=col>rare</th></tr>\n",
       "\t<tr><th scope=col>&lt;chr&gt;</th><th scope=col>&lt;chr&gt;</th><th scope=col>&lt;dbl&gt;</th><th scope=col>&lt;int&gt;</th><th scope=col>&lt;dbl&gt;</th><th scope=col>&lt;dbl&gt;</th><th scope=col>&lt;dbl&gt;</th></tr>\n",
       "</thead>\n",
       "<tbody>\n",
       "\t<tr><td>A498</td><td>A5YKK6;A5YKK6-2;A5YKK6-3;A5YKK6-4                                                                                                                             </td><td>30.81444</td><td>1</td><td>1</td><td>0</td><td>1</td></tr>\n",
       "\t<tr><td>A498</td><td>O00170                                                                                                                                                        </td><td>30.66231</td><td>1</td><td>1</td><td>0</td><td>1</td></tr>\n",
       "\t<tr><td>A498</td><td>O14828;O14828-2                                                                                                                                               </td><td>29.53749</td><td>1</td><td>1</td><td>0</td><td>1</td></tr>\n",
       "\t<tr><td>A498</td><td>O75150;O75150-4;O75150-3                                                                                                                                      </td><td>30.30150</td><td>1</td><td>1</td><td>0</td><td>1</td></tr>\n",
       "\t<tr><td>A498</td><td>P02751;P02751-8;P02751-3;P02751-15;P02751-14;P02751-17;P02751-7;P02751-9;P02751-11;P02751-5;P02751-10;P02751-6;P02751-13;P02751-12;P02751-4;P02751-16;P02751-2</td><td>30.93493</td><td>1</td><td>1</td><td>0</td><td>1</td></tr>\n",
       "\t<tr><td>A498</td><td>P11940;P11940-2;Q4VXU2;Q4VXU2-2                                                                                                                               </td><td>33.76398</td><td>1</td><td>1</td><td>0</td><td>1</td></tr>\n",
       "</tbody>\n",
       "</table>\n"
      ],
      "text/latex": [
       "A data.table: 6 × 7\n",
       "\\begin{tabular}{lllllll}\n",
       " sampleID & featureID & protein\\_intensity & measured & predprob & missing & rare\\\\\n",
       " <chr> & <chr> & <dbl> & <int> & <dbl> & <dbl> & <dbl>\\\\\n",
       "\\hline\n",
       "\t A498 & A5YKK6;A5YKK6-2;A5YKK6-3;A5YKK6-4                                                                                                                              & 30.81444 & 1 & 1 & 0 & 1\\\\\n",
       "\t A498 & O00170                                                                                                                                                         & 30.66231 & 1 & 1 & 0 & 1\\\\\n",
       "\t A498 & O14828;O14828-2                                                                                                                                                & 29.53749 & 1 & 1 & 0 & 1\\\\\n",
       "\t A498 & O75150;O75150-4;O75150-3                                                                                                                                       & 30.30150 & 1 & 1 & 0 & 1\\\\\n",
       "\t A498 & P02751;P02751-8;P02751-3;P02751-15;P02751-14;P02751-17;P02751-7;P02751-9;P02751-11;P02751-5;P02751-10;P02751-6;P02751-13;P02751-12;P02751-4;P02751-16;P02751-2 & 30.93493 & 1 & 1 & 0 & 1\\\\\n",
       "\t A498 & P11940;P11940-2;Q4VXU2;Q4VXU2-2                                                                                                                                & 33.76398 & 1 & 1 & 0 & 1\\\\\n",
       "\\end{tabular}\n"
      ],
      "text/markdown": [
       "\n",
       "A data.table: 6 × 7\n",
       "\n",
       "| sampleID &lt;chr&gt; | featureID &lt;chr&gt; | protein_intensity &lt;dbl&gt; | measured &lt;int&gt; | predprob &lt;dbl&gt; | missing &lt;dbl&gt; | rare &lt;dbl&gt; |\n",
       "|---|---|---|---|---|---|---|\n",
       "| A498 | A5YKK6;A5YKK6-2;A5YKK6-3;A5YKK6-4                                                                                                                              | 30.81444 | 1 | 1 | 0 | 1 |\n",
       "| A498 | O00170                                                                                                                                                         | 30.66231 | 1 | 1 | 0 | 1 |\n",
       "| A498 | O14828;O14828-2                                                                                                                                                | 29.53749 | 1 | 1 | 0 | 1 |\n",
       "| A498 | O75150;O75150-4;O75150-3                                                                                                                                       | 30.30150 | 1 | 1 | 0 | 1 |\n",
       "| A498 | P02751;P02751-8;P02751-3;P02751-15;P02751-14;P02751-17;P02751-7;P02751-9;P02751-11;P02751-5;P02751-10;P02751-6;P02751-13;P02751-12;P02751-4;P02751-16;P02751-2 | 30.93493 | 1 | 1 | 0 | 1 |\n",
       "| A498 | P11940;P11940-2;Q4VXU2;Q4VXU2-2                                                                                                                                | 33.76398 | 1 | 1 | 0 | 1 |\n",
       "\n"
      ],
      "text/plain": [
       "  sampleID\n",
       "1 A498    \n",
       "2 A498    \n",
       "3 A498    \n",
       "4 A498    \n",
       "5 A498    \n",
       "6 A498    \n",
       "  featureID                                                                                                                                                     \n",
       "1 A5YKK6;A5YKK6-2;A5YKK6-3;A5YKK6-4                                                                                                                             \n",
       "2 O00170                                                                                                                                                        \n",
       "3 O14828;O14828-2                                                                                                                                               \n",
       "4 O75150;O75150-4;O75150-3                                                                                                                                      \n",
       "5 P02751;P02751-8;P02751-3;P02751-15;P02751-14;P02751-17;P02751-7;P02751-9;P02751-11;P02751-5;P02751-10;P02751-6;P02751-13;P02751-12;P02751-4;P02751-16;P02751-2\n",
       "6 P11940;P11940-2;Q4VXU2;Q4VXU2-2                                                                                                                               \n",
       "  protein_intensity measured predprob missing rare\n",
       "1 30.81444          1        1        0       1   \n",
       "2 30.66231          1        1        0       1   \n",
       "3 29.53749          1        1        0       1   \n",
       "4 30.30150          1        1        0       1   \n",
       "5 30.93493          1        1        0       1   \n",
       "6 33.76398          1        1        0       1   "
      ]
     },
     "metadata": {},
     "output_type": "display_data"
    }
   ],
   "source": [
    "res_impute <- merge(missing_pred, prot_samp_withRare, by = c('sampleID', 'featureID'), all.x=TRUE)\n",
    "res_impute[is.na(res_impute$rare)]$rare <- 0\n",
    "res_impute <- res_impute[order(missing, -rare),]\n",
    "head(res_impute)"
   ]
  },
  {
   "cell_type": "code",
   "execution_count": 19,
   "id": "163234ce",
   "metadata": {},
   "outputs": [
    {
     "data": {
      "text/html": [
       "<table class=\"dataframe\">\n",
       "<caption>A data.table: 6 × 10</caption>\n",
       "<thead>\n",
       "\t<tr><th scope=col>sampleID</th><th scope=col>featureID</th><th scope=col>protein_intensity</th><th scope=col>measured</th><th scope=col>predprob</th><th scope=col>missing</th><th scope=col>rare</th><th scope=col>cumsum</th><th scope=col>rank</th><th scope=col>proportion</th></tr>\n",
       "\t<tr><th scope=col>&lt;chr&gt;</th><th scope=col>&lt;chr&gt;</th><th scope=col>&lt;dbl&gt;</th><th scope=col>&lt;int&gt;</th><th scope=col>&lt;dbl&gt;</th><th scope=col>&lt;dbl&gt;</th><th scope=col>&lt;dbl&gt;</th><th scope=col>&lt;dbl&gt;</th><th scope=col>&lt;int&gt;</th><th scope=col>&lt;dbl&gt;</th></tr>\n",
       "</thead>\n",
       "<tbody>\n",
       "\t<tr><td>A498</td><td>A5YKK6;A5YKK6-2;A5YKK6-3;A5YKK6-4                                                                                                                             </td><td>30.81444</td><td>1</td><td>1</td><td>0</td><td>1</td><td>1</td><td>1</td><td>1</td></tr>\n",
       "\t<tr><td>A498</td><td>O00170                                                                                                                                                        </td><td>30.66231</td><td>1</td><td>1</td><td>0</td><td>1</td><td>2</td><td>2</td><td>1</td></tr>\n",
       "\t<tr><td>A498</td><td>O14828;O14828-2                                                                                                                                               </td><td>29.53749</td><td>1</td><td>1</td><td>0</td><td>1</td><td>3</td><td>3</td><td>1</td></tr>\n",
       "\t<tr><td>A498</td><td>O75150;O75150-4;O75150-3                                                                                                                                      </td><td>30.30150</td><td>1</td><td>1</td><td>0</td><td>1</td><td>4</td><td>4</td><td>1</td></tr>\n",
       "\t<tr><td>A498</td><td>P02751;P02751-8;P02751-3;P02751-15;P02751-14;P02751-17;P02751-7;P02751-9;P02751-11;P02751-5;P02751-10;P02751-6;P02751-13;P02751-12;P02751-4;P02751-16;P02751-2</td><td>30.93493</td><td>1</td><td>1</td><td>0</td><td>1</td><td>5</td><td>5</td><td>1</td></tr>\n",
       "\t<tr><td>A498</td><td>P11940;P11940-2;Q4VXU2;Q4VXU2-2                                                                                                                               </td><td>33.76398</td><td>1</td><td>1</td><td>0</td><td>1</td><td>6</td><td>6</td><td>1</td></tr>\n",
       "</tbody>\n",
       "</table>\n"
      ],
      "text/latex": [
       "A data.table: 6 × 10\n",
       "\\begin{tabular}{llllllllll}\n",
       " sampleID & featureID & protein\\_intensity & measured & predprob & missing & rare & cumsum & rank & proportion\\\\\n",
       " <chr> & <chr> & <dbl> & <int> & <dbl> & <dbl> & <dbl> & <dbl> & <int> & <dbl>\\\\\n",
       "\\hline\n",
       "\t A498 & A5YKK6;A5YKK6-2;A5YKK6-3;A5YKK6-4                                                                                                                              & 30.81444 & 1 & 1 & 0 & 1 & 1 & 1 & 1\\\\\n",
       "\t A498 & O00170                                                                                                                                                         & 30.66231 & 1 & 1 & 0 & 1 & 2 & 2 & 1\\\\\n",
       "\t A498 & O14828;O14828-2                                                                                                                                                & 29.53749 & 1 & 1 & 0 & 1 & 3 & 3 & 1\\\\\n",
       "\t A498 & O75150;O75150-4;O75150-3                                                                                                                                       & 30.30150 & 1 & 1 & 0 & 1 & 4 & 4 & 1\\\\\n",
       "\t A498 & P02751;P02751-8;P02751-3;P02751-15;P02751-14;P02751-17;P02751-7;P02751-9;P02751-11;P02751-5;P02751-10;P02751-6;P02751-13;P02751-12;P02751-4;P02751-16;P02751-2 & 30.93493 & 1 & 1 & 0 & 1 & 5 & 5 & 1\\\\\n",
       "\t A498 & P11940;P11940-2;Q4VXU2;Q4VXU2-2                                                                                                                                & 33.76398 & 1 & 1 & 0 & 1 & 6 & 6 & 1\\\\\n",
       "\\end{tabular}\n"
      ],
      "text/markdown": [
       "\n",
       "A data.table: 6 × 10\n",
       "\n",
       "| sampleID &lt;chr&gt; | featureID &lt;chr&gt; | protein_intensity &lt;dbl&gt; | measured &lt;int&gt; | predprob &lt;dbl&gt; | missing &lt;dbl&gt; | rare &lt;dbl&gt; | cumsum &lt;dbl&gt; | rank &lt;int&gt; | proportion &lt;dbl&gt; |\n",
       "|---|---|---|---|---|---|---|---|---|---|\n",
       "| A498 | A5YKK6;A5YKK6-2;A5YKK6-3;A5YKK6-4                                                                                                                              | 30.81444 | 1 | 1 | 0 | 1 | 1 | 1 | 1 |\n",
       "| A498 | O00170                                                                                                                                                         | 30.66231 | 1 | 1 | 0 | 1 | 2 | 2 | 1 |\n",
       "| A498 | O14828;O14828-2                                                                                                                                                | 29.53749 | 1 | 1 | 0 | 1 | 3 | 3 | 1 |\n",
       "| A498 | O75150;O75150-4;O75150-3                                                                                                                                       | 30.30150 | 1 | 1 | 0 | 1 | 4 | 4 | 1 |\n",
       "| A498 | P02751;P02751-8;P02751-3;P02751-15;P02751-14;P02751-17;P02751-7;P02751-9;P02751-11;P02751-5;P02751-10;P02751-6;P02751-13;P02751-12;P02751-4;P02751-16;P02751-2 | 30.93493 | 1 | 1 | 0 | 1 | 5 | 5 | 1 |\n",
       "| A498 | P11940;P11940-2;Q4VXU2;Q4VXU2-2                                                                                                                                | 33.76398 | 1 | 1 | 0 | 1 | 6 | 6 | 1 |\n",
       "\n"
      ],
      "text/plain": [
       "  sampleID\n",
       "1 A498    \n",
       "2 A498    \n",
       "3 A498    \n",
       "4 A498    \n",
       "5 A498    \n",
       "6 A498    \n",
       "  featureID                                                                                                                                                     \n",
       "1 A5YKK6;A5YKK6-2;A5YKK6-3;A5YKK6-4                                                                                                                             \n",
       "2 O00170                                                                                                                                                        \n",
       "3 O14828;O14828-2                                                                                                                                               \n",
       "4 O75150;O75150-4;O75150-3                                                                                                                                      \n",
       "5 P02751;P02751-8;P02751-3;P02751-15;P02751-14;P02751-17;P02751-7;P02751-9;P02751-11;P02751-5;P02751-10;P02751-6;P02751-13;P02751-12;P02751-4;P02751-16;P02751-2\n",
       "6 P11940;P11940-2;Q4VXU2;Q4VXU2-2                                                                                                                               \n",
       "  protein_intensity measured predprob missing rare cumsum rank proportion\n",
       "1 30.81444          1        1        0       1    1      1    1         \n",
       "2 30.66231          1        1        0       1    2      2    1         \n",
       "3 29.53749          1        1        0       1    3      3    1         \n",
       "4 30.30150          1        1        0       1    4      4    1         \n",
       "5 30.93493          1        1        0       1    5      5    1         \n",
       "6 33.76398          1        1        0       1    6      6    1         "
      ]
     },
     "metadata": {},
     "output_type": "display_data"
    }
   ],
   "source": [
    "res_impute$cumsum <- cumsum(res_impute$rare)\n",
    "res_impute$rank = 1:nrow(res_impute)\n",
    "res_impute$proportion <- res_impute$cumsum/res_impute$rank\n",
    "head(res_impute)"
   ]
  },
  {
   "cell_type": "code",
   "execution_count": 20,
   "id": "6f18b0d8",
   "metadata": {},
   "outputs": [
    {
     "data": {
      "image/png": "[encoded data removed]",
      "text/plain": [
       "plot without title"
      ]
     },
     "metadata": {
      "image/png": {
       "height": 420,
       "width": 420
      }
     },
     "output_type": "display_data"
    }
   ],
   "source": [
    "ggplot(res_impute, aes(rank, y = proportion)) + geom_line() + geom_point()"
   ]
  },
  {
   "cell_type": "code",
   "execution_count": 21,
   "id": "3b984546",
   "metadata": {},
   "outputs": [
    {
     "data": {
      "text/html": [
       "<table class=\"dataframe\">\n",
       "<caption>A data.table: 6 × 3</caption>\n",
       "<thead>\n",
       "\t<tr><th scope=col>rank</th><th scope=col>proportion.x</th><th scope=col>proportion.y</th></tr>\n",
       "\t<tr><th scope=col>&lt;int&gt;</th><th scope=col>&lt;dbl&gt;</th><th scope=col>&lt;dbl&gt;</th></tr>\n",
       "</thead>\n",
       "<tbody>\n",
       "\t<tr><td>1</td><td>1</td><td>1</td></tr>\n",
       "\t<tr><td>2</td><td>1</td><td>1</td></tr>\n",
       "\t<tr><td>3</td><td>1</td><td>1</td></tr>\n",
       "\t<tr><td>4</td><td>1</td><td>1</td></tr>\n",
       "\t<tr><td>5</td><td>1</td><td>1</td></tr>\n",
       "\t<tr><td>6</td><td>1</td><td>1</td></tr>\n",
       "</tbody>\n",
       "</table>\n"
      ],
      "text/latex": [
       "A data.table: 6 × 3\n",
       "\\begin{tabular}{lll}\n",
       " rank & proportion.x & proportion.y\\\\\n",
       " <int> & <dbl> & <dbl>\\\\\n",
       "\\hline\n",
       "\t 1 & 1 & 1\\\\\n",
       "\t 2 & 1 & 1\\\\\n",
       "\t 3 & 1 & 1\\\\\n",
       "\t 4 & 1 & 1\\\\\n",
       "\t 5 & 1 & 1\\\\\n",
       "\t 6 & 1 & 1\\\\\n",
       "\\end{tabular}\n"
      ],
      "text/markdown": [
       "\n",
       "A data.table: 6 × 3\n",
       "\n",
       "| rank &lt;int&gt; | proportion.x &lt;dbl&gt; | proportion.y &lt;dbl&gt; |\n",
       "|---|---|---|\n",
       "| 1 | 1 | 1 |\n",
       "| 2 | 1 | 1 |\n",
       "| 3 | 1 | 1 |\n",
       "| 4 | 1 | 1 |\n",
       "| 5 | 1 | 1 |\n",
       "| 6 | 1 | 1 |\n",
       "\n"
      ],
      "text/plain": [
       "  rank proportion.x proportion.y\n",
       "1 1    1            1           \n",
       "2 2    1            1           \n",
       "3 3    1            1           \n",
       "4 4    1            1           \n",
       "5 5    1            1           \n",
       "6 6    1            1           "
      ]
     },
     "metadata": {},
     "output_type": "display_data"
    }
   ],
   "source": [
    "result <- merge(res[,6:7], res_impute[,9:10], by = \"rank\")\n",
    "head(result)"
   ]
  },
  {
   "cell_type": "code",
   "execution_count": 30,
   "id": "4d8b26e4",
   "metadata": {},
   "outputs": [
    {
     "data": {
      "image/png": "[encoded data removed]",
      "text/plain": [
       "plot without title"
      ]
     },
     "metadata": {
      "image/png": {
       "height": 420,
       "width": 420
      }
     },
     "output_type": "display_data"
    }
   ],
   "source": [
    "ggplot(result, aes(x = rank)) + geom_line(aes(y = proportion.x, colour = \"imputed\"), size = 1.2) +\n",
    "    geom_line(aes(y = proportion.y, colour = \"baseline\"), size = 1.2) #+\n",
    "    #xlim(100,40000)"
   ]
  },
  {
   "cell_type": "code",
   "execution_count": null,
   "id": "644b8e6b",
   "metadata": {},
   "outputs": [],
   "source": []
  }
 ],
 "metadata": {
  "kernelspec": {
   "display_name": "R",
   "language": "R",
   "name": "ir"
  },
  "language_info": {
   "codemirror_mode": "r",
   "file_extension": ".r",
   "mimetype": "text/x-r-source",
   "name": "R",
   "pygments_lexer": "r",
   "version": "4.2.2"
  }
 },
 "nbformat": 4,
 "nbformat_minor": 5
}
