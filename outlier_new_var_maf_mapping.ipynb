{
 "cells": [
  {
   "cell_type": "code",
   "execution_count": 7,
   "id": "0e39afef-fe8b-48b3-b2b7-230802432f6c",
   "metadata": {},
   "outputs": [
    {
     "name": "stdout",
     "output_type": "stream",
     "text": [
      "[1] \"reading done!\"\n"
     ]
    }
   ],
   "source": [
    "library(data.table)\n",
    "library(dplyr)\n",
    "library(stringr)\n",
    "library(plyr)\n",
    "library(\"ggpubr\")\n",
    "\n",
    "#write log regression result\n",
    "\n",
    "##use this if you dont have train.txt\n",
    "\n",
    "#result_outrider <- fread(\"pred_no_na.txt\")\n",
    "\n",
    "#colnames(result_outrider)[1] <- \"featureID\"\n",
    "#dim(result_outrider)\n",
    "\n",
    "\n",
    "#measured <- read.table(\"prot_int.csv\")\n",
    "\n",
    "#measured[measured != 0] <- 1\n",
    "#measured$featureID <- rownames(measured)\n",
    "\n",
    "\n",
    "#prot_int_list <- melt(result_outrider)\n",
    "#colnames(prot_int_list)[2:3] <- c(\"sampleID\",\"protein_intensity\")\n",
    "\n",
    "\n",
    "#measured_list <- melt(measured)\n",
    "#colnames(measured_list)[2:3] <- c(\"sampleID\",\"measured\")\n",
    "\n",
    "\n",
    "#train <- merge(prot_int_list, measured_list)\n",
    "#log_reg <- glm(measured~protein_intensity,family=binomial,data=train)\n",
    "#train$predprob<-round(fitted(log_reg),2)\n",
    "#train$missing <- 1- train$predprob\n",
    "\n",
    "#write.table(train, \"train.txt\", sep = \"\\t\", col.names = T,row.names = F, quote = F)\n",
    "\n",
    "\n",
    "\n",
    "#read result from var_maf and train\n",
    "var_maf <- read.table(\"variant_with_maf_new.csv\",sep =\",\", header = T)\n",
    "outliers <- read.table(\"train.txt\",header = T)\n",
    "\n",
    "print(\"reading done!\")"
   ]
  },
  {
   "cell_type": "code",
   "execution_count": 8,
   "id": "79c70d68-0d1b-4c95-b437-9784b8809e40",
   "metadata": {},
   "outputs": [],
   "source": [
    "#get cellline name\n",
    "\n",
    "cellline_names <- var_maf$sampleID %>%\n",
    "  strsplit( \":\")  %>%\n",
    "  sapply( tail, 1 ) %>%\n",
    "  str_replace_all(\"-\",\"\")%>%\n",
    "  str_replace_all(\" \",\"\")%>%\n",
    "  str_replace(\"(TB)\",\"\")%>%\n",
    "  str_replace(\"UO31\",\"U031\")%>%\n",
    "  str_replace_all(\"\\\\(|\\\\)\", \"\")%>%\n",
    "  str_replace_all(\"A549/ATCC\",\"A549\")%>%\n",
    "  str_replace_all(\"7860\",\"X786O\")%>%\n",
    "  str_replace_all(\"MDAN\",\"MDAMB468\")%>%\n",
    "  str_replace_all(\"NCI/ADRRES\",\"NCIADRES\")\n",
    "\n",
    "var_maf$cellline_names <- cellline_names\n",
    "\n",
    "\n",
    "#get celline name from outlier result\n",
    "cellline_names_outliers <- sapply(strsplit(outliers$sampleID ,\"_\"), head, 1)\n",
    "\n",
    "outliers$cellline_names <-cellline_names_outliers\n"
   ]
  },
  {
   "cell_type": "code",
   "execution_count": 9,
   "id": "791a8c00-cc9d-4fe1-b6eb-987843bece5f",
   "metadata": {},
   "outputs": [
    {
     "data": {
      "text/html": [
       "60"
      ],
      "text/latex": [
       "60"
      ],
      "text/markdown": [
       "60"
      ],
      "text/plain": [
       "[1] 60"
      ]
     },
     "metadata": {},
     "output_type": "display_data"
    },
    {
     "data": {
      "text/html": [
       "60"
      ],
      "text/latex": [
       "60"
      ],
      "text/markdown": [
       "60"
      ],
      "text/plain": [
       "[1] 60"
      ]
     },
     "metadata": {},
     "output_type": "display_data"
    },
    {
     "data": {
      "text/html": [
       "TRUE"
      ],
      "text/latex": [
       "TRUE"
      ],
      "text/markdown": [
       "TRUE"
      ],
      "text/plain": [
       "[1] TRUE"
      ]
     },
     "metadata": {},
     "output_type": "display_data"
    }
   ],
   "source": [
    "#head(var_maf)\n",
    "#check number of celllines for var_maf #60\n",
    "length(unique(var_maf$cellline_names))\n",
    "\n",
    "#check number of celllines for outliers #60\n",
    "length(unique(outliers$cellline_names))\n",
    "\n",
    "#check if they are identical\n",
    "\n",
    "SameElements <- function(a, b) return(identical(sort(a), sort(b)))\n",
    "\n",
    "SameElements(unique(var_maf$cellline_names),unique(outliers$cellline_names))"
   ]
  },
  {
   "cell_type": "code",
   "execution_count": 10,
   "id": "a7f30fb0-f1a2-4ffd-b1d5-c9a5dbd15ae7",
   "metadata": {},
   "outputs": [
    {
     "data": {
      "text/html": [
       "6803"
      ],
      "text/latex": [
       "6803"
      ],
      "text/markdown": [
       "6803"
      ],
      "text/plain": [
       "[1] 6803"
      ]
     },
     "metadata": {},
     "output_type": "display_data"
    },
    {
     "data": {
      "text/html": [
       "<style>\n",
       ".list-inline {list-style: none; margin:0; padding: 0}\n",
       ".list-inline>li {display: inline-block}\n",
       ".list-inline>li:not(:last-child)::after {content: \"\\00b7\"; padding: 0 .5ex}\n",
       "</style>\n",
       "<ol class=list-inline><li>'A0AV96'</li><li>'A0AVF1'</li><li>'A0AVT1'</li><li>'A0FGR8'</li><li>'A0JLT2'</li><li>'A0JNW5'</li></ol>\n"
      ],
      "text/latex": [
       "\\begin{enumerate*}\n",
       "\\item 'A0AV96'\n",
       "\\item 'A0AVF1'\n",
       "\\item 'A0AVT1'\n",
       "\\item 'A0FGR8'\n",
       "\\item 'A0JLT2'\n",
       "\\item 'A0JNW5'\n",
       "\\end{enumerate*}\n"
      ],
      "text/markdown": [
       "1. 'A0AV96'\n",
       "2. 'A0AVF1'\n",
       "3. 'A0AVT1'\n",
       "4. 'A0FGR8'\n",
       "5. 'A0JLT2'\n",
       "6. 'A0JNW5'\n",
       "\n",
       "\n"
      ],
      "text/plain": [
       "[1] \"A0AV96\" \"A0AVF1\" \"A0AVT1\" \"A0FGR8\" \"A0JLT2\" \"A0JNW5\""
      ]
     },
     "metadata": {},
     "output_type": "display_data"
    }
   ],
   "source": [
    "### get gene name\n",
    "\n",
    "#load necessary packages\n",
    "library(biomaRt)\n",
    "library(dplyr)\n",
    "\n",
    "\n",
    "#extract most possible protein id\n",
    "outliers$gene_id <-  sapply(strsplit(outliers$featureID ,\";\"), head, 1)\n",
    "\n",
    "outliers$gene_id <- gsub(\".*\\\\__\", \"\", outliers$gene_id) \n",
    "\n",
    "outliers$gene_id <- gsub(\"\\\\-.*\", \"\", outliers$gene_id)\n",
    "\n",
    "#define list of Uniprot IDs\n",
    "uniprot_ids <- unique(outliers$gene_id[!(startsWith(outliers$gene_id, \"ENSEMBL\")|startsWith(outliers$gene_id, \"REFSEQ\"))])\n",
    "length(unique(uniprot_ids))\n",
    "\n",
    "#define list of RefSeq IDs\n",
    "refseq_ids <- sapply(strsplit(outliers$gene_id[startsWith(outliers$gene_id, \"REFSEQ\")] ,\":\"), tail, 1) %>% unique()\n",
    "\n",
    "#define list of ensembl IDs\n",
    "ensembl_ids <- sapply(strsplit(outliers$gene_id[startsWith(outliers$gene_id, \"ENSEMBL\")] ,\":\"), tail, 1) %>% unique()\n",
    "head(uniprot_ids)"
   ]
  },
  {
   "cell_type": "code",
   "execution_count": 11,
   "id": "1d8eedd7-128a-4447-bc26-92d2567ee644",
   "metadata": {},
   "outputs": [
    {
     "data": {
      "text/html": [
       "6803"
      ],
      "text/latex": [
       "6803"
      ],
      "text/markdown": [
       "6803"
      ],
      "text/plain": [
       "[1] 6803"
      ]
     },
     "metadata": {},
     "output_type": "display_data"
    },
    {
     "data": {
      "text/html": [
       "2"
      ],
      "text/latex": [
       "2"
      ],
      "text/markdown": [
       "2"
      ],
      "text/plain": [
       "[1] 2"
      ]
     },
     "metadata": {},
     "output_type": "display_data"
    },
    {
     "data": {
      "text/html": [
       "10"
      ],
      "text/latex": [
       "10"
      ],
      "text/markdown": [
       "10"
      ],
      "text/plain": [
       "[1] 10"
      ]
     },
     "metadata": {},
     "output_type": "display_data"
    }
   ],
   "source": [
    "length(unique(uniprot_ids))\n",
    "length(unique(refseq_ids))\n",
    "length(unique(ensembl_ids))"
   ]
  },
  {
   "cell_type": "code",
   "execution_count": 12,
   "id": "e7090aa8-d2b3-41da-b7e5-c651c534d413",
   "metadata": {},
   "outputs": [
    {
     "data": {
      "text/html": [
       "0.998239178283199"
      ],
      "text/latex": [
       "0.998239178283199"
      ],
      "text/markdown": [
       "0.998239178283199"
      ],
      "text/plain": [
       "[1] 0.9982392"
      ]
     },
     "metadata": {},
     "output_type": "display_data"
    }
   ],
   "source": [
    "# only uniprot_ids used. 99.8% of found ids\n",
    "length(uniprot_ids)/(length(uniprot_ids)+ length(refseq_ids)+length(ensembl_ids))"
   ]
  },
  {
   "cell_type": "code",
   "execution_count": 13,
   "id": "f967e8d1-dd94-4ae0-aecd-9bc7525a4c98",
   "metadata": {},
   "outputs": [
    {
     "data": {
      "text/html": [
       "352827"
      ],
      "text/latex": [
       "352827"
      ],
      "text/markdown": [
       "352827"
      ],
      "text/plain": [
       "[1] 352827"
      ]
     },
     "metadata": {},
     "output_type": "display_data"
    }
   ],
   "source": [
    "nrow(var_maf)"
   ]
  },
  {
   "cell_type": "code",
   "execution_count": 14,
   "id": "f97e161c-17d0-4787-b1ef-d207d9ee2ea7",
   "metadata": {},
   "outputs": [
    {
     "data": {
      "text/html": [
       "0.920880021863897"
      ],
      "text/latex": [
       "0.920880021863897"
      ],
      "text/markdown": [
       "0.920880021863897"
      ],
      "text/plain": [
       "[1] 0.92088"
      ]
     },
     "metadata": {},
     "output_type": "display_data"
    }
   ],
   "source": [
    "##Search in DB gene chromosom position\n",
    "\n",
    "#use biomaRt package\n",
    "mart <- useMart(\"ensembl\", dataset = \"hsapiens_gene_ensembl\")\n",
    "\n",
    "#convert Uniprot IDs to chromosome regions\n",
    "\n",
    "uniport_results <- getBM(attributes = c(\"chromosome_name\",\"start_position\",\"end_position\",\"uniprotswissprot\"), filters = \"uniprotswissprot\", values = uniprot_ids, mart = mart)\n",
    "\n",
    "#store results in a dataframe\n",
    "uniport_results_df <- data.frame(uniport_results)\n",
    "#nrow(uniport_results_df)\n",
    "#nrow(uniport_results_df$uniprotswissprot[unique(uniport_results_df$uniprotswissprot)])\n",
    "\n",
    "#remove chr not a number\n",
    "uniport_results_df_cl <- uniport_results_df[uniport_results_df$chromosome_name %in% c(c(1:22) %>% as.character(),\"X\",\"Y\"),]\n",
    "\n",
    "nrow(uniport_results_df_cl)/nrow(uniport_results_df) #8% weg\n",
    "\n",
    "\n",
    "#display dataframe\n",
    "#print(uniport_results)\n",
    "\n",
    "\n",
    "\n",
    "#convert refseq IDs to chromosome regions\n",
    "refseq_results <- getBM(attributes = c(\"chromosome_name\",\"start_position\",\"end_position\",\"refseq_mrna\"), filters = \"refseq_mrna\", values = refseq_ids, mart = mart)\n",
    "\n",
    "#store results in a dataframe\n",
    "refseq_results_df <- data.frame(refseq_results)\n",
    "\n",
    "#display dataframe (empty)\n",
    "#print(refseq_results_df)\n",
    "\n",
    "\n",
    "\n",
    "#convert ensembl IDs to chromosome regions\n",
    "ensembl_results <- getBM(attributes = c(\"chromosome_name\",\"start_position\",\"end_position\",\"ensembl_transcript_id\"), filters = \"ensembl_gene_id\", values = ensembl_ids, mart = mart)\n",
    "\n",
    "#store results in a dataframe\n",
    "ensembl_results_df <- data.frame(ensembl_results)\n",
    "\n",
    "#display dataframe (empty)\n",
    "#print(ensembl_results_df)\n",
    "\n",
    "#### uniport outliers\n",
    "\n",
    "uniport_outliers <- outliers[!(startsWith(outliers$gene_id, \"ENSEMBL\")|startsWith(outliers$gene_id, \"REFSEQ\")),]\n",
    "\n",
    "colnames(uniport_outliers)[8] <- \"uniprotswissprot\"\n",
    "uniport_outliers_result <-join(uniport_outliers, uniport_results_df_cl, type=\"full\",by = \"uniprotswissprot\") %>% na.omit()\n",
    "\n"
   ]
  },
  {
   "cell_type": "code",
   "execution_count": 15,
   "id": "08668fe6-5192-46ef-b00e-d6ebf7de2c0b",
   "metadata": {},
   "outputs": [
    {
     "data": {
      "text/html": [
       "0.990808559528939"
      ],
      "text/latex": [
       "0.990808559528939"
      ],
      "text/markdown": [
       "0.990808559528939"
      ],
      "text/plain": [
       "[1] 0.9908086"
      ]
     },
     "metadata": {},
     "output_type": "display_data"
    }
   ],
   "source": [
    "nrow(uniport_outliers_result)/max(nrow(uniport_results_df_cl),nrow(uniport_outliers)) #1% filtered out"
   ]
  },
  {
   "cell_type": "code",
   "execution_count": 16,
   "id": "870a7016-ab69-4168-84e0-a89d3ac667ec",
   "metadata": {},
   "outputs": [
    {
     "data": {
      "text/html": [
       "<table class=\"dataframe\">\n",
       "<caption>A data.frame: 6 × 8</caption>\n",
       "<thead>\n",
       "\t<tr><th></th><th scope=col>featureID</th><th scope=col>sampleID</th><th scope=col>protein_intensity</th><th scope=col>measured</th><th scope=col>predprob</th><th scope=col>missing</th><th scope=col>cellline_names</th><th scope=col>uniprotswissprot</th></tr>\n",
       "\t<tr><th></th><th scope=col>&lt;chr&gt;</th><th scope=col>&lt;chr&gt;</th><th scope=col>&lt;dbl&gt;</th><th scope=col>&lt;int&gt;</th><th scope=col>&lt;dbl&gt;</th><th scope=col>&lt;dbl&gt;</th><th scope=col>&lt;chr&gt;</th><th scope=col>&lt;chr&gt;</th></tr>\n",
       "</thead>\n",
       "<tbody>\n",
       "\t<tr><th scope=row>1</th><td>A0AV96;A0AV96-2</td><td>X786O_NCI60</td><td>26.95893</td><td>1</td><td>0.97</td><td>0.03</td><td>X786O</td><td>A0AV96</td></tr>\n",
       "\t<tr><th scope=row>2</th><td>A0AV96;A0AV96-2</td><td>A498_NCI60 </td><td>28.67702</td><td>1</td><td>0.99</td><td>0.01</td><td>A498 </td><td>A0AV96</td></tr>\n",
       "\t<tr><th scope=row>3</th><td>A0AV96;A0AV96-2</td><td>A549_NCI60 </td><td>29.12149</td><td>1</td><td>0.99</td><td>0.01</td><td>A549 </td><td>A0AV96</td></tr>\n",
       "\t<tr><th scope=row>4</th><td>A0AV96;A0AV96-2</td><td>ACHN_NCI60 </td><td>29.22591</td><td>1</td><td>0.99</td><td>0.01</td><td>ACHN </td><td>A0AV96</td></tr>\n",
       "\t<tr><th scope=row>5</th><td>A0AV96;A0AV96-2</td><td>BT549_NCI60</td><td>24.08905</td><td>1</td><td>0.86</td><td>0.14</td><td>BT549</td><td>A0AV96</td></tr>\n",
       "\t<tr><th scope=row>6</th><td>A0AV96;A0AV96-2</td><td>CAKI1_NCI60</td><td>27.47051</td><td>1</td><td>0.98</td><td>0.02</td><td>CAKI1</td><td>A0AV96</td></tr>\n",
       "</tbody>\n",
       "</table>\n"
      ],
      "text/latex": [
       "A data.frame: 6 × 8\n",
       "\\begin{tabular}{r|llllllll}\n",
       "  & featureID & sampleID & protein\\_intensity & measured & predprob & missing & cellline\\_names & uniprotswissprot\\\\\n",
       "  & <chr> & <chr> & <dbl> & <int> & <dbl> & <dbl> & <chr> & <chr>\\\\\n",
       "\\hline\n",
       "\t1 & A0AV96;A0AV96-2 & X786O\\_NCI60 & 26.95893 & 1 & 0.97 & 0.03 & X786O & A0AV96\\\\\n",
       "\t2 & A0AV96;A0AV96-2 & A498\\_NCI60  & 28.67702 & 1 & 0.99 & 0.01 & A498  & A0AV96\\\\\n",
       "\t3 & A0AV96;A0AV96-2 & A549\\_NCI60  & 29.12149 & 1 & 0.99 & 0.01 & A549  & A0AV96\\\\\n",
       "\t4 & A0AV96;A0AV96-2 & ACHN\\_NCI60  & 29.22591 & 1 & 0.99 & 0.01 & ACHN  & A0AV96\\\\\n",
       "\t5 & A0AV96;A0AV96-2 & BT549\\_NCI60 & 24.08905 & 1 & 0.86 & 0.14 & BT549 & A0AV96\\\\\n",
       "\t6 & A0AV96;A0AV96-2 & CAKI1\\_NCI60 & 27.47051 & 1 & 0.98 & 0.02 & CAKI1 & A0AV96\\\\\n",
       "\\end{tabular}\n"
      ],
      "text/markdown": [
       "\n",
       "A data.frame: 6 × 8\n",
       "\n",
       "| <!--/--> | featureID &lt;chr&gt; | sampleID &lt;chr&gt; | protein_intensity &lt;dbl&gt; | measured &lt;int&gt; | predprob &lt;dbl&gt; | missing &lt;dbl&gt; | cellline_names &lt;chr&gt; | uniprotswissprot &lt;chr&gt; |\n",
       "|---|---|---|---|---|---|---|---|---|\n",
       "| 1 | A0AV96;A0AV96-2 | X786O_NCI60 | 26.95893 | 1 | 0.97 | 0.03 | X786O | A0AV96 |\n",
       "| 2 | A0AV96;A0AV96-2 | A498_NCI60  | 28.67702 | 1 | 0.99 | 0.01 | A498  | A0AV96 |\n",
       "| 3 | A0AV96;A0AV96-2 | A549_NCI60  | 29.12149 | 1 | 0.99 | 0.01 | A549  | A0AV96 |\n",
       "| 4 | A0AV96;A0AV96-2 | ACHN_NCI60  | 29.22591 | 1 | 0.99 | 0.01 | ACHN  | A0AV96 |\n",
       "| 5 | A0AV96;A0AV96-2 | BT549_NCI60 | 24.08905 | 1 | 0.86 | 0.14 | BT549 | A0AV96 |\n",
       "| 6 | A0AV96;A0AV96-2 | CAKI1_NCI60 | 27.47051 | 1 | 0.98 | 0.02 | CAKI1 | A0AV96 |\n",
       "\n"
      ],
      "text/plain": [
       "  featureID       sampleID    protein_intensity measured predprob missing\n",
       "1 A0AV96;A0AV96-2 X786O_NCI60 26.95893          1        0.97     0.03   \n",
       "2 A0AV96;A0AV96-2 A498_NCI60  28.67702          1        0.99     0.01   \n",
       "3 A0AV96;A0AV96-2 A549_NCI60  29.12149          1        0.99     0.01   \n",
       "4 A0AV96;A0AV96-2 ACHN_NCI60  29.22591          1        0.99     0.01   \n",
       "5 A0AV96;A0AV96-2 BT549_NCI60 24.08905          1        0.86     0.14   \n",
       "6 A0AV96;A0AV96-2 CAKI1_NCI60 27.47051          1        0.98     0.02   \n",
       "  cellline_names uniprotswissprot\n",
       "1 X786O          A0AV96          \n",
       "2 A498           A0AV96          \n",
       "3 A549           A0AV96          \n",
       "4 ACHN           A0AV96          \n",
       "5 BT549          A0AV96          \n",
       "6 CAKI1          A0AV96          "
      ]
     },
     "metadata": {},
     "output_type": "display_data"
    }
   ],
   "source": [
    "head(uniport_outliers)"
   ]
  },
  {
   "cell_type": "code",
   "execution_count": 17,
   "id": "eb5ab657-c09d-4c30-9c44-fbedef9287aa",
   "metadata": {},
   "outputs": [],
   "source": [
    "\n",
    "#extract chromosom number and position from var_maf\n",
    "\n",
    "var_maf$chromosome_name <- sapply(strsplit(var_maf$Identifier,\":\"), head, 1) %>% str_replace(\"chr\",\"\")\n",
    "\n",
    "var_maf$position <- gsub(\".*:(.+)_._.*\", \"\\\\1\", var_maf$Identifier)"
   ]
  },
  {
   "cell_type": "code",
   "execution_count": 18,
   "id": "3e570a37-87b0-4f7f-8fb2-e903b74b9673",
   "metadata": {},
   "outputs": [],
   "source": [
    "#map chromosomes\n",
    "\n",
    "match_gene_id <- function(A, B) {\n",
    "  # Add new column to B dataframe to store the matched gene ID\n",
    "  B$uniprotswissprot <- NA\n",
    "  #B$uniprotswissprot_2 <- NA\n",
    "  \n",
    "  # Loop through each row in B\n",
    "  for (i in 1:nrow(B)) {\n",
    "    # Subset A to only include rows with the same chromosome name as B\n",
    "    A_subset <- subset(A, A$chromosome_name == B$chromosome_name[i])\n",
    "    #Check if the position of SNP is between start and end position\n",
    "    A_subset <- A_subset[A_subset$start_position <= B$position[i] & A_subset$end_position >= B$position[i],]\n",
    "    #if there is a match assign the gene_id to the B dataframe\n",
    "    if(nrow(A_subset) > 0){\n",
    "      #print(A_subset$uniprotswissprot)\n",
    "      B$uniprotswissprot[i] <- A_subset$uniprotswissprot[1]\n",
    "      #if(length(A_subset$uniprotswissprot) > 1){\n",
    "      #    B$uniprotswissprot_2[i] <- A_subset$uniprotswissprot[2]\n",
    "      #  }\n",
    "      \n",
    "    }else{\n",
    "      B$uniprotswissprot[i] <- \"None_found\"\n",
    "    }\n",
    "    \n",
    "  }\n",
    "  return(B)\n",
    "}\n",
    "\n",
    "#mapping start\n",
    "#test <-  match_gene_id(uniport_results_df_cl,var_maf)\n",
    "\n",
    "var_maf_with_gene <- match_gene_id(uniport_results_df_cl,var_maf)\n",
    "\n",
    "var_maf_with_gene_cl <- var_maf_with_gene[var_maf_with_gene$uniprotswissprot != \"None_found\",]\n",
    "\n",
    "var_maf_outlier_result <-join(uniport_outliers, var_maf_with_gene_cl,by = c(\"uniprotswissprot\",\"cellline_names\"))\n",
    "\n",
    "var_maf_outlier_result_cl <- na.omit(var_maf_outlier_result)\n",
    "\n",
    "\n",
    "#write.table(var_maf_outlier_result_cl, \"outlier_prob_with_maf.txt\",quote = F,row.names = F,col.names = T,sep = \",\")\n"
   ]
  },
  {
   "cell_type": "code",
   "execution_count": 23,
   "id": "2df7b775-7489-4731-95de-0bf90820fef1",
   "metadata": {},
   "outputs": [],
   "source": [
    "write.table(var_maf_outlier_result_cl, \"outlier_prob_with_maf_v1.txt\",quote = F,row.names = F,col.names = T,sep = \",\")"
   ]
  },
  {
   "cell_type": "code",
   "execution_count": null,
   "id": "14b56d7c-a55e-42f8-b475-c679d0c8feed",
   "metadata": {},
   "outputs": [],
   "source": [
    "get"
   ]
  },
  {
   "cell_type": "code",
   "execution_count": 22,
   "id": "1b0ba480-382b-4abb-97a5-1df560bc3c50",
   "metadata": {},
   "outputs": [
    {
     "data": {
      "text/html": [
       "0.422782325625928"
      ],
      "text/latex": [
       "0.422782325625928"
      ],
      "text/markdown": [
       "0.422782325625928"
      ],
      "text/plain": [
       "[1] 0.4227823"
      ]
     },
     "metadata": {},
     "output_type": "display_data"
    }
   ],
   "source": [
    "nrow(var_maf_outlier_result_cl)/max(nrow(uniport_outliers),nrow(var_maf_with_gene_cl))"
   ]
  }
 ],
 "metadata": {
  "kernelspec": {
   "display_name": "R [conda env:anaconda-ncrna-outliers]",
   "language": "R",
   "name": "conda-env-anaconda-ncrna-outliers-r"
  },
  "language_info": {
   "codemirror_mode": "r",
   "file_extension": ".r",
   "mimetype": "text/x-r-source",
   "name": "R",
   "pygments_lexer": "r",
   "version": "4.1.1"
  }
 },
 "nbformat": 4,
 "nbformat_minor": 5
}
