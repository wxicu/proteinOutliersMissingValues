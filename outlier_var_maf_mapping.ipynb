{
 "cells": [
  {
   "cell_type": "code",
   "execution_count": 1,
   "id": "947133de-c6d6-4dcd-ba3d-029b7170e0df",
   "metadata": {},
   "outputs": [
    {
     "name": "stderr",
     "output_type": "stream",
     "text": [
      "\n",
      "Attaching package: ‘dplyr’\n",
      "\n",
      "\n",
      "The following objects are masked from ‘package:data.table’:\n",
      "\n",
      "    between, first, last\n",
      "\n",
      "\n",
      "The following objects are masked from ‘package:stats’:\n",
      "\n",
      "    filter, lag\n",
      "\n",
      "\n",
      "The following objects are masked from ‘package:base’:\n",
      "\n",
      "    intersect, setdiff, setequal, union\n",
      "\n",
      "\n",
      "------------------------------------------------------------------------------\n",
      "\n",
      "You have loaded plyr after dplyr - this is likely to cause problems.\n",
      "If you need functions from both plyr and dplyr, please load plyr first, then dplyr:\n",
      "library(plyr); library(dplyr)\n",
      "\n",
      "------------------------------------------------------------------------------\n",
      "\n",
      "\n",
      "Attaching package: ‘plyr’\n",
      "\n",
      "\n",
      "The following objects are masked from ‘package:dplyr’:\n",
      "\n",
      "    arrange, count, desc, failwith, id, mutate, rename, summarise,\n",
      "    summarize\n",
      "\n",
      "\n",
      "Loading required package: ggplot2\n",
      "\n",
      "\n",
      "Attaching package: ‘ggpubr’\n",
      "\n",
      "\n",
      "The following object is masked from ‘package:plyr’:\n",
      "\n",
      "    mutate\n",
      "\n",
      "\n"
     ]
    },
    {
     "name": "stdout",
     "output_type": "stream",
     "text": [
      "[1] \"reading done!\"\n"
     ]
    }
   ],
   "source": [
    "library(data.table)\n",
    "library(dplyr)\n",
    "library(stringr)\n",
    "library(plyr)\n",
    "library(\"ggpubr\")\n",
    "\n",
    "#write log regression result\n",
    "\n",
    "##use this if you dont have train.txt\n",
    "\n",
    "#result_outrider <- fread(\"pred_no_na.txt\")\n",
    "\n",
    "#colnames(result_outrider)[1] <- \"featureID\"\n",
    "#dim(result_outrider)\n",
    "\n",
    "\n",
    "#measured <- read.table(\"prot_int.csv\")\n",
    "\n",
    "#measured[measured != 0] <- 1\n",
    "#measured$featureID <- rownames(measured)\n",
    "\n",
    "\n",
    "#prot_int_list <- melt(result_outrider)\n",
    "#colnames(prot_int_list)[2:3] <- c(\"sampleID\",\"protein_intensity\")\n",
    "\n",
    "\n",
    "#measured_list <- melt(measured)\n",
    "#colnames(measured_list)[2:3] <- c(\"sampleID\",\"measured\")\n",
    "\n",
    "\n",
    "#train <- merge(prot_int_list, measured_list)\n",
    "#log_reg <- glm(measured~protein_intensity,family=binomial,data=train)\n",
    "#train$predprob<-round(fitted(log_reg),2)\n",
    "#train$missing <- 1- train$predprob\n",
    "\n",
    "#write.table(train, \"train.txt\", sep = \"\\t\", col.names = T,row.names = F, quote = F)\n",
    "\n",
    "\n",
    "\n",
    "#read result from var_maf and train\n",
    "var_maf <- read.table(\"variant_with_maf.csv\",sep =\",\", header = T,row.names = 1)\n",
    "outliers <- read.table(\"train.txt\",header = T)\n",
    "\n",
    "print(\"reading done!\")"
   ]
  },
  {
   "cell_type": "code",
   "execution_count": 2,
   "id": "55da8529-8792-427a-8628-81d98c606333",
   "metadata": {},
   "outputs": [],
   "source": [
    "#get cellline name\n",
    "cellline_names <- var_maf$sample.cell_line. %>%\n",
    "  strsplit( \":\")  %>%\n",
    "  sapply( tail, 1 ) %>%\n",
    "  str_replace_all(\"-\",\"\")%>%\n",
    "  str_replace_all(\" \",\"\")%>%\n",
    "  str_replace(\"(TB)\",\"\")%>%\n",
    "  str_replace(\"UO31\",\"U031\")%>%\n",
    "  str_replace_all(\"\\\\(|\\\\)\", \"\")\n",
    "\n",
    "var_maf$cellline_names <- cellline_names\n",
    "\n",
    "\n",
    "#get celline name from outlier result\n",
    "cellline_names_outliers <- sapply(strsplit(outliers$sampleID ,\"_\"), head, 1)\n",
    "\n",
    "outliers$cellline_names <-cellline_names_outliers\n"
   ]
  },
  {
   "cell_type": "code",
   "execution_count": 3,
   "id": "eb8e7107-c2f5-4b70-a5bc-1318eb78b3e7",
   "metadata": {},
   "outputs": [
    {
     "data": {
      "text/html": [
       "<table class=\"dataframe\">\n",
       "<caption>A data.frame: 6 × 7</caption>\n",
       "<thead>\n",
       "\t<tr><th></th><th scope=col>featureID</th><th scope=col>sampleID</th><th scope=col>protein_intensity</th><th scope=col>measured</th><th scope=col>predprob</th><th scope=col>missing</th><th scope=col>cellline_names</th></tr>\n",
       "\t<tr><th></th><th scope=col>&lt;chr&gt;</th><th scope=col>&lt;chr&gt;</th><th scope=col>&lt;dbl&gt;</th><th scope=col>&lt;int&gt;</th><th scope=col>&lt;dbl&gt;</th><th scope=col>&lt;dbl&gt;</th><th scope=col>&lt;chr&gt;</th></tr>\n",
       "</thead>\n",
       "<tbody>\n",
       "\t<tr><th scope=row>1</th><td>A0AV96;A0AV96-2</td><td>X786O_NCI60</td><td>26.95893</td><td>1</td><td>0.97</td><td>0.03</td><td>X786O</td></tr>\n",
       "\t<tr><th scope=row>2</th><td>A0AV96;A0AV96-2</td><td>A498_NCI60 </td><td>28.67702</td><td>1</td><td>0.99</td><td>0.01</td><td>A498 </td></tr>\n",
       "\t<tr><th scope=row>3</th><td>A0AV96;A0AV96-2</td><td>A549_NCI60 </td><td>29.12149</td><td>1</td><td>0.99</td><td>0.01</td><td>A549 </td></tr>\n",
       "\t<tr><th scope=row>4</th><td>A0AV96;A0AV96-2</td><td>ACHN_NCI60 </td><td>29.22591</td><td>1</td><td>0.99</td><td>0.01</td><td>ACHN </td></tr>\n",
       "\t<tr><th scope=row>5</th><td>A0AV96;A0AV96-2</td><td>BT549_NCI60</td><td>24.08905</td><td>1</td><td>0.86</td><td>0.14</td><td>BT549</td></tr>\n",
       "\t<tr><th scope=row>6</th><td>A0AV96;A0AV96-2</td><td>CAKI1_NCI60</td><td>27.47051</td><td>1</td><td>0.98</td><td>0.02</td><td>CAKI1</td></tr>\n",
       "</tbody>\n",
       "</table>\n"
      ],
      "text/latex": [
       "A data.frame: 6 × 7\n",
       "\\begin{tabular}{r|lllllll}\n",
       "  & featureID & sampleID & protein\\_intensity & measured & predprob & missing & cellline\\_names\\\\\n",
       "  & <chr> & <chr> & <dbl> & <int> & <dbl> & <dbl> & <chr>\\\\\n",
       "\\hline\n",
       "\t1 & A0AV96;A0AV96-2 & X786O\\_NCI60 & 26.95893 & 1 & 0.97 & 0.03 & X786O\\\\\n",
       "\t2 & A0AV96;A0AV96-2 & A498\\_NCI60  & 28.67702 & 1 & 0.99 & 0.01 & A498 \\\\\n",
       "\t3 & A0AV96;A0AV96-2 & A549\\_NCI60  & 29.12149 & 1 & 0.99 & 0.01 & A549 \\\\\n",
       "\t4 & A0AV96;A0AV96-2 & ACHN\\_NCI60  & 29.22591 & 1 & 0.99 & 0.01 & ACHN \\\\\n",
       "\t5 & A0AV96;A0AV96-2 & BT549\\_NCI60 & 24.08905 & 1 & 0.86 & 0.14 & BT549\\\\\n",
       "\t6 & A0AV96;A0AV96-2 & CAKI1\\_NCI60 & 27.47051 & 1 & 0.98 & 0.02 & CAKI1\\\\\n",
       "\\end{tabular}\n"
      ],
      "text/markdown": [
       "\n",
       "A data.frame: 6 × 7\n",
       "\n",
       "| <!--/--> | featureID &lt;chr&gt; | sampleID &lt;chr&gt; | protein_intensity &lt;dbl&gt; | measured &lt;int&gt; | predprob &lt;dbl&gt; | missing &lt;dbl&gt; | cellline_names &lt;chr&gt; |\n",
       "|---|---|---|---|---|---|---|---|\n",
       "| 1 | A0AV96;A0AV96-2 | X786O_NCI60 | 26.95893 | 1 | 0.97 | 0.03 | X786O |\n",
       "| 2 | A0AV96;A0AV96-2 | A498_NCI60  | 28.67702 | 1 | 0.99 | 0.01 | A498  |\n",
       "| 3 | A0AV96;A0AV96-2 | A549_NCI60  | 29.12149 | 1 | 0.99 | 0.01 | A549  |\n",
       "| 4 | A0AV96;A0AV96-2 | ACHN_NCI60  | 29.22591 | 1 | 0.99 | 0.01 | ACHN  |\n",
       "| 5 | A0AV96;A0AV96-2 | BT549_NCI60 | 24.08905 | 1 | 0.86 | 0.14 | BT549 |\n",
       "| 6 | A0AV96;A0AV96-2 | CAKI1_NCI60 | 27.47051 | 1 | 0.98 | 0.02 | CAKI1 |\n",
       "\n"
      ],
      "text/plain": [
       "  featureID       sampleID    protein_intensity measured predprob missing\n",
       "1 A0AV96;A0AV96-2 X786O_NCI60 26.95893          1        0.97     0.03   \n",
       "2 A0AV96;A0AV96-2 A498_NCI60  28.67702          1        0.99     0.01   \n",
       "3 A0AV96;A0AV96-2 A549_NCI60  29.12149          1        0.99     0.01   \n",
       "4 A0AV96;A0AV96-2 ACHN_NCI60  29.22591          1        0.99     0.01   \n",
       "5 A0AV96;A0AV96-2 BT549_NCI60 24.08905          1        0.86     0.14   \n",
       "6 A0AV96;A0AV96-2 CAKI1_NCI60 27.47051          1        0.98     0.02   \n",
       "  cellline_names\n",
       "1 X786O         \n",
       "2 A498          \n",
       "3 A549          \n",
       "4 ACHN          \n",
       "5 BT549         \n",
       "6 CAKI1         "
      ]
     },
     "metadata": {},
     "output_type": "display_data"
    }
   ],
   "source": [
    "head(outliers)"
   ]
  },
  {
   "cell_type": "code",
   "execution_count": 4,
   "id": "814a173a-68bb-4b09-8240-f00158f72b11",
   "metadata": {},
   "outputs": [
    {
     "data": {
      "text/html": [
       "6803"
      ],
      "text/latex": [
       "6803"
      ],
      "text/markdown": [
       "6803"
      ],
      "text/plain": [
       "[1] 6803"
      ]
     },
     "metadata": {},
     "output_type": "display_data"
    },
    {
     "data": {
      "text/html": [
       "<style>\n",
       ".list-inline {list-style: none; margin:0; padding: 0}\n",
       ".list-inline>li {display: inline-block}\n",
       ".list-inline>li:not(:last-child)::after {content: \"\\00b7\"; padding: 0 .5ex}\n",
       "</style>\n",
       "<ol class=list-inline><li>'A0AV96'</li><li>'A0AVF1'</li><li>'A0AVT1'</li><li>'A0FGR8'</li><li>'A0JLT2'</li><li>'A0JNW5'</li></ol>\n"
      ],
      "text/latex": [
       "\\begin{enumerate*}\n",
       "\\item 'A0AV96'\n",
       "\\item 'A0AVF1'\n",
       "\\item 'A0AVT1'\n",
       "\\item 'A0FGR8'\n",
       "\\item 'A0JLT2'\n",
       "\\item 'A0JNW5'\n",
       "\\end{enumerate*}\n"
      ],
      "text/markdown": [
       "1. 'A0AV96'\n",
       "2. 'A0AVF1'\n",
       "3. 'A0AVT1'\n",
       "4. 'A0FGR8'\n",
       "5. 'A0JLT2'\n",
       "6. 'A0JNW5'\n",
       "\n",
       "\n"
      ],
      "text/plain": [
       "[1] \"A0AV96\" \"A0AVF1\" \"A0AVT1\" \"A0FGR8\" \"A0JLT2\" \"A0JNW5\""
      ]
     },
     "metadata": {},
     "output_type": "display_data"
    }
   ],
   "source": [
    "\n",
    "### get gene name\n",
    "\n",
    "#load necessary packages\n",
    "library(biomaRt)\n",
    "library(dplyr)\n",
    "\n",
    "\n",
    "#extract most possible protein id\n",
    "outliers$gene_id <-  sapply(strsplit(outliers$featureID ,\";\"), head, 1)\n",
    "\n",
    "outliers$gene_id <- gsub(\".*\\\\__\", \"\", outliers$gene_id) \n",
    "\n",
    "outliers$gene_id <- gsub(\"\\\\-.*\", \"\", outliers$gene_id)\n",
    "\n",
    "#define list of Uniprot IDs\n",
    "uniprot_ids <- unique(outliers$gene_id[!(startsWith(outliers$gene_id, \"ENSEMBL\")|startsWith(outliers$gene_id, \"REFSEQ\"))])\n",
    "length(unique(uniprot_ids))\n",
    "\n",
    "#define list of RefSeq IDs\n",
    "refseq_ids <- sapply(strsplit(outliers$gene_id[startsWith(outliers$gene_id, \"REFSEQ\")] ,\":\"), tail, 1) %>% unique()\n",
    "\n",
    "#define list of ensembl IDs\n",
    "ensembl_ids <- sapply(strsplit(outliers$gene_id[startsWith(outliers$gene_id, \"ENSEMBL\")] ,\":\"), tail, 1) %>% unique()\n",
    "head(uniprot_ids)"
   ]
  },
  {
   "cell_type": "code",
   "execution_count": 5,
   "id": "a515759f-1a80-4533-bb91-3c505396c98d",
   "metadata": {},
   "outputs": [],
   "source": [
    "##Search in DB gene chromosom position\n",
    "\n",
    "#use biomaRt package\n",
    "mart <- useMart(\"ensembl\", dataset = \"hsapiens_gene_ensembl\")\n",
    "\n",
    "#convert Uniprot IDs to chromosome regions\n",
    "\n",
    "uniport_results <- getBM(attributes = c(\"chromosome_name\",\"start_position\",\"end_position\",\"uniprotswissprot\"), filters = \"uniprotswissprot\", values = uniprot_ids, mart = mart)\n",
    "\n",
    "#store results in a dataframe\n",
    "uniport_results_df <- data.frame(uniport_results)\n",
    "#nrow(uniport_results_df)\n",
    "#nrow(uniport_results_df$uniprotswissprot[unique(uniport_results_df$uniprotswissprot)])\n",
    "\n",
    "#remove chr not a number\n",
    "uniport_results_df_cl <- uniport_results_df[uniport_results_df$chromosome_name %in% c(c(1:22) %>% as.character(),\"X\",\"Y\"),]\n",
    "\n",
    "\n",
    "#display dataframe\n",
    "#print(uniport_results)\n",
    "\n",
    "\n",
    "\n",
    "#convert refseq IDs to chromosome regions\n",
    "refseq_results <- getBM(attributes = c(\"chromosome_name\",\"start_position\",\"end_position\",\"refseq_mrna\"), filters = \"refseq_mrna\", values = refseq_ids, mart = mart)\n",
    "\n",
    "#store results in a dataframe\n",
    "refseq_results_df <- data.frame(refseq_results)\n",
    "\n",
    "#display dataframe (empty)\n",
    "#print(refseq_results_df)\n",
    "\n",
    "\n",
    "\n",
    "#convert ensembl IDs to chromosome regions\n",
    "ensembl_results <- getBM(attributes = c(\"chromosome_name\",\"start_position\",\"end_position\",\"ensembl_transcript_id\"), filters = \"ensembl_gene_id\", values = ensembl_ids, mart = mart)\n",
    "\n",
    "#store results in a dataframe\n",
    "ensembl_results_df <- data.frame(ensembl_results)\n",
    "\n",
    "#display dataframe (empty)\n",
    "#print(ensembl_results_df)\n",
    "\n",
    "#### uniport outliers\n",
    "\n",
    "uniport_outliers <- outliers[!(startsWith(outliers$gene_id, \"ENSEMBL\")|startsWith(outliers$gene_id, \"REFSEQ\")),]\n",
    "\n",
    "colnames(uniport_outliers)[8] <- \"uniprotswissprot\"\n",
    "uniport_outliers_result <-join(uniport_outliers, uniport_results_df_cl, type=\"full\",by = \"uniprotswissprot\")\n",
    "\n"
   ]
  },
  {
   "cell_type": "code",
   "execution_count": 6,
   "id": "d495a3d2-0503-47f5-b3bd-0a8d2d8f0e8e",
   "metadata": {},
   "outputs": [
    {
     "data": {
      "text/html": [
       "<table class=\"dataframe\">\n",
       "<caption>A data.frame: 6 × 11</caption>\n",
       "<thead>\n",
       "\t<tr><th></th><th scope=col>featureID</th><th scope=col>sampleID</th><th scope=col>protein_intensity</th><th scope=col>measured</th><th scope=col>predprob</th><th scope=col>missing</th><th scope=col>cellline_names</th><th scope=col>uniprotswissprot</th><th scope=col>chromosome_name</th><th scope=col>start_position</th><th scope=col>end_position</th></tr>\n",
       "\t<tr><th></th><th scope=col>&lt;chr&gt;</th><th scope=col>&lt;chr&gt;</th><th scope=col>&lt;dbl&gt;</th><th scope=col>&lt;int&gt;</th><th scope=col>&lt;dbl&gt;</th><th scope=col>&lt;dbl&gt;</th><th scope=col>&lt;chr&gt;</th><th scope=col>&lt;chr&gt;</th><th scope=col>&lt;chr&gt;</th><th scope=col>&lt;int&gt;</th><th scope=col>&lt;int&gt;</th></tr>\n",
       "</thead>\n",
       "<tbody>\n",
       "\t<tr><th scope=row>1</th><td>A0AV96;A0AV96-2</td><td>X786O_NCI60</td><td>26.95893</td><td>1</td><td>0.97</td><td>0.03</td><td>X786O</td><td>A0AV96</td><td>4</td><td>40423267</td><td>40630875</td></tr>\n",
       "\t<tr><th scope=row>2</th><td>A0AV96;A0AV96-2</td><td>A498_NCI60 </td><td>28.67702</td><td>1</td><td>0.99</td><td>0.01</td><td>A498 </td><td>A0AV96</td><td>4</td><td>40423267</td><td>40630875</td></tr>\n",
       "\t<tr><th scope=row>3</th><td>A0AV96;A0AV96-2</td><td>A549_NCI60 </td><td>29.12149</td><td>1</td><td>0.99</td><td>0.01</td><td>A549 </td><td>A0AV96</td><td>4</td><td>40423267</td><td>40630875</td></tr>\n",
       "\t<tr><th scope=row>4</th><td>A0AV96;A0AV96-2</td><td>ACHN_NCI60 </td><td>29.22591</td><td>1</td><td>0.99</td><td>0.01</td><td>ACHN </td><td>A0AV96</td><td>4</td><td>40423267</td><td>40630875</td></tr>\n",
       "\t<tr><th scope=row>5</th><td>A0AV96;A0AV96-2</td><td>BT549_NCI60</td><td>24.08905</td><td>1</td><td>0.86</td><td>0.14</td><td>BT549</td><td>A0AV96</td><td>4</td><td>40423267</td><td>40630875</td></tr>\n",
       "\t<tr><th scope=row>6</th><td>A0AV96;A0AV96-2</td><td>CAKI1_NCI60</td><td>27.47051</td><td>1</td><td>0.98</td><td>0.02</td><td>CAKI1</td><td>A0AV96</td><td>4</td><td>40423267</td><td>40630875</td></tr>\n",
       "</tbody>\n",
       "</table>\n"
      ],
      "text/latex": [
       "A data.frame: 6 × 11\n",
       "\\begin{tabular}{r|lllllllllll}\n",
       "  & featureID & sampleID & protein\\_intensity & measured & predprob & missing & cellline\\_names & uniprotswissprot & chromosome\\_name & start\\_position & end\\_position\\\\\n",
       "  & <chr> & <chr> & <dbl> & <int> & <dbl> & <dbl> & <chr> & <chr> & <chr> & <int> & <int>\\\\\n",
       "\\hline\n",
       "\t1 & A0AV96;A0AV96-2 & X786O\\_NCI60 & 26.95893 & 1 & 0.97 & 0.03 & X786O & A0AV96 & 4 & 40423267 & 40630875\\\\\n",
       "\t2 & A0AV96;A0AV96-2 & A498\\_NCI60  & 28.67702 & 1 & 0.99 & 0.01 & A498  & A0AV96 & 4 & 40423267 & 40630875\\\\\n",
       "\t3 & A0AV96;A0AV96-2 & A549\\_NCI60  & 29.12149 & 1 & 0.99 & 0.01 & A549  & A0AV96 & 4 & 40423267 & 40630875\\\\\n",
       "\t4 & A0AV96;A0AV96-2 & ACHN\\_NCI60  & 29.22591 & 1 & 0.99 & 0.01 & ACHN  & A0AV96 & 4 & 40423267 & 40630875\\\\\n",
       "\t5 & A0AV96;A0AV96-2 & BT549\\_NCI60 & 24.08905 & 1 & 0.86 & 0.14 & BT549 & A0AV96 & 4 & 40423267 & 40630875\\\\\n",
       "\t6 & A0AV96;A0AV96-2 & CAKI1\\_NCI60 & 27.47051 & 1 & 0.98 & 0.02 & CAKI1 & A0AV96 & 4 & 40423267 & 40630875\\\\\n",
       "\\end{tabular}\n"
      ],
      "text/markdown": [
       "\n",
       "A data.frame: 6 × 11\n",
       "\n",
       "| <!--/--> | featureID &lt;chr&gt; | sampleID &lt;chr&gt; | protein_intensity &lt;dbl&gt; | measured &lt;int&gt; | predprob &lt;dbl&gt; | missing &lt;dbl&gt; | cellline_names &lt;chr&gt; | uniprotswissprot &lt;chr&gt; | chromosome_name &lt;chr&gt; | start_position &lt;int&gt; | end_position &lt;int&gt; |\n",
       "|---|---|---|---|---|---|---|---|---|---|---|---|\n",
       "| 1 | A0AV96;A0AV96-2 | X786O_NCI60 | 26.95893 | 1 | 0.97 | 0.03 | X786O | A0AV96 | 4 | 40423267 | 40630875 |\n",
       "| 2 | A0AV96;A0AV96-2 | A498_NCI60  | 28.67702 | 1 | 0.99 | 0.01 | A498  | A0AV96 | 4 | 40423267 | 40630875 |\n",
       "| 3 | A0AV96;A0AV96-2 | A549_NCI60  | 29.12149 | 1 | 0.99 | 0.01 | A549  | A0AV96 | 4 | 40423267 | 40630875 |\n",
       "| 4 | A0AV96;A0AV96-2 | ACHN_NCI60  | 29.22591 | 1 | 0.99 | 0.01 | ACHN  | A0AV96 | 4 | 40423267 | 40630875 |\n",
       "| 5 | A0AV96;A0AV96-2 | BT549_NCI60 | 24.08905 | 1 | 0.86 | 0.14 | BT549 | A0AV96 | 4 | 40423267 | 40630875 |\n",
       "| 6 | A0AV96;A0AV96-2 | CAKI1_NCI60 | 27.47051 | 1 | 0.98 | 0.02 | CAKI1 | A0AV96 | 4 | 40423267 | 40630875 |\n",
       "\n"
      ],
      "text/plain": [
       "  featureID       sampleID    protein_intensity measured predprob missing\n",
       "1 A0AV96;A0AV96-2 X786O_NCI60 26.95893          1        0.97     0.03   \n",
       "2 A0AV96;A0AV96-2 A498_NCI60  28.67702          1        0.99     0.01   \n",
       "3 A0AV96;A0AV96-2 A549_NCI60  29.12149          1        0.99     0.01   \n",
       "4 A0AV96;A0AV96-2 ACHN_NCI60  29.22591          1        0.99     0.01   \n",
       "5 A0AV96;A0AV96-2 BT549_NCI60 24.08905          1        0.86     0.14   \n",
       "6 A0AV96;A0AV96-2 CAKI1_NCI60 27.47051          1        0.98     0.02   \n",
       "  cellline_names uniprotswissprot chromosome_name start_position end_position\n",
       "1 X786O          A0AV96           4               40423267       40630875    \n",
       "2 A498           A0AV96           4               40423267       40630875    \n",
       "3 A549           A0AV96           4               40423267       40630875    \n",
       "4 ACHN           A0AV96           4               40423267       40630875    \n",
       "5 BT549          A0AV96           4               40423267       40630875    \n",
       "6 CAKI1          A0AV96           4               40423267       40630875    "
      ]
     },
     "metadata": {},
     "output_type": "display_data"
    }
   ],
   "source": [
    "head(uniport_outliers_result)"
   ]
  },
  {
   "cell_type": "code",
   "execution_count": 7,
   "id": "60549e7b-7309-484f-8cae-d9f263e52826",
   "metadata": {},
   "outputs": [],
   "source": [
    "\n",
    "#extract chromosom number and position from var_maf\n",
    "\n",
    "var_maf$chromosome_name <- sapply(strsplit(var_maf$Identifier,\":\"), head, 1) %>% str_replace(\"chr\",\"\")\n",
    "\n",
    "var_maf$position <- gsub(\".*:(.+)_._.*\", \"\\\\1\", var_maf$Identifier)"
   ]
  },
  {
   "cell_type": "code",
   "execution_count": 8,
   "id": "529d40d7-44b9-4e7e-948c-ef6822844f0b",
   "metadata": {},
   "outputs": [
    {
     "data": {
      "text/html": [
       "<table class=\"dataframe\">\n",
       "<caption>A data.frame: 6 × 7</caption>\n",
       "<thead>\n",
       "\t<tr><th></th><th scope=col>Identifier</th><th scope=col>sample.cell_line.</th><th scope=col>frequency</th><th scope=col>AF</th><th scope=col>cellline_names</th><th scope=col>chromosome_name</th><th scope=col>position</th></tr>\n",
       "\t<tr><th></th><th scope=col>&lt;chr&gt;</th><th scope=col>&lt;chr&gt;</th><th scope=col>&lt;dbl&gt;</th><th scope=col>&lt;dbl&gt;</th><th scope=col>&lt;chr&gt;</th><th scope=col>&lt;chr&gt;</th><th scope=col>&lt;chr&gt;</th></tr>\n",
       "</thead>\n",
       "<tbody>\n",
       "\t<tr><th scope=row>1</th><td>chr10:100010849_G_A</td><td>ME:SK-MEL-2</td><td>45.238</td><td>1e-08</td><td>SKMEL2 </td><td>10</td><td>100010849</td></tr>\n",
       "\t<tr><th scope=row>2</th><td>chr10:100013418_T_G</td><td>ME:SK-MEL-2</td><td>56.140</td><td>6e-05</td><td>SKMEL2 </td><td>10</td><td>100013418</td></tr>\n",
       "\t<tr><th scope=row>3</th><td>chr10:100017532_G_T</td><td>LC:EKVX    </td><td>82.456</td><td>9e-03</td><td>EKVX   </td><td>10</td><td>100017532</td></tr>\n",
       "\t<tr><th scope=row>4</th><td>chr10:100020867_C_A</td><td>CO:HCT-15  </td><td>38.889</td><td>1e-08</td><td>HCT15  </td><td>10</td><td>100020867</td></tr>\n",
       "\t<tr><th scope=row>5</th><td>chr10:100021911_C_T</td><td>BR:MCF7    </td><td>29.508</td><td>2e-04</td><td>MCF7   </td><td>10</td><td>100021911</td></tr>\n",
       "\t<tr><th scope=row>6</th><td>chr10:100167409_A_C</td><td>CO:HCC-2998</td><td>44.000</td><td>1e-08</td><td>HCC2998</td><td>10</td><td>100167409</td></tr>\n",
       "</tbody>\n",
       "</table>\n"
      ],
      "text/latex": [
       "A data.frame: 6 × 7\n",
       "\\begin{tabular}{r|lllllll}\n",
       "  & Identifier & sample.cell\\_line. & frequency & AF & cellline\\_names & chromosome\\_name & position\\\\\n",
       "  & <chr> & <chr> & <dbl> & <dbl> & <chr> & <chr> & <chr>\\\\\n",
       "\\hline\n",
       "\t1 & chr10:100010849\\_G\\_A & ME:SK-MEL-2 & 45.238 & 1e-08 & SKMEL2  & 10 & 100010849\\\\\n",
       "\t2 & chr10:100013418\\_T\\_G & ME:SK-MEL-2 & 56.140 & 6e-05 & SKMEL2  & 10 & 100013418\\\\\n",
       "\t3 & chr10:100017532\\_G\\_T & LC:EKVX     & 82.456 & 9e-03 & EKVX    & 10 & 100017532\\\\\n",
       "\t4 & chr10:100020867\\_C\\_A & CO:HCT-15   & 38.889 & 1e-08 & HCT15   & 10 & 100020867\\\\\n",
       "\t5 & chr10:100021911\\_C\\_T & BR:MCF7     & 29.508 & 2e-04 & MCF7    & 10 & 100021911\\\\\n",
       "\t6 & chr10:100167409\\_A\\_C & CO:HCC-2998 & 44.000 & 1e-08 & HCC2998 & 10 & 100167409\\\\\n",
       "\\end{tabular}\n"
      ],
      "text/markdown": [
       "\n",
       "A data.frame: 6 × 7\n",
       "\n",
       "| <!--/--> | Identifier &lt;chr&gt; | sample.cell_line. &lt;chr&gt; | frequency &lt;dbl&gt; | AF &lt;dbl&gt; | cellline_names &lt;chr&gt; | chromosome_name &lt;chr&gt; | position &lt;chr&gt; |\n",
       "|---|---|---|---|---|---|---|---|\n",
       "| 1 | chr10:100010849_G_A | ME:SK-MEL-2 | 45.238 | 1e-08 | SKMEL2  | 10 | 100010849 |\n",
       "| 2 | chr10:100013418_T_G | ME:SK-MEL-2 | 56.140 | 6e-05 | SKMEL2  | 10 | 100013418 |\n",
       "| 3 | chr10:100017532_G_T | LC:EKVX     | 82.456 | 9e-03 | EKVX    | 10 | 100017532 |\n",
       "| 4 | chr10:100020867_C_A | CO:HCT-15   | 38.889 | 1e-08 | HCT15   | 10 | 100020867 |\n",
       "| 5 | chr10:100021911_C_T | BR:MCF7     | 29.508 | 2e-04 | MCF7    | 10 | 100021911 |\n",
       "| 6 | chr10:100167409_A_C | CO:HCC-2998 | 44.000 | 1e-08 | HCC2998 | 10 | 100167409 |\n",
       "\n"
      ],
      "text/plain": [
       "  Identifier          sample.cell_line. frequency AF    cellline_names\n",
       "1 chr10:100010849_G_A ME:SK-MEL-2       45.238    1e-08 SKMEL2        \n",
       "2 chr10:100013418_T_G ME:SK-MEL-2       56.140    6e-05 SKMEL2        \n",
       "3 chr10:100017532_G_T LC:EKVX           82.456    9e-03 EKVX          \n",
       "4 chr10:100020867_C_A CO:HCT-15         38.889    1e-08 HCT15         \n",
       "5 chr10:100021911_C_T BR:MCF7           29.508    2e-04 MCF7          \n",
       "6 chr10:100167409_A_C CO:HCC-2998       44.000    1e-08 HCC2998       \n",
       "  chromosome_name position \n",
       "1 10              100010849\n",
       "2 10              100013418\n",
       "3 10              100017532\n",
       "4 10              100020867\n",
       "5 10              100021911\n",
       "6 10              100167409"
      ]
     },
     "metadata": {},
     "output_type": "display_data"
    }
   ],
   "source": [
    "head(var_maf)"
   ]
  },
  {
   "cell_type": "code",
   "execution_count": 14,
   "id": "4507271c-cf66-43b0-9da7-bbc2366885a8",
   "metadata": {},
   "outputs": [],
   "source": [
    "#map chromosomes\n",
    "\n",
    "match_gene_id <- function(A, B) {\n",
    "  # Add new column to B dataframe to store the matched gene ID\n",
    "  B$uniprotswissprot <- NA\n",
    "  #B$uniprotswissprot_2 <- NA\n",
    "  \n",
    "  # Loop through each row in B\n",
    "  for (i in 1:nrow(B)) {\n",
    "    # Subset A to only include rows with the same chromosome name as B\n",
    "    A_subset <- subset(A, A$chromosome_name == B$chromosome_name[i])\n",
    "    #Check if the position of SNP is between start and end position\n",
    "    A_subset <- A_subset[A_subset$start_position <= B$position[i] & A_subset$end_position >= B$position[i],]\n",
    "    #if there is a match assign the gene_id to the B dataframe\n",
    "    if(nrow(A_subset) > 0){\n",
    "      #print(A_subset$uniprotswissprot)\n",
    "      B$uniprotswissprot[i] <- A_subset$uniprotswissprot[1]\n",
    "      #if(length(A_subset$uniprotswissprot) > 1){\n",
    "      #    B$uniprotswissprot_2[i] <- A_subset$uniprotswissprot[2]\n",
    "      #  }\n",
    "      \n",
    "    }else{\n",
    "      B$uniprotswissprot[i] <- \"None_found\"\n",
    "    }\n",
    "    \n",
    "  }\n",
    "  return(B)\n",
    "}\n",
    "\n",
    "#mapping start\n",
    "#test <-  match_gene_id(uniport_results_df_cl,var_maf)\n",
    "\n",
    "var_maf_with_gene <- match_gene_id(uniport_results_df_cl,var_maf)\n",
    "\n",
    "var_maf_with_gene_cl <- var_maf_with_gene[var_maf_with_gene$uniprotswissprot != \"None_found\",]\n",
    "\n",
    "var_maf_outlier_result <-join(uniport_outliers, var_maf_with_gene_cl,by = c(\"uniprotswissprot\",\"cellline_names\"))\n",
    "\n",
    "var_maf_outlier_result_cl <- na.omit(var_maf_outlier_result)\n",
    "\n",
    "\n",
    "#write.table(var_maf_outlier_result_cl, \"outlier_prob_with_maf.txt\",quote = F,row.names = F,col.names = T,sep = \",\")\n"
   ]
  },
  {
   "cell_type": "code",
   "execution_count": 15,
   "id": "511af505-10d6-4317-ab1e-fa1907adeee5",
   "metadata": {},
   "outputs": [
    {
     "data": {
      "text/html": [
       "<table class=\"dataframe\">\n",
       "<caption>A data.frame: 6 × 14</caption>\n",
       "<thead>\n",
       "\t<tr><th></th><th scope=col>featureID</th><th scope=col>sampleID</th><th scope=col>protein_intensity</th><th scope=col>measured</th><th scope=col>predprob</th><th scope=col>missing</th><th scope=col>cellline_names</th><th scope=col>uniprotswissprot</th><th scope=col>Identifier</th><th scope=col>sample.cell_line.</th><th scope=col>frequency</th><th scope=col>AF</th><th scope=col>chromosome_name</th><th scope=col>position</th></tr>\n",
       "\t<tr><th></th><th scope=col>&lt;chr&gt;</th><th scope=col>&lt;chr&gt;</th><th scope=col>&lt;dbl&gt;</th><th scope=col>&lt;int&gt;</th><th scope=col>&lt;dbl&gt;</th><th scope=col>&lt;dbl&gt;</th><th scope=col>&lt;chr&gt;</th><th scope=col>&lt;chr&gt;</th><th scope=col>&lt;chr&gt;</th><th scope=col>&lt;chr&gt;</th><th scope=col>&lt;dbl&gt;</th><th scope=col>&lt;dbl&gt;</th><th scope=col>&lt;chr&gt;</th><th scope=col>&lt;chr&gt;</th></tr>\n",
       "</thead>\n",
       "<tbody>\n",
       "\t<tr><th scope=row>49</th><td>A0AV96;A0AV96-2                </td><td>SKOV3_NCI60  </td><td>29.15962</td><td>1</td><td>0.99</td><td>0.01</td><td>SKOV3  </td><td>A0AV96</td><td>chr4:40440159_C_T  </td><td>OV:SK-OV-3 </td><td>38.372</td><td>1e-08</td><td>4 </td><td>40440159 </td></tr>\n",
       "\t<tr><th scope=row>56</th><td>A0AV96;A0AV96-2                </td><td>TK10_NCI60   </td><td>28.86376</td><td>1</td><td>0.99</td><td>0.01</td><td>TK10   </td><td>A0AV96</td><td>chr4:40440416_C_G  </td><td>RE:TK-10   </td><td>25.000</td><td>1e-08</td><td>4 </td><td>40440416 </td></tr>\n",
       "\t<tr><th scope=row>192</th><td>A0FGR8-6;A0FGR8                </td><td>HCT116_NCI60 </td><td>25.17780</td><td>1</td><td>0.93</td><td>0.07</td><td>HCT116 </td><td>A0FGR8</td><td>chr7:158826965_G_A </td><td>CO:HCT-116 </td><td>38.462</td><td>1e-08</td><td>7 </td><td>158826965</td></tr>\n",
       "\t<tr><th scope=row>309</th><td>A0JNW5;A0JNW5-2;Q32M92-2;Q32M92</td><td>DU145_NCI60  </td><td>27.46246</td><td>1</td><td>0.98</td><td>0.02</td><td>DU145  </td><td>A0JNW5</td><td>chr12:100041974_C_A</td><td>PR:DU-145  </td><td>50.000</td><td>1e-08</td><td>12</td><td>100041974</td></tr>\n",
       "\t<tr><th scope=row>334</th><td>A0JNW5;A0JNW5-2;Q32M92-2;Q32M92</td><td>NCIH460_NCI60</td><td>26.96630</td><td>1</td><td>0.98</td><td>0.02</td><td>NCIH460</td><td>A0JNW5</td><td>chr12:100042536_C_A</td><td>LC:NCI-H460</td><td>35.000</td><td>1e-08</td><td>12</td><td>100042536</td></tr>\n",
       "\t<tr><th scope=row>339</th><td>A0JNW5;A0JNW5-2;Q32M92-2;Q32M92</td><td>OVCAR8_NCI60 </td><td>27.05421</td><td>1</td><td>0.98</td><td>0.02</td><td>OVCAR8 </td><td>A0JNW5</td><td>chr12:100042051_C_G</td><td>OV:OVCAR-8 </td><td>25.714</td><td>1e-08</td><td>12</td><td>100042051</td></tr>\n",
       "</tbody>\n",
       "</table>\n"
      ],
      "text/latex": [
       "A data.frame: 6 × 14\n",
       "\\begin{tabular}{r|llllllllllllll}\n",
       "  & featureID & sampleID & protein\\_intensity & measured & predprob & missing & cellline\\_names & uniprotswissprot & Identifier & sample.cell\\_line. & frequency & AF & chromosome\\_name & position\\\\\n",
       "  & <chr> & <chr> & <dbl> & <int> & <dbl> & <dbl> & <chr> & <chr> & <chr> & <chr> & <dbl> & <dbl> & <chr> & <chr>\\\\\n",
       "\\hline\n",
       "\t49 & A0AV96;A0AV96-2                 & SKOV3\\_NCI60   & 29.15962 & 1 & 0.99 & 0.01 & SKOV3   & A0AV96 & chr4:40440159\\_C\\_T   & OV:SK-OV-3  & 38.372 & 1e-08 & 4  & 40440159 \\\\\n",
       "\t56 & A0AV96;A0AV96-2                 & TK10\\_NCI60    & 28.86376 & 1 & 0.99 & 0.01 & TK10    & A0AV96 & chr4:40440416\\_C\\_G   & RE:TK-10    & 25.000 & 1e-08 & 4  & 40440416 \\\\\n",
       "\t192 & A0FGR8-6;A0FGR8                 & HCT116\\_NCI60  & 25.17780 & 1 & 0.93 & 0.07 & HCT116  & A0FGR8 & chr7:158826965\\_G\\_A  & CO:HCT-116  & 38.462 & 1e-08 & 7  & 158826965\\\\\n",
       "\t309 & A0JNW5;A0JNW5-2;Q32M92-2;Q32M92 & DU145\\_NCI60   & 27.46246 & 1 & 0.98 & 0.02 & DU145   & A0JNW5 & chr12:100041974\\_C\\_A & PR:DU-145   & 50.000 & 1e-08 & 12 & 100041974\\\\\n",
       "\t334 & A0JNW5;A0JNW5-2;Q32M92-2;Q32M92 & NCIH460\\_NCI60 & 26.96630 & 1 & 0.98 & 0.02 & NCIH460 & A0JNW5 & chr12:100042536\\_C\\_A & LC:NCI-H460 & 35.000 & 1e-08 & 12 & 100042536\\\\\n",
       "\t339 & A0JNW5;A0JNW5-2;Q32M92-2;Q32M92 & OVCAR8\\_NCI60  & 27.05421 & 1 & 0.98 & 0.02 & OVCAR8  & A0JNW5 & chr12:100042051\\_C\\_G & OV:OVCAR-8  & 25.714 & 1e-08 & 12 & 100042051\\\\\n",
       "\\end{tabular}\n"
      ],
      "text/markdown": [
       "\n",
       "A data.frame: 6 × 14\n",
       "\n",
       "| <!--/--> | featureID &lt;chr&gt; | sampleID &lt;chr&gt; | protein_intensity &lt;dbl&gt; | measured &lt;int&gt; | predprob &lt;dbl&gt; | missing &lt;dbl&gt; | cellline_names &lt;chr&gt; | uniprotswissprot &lt;chr&gt; | Identifier &lt;chr&gt; | sample.cell_line. &lt;chr&gt; | frequency &lt;dbl&gt; | AF &lt;dbl&gt; | chromosome_name &lt;chr&gt; | position &lt;chr&gt; |\n",
       "|---|---|---|---|---|---|---|---|---|---|---|---|---|---|---|\n",
       "| 49 | A0AV96;A0AV96-2                 | SKOV3_NCI60   | 29.15962 | 1 | 0.99 | 0.01 | SKOV3   | A0AV96 | chr4:40440159_C_T   | OV:SK-OV-3  | 38.372 | 1e-08 | 4  | 40440159  |\n",
       "| 56 | A0AV96;A0AV96-2                 | TK10_NCI60    | 28.86376 | 1 | 0.99 | 0.01 | TK10    | A0AV96 | chr4:40440416_C_G   | RE:TK-10    | 25.000 | 1e-08 | 4  | 40440416  |\n",
       "| 192 | A0FGR8-6;A0FGR8                 | HCT116_NCI60  | 25.17780 | 1 | 0.93 | 0.07 | HCT116  | A0FGR8 | chr7:158826965_G_A  | CO:HCT-116  | 38.462 | 1e-08 | 7  | 158826965 |\n",
       "| 309 | A0JNW5;A0JNW5-2;Q32M92-2;Q32M92 | DU145_NCI60   | 27.46246 | 1 | 0.98 | 0.02 | DU145   | A0JNW5 | chr12:100041974_C_A | PR:DU-145   | 50.000 | 1e-08 | 12 | 100041974 |\n",
       "| 334 | A0JNW5;A0JNW5-2;Q32M92-2;Q32M92 | NCIH460_NCI60 | 26.96630 | 1 | 0.98 | 0.02 | NCIH460 | A0JNW5 | chr12:100042536_C_A | LC:NCI-H460 | 35.000 | 1e-08 | 12 | 100042536 |\n",
       "| 339 | A0JNW5;A0JNW5-2;Q32M92-2;Q32M92 | OVCAR8_NCI60  | 27.05421 | 1 | 0.98 | 0.02 | OVCAR8  | A0JNW5 | chr12:100042051_C_G | OV:OVCAR-8  | 25.714 | 1e-08 | 12 | 100042051 |\n",
       "\n"
      ],
      "text/plain": [
       "    featureID                       sampleID      protein_intensity measured\n",
       "49  A0AV96;A0AV96-2                 SKOV3_NCI60   29.15962          1       \n",
       "56  A0AV96;A0AV96-2                 TK10_NCI60    28.86376          1       \n",
       "192 A0FGR8-6;A0FGR8                 HCT116_NCI60  25.17780          1       \n",
       "309 A0JNW5;A0JNW5-2;Q32M92-2;Q32M92 DU145_NCI60   27.46246          1       \n",
       "334 A0JNW5;A0JNW5-2;Q32M92-2;Q32M92 NCIH460_NCI60 26.96630          1       \n",
       "339 A0JNW5;A0JNW5-2;Q32M92-2;Q32M92 OVCAR8_NCI60  27.05421          1       \n",
       "    predprob missing cellline_names uniprotswissprot Identifier         \n",
       "49  0.99     0.01    SKOV3          A0AV96           chr4:40440159_C_T  \n",
       "56  0.99     0.01    TK10           A0AV96           chr4:40440416_C_G  \n",
       "192 0.93     0.07    HCT116         A0FGR8           chr7:158826965_G_A \n",
       "309 0.98     0.02    DU145          A0JNW5           chr12:100041974_C_A\n",
       "334 0.98     0.02    NCIH460        A0JNW5           chr12:100042536_C_A\n",
       "339 0.98     0.02    OVCAR8         A0JNW5           chr12:100042051_C_G\n",
       "    sample.cell_line. frequency AF    chromosome_name position \n",
       "49  OV:SK-OV-3        38.372    1e-08 4               40440159 \n",
       "56  RE:TK-10          25.000    1e-08 4               40440416 \n",
       "192 CO:HCT-116        38.462    1e-08 7               158826965\n",
       "309 PR:DU-145         50.000    1e-08 12              100041974\n",
       "334 LC:NCI-H460       35.000    1e-08 12              100042536\n",
       "339 OV:OVCAR-8        25.714    1e-08 12              100042051"
      ]
     },
     "metadata": {},
     "output_type": "display_data"
    }
   ],
   "source": [
    "head(var_maf_outlier_result_cl)"
   ]
  },
  {
   "cell_type": "code",
   "execution_count": 16,
   "id": "db2db1b2-5097-4804-b572-b5cc6589b98a",
   "metadata": {},
   "outputs": [
    {
     "data": {
      "text/html": [
       "0.0104842768517501"
      ],
      "text/latex": [
       "0.0104842768517501"
      ],
      "text/markdown": [
       "0.0104842768517501"
      ],
      "text/plain": [
       "[1] 0.01048428"
      ]
     },
     "metadata": {},
     "output_type": "display_data"
    }
   ],
   "source": [
    "cor(var_maf_outlier_result_cl$missing, var_maf_outlier_result_cl$AF,  method = \"pearson\", use = \"complete.obs\")"
   ]
  },
  {
   "cell_type": "code",
   "execution_count": 17,
   "id": "02139268-923c-42b4-a448-0284f7e35aa3",
   "metadata": {},
   "outputs": [
    {
     "data": {
      "image/png": "[encoded data removed]",
      "text/plain": [
       "plot without title"
      ]
     },
     "metadata": {
      "image/png": {
       "height": 420,
       "width": 420
      }
     },
     "output_type": "display_data"
    }
   ],
   "source": [
    "ggplot(var_maf_outlier_result_cl[var_maf_outlier_result_cl$cellline_names ==\"A498\",], aes(missing %>% as.numeric(),AF %>% as.numeric()))+\n",
    "  geom_point()"
   ]
  }
 ],
 "metadata": {
  "kernelspec": {
   "display_name": "R [conda env:anaconda-ncrna-outliers_2]",
   "language": "R",
   "name": "conda-env-anaconda-ncrna-outliers_2-r"
  },
  "language_info": {
   "codemirror_mode": "r",
   "file_extension": ".r",
   "mimetype": "text/x-r-source",
   "name": "R",
   "pygments_lexer": "r",
   "version": "4.1.1"
  }
 },
 "nbformat": 4,
 "nbformat_minor": 5
}
