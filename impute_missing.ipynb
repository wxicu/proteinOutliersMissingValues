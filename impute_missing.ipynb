{
 "cells": [
  {
   "cell_type": "code",
   "execution_count": 1,
   "id": "d4c9aa46",
   "metadata": {},
   "outputs": [],
   "source": [
    "library(data.table)"
   ]
  },
  {
   "cell_type": "code",
   "execution_count": 2,
   "id": "469d45ff",
   "metadata": {},
   "outputs": [
    {
     "name": "stderr",
     "output_type": "stream",
     "text": [
      "Warning message in fread(\"pred_no_na.txt\"):\n",
      "“Detected 60 column names but the data has 61 columns (i.e. invalid file). Added 1 extra default column name for the first column which is guessed to be row names or an index. Use setnames() afterwards if this guess is not correct, or fix the file write command that created the file to create a valid file.”\n"
     ]
    },
    {
     "data": {
      "text/html": [
       "<style>\n",
       ".list-inline {list-style: none; margin:0; padding: 0}\n",
       ".list-inline>li {display: inline-block}\n",
       ".list-inline>li:not(:last-child)::after {content: \"\\00b7\"; padding: 0 .5ex}\n",
       "</style>\n",
       "<ol class=list-inline><li>6975</li><li>61</li></ol>\n"
      ],
      "text/latex": [
       "\\begin{enumerate*}\n",
       "\\item 6975\n",
       "\\item 61\n",
       "\\end{enumerate*}\n"
      ],
      "text/markdown": [
       "1. 6975\n",
       "2. 61\n",
       "\n",
       "\n"
      ],
      "text/plain": [
       "[1] 6975   61"
      ]
     },
     "metadata": {},
     "output_type": "display_data"
    },
    {
     "data": {
      "text/html": [
       "<table class=\"dataframe\">\n",
       "<caption>A data.table: 6 × 61</caption>\n",
       "<thead>\n",
       "\t<tr><th scope=col>featureID</th><th scope=col>X786O_NCI60</th><th scope=col>A498_NCI60</th><th scope=col>A549_NCI60</th><th scope=col>ACHN_NCI60</th><th scope=col>BT549_NCI60</th><th scope=col>CAKI1_NCI60</th><th scope=col>CCRFCEM_NCI60</th><th scope=col>COLO205_NCI60</th><th scope=col>DU145_NCI60</th><th scope=col>⋯</th><th scope=col>SNB19_NCI60</th><th scope=col>SNB75_NCI60</th><th scope=col>SR_NCI60</th><th scope=col>SW620_NCI60</th><th scope=col>T47D_NCI60</th><th scope=col>TK10_NCI60</th><th scope=col>U031_NCI60</th><th scope=col>U251_NCI60</th><th scope=col>UACC257_NCI60</th><th scope=col>UACC62_NCI60</th></tr>\n",
       "\t<tr><th scope=col>&lt;chr&gt;</th><th scope=col>&lt;dbl&gt;</th><th scope=col>&lt;dbl&gt;</th><th scope=col>&lt;dbl&gt;</th><th scope=col>&lt;dbl&gt;</th><th scope=col>&lt;dbl&gt;</th><th scope=col>&lt;dbl&gt;</th><th scope=col>&lt;dbl&gt;</th><th scope=col>&lt;dbl&gt;</th><th scope=col>&lt;dbl&gt;</th><th scope=col>⋯</th><th scope=col>&lt;dbl&gt;</th><th scope=col>&lt;dbl&gt;</th><th scope=col>&lt;dbl&gt;</th><th scope=col>&lt;dbl&gt;</th><th scope=col>&lt;dbl&gt;</th><th scope=col>&lt;dbl&gt;</th><th scope=col>&lt;dbl&gt;</th><th scope=col>&lt;dbl&gt;</th><th scope=col>&lt;dbl&gt;</th><th scope=col>&lt;dbl&gt;</th></tr>\n",
       "</thead>\n",
       "<tbody>\n",
       "\t<tr><td>P0DN26;A0A075B759;Q9Y536;F5H284;A0A0B4J2A2;P0DN37</td><td>23.82530</td><td>24.89250</td><td>23.46536</td><td>24.26511</td><td>24.99417</td><td>25.46808</td><td>23.91395</td><td>25.65536</td><td>23.57569</td><td>⋯</td><td>25.54598</td><td>26.19636</td><td>22.81692</td><td>24.31618</td><td>25.50504</td><td>25.56392</td><td>23.95363</td><td>25.12832</td><td>25.17307</td><td>25.84836</td></tr>\n",
       "\t<tr><td>A0AV96;A0AV96-2                                  </td><td>26.95893</td><td>28.67702</td><td>29.12149</td><td>29.22591</td><td>24.08905</td><td>27.47051</td><td>22.85227</td><td>32.45874</td><td>28.00763</td><td>⋯</td><td>25.51139</td><td>25.44076</td><td>26.48217</td><td>28.93228</td><td>29.98096</td><td>28.86376</td><td>26.97917</td><td>26.17529</td><td>25.60923</td><td>25.94243</td></tr>\n",
       "\t<tr><td>A0AVF1;A0AVF1-2;A0AVF1-3                         </td><td>23.77847</td><td>24.47958</td><td>23.40375</td><td>26.09918</td><td>24.29845</td><td>24.66992</td><td>25.21604</td><td>24.20237</td><td>24.03991</td><td>⋯</td><td>25.57966</td><td>25.25518</td><td>26.65104</td><td>25.98517</td><td>23.99013</td><td>24.89343</td><td>25.10870</td><td>25.50019</td><td>24.60681</td><td>24.27626</td></tr>\n",
       "\t<tr><td>A0AVT1;A0AVT1-2;A0AVT1-3;A0AVT1-4                </td><td>31.90762</td><td>31.70965</td><td>31.41251</td><td>32.39082</td><td>31.29363</td><td>32.02402</td><td>31.57607</td><td>31.04223</td><td>31.72583</td><td>⋯</td><td>31.48502</td><td>31.35044</td><td>31.52994</td><td>31.32385</td><td>31.54180</td><td>32.04987</td><td>31.81649</td><td>31.61414</td><td>30.10508</td><td>30.35830</td></tr>\n",
       "\t<tr><td>A0FGR8-6;A0FGR8                                  </td><td>29.53564</td><td>26.32843</td><td>26.11850</td><td>24.78599</td><td>26.70081</td><td>25.57264</td><td>27.98287</td><td>27.27502</td><td>26.03777</td><td>⋯</td><td>26.92745</td><td>26.57684</td><td>28.59774</td><td>26.38374</td><td>25.82347</td><td>25.27722</td><td>26.00291</td><td>25.33322</td><td>26.35553</td><td>24.34689</td></tr>\n",
       "\t<tr><td>A0JLT2;A0JLT2-2                                  </td><td>24.02672</td><td>25.56828</td><td>26.18665</td><td>24.93679</td><td>25.16909</td><td>25.26828</td><td>26.73343</td><td>25.75000</td><td>25.72822</td><td>⋯</td><td>25.08475</td><td>24.77894</td><td>25.33499</td><td>25.66370</td><td>26.69872</td><td>24.44849</td><td>25.86691</td><td>25.13800</td><td>25.44573</td><td>25.14074</td></tr>\n",
       "</tbody>\n",
       "</table>\n"
      ],
      "text/latex": [
       "A data.table: 6 × 61\n",
       "\\begin{tabular}{lllllllllllllllllllll}\n",
       " featureID & X786O\\_NCI60 & A498\\_NCI60 & A549\\_NCI60 & ACHN\\_NCI60 & BT549\\_NCI60 & CAKI1\\_NCI60 & CCRFCEM\\_NCI60 & COLO205\\_NCI60 & DU145\\_NCI60 & ⋯ & SNB19\\_NCI60 & SNB75\\_NCI60 & SR\\_NCI60 & SW620\\_NCI60 & T47D\\_NCI60 & TK10\\_NCI60 & U031\\_NCI60 & U251\\_NCI60 & UACC257\\_NCI60 & UACC62\\_NCI60\\\\\n",
       " <chr> & <dbl> & <dbl> & <dbl> & <dbl> & <dbl> & <dbl> & <dbl> & <dbl> & <dbl> & ⋯ & <dbl> & <dbl> & <dbl> & <dbl> & <dbl> & <dbl> & <dbl> & <dbl> & <dbl> & <dbl>\\\\\n",
       "\\hline\n",
       "\t P0DN26;A0A075B759;Q9Y536;F5H284;A0A0B4J2A2;P0DN37 & 23.82530 & 24.89250 & 23.46536 & 24.26511 & 24.99417 & 25.46808 & 23.91395 & 25.65536 & 23.57569 & ⋯ & 25.54598 & 26.19636 & 22.81692 & 24.31618 & 25.50504 & 25.56392 & 23.95363 & 25.12832 & 25.17307 & 25.84836\\\\\n",
       "\t A0AV96;A0AV96-2                                   & 26.95893 & 28.67702 & 29.12149 & 29.22591 & 24.08905 & 27.47051 & 22.85227 & 32.45874 & 28.00763 & ⋯ & 25.51139 & 25.44076 & 26.48217 & 28.93228 & 29.98096 & 28.86376 & 26.97917 & 26.17529 & 25.60923 & 25.94243\\\\\n",
       "\t A0AVF1;A0AVF1-2;A0AVF1-3                          & 23.77847 & 24.47958 & 23.40375 & 26.09918 & 24.29845 & 24.66992 & 25.21604 & 24.20237 & 24.03991 & ⋯ & 25.57966 & 25.25518 & 26.65104 & 25.98517 & 23.99013 & 24.89343 & 25.10870 & 25.50019 & 24.60681 & 24.27626\\\\\n",
       "\t A0AVT1;A0AVT1-2;A0AVT1-3;A0AVT1-4                 & 31.90762 & 31.70965 & 31.41251 & 32.39082 & 31.29363 & 32.02402 & 31.57607 & 31.04223 & 31.72583 & ⋯ & 31.48502 & 31.35044 & 31.52994 & 31.32385 & 31.54180 & 32.04987 & 31.81649 & 31.61414 & 30.10508 & 30.35830\\\\\n",
       "\t A0FGR8-6;A0FGR8                                   & 29.53564 & 26.32843 & 26.11850 & 24.78599 & 26.70081 & 25.57264 & 27.98287 & 27.27502 & 26.03777 & ⋯ & 26.92745 & 26.57684 & 28.59774 & 26.38374 & 25.82347 & 25.27722 & 26.00291 & 25.33322 & 26.35553 & 24.34689\\\\\n",
       "\t A0JLT2;A0JLT2-2                                   & 24.02672 & 25.56828 & 26.18665 & 24.93679 & 25.16909 & 25.26828 & 26.73343 & 25.75000 & 25.72822 & ⋯ & 25.08475 & 24.77894 & 25.33499 & 25.66370 & 26.69872 & 24.44849 & 25.86691 & 25.13800 & 25.44573 & 25.14074\\\\\n",
       "\\end{tabular}\n"
      ],
      "text/markdown": [
       "\n",
       "A data.table: 6 × 61\n",
       "\n",
       "| featureID &lt;chr&gt; | X786O_NCI60 &lt;dbl&gt; | A498_NCI60 &lt;dbl&gt; | A549_NCI60 &lt;dbl&gt; | ACHN_NCI60 &lt;dbl&gt; | BT549_NCI60 &lt;dbl&gt; | CAKI1_NCI60 &lt;dbl&gt; | CCRFCEM_NCI60 &lt;dbl&gt; | COLO205_NCI60 &lt;dbl&gt; | DU145_NCI60 &lt;dbl&gt; | ⋯ ⋯ | SNB19_NCI60 &lt;dbl&gt; | SNB75_NCI60 &lt;dbl&gt; | SR_NCI60 &lt;dbl&gt; | SW620_NCI60 &lt;dbl&gt; | T47D_NCI60 &lt;dbl&gt; | TK10_NCI60 &lt;dbl&gt; | U031_NCI60 &lt;dbl&gt; | U251_NCI60 &lt;dbl&gt; | UACC257_NCI60 &lt;dbl&gt; | UACC62_NCI60 &lt;dbl&gt; |\n",
       "|---|---|---|---|---|---|---|---|---|---|---|---|---|---|---|---|---|---|---|---|---|\n",
       "| P0DN26;A0A075B759;Q9Y536;F5H284;A0A0B4J2A2;P0DN37 | 23.82530 | 24.89250 | 23.46536 | 24.26511 | 24.99417 | 25.46808 | 23.91395 | 25.65536 | 23.57569 | ⋯ | 25.54598 | 26.19636 | 22.81692 | 24.31618 | 25.50504 | 25.56392 | 23.95363 | 25.12832 | 25.17307 | 25.84836 |\n",
       "| A0AV96;A0AV96-2                                   | 26.95893 | 28.67702 | 29.12149 | 29.22591 | 24.08905 | 27.47051 | 22.85227 | 32.45874 | 28.00763 | ⋯ | 25.51139 | 25.44076 | 26.48217 | 28.93228 | 29.98096 | 28.86376 | 26.97917 | 26.17529 | 25.60923 | 25.94243 |\n",
       "| A0AVF1;A0AVF1-2;A0AVF1-3                          | 23.77847 | 24.47958 | 23.40375 | 26.09918 | 24.29845 | 24.66992 | 25.21604 | 24.20237 | 24.03991 | ⋯ | 25.57966 | 25.25518 | 26.65104 | 25.98517 | 23.99013 | 24.89343 | 25.10870 | 25.50019 | 24.60681 | 24.27626 |\n",
       "| A0AVT1;A0AVT1-2;A0AVT1-3;A0AVT1-4                 | 31.90762 | 31.70965 | 31.41251 | 32.39082 | 31.29363 | 32.02402 | 31.57607 | 31.04223 | 31.72583 | ⋯ | 31.48502 | 31.35044 | 31.52994 | 31.32385 | 31.54180 | 32.04987 | 31.81649 | 31.61414 | 30.10508 | 30.35830 |\n",
       "| A0FGR8-6;A0FGR8                                   | 29.53564 | 26.32843 | 26.11850 | 24.78599 | 26.70081 | 25.57264 | 27.98287 | 27.27502 | 26.03777 | ⋯ | 26.92745 | 26.57684 | 28.59774 | 26.38374 | 25.82347 | 25.27722 | 26.00291 | 25.33322 | 26.35553 | 24.34689 |\n",
       "| A0JLT2;A0JLT2-2                                   | 24.02672 | 25.56828 | 26.18665 | 24.93679 | 25.16909 | 25.26828 | 26.73343 | 25.75000 | 25.72822 | ⋯ | 25.08475 | 24.77894 | 25.33499 | 25.66370 | 26.69872 | 24.44849 | 25.86691 | 25.13800 | 25.44573 | 25.14074 |\n",
       "\n"
      ],
      "text/plain": [
       "  featureID                                         X786O_NCI60 A498_NCI60\n",
       "1 P0DN26;A0A075B759;Q9Y536;F5H284;A0A0B4J2A2;P0DN37 23.82530    24.89250  \n",
       "2 A0AV96;A0AV96-2                                   26.95893    28.67702  \n",
       "3 A0AVF1;A0AVF1-2;A0AVF1-3                          23.77847    24.47958  \n",
       "4 A0AVT1;A0AVT1-2;A0AVT1-3;A0AVT1-4                 31.90762    31.70965  \n",
       "5 A0FGR8-6;A0FGR8                                   29.53564    26.32843  \n",
       "6 A0JLT2;A0JLT2-2                                   24.02672    25.56828  \n",
       "  A549_NCI60 ACHN_NCI60 BT549_NCI60 CAKI1_NCI60 CCRFCEM_NCI60 COLO205_NCI60\n",
       "1 23.46536   24.26511   24.99417    25.46808    23.91395      25.65536     \n",
       "2 29.12149   29.22591   24.08905    27.47051    22.85227      32.45874     \n",
       "3 23.40375   26.09918   24.29845    24.66992    25.21604      24.20237     \n",
       "4 31.41251   32.39082   31.29363    32.02402    31.57607      31.04223     \n",
       "5 26.11850   24.78599   26.70081    25.57264    27.98287      27.27502     \n",
       "6 26.18665   24.93679   25.16909    25.26828    26.73343      25.75000     \n",
       "  DU145_NCI60 ⋯ SNB19_NCI60 SNB75_NCI60 SR_NCI60 SW620_NCI60 T47D_NCI60\n",
       "1 23.57569    ⋯ 25.54598    26.19636    22.81692 24.31618    25.50504  \n",
       "2 28.00763    ⋯ 25.51139    25.44076    26.48217 28.93228    29.98096  \n",
       "3 24.03991    ⋯ 25.57966    25.25518    26.65104 25.98517    23.99013  \n",
       "4 31.72583    ⋯ 31.48502    31.35044    31.52994 31.32385    31.54180  \n",
       "5 26.03777    ⋯ 26.92745    26.57684    28.59774 26.38374    25.82347  \n",
       "6 25.72822    ⋯ 25.08475    24.77894    25.33499 25.66370    26.69872  \n",
       "  TK10_NCI60 U031_NCI60 U251_NCI60 UACC257_NCI60 UACC62_NCI60\n",
       "1 25.56392   23.95363   25.12832   25.17307      25.84836    \n",
       "2 28.86376   26.97917   26.17529   25.60923      25.94243    \n",
       "3 24.89343   25.10870   25.50019   24.60681      24.27626    \n",
       "4 32.04987   31.81649   31.61414   30.10508      30.35830    \n",
       "5 25.27722   26.00291   25.33322   26.35553      24.34689    \n",
       "6 24.44849   25.86691   25.13800   25.44573      25.14074    "
      ]
     },
     "metadata": {},
     "output_type": "display_data"
    }
   ],
   "source": [
    "result_outrider <- fread(\"pred_no_na.txt\")\n",
    "#opt: encod_dim 17 noise factor 1\n",
    "colnames(result_outrider)[1] <- \"featureID\"\n",
    "dim(result_outrider)\n",
    "head(result_outrider)"
   ]
  },
  {
   "cell_type": "code",
   "execution_count": 3,
   "id": "0c6ae5be",
   "metadata": {},
   "outputs": [
    {
     "data": {
      "text/html": [
       "<table class=\"dataframe\">\n",
       "<caption>A data.frame: 6 × 61</caption>\n",
       "<thead>\n",
       "\t<tr><th></th><th scope=col>X786O_NCI60</th><th scope=col>A498_NCI60</th><th scope=col>A549_NCI60</th><th scope=col>ACHN_NCI60</th><th scope=col>BT549_NCI60</th><th scope=col>CAKI1_NCI60</th><th scope=col>CCRFCEM_NCI60</th><th scope=col>COLO205_NCI60</th><th scope=col>DU145_NCI60</th><th scope=col>EKVX_NCI60</th><th scope=col>⋯</th><th scope=col>SNB75_NCI60</th><th scope=col>SR_NCI60</th><th scope=col>SW620_NCI60</th><th scope=col>T47D_NCI60</th><th scope=col>TK10_NCI60</th><th scope=col>U031_NCI60</th><th scope=col>U251_NCI60</th><th scope=col>UACC257_NCI60</th><th scope=col>UACC62_NCI60</th><th scope=col>featureID</th></tr>\n",
       "\t<tr><th></th><th scope=col>&lt;dbl&gt;</th><th scope=col>&lt;dbl&gt;</th><th scope=col>&lt;dbl&gt;</th><th scope=col>&lt;dbl&gt;</th><th scope=col>&lt;dbl&gt;</th><th scope=col>&lt;dbl&gt;</th><th scope=col>&lt;dbl&gt;</th><th scope=col>&lt;dbl&gt;</th><th scope=col>&lt;dbl&gt;</th><th scope=col>&lt;dbl&gt;</th><th scope=col>⋯</th><th scope=col>&lt;dbl&gt;</th><th scope=col>&lt;dbl&gt;</th><th scope=col>&lt;dbl&gt;</th><th scope=col>&lt;dbl&gt;</th><th scope=col>&lt;dbl&gt;</th><th scope=col>&lt;dbl&gt;</th><th scope=col>&lt;dbl&gt;</th><th scope=col>&lt;dbl&gt;</th><th scope=col>&lt;dbl&gt;</th><th scope=col>&lt;chr&gt;</th></tr>\n",
       "</thead>\n",
       "<tbody>\n",
       "\t<tr><th scope=row>P0DN26;A0A075B759;Q9Y536;F5H284;A0A0B4J2A2;P0DN37</th><td>1</td><td>1</td><td>1</td><td>1</td><td>0</td><td>1</td><td>1</td><td>1</td><td>1</td><td>1</td><td>⋯</td><td>1</td><td>1</td><td>1</td><td>1</td><td>1</td><td>0</td><td>1</td><td>1</td><td>1</td><td>P0DN26;A0A075B759;Q9Y536;F5H284;A0A0B4J2A2;P0DN37</td></tr>\n",
       "\t<tr><th scope=row>A0A0B4J2F0</th><td>0</td><td>0</td><td>0</td><td>0</td><td>0</td><td>0</td><td>0</td><td>0</td><td>0</td><td>1</td><td>⋯</td><td>0</td><td>0</td><td>0</td><td>0</td><td>0</td><td>0</td><td>0</td><td>0</td><td>0</td><td>A0A0B4J2F0                                       </td></tr>\n",
       "\t<tr><th scope=row>A0A0C4DH73</th><td>0</td><td>0</td><td>0</td><td>0</td><td>0</td><td>0</td><td>0</td><td>0</td><td>0</td><td>0</td><td>⋯</td><td>0</td><td>0</td><td>0</td><td>0</td><td>0</td><td>0</td><td>0</td><td>0</td><td>0</td><td>A0A0C4DH73                                       </td></tr>\n",
       "\t<tr><th scope=row>A0A5B9;P01850</th><td>0</td><td>0</td><td>0</td><td>0</td><td>0</td><td>0</td><td>1</td><td>0</td><td>1</td><td>0</td><td>⋯</td><td>0</td><td>1</td><td>0</td><td>0</td><td>0</td><td>0</td><td>1</td><td>0</td><td>1</td><td>A0A5B9;P01850                                    </td></tr>\n",
       "\t<tr><th scope=row>A0AV96;A0AV96-2</th><td>1</td><td>1</td><td>1</td><td>1</td><td>1</td><td>1</td><td>1</td><td>1</td><td>1</td><td>1</td><td>⋯</td><td>1</td><td>1</td><td>1</td><td>1</td><td>1</td><td>1</td><td>1</td><td>1</td><td>0</td><td>A0AV96;A0AV96-2                                  </td></tr>\n",
       "\t<tr><th scope=row>A0AVF1;A0AVF1-2;A0AVF1-3</th><td>1</td><td>1</td><td>1</td><td>1</td><td>1</td><td>0</td><td>1</td><td>1</td><td>1</td><td>1</td><td>⋯</td><td>1</td><td>0</td><td>1</td><td>1</td><td>1</td><td>1</td><td>1</td><td>1</td><td>1</td><td>A0AVF1;A0AVF1-2;A0AVF1-3                         </td></tr>\n",
       "</tbody>\n",
       "</table>\n"
      ],
      "text/latex": [
       "A data.frame: 6 × 61\n",
       "\\begin{tabular}{r|lllllllllllllllllllll}\n",
       "  & X786O\\_NCI60 & A498\\_NCI60 & A549\\_NCI60 & ACHN\\_NCI60 & BT549\\_NCI60 & CAKI1\\_NCI60 & CCRFCEM\\_NCI60 & COLO205\\_NCI60 & DU145\\_NCI60 & EKVX\\_NCI60 & ⋯ & SNB75\\_NCI60 & SR\\_NCI60 & SW620\\_NCI60 & T47D\\_NCI60 & TK10\\_NCI60 & U031\\_NCI60 & U251\\_NCI60 & UACC257\\_NCI60 & UACC62\\_NCI60 & featureID\\\\\n",
       "  & <dbl> & <dbl> & <dbl> & <dbl> & <dbl> & <dbl> & <dbl> & <dbl> & <dbl> & <dbl> & ⋯ & <dbl> & <dbl> & <dbl> & <dbl> & <dbl> & <dbl> & <dbl> & <dbl> & <dbl> & <chr>\\\\\n",
       "\\hline\n",
       "\tP0DN26;A0A075B759;Q9Y536;F5H284;A0A0B4J2A2;P0DN37 & 1 & 1 & 1 & 1 & 0 & 1 & 1 & 1 & 1 & 1 & ⋯ & 1 & 1 & 1 & 1 & 1 & 0 & 1 & 1 & 1 & P0DN26;A0A075B759;Q9Y536;F5H284;A0A0B4J2A2;P0DN37\\\\\n",
       "\tA0A0B4J2F0 & 0 & 0 & 0 & 0 & 0 & 0 & 0 & 0 & 0 & 1 & ⋯ & 0 & 0 & 0 & 0 & 0 & 0 & 0 & 0 & 0 & A0A0B4J2F0                                       \\\\\n",
       "\tA0A0C4DH73 & 0 & 0 & 0 & 0 & 0 & 0 & 0 & 0 & 0 & 0 & ⋯ & 0 & 0 & 0 & 0 & 0 & 0 & 0 & 0 & 0 & A0A0C4DH73                                       \\\\\n",
       "\tA0A5B9;P01850 & 0 & 0 & 0 & 0 & 0 & 0 & 1 & 0 & 1 & 0 & ⋯ & 0 & 1 & 0 & 0 & 0 & 0 & 1 & 0 & 1 & A0A5B9;P01850                                    \\\\\n",
       "\tA0AV96;A0AV96-2 & 1 & 1 & 1 & 1 & 1 & 1 & 1 & 1 & 1 & 1 & ⋯ & 1 & 1 & 1 & 1 & 1 & 1 & 1 & 1 & 0 & A0AV96;A0AV96-2                                  \\\\\n",
       "\tA0AVF1;A0AVF1-2;A0AVF1-3 & 1 & 1 & 1 & 1 & 1 & 0 & 1 & 1 & 1 & 1 & ⋯ & 1 & 0 & 1 & 1 & 1 & 1 & 1 & 1 & 1 & A0AVF1;A0AVF1-2;A0AVF1-3                         \\\\\n",
       "\\end{tabular}\n"
      ],
      "text/markdown": [
       "\n",
       "A data.frame: 6 × 61\n",
       "\n",
       "| <!--/--> | X786O_NCI60 &lt;dbl&gt; | A498_NCI60 &lt;dbl&gt; | A549_NCI60 &lt;dbl&gt; | ACHN_NCI60 &lt;dbl&gt; | BT549_NCI60 &lt;dbl&gt; | CAKI1_NCI60 &lt;dbl&gt; | CCRFCEM_NCI60 &lt;dbl&gt; | COLO205_NCI60 &lt;dbl&gt; | DU145_NCI60 &lt;dbl&gt; | EKVX_NCI60 &lt;dbl&gt; | ⋯ ⋯ | SNB75_NCI60 &lt;dbl&gt; | SR_NCI60 &lt;dbl&gt; | SW620_NCI60 &lt;dbl&gt; | T47D_NCI60 &lt;dbl&gt; | TK10_NCI60 &lt;dbl&gt; | U031_NCI60 &lt;dbl&gt; | U251_NCI60 &lt;dbl&gt; | UACC257_NCI60 &lt;dbl&gt; | UACC62_NCI60 &lt;dbl&gt; | featureID &lt;chr&gt; |\n",
       "|---|---|---|---|---|---|---|---|---|---|---|---|---|---|---|---|---|---|---|---|---|---|\n",
       "| P0DN26;A0A075B759;Q9Y536;F5H284;A0A0B4J2A2;P0DN37 | 1 | 1 | 1 | 1 | 0 | 1 | 1 | 1 | 1 | 1 | ⋯ | 1 | 1 | 1 | 1 | 1 | 0 | 1 | 1 | 1 | P0DN26;A0A075B759;Q9Y536;F5H284;A0A0B4J2A2;P0DN37 |\n",
       "| A0A0B4J2F0 | 0 | 0 | 0 | 0 | 0 | 0 | 0 | 0 | 0 | 1 | ⋯ | 0 | 0 | 0 | 0 | 0 | 0 | 0 | 0 | 0 | A0A0B4J2F0                                        |\n",
       "| A0A0C4DH73 | 0 | 0 | 0 | 0 | 0 | 0 | 0 | 0 | 0 | 0 | ⋯ | 0 | 0 | 0 | 0 | 0 | 0 | 0 | 0 | 0 | A0A0C4DH73                                        |\n",
       "| A0A5B9;P01850 | 0 | 0 | 0 | 0 | 0 | 0 | 1 | 0 | 1 | 0 | ⋯ | 0 | 1 | 0 | 0 | 0 | 0 | 1 | 0 | 1 | A0A5B9;P01850                                     |\n",
       "| A0AV96;A0AV96-2 | 1 | 1 | 1 | 1 | 1 | 1 | 1 | 1 | 1 | 1 | ⋯ | 1 | 1 | 1 | 1 | 1 | 1 | 1 | 1 | 0 | A0AV96;A0AV96-2                                   |\n",
       "| A0AVF1;A0AVF1-2;A0AVF1-3 | 1 | 1 | 1 | 1 | 1 | 0 | 1 | 1 | 1 | 1 | ⋯ | 1 | 0 | 1 | 1 | 1 | 1 | 1 | 1 | 1 | A0AVF1;A0AVF1-2;A0AVF1-3                          |\n",
       "\n"
      ],
      "text/plain": [
       "                                                  X786O_NCI60 A498_NCI60\n",
       "P0DN26;A0A075B759;Q9Y536;F5H284;A0A0B4J2A2;P0DN37 1           1         \n",
       "A0A0B4J2F0                                        0           0         \n",
       "A0A0C4DH73                                        0           0         \n",
       "A0A5B9;P01850                                     0           0         \n",
       "A0AV96;A0AV96-2                                   1           1         \n",
       "A0AVF1;A0AVF1-2;A0AVF1-3                          1           1         \n",
       "                                                  A549_NCI60 ACHN_NCI60\n",
       "P0DN26;A0A075B759;Q9Y536;F5H284;A0A0B4J2A2;P0DN37 1          1         \n",
       "A0A0B4J2F0                                        0          0         \n",
       "A0A0C4DH73                                        0          0         \n",
       "A0A5B9;P01850                                     0          0         \n",
       "A0AV96;A0AV96-2                                   1          1         \n",
       "A0AVF1;A0AVF1-2;A0AVF1-3                          1          1         \n",
       "                                                  BT549_NCI60 CAKI1_NCI60\n",
       "P0DN26;A0A075B759;Q9Y536;F5H284;A0A0B4J2A2;P0DN37 0           1          \n",
       "A0A0B4J2F0                                        0           0          \n",
       "A0A0C4DH73                                        0           0          \n",
       "A0A5B9;P01850                                     0           0          \n",
       "A0AV96;A0AV96-2                                   1           1          \n",
       "A0AVF1;A0AVF1-2;A0AVF1-3                          1           0          \n",
       "                                                  CCRFCEM_NCI60 COLO205_NCI60\n",
       "P0DN26;A0A075B759;Q9Y536;F5H284;A0A0B4J2A2;P0DN37 1             1            \n",
       "A0A0B4J2F0                                        0             0            \n",
       "A0A0C4DH73                                        0             0            \n",
       "A0A5B9;P01850                                     1             0            \n",
       "A0AV96;A0AV96-2                                   1             1            \n",
       "A0AVF1;A0AVF1-2;A0AVF1-3                          1             1            \n",
       "                                                  DU145_NCI60 EKVX_NCI60 ⋯\n",
       "P0DN26;A0A075B759;Q9Y536;F5H284;A0A0B4J2A2;P0DN37 1           1          ⋯\n",
       "A0A0B4J2F0                                        0           1          ⋯\n",
       "A0A0C4DH73                                        0           0          ⋯\n",
       "A0A5B9;P01850                                     1           0          ⋯\n",
       "A0AV96;A0AV96-2                                   1           1          ⋯\n",
       "A0AVF1;A0AVF1-2;A0AVF1-3                          1           1          ⋯\n",
       "                                                  SNB75_NCI60 SR_NCI60\n",
       "P0DN26;A0A075B759;Q9Y536;F5H284;A0A0B4J2A2;P0DN37 1           1       \n",
       "A0A0B4J2F0                                        0           0       \n",
       "A0A0C4DH73                                        0           0       \n",
       "A0A5B9;P01850                                     0           1       \n",
       "A0AV96;A0AV96-2                                   1           1       \n",
       "A0AVF1;A0AVF1-2;A0AVF1-3                          1           0       \n",
       "                                                  SW620_NCI60 T47D_NCI60\n",
       "P0DN26;A0A075B759;Q9Y536;F5H284;A0A0B4J2A2;P0DN37 1           1         \n",
       "A0A0B4J2F0                                        0           0         \n",
       "A0A0C4DH73                                        0           0         \n",
       "A0A5B9;P01850                                     0           0         \n",
       "A0AV96;A0AV96-2                                   1           1         \n",
       "A0AVF1;A0AVF1-2;A0AVF1-3                          1           1         \n",
       "                                                  TK10_NCI60 U031_NCI60\n",
       "P0DN26;A0A075B759;Q9Y536;F5H284;A0A0B4J2A2;P0DN37 1          0         \n",
       "A0A0B4J2F0                                        0          0         \n",
       "A0A0C4DH73                                        0          0         \n",
       "A0A5B9;P01850                                     0          0         \n",
       "A0AV96;A0AV96-2                                   1          1         \n",
       "A0AVF1;A0AVF1-2;A0AVF1-3                          1          1         \n",
       "                                                  U251_NCI60 UACC257_NCI60\n",
       "P0DN26;A0A075B759;Q9Y536;F5H284;A0A0B4J2A2;P0DN37 1          1            \n",
       "A0A0B4J2F0                                        0          0            \n",
       "A0A0C4DH73                                        0          0            \n",
       "A0A5B9;P01850                                     1          0            \n",
       "A0AV96;A0AV96-2                                   1          1            \n",
       "A0AVF1;A0AVF1-2;A0AVF1-3                          1          1            \n",
       "                                                  UACC62_NCI60\n",
       "P0DN26;A0A075B759;Q9Y536;F5H284;A0A0B4J2A2;P0DN37 1           \n",
       "A0A0B4J2F0                                        0           \n",
       "A0A0C4DH73                                        0           \n",
       "A0A5B9;P01850                                     1           \n",
       "A0AV96;A0AV96-2                                   0           \n",
       "A0AVF1;A0AVF1-2;A0AVF1-3                          1           \n",
       "                                                  featureID                                        \n",
       "P0DN26;A0A075B759;Q9Y536;F5H284;A0A0B4J2A2;P0DN37 P0DN26;A0A075B759;Q9Y536;F5H284;A0A0B4J2A2;P0DN37\n",
       "A0A0B4J2F0                                        A0A0B4J2F0                                       \n",
       "A0A0C4DH73                                        A0A0C4DH73                                       \n",
       "A0A5B9;P01850                                     A0A5B9;P01850                                    \n",
       "A0AV96;A0AV96-2                                   A0AV96;A0AV96-2                                  \n",
       "A0AVF1;A0AVF1-2;A0AVF1-3                          A0AVF1;A0AVF1-2;A0AVF1-3                         "
      ]
     },
     "metadata": {},
     "output_type": "display_data"
    },
    {
     "data": {
      "text/html": [
       "10825"
      ],
      "text/latex": [
       "10825"
      ],
      "text/markdown": [
       "10825"
      ],
      "text/plain": [
       "[1] 10825"
      ]
     },
     "metadata": {},
     "output_type": "display_data"
    }
   ],
   "source": [
    "measured <- read.table(\"prot_int.csv\")\n",
    "measured[measured != 0] <- 1\n",
    "measured$featureID <- rownames(measured)\n",
    "head(measured)\n",
    "nrow(measured)"
   ]
  },
  {
   "cell_type": "code",
   "execution_count": 4,
   "id": "e15d2276",
   "metadata": {},
   "outputs": [
    {
     "name": "stderr",
     "output_type": "stream",
     "text": [
      "Warning message in melt.data.table(result_outrider):\n",
      "“id.vars and measure.vars are internally guessed when both are 'NULL'. All non-numeric/integer/logical type columns are considered id.vars, which in this case are columns [featureID, ...]. Consider providing at least one of 'id' or 'measure' vars in future.”\n"
     ]
    },
    {
     "data": {
      "text/html": [
       "<table class=\"dataframe\">\n",
       "<caption>A data.table: 6 × 3</caption>\n",
       "<thead>\n",
       "\t<tr><th scope=col>featureID</th><th scope=col>sampleID</th><th scope=col>protein_intensity</th></tr>\n",
       "\t<tr><th scope=col>&lt;chr&gt;</th><th scope=col>&lt;fct&gt;</th><th scope=col>&lt;dbl&gt;</th></tr>\n",
       "</thead>\n",
       "<tbody>\n",
       "\t<tr><td>P0DN26;A0A075B759;Q9Y536;F5H284;A0A0B4J2A2;P0DN37</td><td>X786O_NCI60</td><td>23.82530</td></tr>\n",
       "\t<tr><td>A0AV96;A0AV96-2                                  </td><td>X786O_NCI60</td><td>26.95893</td></tr>\n",
       "\t<tr><td>A0AVF1;A0AVF1-2;A0AVF1-3                         </td><td>X786O_NCI60</td><td>23.77847</td></tr>\n",
       "\t<tr><td>A0AVT1;A0AVT1-2;A0AVT1-3;A0AVT1-4                </td><td>X786O_NCI60</td><td>31.90762</td></tr>\n",
       "\t<tr><td>A0FGR8-6;A0FGR8                                  </td><td>X786O_NCI60</td><td>29.53564</td></tr>\n",
       "\t<tr><td>A0JLT2;A0JLT2-2                                  </td><td>X786O_NCI60</td><td>24.02672</td></tr>\n",
       "</tbody>\n",
       "</table>\n"
      ],
      "text/latex": [
       "A data.table: 6 × 3\n",
       "\\begin{tabular}{lll}\n",
       " featureID & sampleID & protein\\_intensity\\\\\n",
       " <chr> & <fct> & <dbl>\\\\\n",
       "\\hline\n",
       "\t P0DN26;A0A075B759;Q9Y536;F5H284;A0A0B4J2A2;P0DN37 & X786O\\_NCI60 & 23.82530\\\\\n",
       "\t A0AV96;A0AV96-2                                   & X786O\\_NCI60 & 26.95893\\\\\n",
       "\t A0AVF1;A0AVF1-2;A0AVF1-3                          & X786O\\_NCI60 & 23.77847\\\\\n",
       "\t A0AVT1;A0AVT1-2;A0AVT1-3;A0AVT1-4                 & X786O\\_NCI60 & 31.90762\\\\\n",
       "\t A0FGR8-6;A0FGR8                                   & X786O\\_NCI60 & 29.53564\\\\\n",
       "\t A0JLT2;A0JLT2-2                                   & X786O\\_NCI60 & 24.02672\\\\\n",
       "\\end{tabular}\n"
      ],
      "text/markdown": [
       "\n",
       "A data.table: 6 × 3\n",
       "\n",
       "| featureID &lt;chr&gt; | sampleID &lt;fct&gt; | protein_intensity &lt;dbl&gt; |\n",
       "|---|---|---|\n",
       "| P0DN26;A0A075B759;Q9Y536;F5H284;A0A0B4J2A2;P0DN37 | X786O_NCI60 | 23.82530 |\n",
       "| A0AV96;A0AV96-2                                   | X786O_NCI60 | 26.95893 |\n",
       "| A0AVF1;A0AVF1-2;A0AVF1-3                          | X786O_NCI60 | 23.77847 |\n",
       "| A0AVT1;A0AVT1-2;A0AVT1-3;A0AVT1-4                 | X786O_NCI60 | 31.90762 |\n",
       "| A0FGR8-6;A0FGR8                                   | X786O_NCI60 | 29.53564 |\n",
       "| A0JLT2;A0JLT2-2                                   | X786O_NCI60 | 24.02672 |\n",
       "\n"
      ],
      "text/plain": [
       "  featureID                                         sampleID   \n",
       "1 P0DN26;A0A075B759;Q9Y536;F5H284;A0A0B4J2A2;P0DN37 X786O_NCI60\n",
       "2 A0AV96;A0AV96-2                                   X786O_NCI60\n",
       "3 A0AVF1;A0AVF1-2;A0AVF1-3                          X786O_NCI60\n",
       "4 A0AVT1;A0AVT1-2;A0AVT1-3;A0AVT1-4                 X786O_NCI60\n",
       "5 A0FGR8-6;A0FGR8                                   X786O_NCI60\n",
       "6 A0JLT2;A0JLT2-2                                   X786O_NCI60\n",
       "  protein_intensity\n",
       "1 23.82530         \n",
       "2 26.95893         \n",
       "3 23.77847         \n",
       "4 31.90762         \n",
       "5 29.53564         \n",
       "6 24.02672         "
      ]
     },
     "metadata": {},
     "output_type": "display_data"
    },
    {
     "data": {
      "text/html": [
       "418500"
      ],
      "text/latex": [
       "418500"
      ],
      "text/markdown": [
       "418500"
      ],
      "text/plain": [
       "[1] 418500"
      ]
     },
     "metadata": {},
     "output_type": "display_data"
    }
   ],
   "source": [
    "prot_int_list <- melt(result_outrider)\n",
    "colnames(prot_int_list)[2:3] <- c(\"sampleID\",\"protein_intensity\")\n",
    "head(prot_int_list)\n",
    "nrow(prot_int_list)"
   ]
  },
  {
   "cell_type": "code",
   "execution_count": 5,
   "id": "c9dec774",
   "metadata": {},
   "outputs": [
    {
     "name": "stderr",
     "output_type": "stream",
     "text": [
      "Warning message in melt(measured):\n",
      "“The melt generic in data.table has been passed a data.frame and will attempt to redirect to the relevant reshape2 method; please note that reshape2 is deprecated, and this redirection is now deprecated as well. To continue using melt methods from reshape2 while both libraries are attached, e.g. melt.list, you can prepend the namespace like reshape2::melt(measured). In the next version, this warning will become an error.”\n",
      "Using featureID as id variables\n",
      "\n"
     ]
    },
    {
     "data": {
      "text/html": [
       "<table class=\"dataframe\">\n",
       "<caption>A data.frame: 6 × 3</caption>\n",
       "<thead>\n",
       "\t<tr><th></th><th scope=col>featureID</th><th scope=col>sampleID</th><th scope=col>measured</th></tr>\n",
       "\t<tr><th></th><th scope=col>&lt;chr&gt;</th><th scope=col>&lt;fct&gt;</th><th scope=col>&lt;dbl&gt;</th></tr>\n",
       "</thead>\n",
       "<tbody>\n",
       "\t<tr><th scope=row>1</th><td>P0DN26;A0A075B759;Q9Y536;F5H284;A0A0B4J2A2;P0DN37</td><td>X786O_NCI60</td><td>1</td></tr>\n",
       "\t<tr><th scope=row>2</th><td>A0A0B4J2F0                                       </td><td>X786O_NCI60</td><td>0</td></tr>\n",
       "\t<tr><th scope=row>3</th><td>A0A0C4DH73                                       </td><td>X786O_NCI60</td><td>0</td></tr>\n",
       "\t<tr><th scope=row>4</th><td>A0A5B9;P01850                                    </td><td>X786O_NCI60</td><td>0</td></tr>\n",
       "\t<tr><th scope=row>5</th><td>A0AV96;A0AV96-2                                  </td><td>X786O_NCI60</td><td>1</td></tr>\n",
       "\t<tr><th scope=row>6</th><td>A0AVF1;A0AVF1-2;A0AVF1-3                         </td><td>X786O_NCI60</td><td>1</td></tr>\n",
       "</tbody>\n",
       "</table>\n"
      ],
      "text/latex": [
       "A data.frame: 6 × 3\n",
       "\\begin{tabular}{r|lll}\n",
       "  & featureID & sampleID & measured\\\\\n",
       "  & <chr> & <fct> & <dbl>\\\\\n",
       "\\hline\n",
       "\t1 & P0DN26;A0A075B759;Q9Y536;F5H284;A0A0B4J2A2;P0DN37 & X786O\\_NCI60 & 1\\\\\n",
       "\t2 & A0A0B4J2F0                                        & X786O\\_NCI60 & 0\\\\\n",
       "\t3 & A0A0C4DH73                                        & X786O\\_NCI60 & 0\\\\\n",
       "\t4 & A0A5B9;P01850                                     & X786O\\_NCI60 & 0\\\\\n",
       "\t5 & A0AV96;A0AV96-2                                   & X786O\\_NCI60 & 1\\\\\n",
       "\t6 & A0AVF1;A0AVF1-2;A0AVF1-3                          & X786O\\_NCI60 & 1\\\\\n",
       "\\end{tabular}\n"
      ],
      "text/markdown": [
       "\n",
       "A data.frame: 6 × 3\n",
       "\n",
       "| <!--/--> | featureID &lt;chr&gt; | sampleID &lt;fct&gt; | measured &lt;dbl&gt; |\n",
       "|---|---|---|---|\n",
       "| 1 | P0DN26;A0A075B759;Q9Y536;F5H284;A0A0B4J2A2;P0DN37 | X786O_NCI60 | 1 |\n",
       "| 2 | A0A0B4J2F0                                        | X786O_NCI60 | 0 |\n",
       "| 3 | A0A0C4DH73                                        | X786O_NCI60 | 0 |\n",
       "| 4 | A0A5B9;P01850                                     | X786O_NCI60 | 0 |\n",
       "| 5 | A0AV96;A0AV96-2                                   | X786O_NCI60 | 1 |\n",
       "| 6 | A0AVF1;A0AVF1-2;A0AVF1-3                          | X786O_NCI60 | 1 |\n",
       "\n"
      ],
      "text/plain": [
       "  featureID                                         sampleID    measured\n",
       "1 P0DN26;A0A075B759;Q9Y536;F5H284;A0A0B4J2A2;P0DN37 X786O_NCI60 1       \n",
       "2 A0A0B4J2F0                                        X786O_NCI60 0       \n",
       "3 A0A0C4DH73                                        X786O_NCI60 0       \n",
       "4 A0A5B9;P01850                                     X786O_NCI60 0       \n",
       "5 A0AV96;A0AV96-2                                   X786O_NCI60 1       \n",
       "6 A0AVF1;A0AVF1-2;A0AVF1-3                          X786O_NCI60 1       "
      ]
     },
     "metadata": {},
     "output_type": "display_data"
    },
    {
     "data": {
      "text/html": [
       "649500"
      ],
      "text/latex": [
       "649500"
      ],
      "text/markdown": [
       "649500"
      ],
      "text/plain": [
       "[1] 649500"
      ]
     },
     "metadata": {},
     "output_type": "display_data"
    }
   ],
   "source": [
    "measured_list <- melt(measured)\n",
    "colnames(measured_list)[2:3] <- c(\"sampleID\",\"measured\")\n",
    "head(measured_list)\n",
    "nrow(measured_list)"
   ]
  },
  {
   "cell_type": "code",
   "execution_count": 6,
   "id": "09e01037",
   "metadata": {},
   "outputs": [
    {
     "data": {
      "text/html": [
       "418500"
      ],
      "text/latex": [
       "418500"
      ],
      "text/markdown": [
       "418500"
      ],
      "text/plain": [
       "[1] 418500"
      ]
     },
     "metadata": {},
     "output_type": "display_data"
    },
    {
     "data": {
      "text/html": [
       "<table class=\"dataframe\">\n",
       "<caption>A data.table: 6 × 4</caption>\n",
       "<thead>\n",
       "\t<tr><th scope=col>featureID</th><th scope=col>sampleID</th><th scope=col>protein_intensity</th><th scope=col>measured</th></tr>\n",
       "\t<tr><th scope=col>&lt;chr&gt;</th><th scope=col>&lt;fct&gt;</th><th scope=col>&lt;dbl&gt;</th><th scope=col>&lt;dbl&gt;</th></tr>\n",
       "</thead>\n",
       "<tbody>\n",
       "\t<tr><td>A0AV96;A0AV96-2</td><td>X786O_NCI60</td><td>26.95893</td><td>1</td></tr>\n",
       "\t<tr><td>A0AV96;A0AV96-2</td><td>A498_NCI60 </td><td>28.67702</td><td>1</td></tr>\n",
       "\t<tr><td>A0AV96;A0AV96-2</td><td>A549_NCI60 </td><td>29.12149</td><td>1</td></tr>\n",
       "\t<tr><td>A0AV96;A0AV96-2</td><td>ACHN_NCI60 </td><td>29.22591</td><td>1</td></tr>\n",
       "\t<tr><td>A0AV96;A0AV96-2</td><td>BT549_NCI60</td><td>24.08905</td><td>1</td></tr>\n",
       "\t<tr><td>A0AV96;A0AV96-2</td><td>CAKI1_NCI60</td><td>27.47051</td><td>1</td></tr>\n",
       "</tbody>\n",
       "</table>\n"
      ],
      "text/latex": [
       "A data.table: 6 × 4\n",
       "\\begin{tabular}{llll}\n",
       " featureID & sampleID & protein\\_intensity & measured\\\\\n",
       " <chr> & <fct> & <dbl> & <dbl>\\\\\n",
       "\\hline\n",
       "\t A0AV96;A0AV96-2 & X786O\\_NCI60 & 26.95893 & 1\\\\\n",
       "\t A0AV96;A0AV96-2 & A498\\_NCI60  & 28.67702 & 1\\\\\n",
       "\t A0AV96;A0AV96-2 & A549\\_NCI60  & 29.12149 & 1\\\\\n",
       "\t A0AV96;A0AV96-2 & ACHN\\_NCI60  & 29.22591 & 1\\\\\n",
       "\t A0AV96;A0AV96-2 & BT549\\_NCI60 & 24.08905 & 1\\\\\n",
       "\t A0AV96;A0AV96-2 & CAKI1\\_NCI60 & 27.47051 & 1\\\\\n",
       "\\end{tabular}\n"
      ],
      "text/markdown": [
       "\n",
       "A data.table: 6 × 4\n",
       "\n",
       "| featureID &lt;chr&gt; | sampleID &lt;fct&gt; | protein_intensity &lt;dbl&gt; | measured &lt;dbl&gt; |\n",
       "|---|---|---|---|\n",
       "| A0AV96;A0AV96-2 | X786O_NCI60 | 26.95893 | 1 |\n",
       "| A0AV96;A0AV96-2 | A498_NCI60  | 28.67702 | 1 |\n",
       "| A0AV96;A0AV96-2 | A549_NCI60  | 29.12149 | 1 |\n",
       "| A0AV96;A0AV96-2 | ACHN_NCI60  | 29.22591 | 1 |\n",
       "| A0AV96;A0AV96-2 | BT549_NCI60 | 24.08905 | 1 |\n",
       "| A0AV96;A0AV96-2 | CAKI1_NCI60 | 27.47051 | 1 |\n",
       "\n"
      ],
      "text/plain": [
       "  featureID       sampleID    protein_intensity measured\n",
       "1 A0AV96;A0AV96-2 X786O_NCI60 26.95893          1       \n",
       "2 A0AV96;A0AV96-2 A498_NCI60  28.67702          1       \n",
       "3 A0AV96;A0AV96-2 A549_NCI60  29.12149          1       \n",
       "4 A0AV96;A0AV96-2 ACHN_NCI60  29.22591          1       \n",
       "5 A0AV96;A0AV96-2 BT549_NCI60 24.08905          1       \n",
       "6 A0AV96;A0AV96-2 CAKI1_NCI60 27.47051          1       "
      ]
     },
     "metadata": {},
     "output_type": "display_data"
    }
   ],
   "source": [
    "train <- merge(prot_int_list, measured_list)\n",
    "nrow(train)\n",
    "head(train)"
   ]
  },
  {
   "cell_type": "code",
   "execution_count": 7,
   "id": "ba7efefc",
   "metadata": {},
   "outputs": [
    {
     "data": {
      "text/html": [
       "<table class=\"dataframe\">\n",
       "<caption>A data.table: 6 × 4</caption>\n",
       "<thead>\n",
       "\t<tr><th scope=col>featureID</th><th scope=col>sampleID</th><th scope=col>protein_intensity</th><th scope=col>measured</th></tr>\n",
       "\t<tr><th scope=col>&lt;chr&gt;</th><th scope=col>&lt;fct&gt;</th><th scope=col>&lt;dbl&gt;</th><th scope=col>&lt;dbl&gt;</th></tr>\n",
       "</thead>\n",
       "<tbody>\n",
       "\t<tr><td>A0A0B4J2F0</td><td>X786O_NCI60</td><td>NA</td><td>0</td></tr>\n",
       "\t<tr><td>A0A0B4J2F0</td><td>A498_NCI60 </td><td>NA</td><td>0</td></tr>\n",
       "\t<tr><td>A0A0B4J2F0</td><td>A549_NCI60 </td><td>NA</td><td>0</td></tr>\n",
       "\t<tr><td>A0A0B4J2F0</td><td>ACHN_NCI60 </td><td>NA</td><td>0</td></tr>\n",
       "\t<tr><td>A0A0B4J2F0</td><td>BT549_NCI60</td><td>NA</td><td>0</td></tr>\n",
       "\t<tr><td>A0A0B4J2F0</td><td>CAKI1_NCI60</td><td>NA</td><td>0</td></tr>\n",
       "</tbody>\n",
       "</table>\n"
      ],
      "text/latex": [
       "A data.table: 6 × 4\n",
       "\\begin{tabular}{llll}\n",
       " featureID & sampleID & protein\\_intensity & measured\\\\\n",
       " <chr> & <fct> & <dbl> & <dbl>\\\\\n",
       "\\hline\n",
       "\t A0A0B4J2F0 & X786O\\_NCI60 & NA & 0\\\\\n",
       "\t A0A0B4J2F0 & A498\\_NCI60  & NA & 0\\\\\n",
       "\t A0A0B4J2F0 & A549\\_NCI60  & NA & 0\\\\\n",
       "\t A0A0B4J2F0 & ACHN\\_NCI60  & NA & 0\\\\\n",
       "\t A0A0B4J2F0 & BT549\\_NCI60 & NA & 0\\\\\n",
       "\t A0A0B4J2F0 & CAKI1\\_NCI60 & NA & 0\\\\\n",
       "\\end{tabular}\n"
      ],
      "text/markdown": [
       "\n",
       "A data.table: 6 × 4\n",
       "\n",
       "| featureID &lt;chr&gt; | sampleID &lt;fct&gt; | protein_intensity &lt;dbl&gt; | measured &lt;dbl&gt; |\n",
       "|---|---|---|---|\n",
       "| A0A0B4J2F0 | X786O_NCI60 | NA | 0 |\n",
       "| A0A0B4J2F0 | A498_NCI60  | NA | 0 |\n",
       "| A0A0B4J2F0 | A549_NCI60  | NA | 0 |\n",
       "| A0A0B4J2F0 | ACHN_NCI60  | NA | 0 |\n",
       "| A0A0B4J2F0 | BT549_NCI60 | NA | 0 |\n",
       "| A0A0B4J2F0 | CAKI1_NCI60 | NA | 0 |\n",
       "\n"
      ],
      "text/plain": [
       "  featureID  sampleID    protein_intensity measured\n",
       "1 A0A0B4J2F0 X786O_NCI60 NA                0       \n",
       "2 A0A0B4J2F0 A498_NCI60  NA                0       \n",
       "3 A0A0B4J2F0 A549_NCI60  NA                0       \n",
       "4 A0A0B4J2F0 ACHN_NCI60  NA                0       \n",
       "5 A0A0B4J2F0 BT549_NCI60 NA                0       \n",
       "6 A0A0B4J2F0 CAKI1_NCI60 NA                0       "
      ]
     },
     "metadata": {},
     "output_type": "display_data"
    }
   ],
   "source": [
    "#features that are filtered by PROTRIDER\n",
    "head(merge(prot_int_list, measured_list, all.y=TRUE))"
   ]
  },
  {
   "cell_type": "code",
   "execution_count": 8,
   "id": "e8f5ca01",
   "metadata": {},
   "outputs": [
    {
     "data": {
      "text/html": [
       "<table class=\"dataframe\">\n",
       "<caption>A data.table: 6 × 4</caption>\n",
       "<thead>\n",
       "\t<tr><th scope=col>featureID</th><th scope=col>sampleID</th><th scope=col>protein_intensity</th><th scope=col>measured</th></tr>\n",
       "\t<tr><th scope=col>&lt;chr&gt;</th><th scope=col>&lt;fct&gt;</th><th scope=col>&lt;dbl&gt;</th><th scope=col>&lt;dbl&gt;</th></tr>\n",
       "</thead>\n",
       "<tbody>\n",
       "\t<tr><td>A0AV96;A0AV96-2</td><td>LOXIMVI_NCI60</td><td>24.44423</td><td>0</td></tr>\n",
       "\t<tr><td>A0AV96;A0AV96-2</td><td>MOLT4_NCI60  </td><td>21.11678</td><td>0</td></tr>\n",
       "\t<tr><td>A0AV96;A0AV96-2</td><td>OVCAR8_NCI60 </td><td>24.50268</td><td>0</td></tr>\n",
       "\t<tr><td>A0AV96;A0AV96-2</td><td>SF539_NCI60  </td><td>24.81375</td><td>0</td></tr>\n",
       "\t<tr><td>A0AV96;A0AV96-2</td><td>SN12C_NCI60  </td><td>25.70537</td><td>0</td></tr>\n",
       "\t<tr><td>A0AV96;A0AV96-2</td><td>UACC62_NCI60 </td><td>25.94243</td><td>0</td></tr>\n",
       "</tbody>\n",
       "</table>\n"
      ],
      "text/latex": [
       "A data.table: 6 × 4\n",
       "\\begin{tabular}{llll}\n",
       " featureID & sampleID & protein\\_intensity & measured\\\\\n",
       " <chr> & <fct> & <dbl> & <dbl>\\\\\n",
       "\\hline\n",
       "\t A0AV96;A0AV96-2 & LOXIMVI\\_NCI60 & 24.44423 & 0\\\\\n",
       "\t A0AV96;A0AV96-2 & MOLT4\\_NCI60   & 21.11678 & 0\\\\\n",
       "\t A0AV96;A0AV96-2 & OVCAR8\\_NCI60  & 24.50268 & 0\\\\\n",
       "\t A0AV96;A0AV96-2 & SF539\\_NCI60   & 24.81375 & 0\\\\\n",
       "\t A0AV96;A0AV96-2 & SN12C\\_NCI60   & 25.70537 & 0\\\\\n",
       "\t A0AV96;A0AV96-2 & UACC62\\_NCI60  & 25.94243 & 0\\\\\n",
       "\\end{tabular}\n"
      ],
      "text/markdown": [
       "\n",
       "A data.table: 6 × 4\n",
       "\n",
       "| featureID &lt;chr&gt; | sampleID &lt;fct&gt; | protein_intensity &lt;dbl&gt; | measured &lt;dbl&gt; |\n",
       "|---|---|---|---|\n",
       "| A0AV96;A0AV96-2 | LOXIMVI_NCI60 | 24.44423 | 0 |\n",
       "| A0AV96;A0AV96-2 | MOLT4_NCI60   | 21.11678 | 0 |\n",
       "| A0AV96;A0AV96-2 | OVCAR8_NCI60  | 24.50268 | 0 |\n",
       "| A0AV96;A0AV96-2 | SF539_NCI60   | 24.81375 | 0 |\n",
       "| A0AV96;A0AV96-2 | SN12C_NCI60   | 25.70537 | 0 |\n",
       "| A0AV96;A0AV96-2 | UACC62_NCI60  | 25.94243 | 0 |\n",
       "\n"
      ],
      "text/plain": [
       "  featureID       sampleID      protein_intensity measured\n",
       "1 A0AV96;A0AV96-2 LOXIMVI_NCI60 24.44423          0       \n",
       "2 A0AV96;A0AV96-2 MOLT4_NCI60   21.11678          0       \n",
       "3 A0AV96;A0AV96-2 OVCAR8_NCI60  24.50268          0       \n",
       "4 A0AV96;A0AV96-2 SF539_NCI60   24.81375          0       \n",
       "5 A0AV96;A0AV96-2 SN12C_NCI60   25.70537          0       \n",
       "6 A0AV96;A0AV96-2 UACC62_NCI60  25.94243          0       "
      ]
     },
     "metadata": {},
     "output_type": "display_data"
    }
   ],
   "source": [
    "# missing values in the prot_int\n",
    "head(train[train$measured ==0, ])"
   ]
  },
  {
   "cell_type": "code",
   "execution_count": 9,
   "id": "74106150",
   "metadata": {},
   "outputs": [],
   "source": [
    "log_reg <- glm(measured~protein_intensity, family=binomial, data=train)"
   ]
  },
  {
   "cell_type": "code",
   "execution_count": 10,
   "id": "a93ee907",
   "metadata": {},
   "outputs": [
    {
     "data": {
      "text/plain": [
       "\n",
       "Call:\n",
       "glm(formula = measured ~ protein_intensity, family = binomial, \n",
       "    data = train)\n",
       "\n",
       "Deviance Residuals: \n",
       "    Min       1Q   Median       3Q      Max  \n",
       "-5.7732   0.0848   0.1765   0.3303   2.1366  \n",
       "\n",
       "Coefficients:\n",
       "                   Estimate Std. Error z value Pr(>|z|)    \n",
       "(Intercept)       -13.55501    0.10194  -133.0   <2e-16 ***\n",
       "protein_intensity   0.63870    0.00413   154.7   <2e-16 ***\n",
       "---\n",
       "Signif. codes:  0 ‘***’ 0.001 ‘**’ 0.01 ‘*’ 0.05 ‘.’ 0.1 ‘ ’ 1\n",
       "\n",
       "(Dispersion parameter for binomial family taken to be 1)\n",
       "\n",
       "    Null deviance: 169375  on 418499  degrees of freedom\n",
       "Residual deviance: 131939  on 418498  degrees of freedom\n",
       "AIC: 131943\n",
       "\n",
       "Number of Fisher Scoring iterations: 7\n"
      ]
     },
     "metadata": {},
     "output_type": "display_data"
    }
   ],
   "source": [
    "summary(log_reg)"
   ]
  },
  {
   "cell_type": "code",
   "execution_count": 11,
   "id": "70d7d419",
   "metadata": {},
   "outputs": [],
   "source": [
    "#train$predprob<-round(fitted(log_reg),3)\n",
    "train$predprob <- fitted(log_reg)"
   ]
  },
  {
   "cell_type": "code",
   "execution_count": 12,
   "id": "7c174ced",
   "metadata": {},
   "outputs": [
    {
     "data": {
      "text/html": [
       "<table class=\"dataframe\">\n",
       "<caption>A data.table: 6 × 5</caption>\n",
       "<thead>\n",
       "\t<tr><th scope=col>featureID</th><th scope=col>sampleID</th><th scope=col>protein_intensity</th><th scope=col>measured</th><th scope=col>predprob</th></tr>\n",
       "\t<tr><th scope=col>&lt;chr&gt;</th><th scope=col>&lt;fct&gt;</th><th scope=col>&lt;dbl&gt;</th><th scope=col>&lt;dbl&gt;</th><th scope=col>&lt;dbl&gt;</th></tr>\n",
       "</thead>\n",
       "<tbody>\n",
       "\t<tr><td>A0AV96;A0AV96-2</td><td>X786O_NCI60</td><td>26.95893</td><td>1</td><td>0.9749996</td></tr>\n",
       "\t<tr><td>A0AV96;A0AV96-2</td><td>A498_NCI60 </td><td>28.67702</td><td>1</td><td>0.9915146</td></tr>\n",
       "\t<tr><td>A0AV96;A0AV96-2</td><td>A549_NCI60 </td><td>29.12149</td><td>1</td><td>0.9935983</td></tr>\n",
       "\t<tr><td>A0AV96;A0AV96-2</td><td>ACHN_NCI60 </td><td>29.22591</td><td>1</td><td>0.9940088</td></tr>\n",
       "\t<tr><td>A0AV96;A0AV96-2</td><td>BT549_NCI60</td><td>24.08905</td><td>1</td><td>0.8618288</td></tr>\n",
       "\t<tr><td>A0AV96;A0AV96-2</td><td>CAKI1_NCI60</td><td>27.47051</td><td>1</td><td>0.9818415</td></tr>\n",
       "</tbody>\n",
       "</table>\n"
      ],
      "text/latex": [
       "A data.table: 6 × 5\n",
       "\\begin{tabular}{lllll}\n",
       " featureID & sampleID & protein\\_intensity & measured & predprob\\\\\n",
       " <chr> & <fct> & <dbl> & <dbl> & <dbl>\\\\\n",
       "\\hline\n",
       "\t A0AV96;A0AV96-2 & X786O\\_NCI60 & 26.95893 & 1 & 0.9749996\\\\\n",
       "\t A0AV96;A0AV96-2 & A498\\_NCI60  & 28.67702 & 1 & 0.9915146\\\\\n",
       "\t A0AV96;A0AV96-2 & A549\\_NCI60  & 29.12149 & 1 & 0.9935983\\\\\n",
       "\t A0AV96;A0AV96-2 & ACHN\\_NCI60  & 29.22591 & 1 & 0.9940088\\\\\n",
       "\t A0AV96;A0AV96-2 & BT549\\_NCI60 & 24.08905 & 1 & 0.8618288\\\\\n",
       "\t A0AV96;A0AV96-2 & CAKI1\\_NCI60 & 27.47051 & 1 & 0.9818415\\\\\n",
       "\\end{tabular}\n"
      ],
      "text/markdown": [
       "\n",
       "A data.table: 6 × 5\n",
       "\n",
       "| featureID &lt;chr&gt; | sampleID &lt;fct&gt; | protein_intensity &lt;dbl&gt; | measured &lt;dbl&gt; | predprob &lt;dbl&gt; |\n",
       "|---|---|---|---|---|\n",
       "| A0AV96;A0AV96-2 | X786O_NCI60 | 26.95893 | 1 | 0.9749996 |\n",
       "| A0AV96;A0AV96-2 | A498_NCI60  | 28.67702 | 1 | 0.9915146 |\n",
       "| A0AV96;A0AV96-2 | A549_NCI60  | 29.12149 | 1 | 0.9935983 |\n",
       "| A0AV96;A0AV96-2 | ACHN_NCI60  | 29.22591 | 1 | 0.9940088 |\n",
       "| A0AV96;A0AV96-2 | BT549_NCI60 | 24.08905 | 1 | 0.8618288 |\n",
       "| A0AV96;A0AV96-2 | CAKI1_NCI60 | 27.47051 | 1 | 0.9818415 |\n",
       "\n"
      ],
      "text/plain": [
       "  featureID       sampleID    protein_intensity measured predprob \n",
       "1 A0AV96;A0AV96-2 X786O_NCI60 26.95893          1        0.9749996\n",
       "2 A0AV96;A0AV96-2 A498_NCI60  28.67702          1        0.9915146\n",
       "3 A0AV96;A0AV96-2 A549_NCI60  29.12149          1        0.9935983\n",
       "4 A0AV96;A0AV96-2 ACHN_NCI60  29.22591          1        0.9940088\n",
       "5 A0AV96;A0AV96-2 BT549_NCI60 24.08905          1        0.8618288\n",
       "6 A0AV96;A0AV96-2 CAKI1_NCI60 27.47051          1        0.9818415"
      ]
     },
     "metadata": {},
     "output_type": "display_data"
    }
   ],
   "source": [
    "head(train)"
   ]
  },
  {
   "cell_type": "code",
   "execution_count": 13,
   "id": "575b5d5f",
   "metadata": {},
   "outputs": [
    {
     "data": {
      "text/html": [
       "<table class=\"dataframe\">\n",
       "<caption>A data.table: 6 × 5</caption>\n",
       "<thead>\n",
       "\t<tr><th scope=col>featureID</th><th scope=col>sampleID</th><th scope=col>protein_intensity</th><th scope=col>measured</th><th scope=col>predprob</th></tr>\n",
       "\t<tr><th scope=col>&lt;chr&gt;</th><th scope=col>&lt;fct&gt;</th><th scope=col>&lt;dbl&gt;</th><th scope=col>&lt;dbl&gt;</th><th scope=col>&lt;dbl&gt;</th></tr>\n",
       "</thead>\n",
       "<tbody>\n",
       "\t<tr><td>A0AV96;A0AV96-2</td><td>LOXIMVI_NCI60</td><td>24.44423</td><td>0</td><td>0.8866952</td></tr>\n",
       "\t<tr><td>A0AV96;A0AV96-2</td><td>MOLT4_NCI60  </td><td>21.11678</td><td>0</td><td>0.4830533</td></tr>\n",
       "\t<tr><td>A0AV96;A0AV96-2</td><td>OVCAR8_NCI60 </td><td>24.50268</td><td>0</td><td>0.8903918</td></tr>\n",
       "\t<tr><td>A0AV96;A0AV96-2</td><td>SF539_NCI60  </td><td>24.81375</td><td>0</td><td>0.9083315</td></tr>\n",
       "\t<tr><td>A0AV96;A0AV96-2</td><td>SN12C_NCI60  </td><td>25.70537</td><td>0</td><td>0.9459819</td></tr>\n",
       "\t<tr><td>A0AV96;A0AV96-2</td><td>UACC62_NCI60 </td><td>25.94243</td><td>0</td><td>0.9532165</td></tr>\n",
       "</tbody>\n",
       "</table>\n"
      ],
      "text/latex": [
       "A data.table: 6 × 5\n",
       "\\begin{tabular}{lllll}\n",
       " featureID & sampleID & protein\\_intensity & measured & predprob\\\\\n",
       " <chr> & <fct> & <dbl> & <dbl> & <dbl>\\\\\n",
       "\\hline\n",
       "\t A0AV96;A0AV96-2 & LOXIMVI\\_NCI60 & 24.44423 & 0 & 0.8866952\\\\\n",
       "\t A0AV96;A0AV96-2 & MOLT4\\_NCI60   & 21.11678 & 0 & 0.4830533\\\\\n",
       "\t A0AV96;A0AV96-2 & OVCAR8\\_NCI60  & 24.50268 & 0 & 0.8903918\\\\\n",
       "\t A0AV96;A0AV96-2 & SF539\\_NCI60   & 24.81375 & 0 & 0.9083315\\\\\n",
       "\t A0AV96;A0AV96-2 & SN12C\\_NCI60   & 25.70537 & 0 & 0.9459819\\\\\n",
       "\t A0AV96;A0AV96-2 & UACC62\\_NCI60  & 25.94243 & 0 & 0.9532165\\\\\n",
       "\\end{tabular}\n"
      ],
      "text/markdown": [
       "\n",
       "A data.table: 6 × 5\n",
       "\n",
       "| featureID &lt;chr&gt; | sampleID &lt;fct&gt; | protein_intensity &lt;dbl&gt; | measured &lt;dbl&gt; | predprob &lt;dbl&gt; |\n",
       "|---|---|---|---|---|\n",
       "| A0AV96;A0AV96-2 | LOXIMVI_NCI60 | 24.44423 | 0 | 0.8866952 |\n",
       "| A0AV96;A0AV96-2 | MOLT4_NCI60   | 21.11678 | 0 | 0.4830533 |\n",
       "| A0AV96;A0AV96-2 | OVCAR8_NCI60  | 24.50268 | 0 | 0.8903918 |\n",
       "| A0AV96;A0AV96-2 | SF539_NCI60   | 24.81375 | 0 | 0.9083315 |\n",
       "| A0AV96;A0AV96-2 | SN12C_NCI60   | 25.70537 | 0 | 0.9459819 |\n",
       "| A0AV96;A0AV96-2 | UACC62_NCI60  | 25.94243 | 0 | 0.9532165 |\n",
       "\n"
      ],
      "text/plain": [
       "  featureID       sampleID      protein_intensity measured predprob \n",
       "1 A0AV96;A0AV96-2 LOXIMVI_NCI60 24.44423          0        0.8866952\n",
       "2 A0AV96;A0AV96-2 MOLT4_NCI60   21.11678          0        0.4830533\n",
       "3 A0AV96;A0AV96-2 OVCAR8_NCI60  24.50268          0        0.8903918\n",
       "4 A0AV96;A0AV96-2 SF539_NCI60   24.81375          0        0.9083315\n",
       "5 A0AV96;A0AV96-2 SN12C_NCI60   25.70537          0        0.9459819\n",
       "6 A0AV96;A0AV96-2 UACC62_NCI60  25.94243          0        0.9532165"
      ]
     },
     "metadata": {},
     "output_type": "display_data"
    }
   ],
   "source": [
    "head(train[train$measured ==0, ])"
   ]
  },
  {
   "cell_type": "code",
   "execution_count": 14,
   "id": "fe61c6b6",
   "metadata": {},
   "outputs": [
    {
     "data": {
      "image/png": "[encoded data removed]",
      "text/plain": [
       "plot without title"
      ]
     },
     "metadata": {
      "image/png": {
       "height": 420,
       "width": 420
      }
     },
     "output_type": "display_data"
    }
   ],
   "source": [
    "plot(train$protein_intensity, train$predprob, pch = 16, cex = 1, ylab = \"Probability to be measured\", xlab = \"Protein Intensity\")"
   ]
  },
  {
   "cell_type": "code",
   "execution_count": 15,
   "id": "3beca458",
   "metadata": {},
   "outputs": [],
   "source": [
    "train$missing <- 1- train$predprob"
   ]
  },
  {
   "cell_type": "code",
   "execution_count": 16,
   "id": "0706140e",
   "metadata": {},
   "outputs": [
    {
     "data": {
      "text/html": [
       "<table class=\"dataframe\">\n",
       "<caption>A data.table: 6 × 6</caption>\n",
       "<thead>\n",
       "\t<tr><th scope=col>featureID</th><th scope=col>sampleID</th><th scope=col>protein_intensity</th><th scope=col>measured</th><th scope=col>predprob</th><th scope=col>missing</th></tr>\n",
       "\t<tr><th scope=col>&lt;chr&gt;</th><th scope=col>&lt;fct&gt;</th><th scope=col>&lt;dbl&gt;</th><th scope=col>&lt;dbl&gt;</th><th scope=col>&lt;dbl&gt;</th><th scope=col>&lt;dbl&gt;</th></tr>\n",
       "</thead>\n",
       "<tbody>\n",
       "\t<tr><td>A0AV96;A0AV96-2</td><td>X786O_NCI60</td><td>26.95893</td><td>1</td><td>0.9749996</td><td>0.025000432</td></tr>\n",
       "\t<tr><td>A0AV96;A0AV96-2</td><td>A498_NCI60 </td><td>28.67702</td><td>1</td><td>0.9915146</td><td>0.008485427</td></tr>\n",
       "\t<tr><td>A0AV96;A0AV96-2</td><td>A549_NCI60 </td><td>29.12149</td><td>1</td><td>0.9935983</td><td>0.006401712</td></tr>\n",
       "\t<tr><td>A0AV96;A0AV96-2</td><td>ACHN_NCI60 </td><td>29.22591</td><td>1</td><td>0.9940088</td><td>0.005991163</td></tr>\n",
       "\t<tr><td>A0AV96;A0AV96-2</td><td>BT549_NCI60</td><td>24.08905</td><td>1</td><td>0.8618288</td><td>0.138171224</td></tr>\n",
       "\t<tr><td>A0AV96;A0AV96-2</td><td>CAKI1_NCI60</td><td>27.47051</td><td>1</td><td>0.9818415</td><td>0.018158472</td></tr>\n",
       "</tbody>\n",
       "</table>\n"
      ],
      "text/latex": [
       "A data.table: 6 × 6\n",
       "\\begin{tabular}{llllll}\n",
       " featureID & sampleID & protein\\_intensity & measured & predprob & missing\\\\\n",
       " <chr> & <fct> & <dbl> & <dbl> & <dbl> & <dbl>\\\\\n",
       "\\hline\n",
       "\t A0AV96;A0AV96-2 & X786O\\_NCI60 & 26.95893 & 1 & 0.9749996 & 0.025000432\\\\\n",
       "\t A0AV96;A0AV96-2 & A498\\_NCI60  & 28.67702 & 1 & 0.9915146 & 0.008485427\\\\\n",
       "\t A0AV96;A0AV96-2 & A549\\_NCI60  & 29.12149 & 1 & 0.9935983 & 0.006401712\\\\\n",
       "\t A0AV96;A0AV96-2 & ACHN\\_NCI60  & 29.22591 & 1 & 0.9940088 & 0.005991163\\\\\n",
       "\t A0AV96;A0AV96-2 & BT549\\_NCI60 & 24.08905 & 1 & 0.8618288 & 0.138171224\\\\\n",
       "\t A0AV96;A0AV96-2 & CAKI1\\_NCI60 & 27.47051 & 1 & 0.9818415 & 0.018158472\\\\\n",
       "\\end{tabular}\n"
      ],
      "text/markdown": [
       "\n",
       "A data.table: 6 × 6\n",
       "\n",
       "| featureID &lt;chr&gt; | sampleID &lt;fct&gt; | protein_intensity &lt;dbl&gt; | measured &lt;dbl&gt; | predprob &lt;dbl&gt; | missing &lt;dbl&gt; |\n",
       "|---|---|---|---|---|---|\n",
       "| A0AV96;A0AV96-2 | X786O_NCI60 | 26.95893 | 1 | 0.9749996 | 0.025000432 |\n",
       "| A0AV96;A0AV96-2 | A498_NCI60  | 28.67702 | 1 | 0.9915146 | 0.008485427 |\n",
       "| A0AV96;A0AV96-2 | A549_NCI60  | 29.12149 | 1 | 0.9935983 | 0.006401712 |\n",
       "| A0AV96;A0AV96-2 | ACHN_NCI60  | 29.22591 | 1 | 0.9940088 | 0.005991163 |\n",
       "| A0AV96;A0AV96-2 | BT549_NCI60 | 24.08905 | 1 | 0.8618288 | 0.138171224 |\n",
       "| A0AV96;A0AV96-2 | CAKI1_NCI60 | 27.47051 | 1 | 0.9818415 | 0.018158472 |\n",
       "\n"
      ],
      "text/plain": [
       "  featureID       sampleID    protein_intensity measured predprob  missing    \n",
       "1 A0AV96;A0AV96-2 X786O_NCI60 26.95893          1        0.9749996 0.025000432\n",
       "2 A0AV96;A0AV96-2 A498_NCI60  28.67702          1        0.9915146 0.008485427\n",
       "3 A0AV96;A0AV96-2 A549_NCI60  29.12149          1        0.9935983 0.006401712\n",
       "4 A0AV96;A0AV96-2 ACHN_NCI60  29.22591          1        0.9940088 0.005991163\n",
       "5 A0AV96;A0AV96-2 BT549_NCI60 24.08905          1        0.8618288 0.138171224\n",
       "6 A0AV96;A0AV96-2 CAKI1_NCI60 27.47051          1        0.9818415 0.018158472"
      ]
     },
     "metadata": {},
     "output_type": "display_data"
    }
   ],
   "source": [
    "head(train)"
   ]
  },
  {
   "cell_type": "code",
   "execution_count": 17,
   "id": "31fa9731",
   "metadata": {},
   "outputs": [
    {
     "data": {
      "image/png": "[encoded data removed]",
      "text/plain": [
       "plot without title"
      ]
     },
     "metadata": {
      "image/png": {
       "height": 420,
       "width": 420
      }
     },
     "output_type": "display_data"
    }
   ],
   "source": [
    "plot(train$protein_intensity, train$missing, pch = 16, cex = 1, ylab = \"Probability to be missing\", xlab = \"Protein Intensity\")"
   ]
  },
  {
   "cell_type": "code",
   "execution_count": 18,
   "id": "7b8f0d7a",
   "metadata": {},
   "outputs": [
    {
     "data": {
      "image/png": "[encoded data removed]",
      "text/plain": [
       "Plot with title “Histogram of probability to be missing”"
      ]
     },
     "metadata": {
      "image/png": {
       "height": 420,
       "width": 420
      }
     },
     "output_type": "display_data"
    }
   ],
   "source": [
    "hist(train$missing, xlab = \"Probability to be missing\", main = \"Histogram of probability to be missing\")"
   ]
  },
  {
   "cell_type": "code",
   "execution_count": 19,
   "id": "02fc551a",
   "metadata": {},
   "outputs": [],
   "source": [
    "write.csv(train, row.names=FALSE, \"missing_pred.csv\")"
   ]
  },
  {
   "cell_type": "code",
   "execution_count": null,
   "id": "26d12b0d",
   "metadata": {},
   "outputs": [],
   "source": []
  }
 ],
 "metadata": {
  "kernelspec": {
   "display_name": "R",
   "language": "R",
   "name": "ir"
  },
  "language_info": {
   "codemirror_mode": "r",
   "file_extension": ".r",
   "mimetype": "text/x-r-source",
   "name": "R",
   "pygments_lexer": "r",
   "version": "4.2.2"
  }
 },
 "nbformat": 4,
 "nbformat_minor": 5
}
