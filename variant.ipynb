{
 "cells": [
  {
   "cell_type": "code",
   "execution_count": 1,
   "id": "a11d8764",
   "metadata": {},
   "outputs": [],
   "source": [
    "library(data.table)"
   ]
  },
  {
   "cell_type": "code",
   "execution_count": 2,
   "id": "88542c56",
   "metadata": {},
   "outputs": [],
   "source": [
    "library(stringr)"
   ]
  },
  {
   "cell_type": "code",
   "execution_count": 3,
   "id": "0d288fa5",
   "metadata": {},
   "outputs": [],
   "source": [
    "# get variant information\n",
    "# preprocessing\n",
    "variant <- read.table(\"output/DNA__Exome_Seq_none.txt\", skip = 13, sep = \"\\t\", fill = TRUE)   \n",
    "variant <- variant[,-77]\n",
    "colnames <- \"BR:MCF7\tBR:MDA-MB-231\tBR:HS 578T\tBR:BT-549\tBR:T-47D\tCNS:SF-268\tCNS:SF-295\tCNS:SF-539\tCNS:SNB-19\tCNS:SNB-75\tCNS:U251\tCO:COLO 205\tCO:HCC-2998\tCO:HCT-116\tCO:HCT-15\tCO:HT29\tCO:KM12\tCO:SW-620\tLE:CCRF-CEM\tLE:HL-60(TB)\tLE:K-562\tLE:MOLT-4\tLE:RPMI-8226\tLE:SR\tME:LOX IMVI\tME:MALME-3M\tME:M14\tME:SK-MEL-2\tME:SK-MEL-28\tME:SK-MEL-5\tME:UACC-257\tME:UACC-62\tME:MDA-MB-435\tME:MDA-N\tLC:A549/ATCC\tLC:EKVX\tLC:HOP-62\tLC:HOP-92\tLC:NCI-H226\tLC:NCI-H23\tLC:NCI-H322M\tLC:NCI-H460\tLC:NCI-H522\tOV:IGROV1\tOV:OVCAR-3\tOV:OVCAR-4\tOV:OVCAR-5\tOV:OVCAR-8\tOV:SK-OV-3\tOV:NCI/ADR-RES\tPR:PC-3\tPR:DU-145\tRE:786-0\tRE:A498\tRE:ACHN\tRE:CAKI-1\tRE:RXF 393\tRE:SN12C\tRE:TK-10\tRE:UO-31\"\n",
    "colname <- strsplit(colnames, split = \"\\t\", fixed = TRUE)\n",
    "colnames(variant)[17:76] <- colname[[1]]\n",
    "colnames(variant)[1:16] <-  variant[1,][1:16]\n",
    "variant <- variant[-1,]\n",
    "rownames(variant) <- 1:nrow(variant)\n",
    "write.table(variant, \"variant.csv\", row.names = FALSE)\n"
   ]
  },
  {
   "cell_type": "code",
   "execution_count": 4,
   "id": "52a0aa65",
   "metadata": {},
   "outputs": [],
   "source": [
    "# use cutoff on the variant allele frequency to define presence of a variant in a given sample,  > 0 "
   ]
  },
  {
   "cell_type": "code",
   "execution_count": 5,
   "id": "de6b7b27",
   "metadata": {},
   "outputs": [
    {
     "data": {
      "text/html": [
       "57458"
      ],
      "text/latex": [
       "57458"
      ],
      "text/markdown": [
       "57458"
      ],
      "text/plain": [
       "[1] 57458"
      ]
     },
     "metadata": {},
     "output_type": "display_data"
    },
    {
     "data": {
      "text/html": [
       "<table class=\"dataframe\">\n",
       "<caption>A data.table: 6 × 61</caption>\n",
       "<thead>\n",
       "\t<tr><th scope=col>BR:MCF7</th><th scope=col>BR:MDA-MB-231</th><th scope=col>BR:HS 578T</th><th scope=col>BR:BT-549</th><th scope=col>BR:T-47D</th><th scope=col>CNS:SF-268</th><th scope=col>CNS:SF-295</th><th scope=col>CNS:SF-539</th><th scope=col>CNS:SNB-19</th><th scope=col>CNS:SNB-75</th><th scope=col>⋯</th><th scope=col>PR:DU-145</th><th scope=col>RE:786-0</th><th scope=col>RE:A498</th><th scope=col>RE:ACHN</th><th scope=col>RE:CAKI-1</th><th scope=col>RE:RXF 393</th><th scope=col>RE:SN12C</th><th scope=col>RE:TK-10</th><th scope=col>RE:UO-31</th><th scope=col>Identifier</th></tr>\n",
       "\t<tr><th scope=col>&lt;dbl&gt;</th><th scope=col>&lt;dbl&gt;</th><th scope=col>&lt;dbl&gt;</th><th scope=col>&lt;dbl&gt;</th><th scope=col>&lt;dbl&gt;</th><th scope=col>&lt;dbl&gt;</th><th scope=col>&lt;dbl&gt;</th><th scope=col>&lt;dbl&gt;</th><th scope=col>&lt;dbl&gt;</th><th scope=col>&lt;dbl&gt;</th><th scope=col>⋯</th><th scope=col>&lt;dbl&gt;</th><th scope=col>&lt;dbl&gt;</th><th scope=col>&lt;dbl&gt;</th><th scope=col>&lt;dbl&gt;</th><th scope=col>&lt;dbl&gt;</th><th scope=col>&lt;dbl&gt;</th><th scope=col>&lt;dbl&gt;</th><th scope=col>&lt;dbl&gt;</th><th scope=col>&lt;dbl&gt;</th><th scope=col>&lt;chr&gt;</th></tr>\n",
       "</thead>\n",
       "<tbody>\n",
       "\t<tr><td>0</td><td>0</td><td>0</td><td>0</td><td>0</td><td>0</td><td>0</td><td> 0.000</td><td>0</td><td>0</td><td>⋯</td><td>0</td><td>  0</td><td>0</td><td>0</td><td>0</td><td>0</td><td>85.714</td><td>  0</td><td>0</td><td>chr1:865628_G_A </td></tr>\n",
       "\t<tr><td>0</td><td>0</td><td>0</td><td>0</td><td>0</td><td>0</td><td>0</td><td> 0.000</td><td>0</td><td>0</td><td>⋯</td><td>0</td><td>  0</td><td>0</td><td>0</td><td>0</td><td>0</td><td> 0.000</td><td>  0</td><td>0</td><td>chr1:871199_G_A </td></tr>\n",
       "\t<tr><td>0</td><td>0</td><td>0</td><td>0</td><td>0</td><td>0</td><td>0</td><td> 0.000</td><td>0</td><td>0</td><td>⋯</td><td>0</td><td>  0</td><td>0</td><td>0</td><td>0</td><td>0</td><td> 0.000</td><td>  0</td><td>0</td><td>chr1:874788_C_G </td></tr>\n",
       "\t<tr><td>0</td><td>0</td><td>0</td><td>0</td><td>0</td><td>0</td><td>0</td><td> 0.000</td><td>0</td><td>0</td><td>⋯</td><td>0</td><td>  0</td><td>0</td><td>0</td><td>0</td><td>0</td><td> 0.000</td><td>  0</td><td>0</td><td>chr1:874816_*_+T</td></tr>\n",
       "\t<tr><td>0</td><td>0</td><td>0</td><td>0</td><td>0</td><td>0</td><td>0</td><td> 0.000</td><td>0</td><td>0</td><td>⋯</td><td>0</td><td>100</td><td>0</td><td>0</td><td>0</td><td>0</td><td> 0.000</td><td>100</td><td>0</td><td>chr1:877831_T_C </td></tr>\n",
       "\t<tr><td>0</td><td>0</td><td>0</td><td>0</td><td>0</td><td>0</td><td>0</td><td>66.667</td><td>0</td><td>0</td><td>⋯</td><td>0</td><td>  0</td><td>0</td><td>0</td><td>0</td><td>0</td><td> 0.000</td><td>  0</td><td>0</td><td>chr1:878331_C_T </td></tr>\n",
       "</tbody>\n",
       "</table>\n"
      ],
      "text/latex": [
       "A data.table: 6 × 61\n",
       "\\begin{tabular}{lllllllllllllllllllll}\n",
       " BR:MCF7 & BR:MDA-MB-231 & BR:HS 578T & BR:BT-549 & BR:T-47D & CNS:SF-268 & CNS:SF-295 & CNS:SF-539 & CNS:SNB-19 & CNS:SNB-75 & ⋯ & PR:DU-145 & RE:786-0 & RE:A498 & RE:ACHN & RE:CAKI-1 & RE:RXF 393 & RE:SN12C & RE:TK-10 & RE:UO-31 & Identifier\\\\\n",
       " <dbl> & <dbl> & <dbl> & <dbl> & <dbl> & <dbl> & <dbl> & <dbl> & <dbl> & <dbl> & ⋯ & <dbl> & <dbl> & <dbl> & <dbl> & <dbl> & <dbl> & <dbl> & <dbl> & <dbl> & <chr>\\\\\n",
       "\\hline\n",
       "\t 0 & 0 & 0 & 0 & 0 & 0 & 0 &  0.000 & 0 & 0 & ⋯ & 0 &   0 & 0 & 0 & 0 & 0 & 85.714 &   0 & 0 & chr1:865628\\_G\\_A \\\\\n",
       "\t 0 & 0 & 0 & 0 & 0 & 0 & 0 &  0.000 & 0 & 0 & ⋯ & 0 &   0 & 0 & 0 & 0 & 0 &  0.000 &   0 & 0 & chr1:871199\\_G\\_A \\\\\n",
       "\t 0 & 0 & 0 & 0 & 0 & 0 & 0 &  0.000 & 0 & 0 & ⋯ & 0 &   0 & 0 & 0 & 0 & 0 &  0.000 &   0 & 0 & chr1:874788\\_C\\_G \\\\\n",
       "\t 0 & 0 & 0 & 0 & 0 & 0 & 0 &  0.000 & 0 & 0 & ⋯ & 0 &   0 & 0 & 0 & 0 & 0 &  0.000 &   0 & 0 & chr1:874816\\_*\\_+T\\\\\n",
       "\t 0 & 0 & 0 & 0 & 0 & 0 & 0 &  0.000 & 0 & 0 & ⋯ & 0 & 100 & 0 & 0 & 0 & 0 &  0.000 & 100 & 0 & chr1:877831\\_T\\_C \\\\\n",
       "\t 0 & 0 & 0 & 0 & 0 & 0 & 0 & 66.667 & 0 & 0 & ⋯ & 0 &   0 & 0 & 0 & 0 & 0 &  0.000 &   0 & 0 & chr1:878331\\_C\\_T \\\\\n",
       "\\end{tabular}\n"
      ],
      "text/markdown": [
       "\n",
       "A data.table: 6 × 61\n",
       "\n",
       "| BR:MCF7 &lt;dbl&gt; | BR:MDA-MB-231 &lt;dbl&gt; | BR:HS 578T &lt;dbl&gt; | BR:BT-549 &lt;dbl&gt; | BR:T-47D &lt;dbl&gt; | CNS:SF-268 &lt;dbl&gt; | CNS:SF-295 &lt;dbl&gt; | CNS:SF-539 &lt;dbl&gt; | CNS:SNB-19 &lt;dbl&gt; | CNS:SNB-75 &lt;dbl&gt; | ⋯ ⋯ | PR:DU-145 &lt;dbl&gt; | RE:786-0 &lt;dbl&gt; | RE:A498 &lt;dbl&gt; | RE:ACHN &lt;dbl&gt; | RE:CAKI-1 &lt;dbl&gt; | RE:RXF 393 &lt;dbl&gt; | RE:SN12C &lt;dbl&gt; | RE:TK-10 &lt;dbl&gt; | RE:UO-31 &lt;dbl&gt; | Identifier &lt;chr&gt; |\n",
       "|---|---|---|---|---|---|---|---|---|---|---|---|---|---|---|---|---|---|---|---|---|\n",
       "| 0 | 0 | 0 | 0 | 0 | 0 | 0 |  0.000 | 0 | 0 | ⋯ | 0 |   0 | 0 | 0 | 0 | 0 | 85.714 |   0 | 0 | chr1:865628_G_A  |\n",
       "| 0 | 0 | 0 | 0 | 0 | 0 | 0 |  0.000 | 0 | 0 | ⋯ | 0 |   0 | 0 | 0 | 0 | 0 |  0.000 |   0 | 0 | chr1:871199_G_A  |\n",
       "| 0 | 0 | 0 | 0 | 0 | 0 | 0 |  0.000 | 0 | 0 | ⋯ | 0 |   0 | 0 | 0 | 0 | 0 |  0.000 |   0 | 0 | chr1:874788_C_G  |\n",
       "| 0 | 0 | 0 | 0 | 0 | 0 | 0 |  0.000 | 0 | 0 | ⋯ | 0 |   0 | 0 | 0 | 0 | 0 |  0.000 |   0 | 0 | chr1:874816_*_+T |\n",
       "| 0 | 0 | 0 | 0 | 0 | 0 | 0 |  0.000 | 0 | 0 | ⋯ | 0 | 100 | 0 | 0 | 0 | 0 |  0.000 | 100 | 0 | chr1:877831_T_C  |\n",
       "| 0 | 0 | 0 | 0 | 0 | 0 | 0 | 66.667 | 0 | 0 | ⋯ | 0 |   0 | 0 | 0 | 0 | 0 |  0.000 |   0 | 0 | chr1:878331_C_T  |\n",
       "\n"
      ],
      "text/plain": [
       "  BR:MCF7 BR:MDA-MB-231 BR:HS 578T BR:BT-549 BR:T-47D CNS:SF-268 CNS:SF-295\n",
       "1 0       0             0          0         0        0          0         \n",
       "2 0       0             0          0         0        0          0         \n",
       "3 0       0             0          0         0        0          0         \n",
       "4 0       0             0          0         0        0          0         \n",
       "5 0       0             0          0         0        0          0         \n",
       "6 0       0             0          0         0        0          0         \n",
       "  CNS:SF-539 CNS:SNB-19 CNS:SNB-75 ⋯ PR:DU-145 RE:786-0 RE:A498 RE:ACHN\n",
       "1  0.000     0          0          ⋯ 0           0      0       0      \n",
       "2  0.000     0          0          ⋯ 0           0      0       0      \n",
       "3  0.000     0          0          ⋯ 0           0      0       0      \n",
       "4  0.000     0          0          ⋯ 0           0      0       0      \n",
       "5  0.000     0          0          ⋯ 0         100      0       0      \n",
       "6 66.667     0          0          ⋯ 0           0      0       0      \n",
       "  RE:CAKI-1 RE:RXF 393 RE:SN12C RE:TK-10 RE:UO-31 Identifier      \n",
       "1 0         0          85.714     0      0        chr1:865628_G_A \n",
       "2 0         0           0.000     0      0        chr1:871199_G_A \n",
       "3 0         0           0.000     0      0        chr1:874788_C_G \n",
       "4 0         0           0.000     0      0        chr1:874816_*_+T\n",
       "5 0         0           0.000   100      0        chr1:877831_T_C \n",
       "6 0         0           0.000     0      0        chr1:878331_C_T "
      ]
     },
     "metadata": {},
     "output_type": "display_data"
    }
   ],
   "source": [
    "variant <- fread(\"variant.csv\")\n",
    "# extract rare variants of the following classes: missense, stop, frameshift, splice\n",
    "select_variant <- variant[variant$`SNP Type (l)` %in% c('Missense', 'Frameshift', 'Nonsense', 'Splicing'),]\n",
    "variant_sample <- select_variant[,17:ncol(variant)]\n",
    "variant_sample$Identifier <- select_variant$`Identifier (c)`\n",
    "nrow(variant_sample)\n",
    "head(variant_sample)"
   ]
  },
  {
   "cell_type": "code",
   "execution_count": 6,
   "id": "468c4568",
   "metadata": {},
   "outputs": [
    {
     "name": "stderr",
     "output_type": "stream",
     "text": [
      "Warning message in melt.data.table(variant_sample, variable.name = \"sample(cell_line)\", :\n",
      "“id.vars and measure.vars are internally guessed when both are 'NULL'. All non-numeric/integer/logical type columns are considered id.vars, which in this case are columns [Identifier, ...]. Consider providing at least one of 'id' or 'measure' vars in future.”\n"
     ]
    },
    {
     "data": {
      "text/html": [
       "<table class=\"dataframe\">\n",
       "<caption>A data.table: 6 × 3</caption>\n",
       "<thead>\n",
       "\t<tr><th scope=col>Identifier</th><th scope=col>sample(cell_line)</th><th scope=col>frequency</th></tr>\n",
       "\t<tr><th scope=col>&lt;chr&gt;</th><th scope=col>&lt;fct&gt;</th><th scope=col>&lt;dbl&gt;</th></tr>\n",
       "</thead>\n",
       "<tbody>\n",
       "\t<tr><td>chr1:888659_T_C </td><td>BR:MCF7</td><td>100.000</td></tr>\n",
       "\t<tr><td>chr1:1120431_G_A</td><td>BR:MCF7</td><td> 98.182</td></tr>\n",
       "\t<tr><td>chr1:1269554_T_C</td><td>BR:MCF7</td><td> 91.667</td></tr>\n",
       "\t<tr><td>chr1:1558792_T_C</td><td>BR:MCF7</td><td>100.000</td></tr>\n",
       "\t<tr><td>chr1:1686040_G_T</td><td>BR:MCF7</td><td>100.000</td></tr>\n",
       "\t<tr><td>chr1:1847979_T_C</td><td>BR:MCF7</td><td>100.000</td></tr>\n",
       "</tbody>\n",
       "</table>\n"
      ],
      "text/latex": [
       "A data.table: 6 × 3\n",
       "\\begin{tabular}{lll}\n",
       " Identifier & sample(cell\\_line) & frequency\\\\\n",
       " <chr> & <fct> & <dbl>\\\\\n",
       "\\hline\n",
       "\t chr1:888659\\_T\\_C  & BR:MCF7 & 100.000\\\\\n",
       "\t chr1:1120431\\_G\\_A & BR:MCF7 &  98.182\\\\\n",
       "\t chr1:1269554\\_T\\_C & BR:MCF7 &  91.667\\\\\n",
       "\t chr1:1558792\\_T\\_C & BR:MCF7 & 100.000\\\\\n",
       "\t chr1:1686040\\_G\\_T & BR:MCF7 & 100.000\\\\\n",
       "\t chr1:1847979\\_T\\_C & BR:MCF7 & 100.000\\\\\n",
       "\\end{tabular}\n"
      ],
      "text/markdown": [
       "\n",
       "A data.table: 6 × 3\n",
       "\n",
       "| Identifier &lt;chr&gt; | sample(cell_line) &lt;fct&gt; | frequency &lt;dbl&gt; |\n",
       "|---|---|---|\n",
       "| chr1:888659_T_C  | BR:MCF7 | 100.000 |\n",
       "| chr1:1120431_G_A | BR:MCF7 |  98.182 |\n",
       "| chr1:1269554_T_C | BR:MCF7 |  91.667 |\n",
       "| chr1:1558792_T_C | BR:MCF7 | 100.000 |\n",
       "| chr1:1686040_G_T | BR:MCF7 | 100.000 |\n",
       "| chr1:1847979_T_C | BR:MCF7 | 100.000 |\n",
       "\n"
      ],
      "text/plain": [
       "  Identifier       sample(cell_line) frequency\n",
       "1 chr1:888659_T_C  BR:MCF7           100.000  \n",
       "2 chr1:1120431_G_A BR:MCF7            98.182  \n",
       "3 chr1:1269554_T_C BR:MCF7            91.667  \n",
       "4 chr1:1558792_T_C BR:MCF7           100.000  \n",
       "5 chr1:1686040_G_T BR:MCF7           100.000  \n",
       "6 chr1:1847979_T_C BR:MCF7           100.000  "
      ]
     },
     "metadata": {},
     "output_type": "display_data"
    },
    {
     "data": {
      "text/html": [
       "352827"
      ],
      "text/latex": [
       "352827"
      ],
      "text/markdown": [
       "352827"
      ],
      "text/plain": [
       "[1] 352827"
      ]
     },
     "metadata": {},
     "output_type": "display_data"
    }
   ],
   "source": [
    "#use cutoff on the variant allele frequency to define presence of a variant in a given sample (start with > 0)\n",
    "variant_sample_cutoff <- melt(variant_sample, variable.name = \"sample(cell_line)\", value.name = \"frequency\")\n",
    "variant_sample_cutoff <- variant_sample_cutoff[variant_sample_cutoff$frequency > 0,]\n",
    "head(variant_sample_cutoff)\n",
    "nrow(variant_sample_cutoff)"
   ]
  },
  {
   "cell_type": "code",
   "execution_count": 7,
   "id": "74330dab",
   "metadata": {},
   "outputs": [
    {
     "data": {
      "text/html": [
       "<table class=\"dataframe\">\n",
       "<caption>A data.frame: 6 × 4</caption>\n",
       "<thead>\n",
       "\t<tr><th></th><th scope=col>chr</th><th scope=col>begin</th><th scope=col>end</th><th scope=col>snp</th></tr>\n",
       "\t<tr><th></th><th scope=col>&lt;chr&gt;</th><th scope=col>&lt;chr&gt;</th><th scope=col>&lt;chr&gt;</th><th scope=col>&lt;chr&gt;</th></tr>\n",
       "</thead>\n",
       "<tbody>\n",
       "\t<tr><th scope=row>1</th><td>1</td><td>888659 </td><td>888659 </td><td>T/C</td></tr>\n",
       "\t<tr><th scope=row>2</th><td>1</td><td>1120431</td><td>1120431</td><td>G/A</td></tr>\n",
       "\t<tr><th scope=row>3</th><td>1</td><td>1269554</td><td>1269554</td><td>T/C</td></tr>\n",
       "\t<tr><th scope=row>4</th><td>1</td><td>1558792</td><td>1558792</td><td>T/C</td></tr>\n",
       "\t<tr><th scope=row>5</th><td>1</td><td>1686040</td><td>1686040</td><td>G/T</td></tr>\n",
       "\t<tr><th scope=row>6</th><td>1</td><td>1847979</td><td>1847979</td><td>T/C</td></tr>\n",
       "</tbody>\n",
       "</table>\n"
      ],
      "text/latex": [
       "A data.frame: 6 × 4\n",
       "\\begin{tabular}{r|llll}\n",
       "  & chr & begin & end & snp\\\\\n",
       "  & <chr> & <chr> & <chr> & <chr>\\\\\n",
       "\\hline\n",
       "\t1 & 1 & 888659  & 888659  & T/C\\\\\n",
       "\t2 & 1 & 1120431 & 1120431 & G/A\\\\\n",
       "\t3 & 1 & 1269554 & 1269554 & T/C\\\\\n",
       "\t4 & 1 & 1558792 & 1558792 & T/C\\\\\n",
       "\t5 & 1 & 1686040 & 1686040 & G/T\\\\\n",
       "\t6 & 1 & 1847979 & 1847979 & T/C\\\\\n",
       "\\end{tabular}\n"
      ],
      "text/markdown": [
       "\n",
       "A data.frame: 6 × 4\n",
       "\n",
       "| <!--/--> | chr &lt;chr&gt; | begin &lt;chr&gt; | end &lt;chr&gt; | snp &lt;chr&gt; |\n",
       "|---|---|---|---|---|\n",
       "| 1 | 1 | 888659  | 888659  | T/C |\n",
       "| 2 | 1 | 1120431 | 1120431 | G/A |\n",
       "| 3 | 1 | 1269554 | 1269554 | T/C |\n",
       "| 4 | 1 | 1558792 | 1558792 | T/C |\n",
       "| 5 | 1 | 1686040 | 1686040 | G/T |\n",
       "| 6 | 1 | 1847979 | 1847979 | T/C |\n",
       "\n"
      ],
      "text/plain": [
       "  chr begin   end     snp\n",
       "1 1   888659  888659  T/C\n",
       "2 1   1120431 1120431 G/A\n",
       "3 1   1269554 1269554 T/C\n",
       "4 1   1558792 1558792 T/C\n",
       "5 1   1686040 1686040 G/T\n",
       "6 1   1847979 1847979 T/C"
      ]
     },
     "metadata": {},
     "output_type": "display_data"
    },
    {
     "data": {
      "text/html": [
       "57458"
      ],
      "text/latex": [
       "57458"
      ],
      "text/markdown": [
       "57458"
      ],
      "text/plain": [
       "[1] 57458"
      ]
     },
     "metadata": {},
     "output_type": "display_data"
    }
   ],
   "source": [
    "variant_list <- as.data.frame(unique(variant_sample_cutoff$Identifier))\n",
    "colnames(variant_list) <- \"Identifier\"\n",
    "variant_list[,c(\"chr\", \"pos\")] <- as.data.frame(str_split_fixed(variant_list$Identifier, ':', 2))\n",
    "variant_list[,c(\"begin\", \"ref\", \"alt\")] <- as.data.frame(str_split_fixed(variant_list$pos, '_', 3))\n",
    "variant_list$chr <- gsub('chr','', variant_list$chr)\n",
    "variant_list$snp <- paste0(variant_list$ref, \"/\", variant_list$alt)\n",
    "variant_list$end <- variant_list$begin\n",
    "write.table(variant_list[, c(\"chr\", \"begin\", \"end\", \"snp\")], \"variant_list.tsv\", sep = \"\\t\", quote = FALSE, row.names = FALSE, col.names = FALSE)\n",
    "head(variant_list[, c(\"chr\", \"begin\", \"end\", \"snp\")])\n",
    "nrow(variant_list)"
   ]
  },
  {
   "cell_type": "markdown",
   "id": "7a82f135",
   "metadata": {},
   "source": [
    "if (!require(\"BiocManager\", quietly = TRUE))\n",
    "    install.packages(\"BiocManager\")\n",
    "options(timeout = 3000) \n",
    "BiocManager::install(\"MafDb.gnomAD.r2.1.hs37d5\")"
   ]
  },
  {
   "cell_type": "code",
   "execution_count": 8,
   "id": "9d31906e",
   "metadata": {},
   "outputs": [
    {
     "name": "stderr",
     "output_type": "stream",
     "text": [
      "Lade nötiges Paket: GenomicScores\n",
      "\n",
      "Lade nötiges Paket: S4Vectors\n",
      "\n",
      "Lade nötiges Paket: stats4\n",
      "\n",
      "Lade nötiges Paket: BiocGenerics\n",
      "\n",
      "\n",
      "Attache Paket: ‘BiocGenerics’\n",
      "\n",
      "\n",
      "Die folgenden Objekte sind maskiert von ‘package:stats’:\n",
      "\n",
      "    IQR, mad, sd, var, xtabs\n",
      "\n",
      "\n",
      "Die folgenden Objekte sind maskiert von ‘package:base’:\n",
      "\n",
      "    Filter, Find, Map, Position, Reduce, anyDuplicated, aperm, append,\n",
      "    as.data.frame, basename, cbind, colnames, dirname, do.call,\n",
      "    duplicated, eval, evalq, get, grep, grepl, intersect, is.unsorted,\n",
      "    lapply, mapply, match, mget, order, paste, pmax, pmax.int, pmin,\n",
      "    pmin.int, rank, rbind, rownames, sapply, setdiff, sort, table,\n",
      "    tapply, union, unique, unsplit, which.max, which.min\n",
      "\n",
      "\n",
      "\n",
      "Attache Paket: ‘S4Vectors’\n",
      "\n",
      "\n",
      "Die folgenden Objekte sind maskiert von ‘package:data.table’:\n",
      "\n",
      "    first, second\n",
      "\n",
      "\n",
      "Die folgenden Objekte sind maskiert von ‘package:base’:\n",
      "\n",
      "    I, expand.grid, unname\n",
      "\n",
      "\n",
      "Lade nötiges Paket: GenomicRanges\n",
      "\n",
      "Lade nötiges Paket: IRanges\n",
      "\n",
      "\n",
      "Attache Paket: ‘IRanges’\n",
      "\n",
      "\n",
      "Das folgende Objekt ist maskiert ‘package:data.table’:\n",
      "\n",
      "    shift\n",
      "\n",
      "\n",
      "Lade nötiges Paket: GenomeInfoDb\n",
      "\n",
      "\n",
      "Attache Paket: ‘GenomicScores’\n",
      "\n",
      "\n",
      "Das folgende Objekt ist maskiert ‘package:utils’:\n",
      "\n",
      "    citation\n",
      "\n",
      "\n"
     ]
    }
   ],
   "source": [
    "library(\"MafDb.gnomAD.r2.1.hs37d5\")\n",
    "mafh5 <- MafDb.gnomAD.r2.1.hs37d5"
   ]
  },
  {
   "cell_type": "code",
   "execution_count": 9,
   "id": "58d1593f",
   "metadata": {},
   "outputs": [
    {
     "name": "stderr",
     "output_type": "stream",
     "text": [
      "no MafDb scores for population AF in sequence Y from GScores object x (MafDb.gnomAD.r2.1.hs37d5).\n",
      "\n"
     ]
    },
    {
     "data": {
      "text/html": [
       "<table class=\"dataframe\">\n",
       "<caption>A data.frame: 6 × 6</caption>\n",
       "<thead>\n",
       "\t<tr><th></th><th scope=col>seqnames</th><th scope=col>start</th><th scope=col>end</th><th scope=col>width</th><th scope=col>strand</th><th scope=col>AF</th></tr>\n",
       "\t<tr><th></th><th scope=col>&lt;fct&gt;</th><th scope=col>&lt;int&gt;</th><th scope=col>&lt;int&gt;</th><th scope=col>&lt;int&gt;</th><th scope=col>&lt;fct&gt;</th><th scope=col>&lt;dbl&gt;</th></tr>\n",
       "</thead>\n",
       "<tbody>\n",
       "\t<tr><th scope=row>1</th><td>1</td><td> 888659</td><td> 888659</td><td>1</td><td>*</td><td>0.07</td></tr>\n",
       "\t<tr><th scope=row>2</th><td>1</td><td>1120431</td><td>1120431</td><td>1</td><td>*</td><td>0.13</td></tr>\n",
       "\t<tr><th scope=row>3</th><td>1</td><td>1269554</td><td>1269554</td><td>1</td><td>*</td><td>0.03</td></tr>\n",
       "\t<tr><th scope=row>4</th><td>1</td><td>1558792</td><td>1558792</td><td>1</td><td>*</td><td>0.14</td></tr>\n",
       "\t<tr><th scope=row>5</th><td>1</td><td>1686040</td><td>1686040</td><td>1</td><td>*</td><td>0.31</td></tr>\n",
       "\t<tr><th scope=row>6</th><td>1</td><td>1847979</td><td>1847979</td><td>1</td><td>*</td><td>0.14</td></tr>\n",
       "</tbody>\n",
       "</table>\n"
      ],
      "text/latex": [
       "A data.frame: 6 × 6\n",
       "\\begin{tabular}{r|llllll}\n",
       "  & seqnames & start & end & width & strand & AF\\\\\n",
       "  & <fct> & <int> & <int> & <int> & <fct> & <dbl>\\\\\n",
       "\\hline\n",
       "\t1 & 1 &  888659 &  888659 & 1 & * & 0.07\\\\\n",
       "\t2 & 1 & 1120431 & 1120431 & 1 & * & 0.13\\\\\n",
       "\t3 & 1 & 1269554 & 1269554 & 1 & * & 0.03\\\\\n",
       "\t4 & 1 & 1558792 & 1558792 & 1 & * & 0.14\\\\\n",
       "\t5 & 1 & 1686040 & 1686040 & 1 & * & 0.31\\\\\n",
       "\t6 & 1 & 1847979 & 1847979 & 1 & * & 0.14\\\\\n",
       "\\end{tabular}\n"
      ],
      "text/markdown": [
       "\n",
       "A data.frame: 6 × 6\n",
       "\n",
       "| <!--/--> | seqnames &lt;fct&gt; | start &lt;int&gt; | end &lt;int&gt; | width &lt;int&gt; | strand &lt;fct&gt; | AF &lt;dbl&gt; |\n",
       "|---|---|---|---|---|---|---|\n",
       "| 1 | 1 |  888659 |  888659 | 1 | * | 0.07 |\n",
       "| 2 | 1 | 1120431 | 1120431 | 1 | * | 0.13 |\n",
       "| 3 | 1 | 1269554 | 1269554 | 1 | * | 0.03 |\n",
       "| 4 | 1 | 1558792 | 1558792 | 1 | * | 0.14 |\n",
       "| 5 | 1 | 1686040 | 1686040 | 1 | * | 0.31 |\n",
       "| 6 | 1 | 1847979 | 1847979 | 1 | * | 0.14 |\n",
       "\n"
      ],
      "text/plain": [
       "  seqnames start   end     width strand AF  \n",
       "1 1         888659  888659 1     *      0.07\n",
       "2 1        1120431 1120431 1     *      0.13\n",
       "3 1        1269554 1269554 1     *      0.03\n",
       "4 1        1558792 1558792 1     *      0.14\n",
       "5 1        1686040 1686040 1     *      0.31\n",
       "6 1        1847979 1847979 1     *      0.14"
      ]
     },
     "metadata": {},
     "output_type": "display_data"
    },
    {
     "data": {
      "text/html": [
       "57458"
      ],
      "text/latex": [
       "57458"
      ],
      "text/markdown": [
       "57458"
      ],
      "text/plain": [
       "[1] 57458"
      ]
     },
     "metadata": {},
     "output_type": "display_data"
    }
   ],
   "source": [
    "gr <- GRanges(seqnames = variant_list$chr, \n",
    "              ranges = IRanges(start = as.numeric(variant_list$begin), width = 1))\n",
    "annotate <- gscores(mafh5, gr)\n",
    "annotate_res <- as.data.frame(annotate)\n",
    "head(annotate_res)\n",
    "nrow(annotate_res)"
   ]
  },
  {
   "cell_type": "code",
   "execution_count": 10,
   "id": "d50219fb",
   "metadata": {},
   "outputs": [
    {
     "data": {
      "text/html": [
       "31261"
      ],
      "text/latex": [
       "31261"
      ],
      "text/markdown": [
       "31261"
      ],
      "text/plain": [
       "[1] 31261"
      ]
     },
     "metadata": {},
     "output_type": "display_data"
    },
    {
     "data": {
      "text/html": [
       "31198"
      ],
      "text/latex": [
       "31198"
      ],
      "text/markdown": [
       "31198"
      ],
      "text/plain": [
       "[1] 31198"
      ]
     },
     "metadata": {},
     "output_type": "display_data"
    }
   ],
   "source": [
    "annotate_res <- na.omit(annotate_res )\n",
    "nrow(annotate_res)\n",
    "annotate_res <- annotate_res[!duplicated(annotate_res$start),]\n",
    "nrow(annotate_res)"
   ]
  },
  {
   "cell_type": "code",
   "execution_count": 11,
   "id": "ac821a32",
   "metadata": {},
   "outputs": [
    {
     "data": {
      "text/html": [
       "<table class=\"dataframe\">\n",
       "<caption>A data.frame: 6 × 2</caption>\n",
       "<thead>\n",
       "\t<tr><th></th><th scope=col>Identifier</th><th scope=col>AF</th></tr>\n",
       "\t<tr><th></th><th scope=col>&lt;chr&gt;</th><th scope=col>&lt;dbl&gt;</th></tr>\n",
       "</thead>\n",
       "<tbody>\n",
       "\t<tr><th scope=row>1</th><td>chr7:100001379_C_A </td><td>1e-08</td></tr>\n",
       "\t<tr><th scope=row>3</th><td>chr7:100004867_T_C </td><td>3e-03</td></tr>\n",
       "\t<tr><th scope=row>4</th><td>chr2:100006292_A_G </td><td>1e-08</td></tr>\n",
       "\t<tr><th scope=row>5</th><td>chr2:100007061_C_T </td><td>6e-05</td></tr>\n",
       "\t<tr><th scope=row>6</th><td>chr7:100007167_C_A </td><td>4e-04</td></tr>\n",
       "\t<tr><th scope=row>7</th><td>chr10:100010849_G_A</td><td>1e-08</td></tr>\n",
       "</tbody>\n",
       "</table>\n"
      ],
      "text/latex": [
       "A data.frame: 6 × 2\n",
       "\\begin{tabular}{r|ll}\n",
       "  & Identifier & AF\\\\\n",
       "  & <chr> & <dbl>\\\\\n",
       "\\hline\n",
       "\t1 & chr7:100001379\\_C\\_A  & 1e-08\\\\\n",
       "\t3 & chr7:100004867\\_T\\_C  & 3e-03\\\\\n",
       "\t4 & chr2:100006292\\_A\\_G  & 1e-08\\\\\n",
       "\t5 & chr2:100007061\\_C\\_T  & 6e-05\\\\\n",
       "\t6 & chr7:100007167\\_C\\_A  & 4e-04\\\\\n",
       "\t7 & chr10:100010849\\_G\\_A & 1e-08\\\\\n",
       "\\end{tabular}\n"
      ],
      "text/markdown": [
       "\n",
       "A data.frame: 6 × 2\n",
       "\n",
       "| <!--/--> | Identifier &lt;chr&gt; | AF &lt;dbl&gt; |\n",
       "|---|---|---|\n",
       "| 1 | chr7:100001379_C_A  | 1e-08 |\n",
       "| 3 | chr7:100004867_T_C  | 3e-03 |\n",
       "| 4 | chr2:100006292_A_G  | 1e-08 |\n",
       "| 5 | chr2:100007061_C_T  | 6e-05 |\n",
       "| 6 | chr7:100007167_C_A  | 4e-04 |\n",
       "| 7 | chr10:100010849_G_A | 1e-08 |\n",
       "\n"
      ],
      "text/plain": [
       "  Identifier          AF   \n",
       "1 chr7:100001379_C_A  1e-08\n",
       "3 chr7:100004867_T_C  3e-03\n",
       "4 chr2:100006292_A_G  1e-08\n",
       "5 chr2:100007061_C_T  6e-05\n",
       "6 chr7:100007167_C_A  4e-04\n",
       "7 chr10:100010849_G_A 1e-08"
      ]
     },
     "metadata": {},
     "output_type": "display_data"
    },
    {
     "data": {
      "text/html": [
       "39625"
      ],
      "text/latex": [
       "39625"
      ],
      "text/markdown": [
       "39625"
      ],
      "text/plain": [
       "[1] 39625"
      ]
     },
     "metadata": {},
     "output_type": "display_data"
    }
   ],
   "source": [
    "annotate_res <- merge(variant_list, annotate_res, all.x = TRUE)\n",
    "annotate_res <- annotate_res[,c(\"Identifier\", \"AF\")]\n",
    "annotate_res[is.na(annotate_res)] <- 0.00000001\n",
    "annotate_res <- annotate_res[annotate_res$AF < 0.01,]\n",
    "head(annotate_res)\n",
    "nrow(annotate_res)"
   ]
  },
  {
   "cell_type": "code",
   "execution_count": 12,
   "id": "77b40835",
   "metadata": {},
   "outputs": [
    {
     "data": {
      "text/html": [
       "68571"
      ],
      "text/latex": [
       "68571"
      ],
      "text/markdown": [
       "68571"
      ],
      "text/plain": [
       "[1] 68571"
      ]
     },
     "metadata": {},
     "output_type": "display_data"
    },
    {
     "data": {
      "text/html": [
       "<table class=\"dataframe\">\n",
       "<caption>A data.table: 6 × 4</caption>\n",
       "<thead>\n",
       "\t<tr><th scope=col>Identifier</th><th scope=col>sample(cell_line)</th><th scope=col>frequency</th><th scope=col>AF</th></tr>\n",
       "\t<tr><th scope=col>&lt;chr&gt;</th><th scope=col>&lt;fct&gt;</th><th scope=col>&lt;dbl&gt;</th><th scope=col>&lt;dbl&gt;</th></tr>\n",
       "</thead>\n",
       "<tbody>\n",
       "\t<tr><td>chr10:100010849_G_A</td><td>ME:SK-MEL-2</td><td>45.238</td><td>1e-08</td></tr>\n",
       "\t<tr><td>chr10:100013418_T_G</td><td>ME:SK-MEL-2</td><td>56.140</td><td>6e-05</td></tr>\n",
       "\t<tr><td>chr10:100017532_G_T</td><td>LC:EKVX    </td><td>82.456</td><td>9e-03</td></tr>\n",
       "\t<tr><td>chr10:100020867_C_A</td><td>CO:HCT-15  </td><td>38.889</td><td>1e-08</td></tr>\n",
       "\t<tr><td>chr10:100021911_C_T</td><td>BR:MCF7    </td><td>29.508</td><td>2e-04</td></tr>\n",
       "\t<tr><td>chr10:100167409_A_C</td><td>CO:HCC-2998</td><td>44.000</td><td>1e-08</td></tr>\n",
       "</tbody>\n",
       "</table>\n"
      ],
      "text/latex": [
       "A data.table: 6 × 4\n",
       "\\begin{tabular}{llll}\n",
       " Identifier & sample(cell\\_line) & frequency & AF\\\\\n",
       " <chr> & <fct> & <dbl> & <dbl>\\\\\n",
       "\\hline\n",
       "\t chr10:100010849\\_G\\_A & ME:SK-MEL-2 & 45.238 & 1e-08\\\\\n",
       "\t chr10:100013418\\_T\\_G & ME:SK-MEL-2 & 56.140 & 6e-05\\\\\n",
       "\t chr10:100017532\\_G\\_T & LC:EKVX     & 82.456 & 9e-03\\\\\n",
       "\t chr10:100020867\\_C\\_A & CO:HCT-15   & 38.889 & 1e-08\\\\\n",
       "\t chr10:100021911\\_C\\_T & BR:MCF7     & 29.508 & 2e-04\\\\\n",
       "\t chr10:100167409\\_A\\_C & CO:HCC-2998 & 44.000 & 1e-08\\\\\n",
       "\\end{tabular}\n"
      ],
      "text/markdown": [
       "\n",
       "A data.table: 6 × 4\n",
       "\n",
       "| Identifier &lt;chr&gt; | sample(cell_line) &lt;fct&gt; | frequency &lt;dbl&gt; | AF &lt;dbl&gt; |\n",
       "|---|---|---|---|\n",
       "| chr10:100010849_G_A | ME:SK-MEL-2 | 45.238 | 1e-08 |\n",
       "| chr10:100013418_T_G | ME:SK-MEL-2 | 56.140 | 6e-05 |\n",
       "| chr10:100017532_G_T | LC:EKVX     | 82.456 | 9e-03 |\n",
       "| chr10:100020867_C_A | CO:HCT-15   | 38.889 | 1e-08 |\n",
       "| chr10:100021911_C_T | BR:MCF7     | 29.508 | 2e-04 |\n",
       "| chr10:100167409_A_C | CO:HCC-2998 | 44.000 | 1e-08 |\n",
       "\n"
      ],
      "text/plain": [
       "  Identifier          sample(cell_line) frequency AF   \n",
       "1 chr10:100010849_G_A ME:SK-MEL-2       45.238    1e-08\n",
       "2 chr10:100013418_T_G ME:SK-MEL-2       56.140    6e-05\n",
       "3 chr10:100017532_G_T LC:EKVX           82.456    9e-03\n",
       "4 chr10:100020867_C_A CO:HCT-15         38.889    1e-08\n",
       "5 chr10:100021911_C_T BR:MCF7           29.508    2e-04\n",
       "6 chr10:100167409_A_C CO:HCC-2998       44.000    1e-08"
      ]
     },
     "metadata": {},
     "output_type": "display_data"
    }
   ],
   "source": [
    "variant_with_maf <- merge(variant_sample_cutoff , annotate_res)\n",
    "nrow(variant_with_maf)\n",
    "head(variant_with_maf)"
   ]
  },
  {
   "cell_type": "code",
   "execution_count": 13,
   "id": "69d5fa5b",
   "metadata": {},
   "outputs": [],
   "source": [
    "write.csv(variant_with_maf, quote=FALSE, \"variant_with_maf.csv\")"
   ]
  }
 ],
 "metadata": {
  "kernelspec": {
   "display_name": "R",
   "language": "R",
   "name": "ir"
  },
  "language_info": {
   "codemirror_mode": "r",
   "file_extension": ".r",
   "mimetype": "text/x-r-source",
   "name": "R",
   "pygments_lexer": "r",
   "version": "4.2.2"
  }
 },
 "nbformat": 4,
 "nbformat_minor": 5
}
