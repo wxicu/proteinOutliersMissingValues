{
 "cells": [
  {
   "cell_type": "code",
   "execution_count": 1,
   "id": "a11d8764",
   "metadata": {},
   "outputs": [
    {
     "name": "stderr",
     "output_type": "stream",
     "text": [
      "\n",
      "Attache Paket: ‘dplyr’\n",
      "\n",
      "\n",
      "Die folgenden Objekte sind maskiert von ‘package:data.table’:\n",
      "\n",
      "    between, first, last\n",
      "\n",
      "\n",
      "Die folgenden Objekte sind maskiert von ‘package:stats’:\n",
      "\n",
      "    filter, lag\n",
      "\n",
      "\n",
      "Die folgenden Objekte sind maskiert von ‘package:base’:\n",
      "\n",
      "    intersect, setdiff, setequal, union\n",
      "\n",
      "\n"
     ]
    }
   ],
   "source": [
    "library(data.table)\n",
    "library(stringr)\n",
    "library(dplyr)"
   ]
  },
  {
   "cell_type": "code",
   "execution_count": 2,
   "id": "aa8c8648",
   "metadata": {},
   "outputs": [
    {
     "data": {
      "text/html": [
       "<table class=\"dataframe\">\n",
       "<caption>A data.frame: 6 × 8</caption>\n",
       "<thead>\n",
       "\t<tr><th></th><th scope=col>Identifier</th><th scope=col>gene_name</th><th scope=col>geneID</th><th scope=col>Chromosome</th><th scope=col>Start</th><th scope=col>End</th><th scope=col>dbSNPid</th><th scope=col>snpType</th></tr>\n",
       "\t<tr><th></th><th scope=col>&lt;chr&gt;</th><th scope=col>&lt;chr&gt;</th><th scope=col>&lt;chr&gt;</th><th scope=col>&lt;chr&gt;</th><th scope=col>&lt;chr&gt;</th><th scope=col>&lt;chr&gt;</th><th scope=col>&lt;chr&gt;</th><th scope=col>&lt;chr&gt;</th></tr>\n",
       "</thead>\n",
       "<tbody>\n",
       "\t<tr><th scope=row>1</th><td>chr1:865628_G_A </td><td>SAMD11</td><td>148398</td><td>1</td><td>865628</td><td>865628</td><td>rs41285790</td><td>Missense  </td></tr>\n",
       "\t<tr><th scope=row>2</th><td>chr1:871199_G_A </td><td>SAMD11</td><td>148398</td><td>1</td><td>871199</td><td>871199</td><td>-         </td><td>Missense  </td></tr>\n",
       "\t<tr><th scope=row>3</th><td>chr1:874788_C_G </td><td>SAMD11</td><td>148398</td><td>1</td><td>874788</td><td>874788</td><td>-         </td><td>Missense  </td></tr>\n",
       "\t<tr><th scope=row>4</th><td>chr1:874816_*_+T</td><td>SAMD11</td><td>148398</td><td>1</td><td>874816</td><td>874816</td><td>-         </td><td>Frameshift</td></tr>\n",
       "\t<tr><th scope=row>5</th><td>chr1:876499_A_G </td><td>SAMD11</td><td>148398</td><td>1</td><td>876499</td><td>876499</td><td>rs4372192 </td><td>Intronic  </td></tr>\n",
       "\t<tr><th scope=row>6</th><td>chr1:877831_T_C </td><td>SAMD11</td><td>148398</td><td>1</td><td>877831</td><td>877831</td><td>rs6672356 </td><td>Missense  </td></tr>\n",
       "</tbody>\n",
       "</table>\n"
      ],
      "text/latex": [
       "A data.frame: 6 × 8\n",
       "\\begin{tabular}{r|llllllll}\n",
       "  & Identifier & gene\\_name & geneID & Chromosome & Start & End & dbSNPid & snpType\\\\\n",
       "  & <chr> & <chr> & <chr> & <chr> & <chr> & <chr> & <chr> & <chr>\\\\\n",
       "\\hline\n",
       "\t1 & chr1:865628\\_G\\_A  & SAMD11 & 148398 & 1 & 865628 & 865628 & rs41285790 & Missense  \\\\\n",
       "\t2 & chr1:871199\\_G\\_A  & SAMD11 & 148398 & 1 & 871199 & 871199 & -          & Missense  \\\\\n",
       "\t3 & chr1:874788\\_C\\_G  & SAMD11 & 148398 & 1 & 874788 & 874788 & -          & Missense  \\\\\n",
       "\t4 & chr1:874816\\_*\\_+T & SAMD11 & 148398 & 1 & 874816 & 874816 & -          & Frameshift\\\\\n",
       "\t5 & chr1:876499\\_A\\_G  & SAMD11 & 148398 & 1 & 876499 & 876499 & rs4372192  & Intronic  \\\\\n",
       "\t6 & chr1:877831\\_T\\_C  & SAMD11 & 148398 & 1 & 877831 & 877831 & rs6672356  & Missense  \\\\\n",
       "\\end{tabular}\n"
      ],
      "text/markdown": [
       "\n",
       "A data.frame: 6 × 8\n",
       "\n",
       "| <!--/--> | Identifier &lt;chr&gt; | gene_name &lt;chr&gt; | geneID &lt;chr&gt; | Chromosome &lt;chr&gt; | Start &lt;chr&gt; | End &lt;chr&gt; | dbSNPid &lt;chr&gt; | snpType &lt;chr&gt; |\n",
       "|---|---|---|---|---|---|---|---|---|\n",
       "| 1 | chr1:865628_G_A  | SAMD11 | 148398 | 1 | 865628 | 865628 | rs41285790 | Missense   |\n",
       "| 2 | chr1:871199_G_A  | SAMD11 | 148398 | 1 | 871199 | 871199 | -          | Missense   |\n",
       "| 3 | chr1:874788_C_G  | SAMD11 | 148398 | 1 | 874788 | 874788 | -          | Missense   |\n",
       "| 4 | chr1:874816_*_+T | SAMD11 | 148398 | 1 | 874816 | 874816 | -          | Frameshift |\n",
       "| 5 | chr1:876499_A_G  | SAMD11 | 148398 | 1 | 876499 | 876499 | rs4372192  | Intronic   |\n",
       "| 6 | chr1:877831_T_C  | SAMD11 | 148398 | 1 | 877831 | 877831 | rs6672356  | Missense   |\n",
       "\n"
      ],
      "text/plain": [
       "  Identifier       gene_name geneID Chromosome Start  End    dbSNPid   \n",
       "1 chr1:865628_G_A  SAMD11    148398 1          865628 865628 rs41285790\n",
       "2 chr1:871199_G_A  SAMD11    148398 1          871199 871199 -         \n",
       "3 chr1:874788_C_G  SAMD11    148398 1          874788 874788 -         \n",
       "4 chr1:874816_*_+T SAMD11    148398 1          874816 874816 -         \n",
       "5 chr1:876499_A_G  SAMD11    148398 1          876499 876499 rs4372192 \n",
       "6 chr1:877831_T_C  SAMD11    148398 1          877831 877831 rs6672356 \n",
       "  snpType   \n",
       "1 Missense  \n",
       "2 Missense  \n",
       "3 Missense  \n",
       "4 Frameshift\n",
       "5 Intronic  \n",
       "6 Missense  "
      ]
     },
     "metadata": {},
     "output_type": "display_data"
    }
   ],
   "source": [
    "# get variant information\n",
    "# preprocessing\n",
    "variant <- read.table(\"output/DNA__Exome_Seq_none.txt\", skip = 13, sep = \"\\t\", fill = TRUE)   \n",
    "variant <- variant[,-77]\n",
    "colnames <- \"BR:MCF7\tBR:MDA-MB-231\tBR:HS 578T\tBR:BT-549\tBR:T-47D\tCNS:SF-268\tCNS:SF-295\tCNS:SF-539\tCNS:SNB-19\tCNS:SNB-75\tCNS:U251\tCO:COLO 205\tCO:HCC-2998\tCO:HCT-116\tCO:HCT-15\tCO:HT29\tCO:KM12\tCO:SW-620\tLE:CCRF-CEM\tLE:HL-60(TB)\tLE:K-562\tLE:MOLT-4\tLE:RPMI-8226\tLE:SR\tME:LOX IMVI\tME:MALME-3M\tME:M14\tME:SK-MEL-2\tME:SK-MEL-28\tME:SK-MEL-5\tME:UACC-257\tME:UACC-62\tME:MDA-MB-435\tME:MDA-N\tLC:A549/ATCC\tLC:EKVX\tLC:HOP-62\tLC:HOP-92\tLC:NCI-H226\tLC:NCI-H23\tLC:NCI-H322M\tLC:NCI-H460\tLC:NCI-H522\tOV:IGROV1\tOV:OVCAR-3\tOV:OVCAR-4\tOV:OVCAR-5\tOV:OVCAR-8\tOV:SK-OV-3\tOV:NCI/ADR-RES\tPR:PC-3\tPR:DU-145\tRE:786-0\tRE:A498\tRE:ACHN\tRE:CAKI-1\tRE:RXF 393\tRE:SN12C\tRE:TK-10\tRE:UO-31\"\n",
    "colname <- strsplit(colnames, split = \"\\t\", fixed = TRUE)\n",
    "colnames(variant)[17:76] <- colname[[1]]\n",
    "colnames(variant)[1:16] <-  variant[1,][1:16]\n",
    "variant <- variant[-1,]\n",
    "variant_meta <- variant[,c(1:6,8,13)]\n",
    "rownames(variant_meta) <- 1:nrow(variant_meta)\n",
    "colnames(variant_meta) <- c(\"Identifier\", \"gene_name\", 'geneID', 'Chromosome', \"Start\", \"End\", 'dbSNPid', \"snpType\")\n",
    "head(variant_meta)\n",
    "write.table(variant_meta, \"variant.csv\", row.names = FALSE)"
   ]
  },
  {
   "cell_type": "code",
   "execution_count": 3,
   "id": "8a4c1246",
   "metadata": {},
   "outputs": [
    {
     "data": {
      "text/html": [
       "<table class=\"dataframe\">\n",
       "<caption>A data.frame: 6 × 76</caption>\n",
       "<thead>\n",
       "\t<tr><th></th><th scope=col>Identifier (c)</th><th scope=col>Gene name (d)</th><th scope=col>Entrez gene id (e)</th><th scope=col>Chromosome (f)</th><th scope=col>Start (f)</th><th scope=col>End (f)</th><th scope=col>Cytoband (f)</th><th scope=col>dbSNP id (g)</th><th scope=col>AA Impact (h)</th><th scope=col>1000 Genome (i)</th><th scope=col>⋯</th><th scope=col>PR:PC-3</th><th scope=col>PR:DU-145</th><th scope=col>RE:786-0</th><th scope=col>RE:A498</th><th scope=col>RE:ACHN</th><th scope=col>RE:CAKI-1</th><th scope=col>RE:RXF 393</th><th scope=col>RE:SN12C</th><th scope=col>RE:TK-10</th><th scope=col>RE:UO-31</th></tr>\n",
       "\t<tr><th></th><th scope=col>&lt;chr&gt;</th><th scope=col>&lt;chr&gt;</th><th scope=col>&lt;chr&gt;</th><th scope=col>&lt;chr&gt;</th><th scope=col>&lt;chr&gt;</th><th scope=col>&lt;chr&gt;</th><th scope=col>&lt;chr&gt;</th><th scope=col>&lt;chr&gt;</th><th scope=col>&lt;chr&gt;</th><th scope=col>&lt;chr&gt;</th><th scope=col>⋯</th><th scope=col>&lt;dbl&gt;</th><th scope=col>&lt;dbl&gt;</th><th scope=col>&lt;dbl&gt;</th><th scope=col>&lt;dbl&gt;</th><th scope=col>&lt;dbl&gt;</th><th scope=col>&lt;dbl&gt;</th><th scope=col>&lt;dbl&gt;</th><th scope=col>&lt;dbl&gt;</th><th scope=col>&lt;dbl&gt;</th><th scope=col>&lt;dbl&gt;</th></tr>\n",
       "</thead>\n",
       "<tbody>\n",
       "\t<tr><th scope=row>2</th><td>chr1:865628_G_A </td><td>SAMD11</td><td>148398</td><td>1</td><td>865628</td><td>865628</td><td>1p36.33</td><td>rs41285790</td><td>G56S  </td><td>0.003</td><td>⋯</td><td>0</td><td>0</td><td>  0</td><td>0</td><td>0</td><td>0</td><td> 0.000</td><td>85.714</td><td>  0</td><td>  0</td></tr>\n",
       "\t<tr><th scope=row>3</th><td>chr1:871199_G_A </td><td>SAMD11</td><td>148398</td><td>1</td><td>871199</td><td>871199</td><td>1p36.33</td><td>-         </td><td>R118H </td><td>0    </td><td>⋯</td><td>0</td><td>0</td><td>  0</td><td>0</td><td>0</td><td>0</td><td> 0.000</td><td> 0.000</td><td>  0</td><td>  0</td></tr>\n",
       "\t<tr><th scope=row>4</th><td>chr1:874788_C_G </td><td>SAMD11</td><td>148398</td><td>1</td><td>874788</td><td>874788</td><td>1p36.33</td><td>-         </td><td>S218R </td><td>0    </td><td>⋯</td><td>0</td><td>0</td><td>  0</td><td>0</td><td>0</td><td>0</td><td> 0.000</td><td> 0.000</td><td>  0</td><td>  0</td></tr>\n",
       "\t<tr><th scope=row>5</th><td>chr1:874816_*_+T</td><td>SAMD11</td><td>148398</td><td>1</td><td>874816</td><td>874816</td><td>1p36.33</td><td>-         </td><td>P228fs</td><td>0.02 </td><td>⋯</td><td>0</td><td>0</td><td>  0</td><td>0</td><td>0</td><td>0</td><td> 0.000</td><td> 0.000</td><td>  0</td><td>  0</td></tr>\n",
       "\t<tr><th scope=row>6</th><td>chr1:876499_A_G </td><td>SAMD11</td><td>148398</td><td>1</td><td>876499</td><td>876499</td><td>1p36.33</td><td>rs4372192 </td><td>-     </td><td>0.92 </td><td>⋯</td><td>0</td><td>0</td><td>100</td><td>0</td><td>0</td><td>0</td><td>51.852</td><td> 0.000</td><td>100</td><td>100</td></tr>\n",
       "\t<tr><th scope=row>7</th><td>chr1:877831_T_C </td><td>SAMD11</td><td>148398</td><td>1</td><td>877831</td><td>877831</td><td>1p36.33</td><td>rs6672356 </td><td>W343R </td><td>1    </td><td>⋯</td><td>0</td><td>0</td><td>100</td><td>0</td><td>0</td><td>0</td><td> 0.000</td><td> 0.000</td><td>100</td><td>  0</td></tr>\n",
       "</tbody>\n",
       "</table>\n"
      ],
      "text/latex": [
       "A data.frame: 6 × 76\n",
       "\\begin{tabular}{r|lllllllllllllllllllll}\n",
       "  & Identifier (c) & Gene name (d) & Entrez gene id (e) & Chromosome (f) & Start (f) & End (f) & Cytoband (f) & dbSNP id (g) & AA Impact (h) & 1000 Genome (i) & ⋯ & PR:PC-3 & PR:DU-145 & RE:786-0 & RE:A498 & RE:ACHN & RE:CAKI-1 & RE:RXF 393 & RE:SN12C & RE:TK-10 & RE:UO-31\\\\\n",
       "  & <chr> & <chr> & <chr> & <chr> & <chr> & <chr> & <chr> & <chr> & <chr> & <chr> & ⋯ & <dbl> & <dbl> & <dbl> & <dbl> & <dbl> & <dbl> & <dbl> & <dbl> & <dbl> & <dbl>\\\\\n",
       "\\hline\n",
       "\t2 & chr1:865628\\_G\\_A  & SAMD11 & 148398 & 1 & 865628 & 865628 & 1p36.33 & rs41285790 & G56S   & 0.003 & ⋯ & 0 & 0 &   0 & 0 & 0 & 0 &  0.000 & 85.714 &   0 &   0\\\\\n",
       "\t3 & chr1:871199\\_G\\_A  & SAMD11 & 148398 & 1 & 871199 & 871199 & 1p36.33 & -          & R118H  & 0     & ⋯ & 0 & 0 &   0 & 0 & 0 & 0 &  0.000 &  0.000 &   0 &   0\\\\\n",
       "\t4 & chr1:874788\\_C\\_G  & SAMD11 & 148398 & 1 & 874788 & 874788 & 1p36.33 & -          & S218R  & 0     & ⋯ & 0 & 0 &   0 & 0 & 0 & 0 &  0.000 &  0.000 &   0 &   0\\\\\n",
       "\t5 & chr1:874816\\_*\\_+T & SAMD11 & 148398 & 1 & 874816 & 874816 & 1p36.33 & -          & P228fs & 0.02  & ⋯ & 0 & 0 &   0 & 0 & 0 & 0 &  0.000 &  0.000 &   0 &   0\\\\\n",
       "\t6 & chr1:876499\\_A\\_G  & SAMD11 & 148398 & 1 & 876499 & 876499 & 1p36.33 & rs4372192  & -      & 0.92  & ⋯ & 0 & 0 & 100 & 0 & 0 & 0 & 51.852 &  0.000 & 100 & 100\\\\\n",
       "\t7 & chr1:877831\\_T\\_C  & SAMD11 & 148398 & 1 & 877831 & 877831 & 1p36.33 & rs6672356  & W343R  & 1     & ⋯ & 0 & 0 & 100 & 0 & 0 & 0 &  0.000 &  0.000 & 100 &   0\\\\\n",
       "\\end{tabular}\n"
      ],
      "text/markdown": [
       "\n",
       "A data.frame: 6 × 76\n",
       "\n",
       "| <!--/--> | Identifier (c) &lt;chr&gt; | Gene name (d) &lt;chr&gt; | Entrez gene id (e) &lt;chr&gt; | Chromosome (f) &lt;chr&gt; | Start (f) &lt;chr&gt; | End (f) &lt;chr&gt; | Cytoband (f) &lt;chr&gt; | dbSNP id (g) &lt;chr&gt; | AA Impact (h) &lt;chr&gt; | 1000 Genome (i) &lt;chr&gt; | ⋯ ⋯ | PR:PC-3 &lt;dbl&gt; | PR:DU-145 &lt;dbl&gt; | RE:786-0 &lt;dbl&gt; | RE:A498 &lt;dbl&gt; | RE:ACHN &lt;dbl&gt; | RE:CAKI-1 &lt;dbl&gt; | RE:RXF 393 &lt;dbl&gt; | RE:SN12C &lt;dbl&gt; | RE:TK-10 &lt;dbl&gt; | RE:UO-31 &lt;dbl&gt; |\n",
       "|---|---|---|---|---|---|---|---|---|---|---|---|---|---|---|---|---|---|---|---|---|---|\n",
       "| 2 | chr1:865628_G_A  | SAMD11 | 148398 | 1 | 865628 | 865628 | 1p36.33 | rs41285790 | G56S   | 0.003 | ⋯ | 0 | 0 |   0 | 0 | 0 | 0 |  0.000 | 85.714 |   0 |   0 |\n",
       "| 3 | chr1:871199_G_A  | SAMD11 | 148398 | 1 | 871199 | 871199 | 1p36.33 | -          | R118H  | 0     | ⋯ | 0 | 0 |   0 | 0 | 0 | 0 |  0.000 |  0.000 |   0 |   0 |\n",
       "| 4 | chr1:874788_C_G  | SAMD11 | 148398 | 1 | 874788 | 874788 | 1p36.33 | -          | S218R  | 0     | ⋯ | 0 | 0 |   0 | 0 | 0 | 0 |  0.000 |  0.000 |   0 |   0 |\n",
       "| 5 | chr1:874816_*_+T | SAMD11 | 148398 | 1 | 874816 | 874816 | 1p36.33 | -          | P228fs | 0.02  | ⋯ | 0 | 0 |   0 | 0 | 0 | 0 |  0.000 |  0.000 |   0 |   0 |\n",
       "| 6 | chr1:876499_A_G  | SAMD11 | 148398 | 1 | 876499 | 876499 | 1p36.33 | rs4372192  | -      | 0.92  | ⋯ | 0 | 0 | 100 | 0 | 0 | 0 | 51.852 |  0.000 | 100 | 100 |\n",
       "| 7 | chr1:877831_T_C  | SAMD11 | 148398 | 1 | 877831 | 877831 | 1p36.33 | rs6672356  | W343R  | 1     | ⋯ | 0 | 0 | 100 | 0 | 0 | 0 |  0.000 |  0.000 | 100 |   0 |\n",
       "\n"
      ],
      "text/plain": [
       "  Identifier (c)   Gene name (d) Entrez gene id (e) Chromosome (f) Start (f)\n",
       "2 chr1:865628_G_A  SAMD11        148398             1              865628   \n",
       "3 chr1:871199_G_A  SAMD11        148398             1              871199   \n",
       "4 chr1:874788_C_G  SAMD11        148398             1              874788   \n",
       "5 chr1:874816_*_+T SAMD11        148398             1              874816   \n",
       "6 chr1:876499_A_G  SAMD11        148398             1              876499   \n",
       "7 chr1:877831_T_C  SAMD11        148398             1              877831   \n",
       "  End (f) Cytoband (f) dbSNP id (g) AA Impact (h) 1000 Genome (i) ⋯ PR:PC-3\n",
       "2 865628  1p36.33      rs41285790   G56S          0.003           ⋯ 0      \n",
       "3 871199  1p36.33      -            R118H         0               ⋯ 0      \n",
       "4 874788  1p36.33      -            S218R         0               ⋯ 0      \n",
       "5 874816  1p36.33      -            P228fs        0.02            ⋯ 0      \n",
       "6 876499  1p36.33      rs4372192    -             0.92            ⋯ 0      \n",
       "7 877831  1p36.33      rs6672356    W343R         1               ⋯ 0      \n",
       "  PR:DU-145 RE:786-0 RE:A498 RE:ACHN RE:CAKI-1 RE:RXF 393 RE:SN12C RE:TK-10\n",
       "2 0           0      0       0       0          0.000     85.714     0     \n",
       "3 0           0      0       0       0          0.000      0.000     0     \n",
       "4 0           0      0       0       0          0.000      0.000     0     \n",
       "5 0           0      0       0       0          0.000      0.000     0     \n",
       "6 0         100      0       0       0         51.852      0.000   100     \n",
       "7 0         100      0       0       0          0.000      0.000   100     \n",
       "  RE:UO-31\n",
       "2   0     \n",
       "3   0     \n",
       "4   0     \n",
       "5   0     \n",
       "6 100     \n",
       "7   0     "
      ]
     },
     "metadata": {},
     "output_type": "display_data"
    }
   ],
   "source": [
    "head(variant)"
   ]
  },
  {
   "cell_type": "code",
   "execution_count": 4,
   "id": "11dc3758",
   "metadata": {},
   "outputs": [
    {
     "data": {
      "text/plain": [
       "\n",
       "                          3-UTR           5-UTR      Downstream      Frameshift \n",
       "            102            2369            1611             127            1005 \n",
       "Initiation_loss      Intergenic        Intronic        Missense       Noncoding \n",
       "             80             174           36928           53579            1274 \n",
       "  Nonframeshift        Nonsense    Read_through          Silent        Splicing \n",
       "            472            2074              68           39280             800 \n",
       "       Upstream \n",
       "            228 "
      ]
     },
     "metadata": {},
     "output_type": "display_data"
    }
   ],
   "source": [
    "table(variant_meta$`snpType`)"
   ]
  },
  {
   "cell_type": "code",
   "execution_count": 5,
   "id": "727896b2",
   "metadata": {},
   "outputs": [
    {
     "data": {
      "text/html": [
       "<table class=\"dataframe\">\n",
       "<caption>A data.frame: 1 × 76</caption>\n",
       "<thead>\n",
       "\t<tr><th></th><th scope=col>Identifier (c)</th><th scope=col>Gene name (d)</th><th scope=col>Entrez gene id (e)</th><th scope=col>Chromosome (f)</th><th scope=col>Start (f)</th><th scope=col>End (f)</th><th scope=col>Cytoband (f)</th><th scope=col>dbSNP id (g)</th><th scope=col>AA Impact (h)</th><th scope=col>1000 Genome (i)</th><th scope=col>⋯</th><th scope=col>PR:PC-3</th><th scope=col>PR:DU-145</th><th scope=col>RE:786-0</th><th scope=col>RE:A498</th><th scope=col>RE:ACHN</th><th scope=col>RE:CAKI-1</th><th scope=col>RE:RXF 393</th><th scope=col>RE:SN12C</th><th scope=col>RE:TK-10</th><th scope=col>RE:UO-31</th></tr>\n",
       "\t<tr><th></th><th scope=col>&lt;chr&gt;</th><th scope=col>&lt;chr&gt;</th><th scope=col>&lt;chr&gt;</th><th scope=col>&lt;chr&gt;</th><th scope=col>&lt;chr&gt;</th><th scope=col>&lt;chr&gt;</th><th scope=col>&lt;chr&gt;</th><th scope=col>&lt;chr&gt;</th><th scope=col>&lt;chr&gt;</th><th scope=col>&lt;chr&gt;</th><th scope=col>⋯</th><th scope=col>&lt;dbl&gt;</th><th scope=col>&lt;dbl&gt;</th><th scope=col>&lt;dbl&gt;</th><th scope=col>&lt;dbl&gt;</th><th scope=col>&lt;dbl&gt;</th><th scope=col>&lt;dbl&gt;</th><th scope=col>&lt;dbl&gt;</th><th scope=col>&lt;dbl&gt;</th><th scope=col>&lt;dbl&gt;</th><th scope=col>&lt;dbl&gt;</th></tr>\n",
       "</thead>\n",
       "<tbody>\n",
       "\t<tr><th scope=row>38999</th><td>chr5:17275364_T_C</td><td>BASP1</td><td>10409</td><td>5</td><td>17275364</td><td>17275364</td><td>5p15.1</td><td>rs73756114</td><td>N13N</td><td>0.01</td><td>⋯</td><td>0</td><td>0</td><td>0</td><td>0</td><td>0</td><td>0</td><td>0</td><td>0</td><td>0</td><td>0</td></tr>\n",
       "</tbody>\n",
       "</table>\n"
      ],
      "text/latex": [
       "A data.frame: 1 × 76\n",
       "\\begin{tabular}{r|lllllllllllllllllllll}\n",
       "  & Identifier (c) & Gene name (d) & Entrez gene id (e) & Chromosome (f) & Start (f) & End (f) & Cytoband (f) & dbSNP id (g) & AA Impact (h) & 1000 Genome (i) & ⋯ & PR:PC-3 & PR:DU-145 & RE:786-0 & RE:A498 & RE:ACHN & RE:CAKI-1 & RE:RXF 393 & RE:SN12C & RE:TK-10 & RE:UO-31\\\\\n",
       "  & <chr> & <chr> & <chr> & <chr> & <chr> & <chr> & <chr> & <chr> & <chr> & <chr> & ⋯ & <dbl> & <dbl> & <dbl> & <dbl> & <dbl> & <dbl> & <dbl> & <dbl> & <dbl> & <dbl>\\\\\n",
       "\\hline\n",
       "\t38999 & chr5:17275364\\_T\\_C & BASP1 & 10409 & 5 & 17275364 & 17275364 & 5p15.1 & rs73756114 & N13N & 0.01 & ⋯ & 0 & 0 & 0 & 0 & 0 & 0 & 0 & 0 & 0 & 0\\\\\n",
       "\\end{tabular}\n"
      ],
      "text/markdown": [
       "\n",
       "A data.frame: 1 × 76\n",
       "\n",
       "| <!--/--> | Identifier (c) &lt;chr&gt; | Gene name (d) &lt;chr&gt; | Entrez gene id (e) &lt;chr&gt; | Chromosome (f) &lt;chr&gt; | Start (f) &lt;chr&gt; | End (f) &lt;chr&gt; | Cytoband (f) &lt;chr&gt; | dbSNP id (g) &lt;chr&gt; | AA Impact (h) &lt;chr&gt; | 1000 Genome (i) &lt;chr&gt; | ⋯ ⋯ | PR:PC-3 &lt;dbl&gt; | PR:DU-145 &lt;dbl&gt; | RE:786-0 &lt;dbl&gt; | RE:A498 &lt;dbl&gt; | RE:ACHN &lt;dbl&gt; | RE:CAKI-1 &lt;dbl&gt; | RE:RXF 393 &lt;dbl&gt; | RE:SN12C &lt;dbl&gt; | RE:TK-10 &lt;dbl&gt; | RE:UO-31 &lt;dbl&gt; |\n",
       "|---|---|---|---|---|---|---|---|---|---|---|---|---|---|---|---|---|---|---|---|---|---|\n",
       "| 38999 | chr5:17275364_T_C | BASP1 | 10409 | 5 | 17275364 | 17275364 | 5p15.1 | rs73756114 | N13N | 0.01 | ⋯ | 0 | 0 | 0 | 0 | 0 | 0 | 0 | 0 | 0 | 0 |\n",
       "\n"
      ],
      "text/plain": [
       "      Identifier (c)    Gene name (d) Entrez gene id (e) Chromosome (f)\n",
       "38999 chr5:17275364_T_C BASP1         10409              5             \n",
       "      Start (f) End (f)  Cytoband (f) dbSNP id (g) AA Impact (h)\n",
       "38999 17275364  17275364 5p15.1       rs73756114   N13N         \n",
       "      1000 Genome (i) ⋯ PR:PC-3 PR:DU-145 RE:786-0 RE:A498 RE:ACHN RE:CAKI-1\n",
       "38999 0.01            ⋯ 0       0         0        0       0       0        \n",
       "      RE:RXF 393 RE:SN12C RE:TK-10 RE:UO-31\n",
       "38999 0          0        0        0       "
      ]
     },
     "metadata": {},
     "output_type": "display_data"
    },
    {
     "data": {
      "text/html": [
       "<table class=\"dataframe\">\n",
       "<caption>A data.frame: 2 × 13</caption>\n",
       "<thead>\n",
       "\t<tr><th></th><th scope=col>Identifier (c)</th><th scope=col>Gene name (d)</th><th scope=col>Entrez gene id (e)</th><th scope=col>Chromosome (f)</th><th scope=col>Start (f)</th><th scope=col>End (f)</th><th scope=col>Cytoband (f)</th><th scope=col>dbSNP id (g)</th><th scope=col>AA Impact (h)</th><th scope=col>1000 Genome (i)</th><th scope=col>ESP5400 (j)</th><th scope=col>SIFT Score (k)</th><th scope=col>SNP Type (l)</th></tr>\n",
       "\t<tr><th></th><th scope=col>&lt;chr&gt;</th><th scope=col>&lt;chr&gt;</th><th scope=col>&lt;chr&gt;</th><th scope=col>&lt;chr&gt;</th><th scope=col>&lt;chr&gt;</th><th scope=col>&lt;chr&gt;</th><th scope=col>&lt;chr&gt;</th><th scope=col>&lt;chr&gt;</th><th scope=col>&lt;chr&gt;</th><th scope=col>&lt;chr&gt;</th><th scope=col>&lt;chr&gt;</th><th scope=col>&lt;chr&gt;</th><th scope=col>&lt;chr&gt;</th></tr>\n",
       "</thead>\n",
       "<tbody>\n",
       "\t<tr><th scope=row>87122</th><td>chr12:81205466_A_C</td><td>LIN7A</td><td>8825</td><td>12</td><td>81205466</td><td>81205466</td><td>12q21</td><td>-</td><td>-   </td><td>0</td><td>0      </td><td>-1</td><td>Intronic</td></tr>\n",
       "\t<tr><th scope=row>87123</th><td>chr12:81242042_C_T</td><td>LIN7A</td><td>8825</td><td>12</td><td>81242042</td><td>81242042</td><td>12q21</td><td>-</td><td>R87R</td><td>0</td><td>0.00009</td><td>-1</td><td>Silent  </td></tr>\n",
       "</tbody>\n",
       "</table>\n"
      ],
      "text/latex": [
       "A data.frame: 2 × 13\n",
       "\\begin{tabular}{r|lllllllllllll}\n",
       "  & Identifier (c) & Gene name (d) & Entrez gene id (e) & Chromosome (f) & Start (f) & End (f) & Cytoband (f) & dbSNP id (g) & AA Impact (h) & 1000 Genome (i) & ESP5400 (j) & SIFT Score (k) & SNP Type (l)\\\\\n",
       "  & <chr> & <chr> & <chr> & <chr> & <chr> & <chr> & <chr> & <chr> & <chr> & <chr> & <chr> & <chr> & <chr>\\\\\n",
       "\\hline\n",
       "\t87122 & chr12:81205466\\_A\\_C & LIN7A & 8825 & 12 & 81205466 & 81205466 & 12q21 & - & -    & 0 & 0       & -1 & Intronic\\\\\n",
       "\t87123 & chr12:81242042\\_C\\_T & LIN7A & 8825 & 12 & 81242042 & 81242042 & 12q21 & - & R87R & 0 & 0.00009 & -1 & Silent  \\\\\n",
       "\\end{tabular}\n"
      ],
      "text/markdown": [
       "\n",
       "A data.frame: 2 × 13\n",
       "\n",
       "| <!--/--> | Identifier (c) &lt;chr&gt; | Gene name (d) &lt;chr&gt; | Entrez gene id (e) &lt;chr&gt; | Chromosome (f) &lt;chr&gt; | Start (f) &lt;chr&gt; | End (f) &lt;chr&gt; | Cytoband (f) &lt;chr&gt; | dbSNP id (g) &lt;chr&gt; | AA Impact (h) &lt;chr&gt; | 1000 Genome (i) &lt;chr&gt; | ESP5400 (j) &lt;chr&gt; | SIFT Score (k) &lt;chr&gt; | SNP Type (l) &lt;chr&gt; |\n",
       "|---|---|---|---|---|---|---|---|---|---|---|---|---|---|\n",
       "| 87122 | chr12:81205466_A_C | LIN7A | 8825 | 12 | 81205466 | 81205466 | 12q21 | - | -    | 0 | 0       | -1 | Intronic |\n",
       "| 87123 | chr12:81242042_C_T | LIN7A | 8825 | 12 | 81242042 | 81242042 | 12q21 | - | R87R | 0 | 0.00009 | -1 | Silent   |\n",
       "\n"
      ],
      "text/plain": [
       "      Identifier (c)     Gene name (d) Entrez gene id (e) Chromosome (f)\n",
       "87122 chr12:81205466_A_C LIN7A         8825               12            \n",
       "87123 chr12:81242042_C_T LIN7A         8825               12            \n",
       "      Start (f) End (f)  Cytoband (f) dbSNP id (g) AA Impact (h)\n",
       "87122 81205466  81205466 12q21        -            -            \n",
       "87123 81242042  81242042 12q21        -            R87R         \n",
       "      1000 Genome (i) ESP5400 (j) SIFT Score (k) SNP Type (l)\n",
       "87122 0               0           -1             Intronic    \n",
       "87123 0               0.00009     -1             Silent      "
      ]
     },
     "metadata": {},
     "output_type": "display_data"
    }
   ],
   "source": [
    "variant[variant$`Gene name (d)` ==\"BASP1\",]\n",
    "# not present in MOLT-4"
   ]
  },
  {
   "cell_type": "code",
   "execution_count": 6,
   "id": "ef24401c",
   "metadata": {},
   "outputs": [
    {
     "data": {
      "text/html": [
       "<table class=\"dataframe\">\n",
       "<caption>A data.table: 6 × 10</caption>\n",
       "<thead>\n",
       "\t<tr><th scope=col>Identifier</th><th scope=col>gene_name</th><th scope=col>geneID</th><th scope=col>Chromosome</th><th scope=col>Start</th><th scope=col>End</th><th scope=col>dbSNPid</th><th scope=col>snpType</th><th scope=col>ref</th><th scope=col>alt</th></tr>\n",
       "\t<tr><th scope=col>&lt;chr&gt;</th><th scope=col>&lt;chr&gt;</th><th scope=col>&lt;int&gt;</th><th scope=col>&lt;chr&gt;</th><th scope=col>&lt;int&gt;</th><th scope=col>&lt;int&gt;</th><th scope=col>&lt;chr&gt;</th><th scope=col>&lt;chr&gt;</th><th scope=col>&lt;chr&gt;</th><th scope=col>&lt;chr&gt;</th></tr>\n",
       "</thead>\n",
       "<tbody>\n",
       "\t<tr><td>chr1:865628_G_A </td><td>SAMD11</td><td>148398</td><td>1</td><td>865628</td><td>865628</td><td>rs41285790 </td><td>Missense  </td><td>G</td><td>A </td></tr>\n",
       "\t<tr><td>chr1:871199_G_A </td><td>SAMD11</td><td>148398</td><td>1</td><td>871199</td><td>871199</td><td>-          </td><td>Missense  </td><td>G</td><td>A </td></tr>\n",
       "\t<tr><td>chr1:874788_C_G </td><td>SAMD11</td><td>148398</td><td>1</td><td>874788</td><td>874788</td><td>-          </td><td>Missense  </td><td>C</td><td>G </td></tr>\n",
       "\t<tr><td>chr1:874816_*_+T</td><td>SAMD11</td><td>148398</td><td>1</td><td>874816</td><td>874816</td><td>-          </td><td>Frameshift</td><td>*</td><td>+T</td></tr>\n",
       "\t<tr><td>chr1:877831_T_C </td><td>SAMD11</td><td>148398</td><td>1</td><td>877831</td><td>877831</td><td>rs6672356  </td><td>Missense  </td><td>T</td><td>C </td></tr>\n",
       "\t<tr><td>chr1:878331_C_T </td><td>SAMD11</td><td>148398</td><td>1</td><td>878331</td><td>878331</td><td>rs148327885</td><td>Missense  </td><td>C</td><td>T </td></tr>\n",
       "</tbody>\n",
       "</table>\n"
      ],
      "text/latex": [
       "A data.table: 6 × 10\n",
       "\\begin{tabular}{llllllllll}\n",
       " Identifier & gene\\_name & geneID & Chromosome & Start & End & dbSNPid & snpType & ref & alt\\\\\n",
       " <chr> & <chr> & <int> & <chr> & <int> & <int> & <chr> & <chr> & <chr> & <chr>\\\\\n",
       "\\hline\n",
       "\t chr1:865628\\_G\\_A  & SAMD11 & 148398 & 1 & 865628 & 865628 & rs41285790  & Missense   & G & A \\\\\n",
       "\t chr1:871199\\_G\\_A  & SAMD11 & 148398 & 1 & 871199 & 871199 & -           & Missense   & G & A \\\\\n",
       "\t chr1:874788\\_C\\_G  & SAMD11 & 148398 & 1 & 874788 & 874788 & -           & Missense   & C & G \\\\\n",
       "\t chr1:874816\\_*\\_+T & SAMD11 & 148398 & 1 & 874816 & 874816 & -           & Frameshift & * & +T\\\\\n",
       "\t chr1:877831\\_T\\_C  & SAMD11 & 148398 & 1 & 877831 & 877831 & rs6672356   & Missense   & T & C \\\\\n",
       "\t chr1:878331\\_C\\_T  & SAMD11 & 148398 & 1 & 878331 & 878331 & rs148327885 & Missense   & C & T \\\\\n",
       "\\end{tabular}\n"
      ],
      "text/markdown": [
       "\n",
       "A data.table: 6 × 10\n",
       "\n",
       "| Identifier &lt;chr&gt; | gene_name &lt;chr&gt; | geneID &lt;int&gt; | Chromosome &lt;chr&gt; | Start &lt;int&gt; | End &lt;int&gt; | dbSNPid &lt;chr&gt; | snpType &lt;chr&gt; | ref &lt;chr&gt; | alt &lt;chr&gt; |\n",
       "|---|---|---|---|---|---|---|---|---|---|\n",
       "| chr1:865628_G_A  | SAMD11 | 148398 | 1 | 865628 | 865628 | rs41285790  | Missense   | G | A  |\n",
       "| chr1:871199_G_A  | SAMD11 | 148398 | 1 | 871199 | 871199 | -           | Missense   | G | A  |\n",
       "| chr1:874788_C_G  | SAMD11 | 148398 | 1 | 874788 | 874788 | -           | Missense   | C | G  |\n",
       "| chr1:874816_*_+T | SAMD11 | 148398 | 1 | 874816 | 874816 | -           | Frameshift | * | +T |\n",
       "| chr1:877831_T_C  | SAMD11 | 148398 | 1 | 877831 | 877831 | rs6672356   | Missense   | T | C  |\n",
       "| chr1:878331_C_T  | SAMD11 | 148398 | 1 | 878331 | 878331 | rs148327885 | Missense   | C | T  |\n",
       "\n"
      ],
      "text/plain": [
       "  Identifier       gene_name geneID Chromosome Start  End    dbSNPid    \n",
       "1 chr1:865628_G_A  SAMD11    148398 1          865628 865628 rs41285790 \n",
       "2 chr1:871199_G_A  SAMD11    148398 1          871199 871199 -          \n",
       "3 chr1:874788_C_G  SAMD11    148398 1          874788 874788 -          \n",
       "4 chr1:874816_*_+T SAMD11    148398 1          874816 874816 -          \n",
       "5 chr1:877831_T_C  SAMD11    148398 1          877831 877831 rs6672356  \n",
       "6 chr1:878331_C_T  SAMD11    148398 1          878331 878331 rs148327885\n",
       "  snpType    ref alt\n",
       "1 Missense   G   A  \n",
       "2 Missense   G   A  \n",
       "3 Missense   C   G  \n",
       "4 Frameshift *   +T \n",
       "5 Missense   T   C  \n",
       "6 Missense   C   T  "
      ]
     },
     "metadata": {},
     "output_type": "display_data"
    }
   ],
   "source": [
    "variant_meta <- fread(\"variant.csv\")\n",
    "# extract rare variants of the following classes: missense, stop, frameshift, splice\n",
    "variant_meta <- variant_meta[variant_meta$snpType %in% c('Missense' , 'Nonsense', 'Splicing', 'Frameshift'),]\n",
    "#\n",
    "# extract then the meta data\n",
    "# here alt and ref should be reverse\n",
    "variant_meta$ref <- lapply(variant_meta$Identifier, function(x){\n",
    "    strsplit(x, split = \"_\", fixed = TRUE)[[1]][2]\n",
    "})\n",
    "variant_meta$ref <- as.character(variant_meta$ref)\n",
    "variant_meta$alt <- lapply(variant_meta$Identifier, function(x){\n",
    "    strsplit(x, split = \"_\", fixed = TRUE)[[1]][3]\n",
    "})\n",
    "variant_meta$alt <- as.character(variant_meta$alt)\n",
    "head(variant_meta)"
   ]
  },
  {
   "cell_type": "code",
   "execution_count": 7,
   "id": "3171b2a2",
   "metadata": {},
   "outputs": [
    {
     "name": "stdout",
     "output_type": "stream",
     "text": [
      " [1] \"chr1.vcf\"  \"chr10.vcf\" \"chr11.vcf\" \"chr12.vcf\" \"chr13.vcf\" \"chr14.vcf\"\n",
      " [7] \"chr15.vcf\" \"chr16.vcf\" \"chr17.vcf\" \"chr18.vcf\" \"chr19.vcf\" \"chr2.vcf\" \n",
      "[13] \"chr20.vcf\" \"chr21.vcf\" \"chr22.vcf\" \"chr3.vcf\"  \"chr4.vcf\"  \"chr5.vcf\" \n",
      "[19] \"chr6.vcf\"  \"chr7.vcf\"  \"chr8.vcf\"  \"chr9.vcf\"  \"chrX.vcf\"  \"chrY.vcf\" \n"
     ]
    },
    {
     "data": {
      "text/html": [
       "<table class=\"dataframe\">\n",
       "<caption>A data.table: 6 × 6</caption>\n",
       "<thead>\n",
       "\t<tr><th scope=col>#CHROM</th><th scope=col>POS</th><th scope=col>ID</th><th scope=col>REF</th><th scope=col>ALT</th><th scope=col>INFO</th></tr>\n",
       "\t<tr><th scope=col>&lt;chr&gt;</th><th scope=col>&lt;int&gt;</th><th scope=col>&lt;chr&gt;</th><th scope=col>&lt;chr&gt;</th><th scope=col>&lt;chr&gt;</th><th scope=col>&lt;dbl&gt;</th></tr>\n",
       "</thead>\n",
       "<tbody>\n",
       "\t<tr><td>1</td><td>12198</td><td>rs62635282  </td><td>G</td><td>C</td><td>1e-04</td></tr>\n",
       "\t<tr><td>1</td><td>12237</td><td>rs1324090652</td><td>G</td><td>A</td><td>1e-04</td></tr>\n",
       "\t<tr><td>1</td><td>12259</td><td>rs1330604035</td><td>G</td><td>C</td><td>0e+00</td></tr>\n",
       "\t<tr><td>1</td><td>12266</td><td>rs1442951560</td><td>G</td><td>A</td><td>1e-04</td></tr>\n",
       "\t<tr><td>1</td><td>12272</td><td>rs1281272113</td><td>G</td><td>A</td><td>0e+00</td></tr>\n",
       "\t<tr><td>1</td><td>12554</td><td>rs1371050997</td><td>A</td><td>G</td><td>0e+00</td></tr>\n",
       "</tbody>\n",
       "</table>\n"
      ],
      "text/latex": [
       "A data.table: 6 × 6\n",
       "\\begin{tabular}{llllll}\n",
       " \\#CHROM & POS & ID & REF & ALT & INFO\\\\\n",
       " <chr> & <int> & <chr> & <chr> & <chr> & <dbl>\\\\\n",
       "\\hline\n",
       "\t 1 & 12198 & rs62635282   & G & C & 1e-04\\\\\n",
       "\t 1 & 12237 & rs1324090652 & G & A & 1e-04\\\\\n",
       "\t 1 & 12259 & rs1330604035 & G & C & 0e+00\\\\\n",
       "\t 1 & 12266 & rs1442951560 & G & A & 1e-04\\\\\n",
       "\t 1 & 12272 & rs1281272113 & G & A & 0e+00\\\\\n",
       "\t 1 & 12554 & rs1371050997 & A & G & 0e+00\\\\\n",
       "\\end{tabular}\n"
      ],
      "text/markdown": [
       "\n",
       "A data.table: 6 × 6\n",
       "\n",
       "| #CHROM &lt;chr&gt; | POS &lt;int&gt; | ID &lt;chr&gt; | REF &lt;chr&gt; | ALT &lt;chr&gt; | INFO &lt;dbl&gt; |\n",
       "|---|---|---|---|---|---|\n",
       "| 1 | 12198 | rs62635282   | G | C | 1e-04 |\n",
       "| 1 | 12237 | rs1324090652 | G | A | 1e-04 |\n",
       "| 1 | 12259 | rs1330604035 | G | C | 0e+00 |\n",
       "| 1 | 12266 | rs1442951560 | G | A | 1e-04 |\n",
       "| 1 | 12272 | rs1281272113 | G | A | 0e+00 |\n",
       "| 1 | 12554 | rs1371050997 | A | G | 0e+00 |\n",
       "\n"
      ],
      "text/plain": [
       "  #CHROM POS   ID           REF ALT INFO \n",
       "1 1      12198 rs62635282   G   C   1e-04\n",
       "2 1      12237 rs1324090652 G   A   1e-04\n",
       "3 1      12259 rs1330604035 G   C   0e+00\n",
       "4 1      12266 rs1442951560 G   A   1e-04\n",
       "5 1      12272 rs1281272113 G   A   0e+00\n",
       "6 1      12554 rs1371050997 A   G   0e+00"
      ]
     },
     "metadata": {},
     "output_type": "display_data"
    },
    {
     "data": {
      "text/html": [
       "17209972"
      ],
      "text/latex": [
       "17209972"
      ],
      "text/markdown": [
       "17209972"
      ],
      "text/plain": [
       "[1] 17209972"
      ]
     },
     "metadata": {},
     "output_type": "display_data"
    }
   ],
   "source": [
    "files <- list.files(path = \".\",pattern = \".vcf\")\n",
    "print(files)\n",
    "temp <- lapply(files, fread)\n",
    "vcfs <- rbindlist( temp )\n",
    "vcfs[vcfs$INFO=='.',]$INFO <- \"AF=0.0001\"\n",
    "vcfs$INFO <- gsub(\"AF=\",'',vcfs$INFO)\n",
    "vcfs$INFO <- as.numeric(vcfs$INFO)\n",
    "head(vcfs)\n",
    "nrow(vcfs)"
   ]
  },
  {
   "cell_type": "code",
   "execution_count": 8,
   "id": "53e96d92",
   "metadata": {},
   "outputs": [
    {
     "name": "stdout",
     "output_type": "stream",
     "text": [
      "[1] 11482\n",
      "[1] 12661\n",
      "[1] 13291\n",
      "[1] 22744\n",
      "[1] 23834\n",
      "[1] 26167\n",
      "[1] 26751\n",
      "[1] 32168\n",
      "[1] 33835\n",
      "[1] 39762\n",
      "[1] 40915\n",
      "[1] 48908\n"
     ]
    },
    {
     "data": {
      "text/html": [
       "320"
      ],
      "text/latex": [
       "320"
      ],
      "text/markdown": [
       "320"
      ],
      "text/plain": [
       "[1] 320"
      ]
     },
     "metadata": {},
     "output_type": "display_data"
    }
   ],
   "source": [
    "variant_meta_copy <- variant_meta\n",
    "# try to find more gene names if possible\n",
    "nomatched = 0\n",
    "for (i in 1:(nrow(variant_meta))){\n",
    "    row <- variant_meta[i,]\n",
    "    id <- row$Identifier[1]\n",
    "    gene_name <- row$gene_name[1]\n",
    "    if (gene_name=='-'){\n",
    "        pos <- which(variant_meta$Identifier == id)\n",
    "        pos_before <- variant_meta[pos-1,]\n",
    "        pos_after <- variant_meta[pos+1,]\n",
    "        if (pos_before$gene_name[1] =='-' | pos_before$gene_name[1] != pos_after$gene_name[1]){\n",
    "            nomatched <- nomatched +1\n",
    "        }\n",
    "        else{\n",
    "           #print(pos_before$gene_name[1])\n",
    "            variant_meta[i,]$gene_name = pos_after$gene_name[1]\n",
    "            print(i)\n",
    "            \n",
    "        }\n",
    "    }\n",
    "}\n",
    "nomatched"
   ]
  },
  {
   "cell_type": "code",
   "execution_count": 9,
   "id": "78311df9",
   "metadata": {},
   "outputs": [],
   "source": [
    "rs_matched <- merge(variant_meta, vcfs, by.x=c(\"dbSNPid\"), by.y=c('ID'))\n",
    "rs_matched$AF <- apply(rs_matched,1, function(x){\n",
    "    if(x[9]==x[13]){\n",
    "        return(as.numeric(x[15]))\n",
    "    }\n",
    "    if(x[10]==x[14]){\n",
    "        return(as.numeric(x[15]))\n",
    "    }\n",
    "    if(x[10]==x[13]){\n",
    "        return(1-as.numeric(x[15]))\n",
    "        print(x)\n",
    "    }\n",
    "    if(x[9]==x[14]){\n",
    "        return(1-as.numeric(x[15]))\n",
    "        print(x)\n",
    "    }\n",
    "    else{\n",
    "        return(0.00001)\n",
    "    }\n",
    "})"
   ]
  },
  {
   "cell_type": "code",
   "execution_count": 10,
   "id": "7e81ad15",
   "metadata": {},
   "outputs": [
    {
     "data": {
      "text/html": [
       "<table class=\"dataframe\">\n",
       "<caption>A data.table: 6 × 16</caption>\n",
       "<thead>\n",
       "\t<tr><th scope=col>dbSNPid</th><th scope=col>Identifier</th><th scope=col>gene_name</th><th scope=col>geneID</th><th scope=col>Chromosome</th><th scope=col>Start</th><th scope=col>End</th><th scope=col>snpType</th><th scope=col>ref</th><th scope=col>alt</th><th scope=col>#CHROM</th><th scope=col>POS</th><th scope=col>REF</th><th scope=col>ALT</th><th scope=col>INFO</th><th scope=col>AF</th></tr>\n",
       "\t<tr><th scope=col>&lt;chr&gt;</th><th scope=col>&lt;chr&gt;</th><th scope=col>&lt;chr&gt;</th><th scope=col>&lt;int&gt;</th><th scope=col>&lt;chr&gt;</th><th scope=col>&lt;int&gt;</th><th scope=col>&lt;int&gt;</th><th scope=col>&lt;chr&gt;</th><th scope=col>&lt;chr&gt;</th><th scope=col>&lt;chr&gt;</th><th scope=col>&lt;chr&gt;</th><th scope=col>&lt;int&gt;</th><th scope=col>&lt;chr&gt;</th><th scope=col>&lt;chr&gt;</th><th scope=col>&lt;dbl&gt;</th><th scope=col>&lt;dbl&gt;</th></tr>\n",
       "</thead>\n",
       "<tbody>\n",
       "\t<tr><td>rs10000692</td><td>chr4:122078317_T_C</td><td>TNIP3  </td><td> 79931</td><td>4</td><td>122078317</td><td>122078317</td><td>Missense</td><td>T</td><td>C</td><td>4</td><td>122078317</td><td>T</td><td>C                   </td><td>1.19879e-05</td><td>1.19879e-05</td></tr>\n",
       "\t<tr><td>rs10001580</td><td>chr4:37851856_A_C </td><td>PGM2   </td><td> 55276</td><td>4</td><td> 37851856</td><td> 37851856</td><td>Missense</td><td>A</td><td>C</td><td>4</td><td> 37851856</td><td>A</td><td>C                   </td><td>6.04965e-02</td><td>6.04965e-02</td></tr>\n",
       "\t<tr><td>rs10004   </td><td>chr6:7310259_A_G  </td><td>SSR1   </td><td>  6745</td><td>6</td><td>  7310259</td><td>  7310259</td><td>Missense</td><td>A</td><td>G</td><td>6</td><td>  7310259</td><td>A</td><td>G                   </td><td>2.42591e-01</td><td>2.42591e-01</td></tr>\n",
       "\t<tr><td>rs10007352</td><td>chr4:10447679_C_T </td><td>ZNF518B</td><td> 85460</td><td>4</td><td> 10447679</td><td> 10447679</td><td>Missense</td><td>C</td><td>T</td><td>4</td><td> 10447679</td><td>C</td><td>T                   </td><td>4.44011e-02</td><td>4.44011e-02</td></tr>\n",
       "\t<tr><td>rs10008444</td><td>chr4:48492434_G_C </td><td>ZAR1   </td><td>326340</td><td>4</td><td> 48492434</td><td> 48492434</td><td>Missense</td><td>G</td><td>C</td><td>4</td><td> 48492434</td><td>G</td><td>C                   </td><td>9.98545e-01</td><td>9.98545e-01</td></tr>\n",
       "\t<tr><td>rs10008444</td><td>chr4:48492434_G_C </td><td>ZAR1   </td><td>326340</td><td>4</td><td> 48492434</td><td> 48492434</td><td>Missense</td><td>G</td><td>C</td><td>4</td><td> 48492434</td><td>G</td><td>GCGGCAGGGGCTGGCAGCAC</td><td>1.02482e-05</td><td>1.02482e-05</td></tr>\n",
       "</tbody>\n",
       "</table>\n"
      ],
      "text/latex": [
       "A data.table: 6 × 16\n",
       "\\begin{tabular}{llllllllllllllll}\n",
       " dbSNPid & Identifier & gene\\_name & geneID & Chromosome & Start & End & snpType & ref & alt & \\#CHROM & POS & REF & ALT & INFO & AF\\\\\n",
       " <chr> & <chr> & <chr> & <int> & <chr> & <int> & <int> & <chr> & <chr> & <chr> & <chr> & <int> & <chr> & <chr> & <dbl> & <dbl>\\\\\n",
       "\\hline\n",
       "\t rs10000692 & chr4:122078317\\_T\\_C & TNIP3   &  79931 & 4 & 122078317 & 122078317 & Missense & T & C & 4 & 122078317 & T & C                    & 1.19879e-05 & 1.19879e-05\\\\\n",
       "\t rs10001580 & chr4:37851856\\_A\\_C  & PGM2    &  55276 & 4 &  37851856 &  37851856 & Missense & A & C & 4 &  37851856 & A & C                    & 6.04965e-02 & 6.04965e-02\\\\\n",
       "\t rs10004    & chr6:7310259\\_A\\_G   & SSR1    &   6745 & 6 &   7310259 &   7310259 & Missense & A & G & 6 &   7310259 & A & G                    & 2.42591e-01 & 2.42591e-01\\\\\n",
       "\t rs10007352 & chr4:10447679\\_C\\_T  & ZNF518B &  85460 & 4 &  10447679 &  10447679 & Missense & C & T & 4 &  10447679 & C & T                    & 4.44011e-02 & 4.44011e-02\\\\\n",
       "\t rs10008444 & chr4:48492434\\_G\\_C  & ZAR1    & 326340 & 4 &  48492434 &  48492434 & Missense & G & C & 4 &  48492434 & G & C                    & 9.98545e-01 & 9.98545e-01\\\\\n",
       "\t rs10008444 & chr4:48492434\\_G\\_C  & ZAR1    & 326340 & 4 &  48492434 &  48492434 & Missense & G & C & 4 &  48492434 & G & GCGGCAGGGGCTGGCAGCAC & 1.02482e-05 & 1.02482e-05\\\\\n",
       "\\end{tabular}\n"
      ],
      "text/markdown": [
       "\n",
       "A data.table: 6 × 16\n",
       "\n",
       "| dbSNPid &lt;chr&gt; | Identifier &lt;chr&gt; | gene_name &lt;chr&gt; | geneID &lt;int&gt; | Chromosome &lt;chr&gt; | Start &lt;int&gt; | End &lt;int&gt; | snpType &lt;chr&gt; | ref &lt;chr&gt; | alt &lt;chr&gt; | #CHROM &lt;chr&gt; | POS &lt;int&gt; | REF &lt;chr&gt; | ALT &lt;chr&gt; | INFO &lt;dbl&gt; | AF &lt;dbl&gt; |\n",
       "|---|---|---|---|---|---|---|---|---|---|---|---|---|---|---|---|\n",
       "| rs10000692 | chr4:122078317_T_C | TNIP3   |  79931 | 4 | 122078317 | 122078317 | Missense | T | C | 4 | 122078317 | T | C                    | 1.19879e-05 | 1.19879e-05 |\n",
       "| rs10001580 | chr4:37851856_A_C  | PGM2    |  55276 | 4 |  37851856 |  37851856 | Missense | A | C | 4 |  37851856 | A | C                    | 6.04965e-02 | 6.04965e-02 |\n",
       "| rs10004    | chr6:7310259_A_G   | SSR1    |   6745 | 6 |   7310259 |   7310259 | Missense | A | G | 6 |   7310259 | A | G                    | 2.42591e-01 | 2.42591e-01 |\n",
       "| rs10007352 | chr4:10447679_C_T  | ZNF518B |  85460 | 4 |  10447679 |  10447679 | Missense | C | T | 4 |  10447679 | C | T                    | 4.44011e-02 | 4.44011e-02 |\n",
       "| rs10008444 | chr4:48492434_G_C  | ZAR1    | 326340 | 4 |  48492434 |  48492434 | Missense | G | C | 4 |  48492434 | G | C                    | 9.98545e-01 | 9.98545e-01 |\n",
       "| rs10008444 | chr4:48492434_G_C  | ZAR1    | 326340 | 4 |  48492434 |  48492434 | Missense | G | C | 4 |  48492434 | G | GCGGCAGGGGCTGGCAGCAC | 1.02482e-05 | 1.02482e-05 |\n",
       "\n"
      ],
      "text/plain": [
       "  dbSNPid    Identifier         gene_name geneID Chromosome Start     End      \n",
       "1 rs10000692 chr4:122078317_T_C TNIP3      79931 4          122078317 122078317\n",
       "2 rs10001580 chr4:37851856_A_C  PGM2       55276 4           37851856  37851856\n",
       "3 rs10004    chr6:7310259_A_G   SSR1        6745 6            7310259   7310259\n",
       "4 rs10007352 chr4:10447679_C_T  ZNF518B    85460 4           10447679  10447679\n",
       "5 rs10008444 chr4:48492434_G_C  ZAR1      326340 4           48492434  48492434\n",
       "6 rs10008444 chr4:48492434_G_C  ZAR1      326340 4           48492434  48492434\n",
       "  snpType  ref alt #CHROM POS       REF ALT                  INFO       \n",
       "1 Missense T   C   4      122078317 T   C                    1.19879e-05\n",
       "2 Missense A   C   4       37851856 A   C                    6.04965e-02\n",
       "3 Missense A   G   6        7310259 A   G                    2.42591e-01\n",
       "4 Missense C   T   4       10447679 C   T                    4.44011e-02\n",
       "5 Missense G   C   4       48492434 G   C                    9.98545e-01\n",
       "6 Missense G   C   4       48492434 G   GCGGCAGGGGCTGGCAGCAC 1.02482e-05\n",
       "  AF         \n",
       "1 1.19879e-05\n",
       "2 6.04965e-02\n",
       "3 2.42591e-01\n",
       "4 4.44011e-02\n",
       "5 9.98545e-01\n",
       "6 1.02482e-05"
      ]
     },
     "metadata": {},
     "output_type": "display_data"
    },
    {
     "data": {
      "text/html": [
       "33841"
      ],
      "text/latex": [
       "33841"
      ],
      "text/markdown": [
       "33841"
      ],
      "text/plain": [
       "[1] 33841"
      ]
     },
     "metadata": {},
     "output_type": "display_data"
    }
   ],
   "source": [
    "head(rs_matched)\n",
    "nrow(rs_matched)"
   ]
  },
  {
   "cell_type": "code",
   "execution_count": 11,
   "id": "8812d051",
   "metadata": {},
   "outputs": [
    {
     "data": {
      "text/html": [
       "<table class=\"dataframe\">\n",
       "<caption>A data.table: 6 × 16</caption>\n",
       "<thead>\n",
       "\t<tr><th scope=col>dbSNPid</th><th scope=col>Identifier</th><th scope=col>gene_name</th><th scope=col>geneID</th><th scope=col>Chromosome</th><th scope=col>Start</th><th scope=col>End</th><th scope=col>snpType</th><th scope=col>ref</th><th scope=col>alt</th><th scope=col>#CHROM</th><th scope=col>POS</th><th scope=col>REF</th><th scope=col>ALT</th><th scope=col>INFO</th><th scope=col>AF</th></tr>\n",
       "\t<tr><th scope=col>&lt;chr&gt;</th><th scope=col>&lt;chr&gt;</th><th scope=col>&lt;chr&gt;</th><th scope=col>&lt;int&gt;</th><th scope=col>&lt;chr&gt;</th><th scope=col>&lt;int&gt;</th><th scope=col>&lt;int&gt;</th><th scope=col>&lt;chr&gt;</th><th scope=col>&lt;chr&gt;</th><th scope=col>&lt;chr&gt;</th><th scope=col>&lt;chr&gt;</th><th scope=col>&lt;int&gt;</th><th scope=col>&lt;chr&gt;</th><th scope=col>&lt;chr&gt;</th><th scope=col>&lt;dbl&gt;</th><th scope=col>&lt;dbl&gt;</th></tr>\n",
       "</thead>\n",
       "<tbody>\n",
       "\t<tr><td>rs113439845</td><td>chr3:97806299_*_-T </td><td>OR5AC2</td><td> 81050</td><td>3 </td><td> 97806299</td><td> 97806299</td><td>Frameshift</td><td>*</td><td>-T</td><td>3 </td><td> 97806298</td><td>AT</td><td>A </td><td>0.00542950</td><td>0.00542950</td></tr>\n",
       "\t<tr><td>rs151293806</td><td>chr19:57665822_*_-G</td><td>DUXA  </td><td>503835</td><td>19</td><td> 57665822</td><td> 57665822</td><td>Frameshift</td><td>*</td><td>-G</td><td>19</td><td> 57665821</td><td>AG</td><td>A </td><td>0.00414446</td><td>0.00414446</td></tr>\n",
       "\t<tr><td>rs41303343 </td><td>chr7:99250394_*_+A </td><td>CYP3A5</td><td>  1577</td><td>7 </td><td> 99250394</td><td> 99250394</td><td>Frameshift</td><td>*</td><td>+A</td><td>7 </td><td> 99250393</td><td>T </td><td>TA</td><td>0.00731396</td><td>0.00731396</td></tr>\n",
       "\t<tr><td>rs45449493 </td><td>chr5:122365083_*_-C</td><td>PPIC  </td><td>  5480</td><td>5 </td><td>122365083</td><td>122365083</td><td>Frameshift</td><td>*</td><td>-C</td><td>5 </td><td>122365082</td><td>TC</td><td>T </td><td>0.00505766</td><td>0.00505766</td></tr>\n",
       "\t<tr><td>rs58396798 </td><td>chr12:55820903_*_+T</td><td>OR6C76</td><td>390326</td><td>12</td><td> 55820903</td><td> 55820903</td><td>Frameshift</td><td>*</td><td>+T</td><td>12</td><td> 55820902</td><td>C </td><td>CT</td><td>0.00756375</td><td>0.00756375</td></tr>\n",
       "\t<tr><td>rs60187078 </td><td>chr7:99711873_*_-C </td><td>TAF6  </td><td>  6878</td><td>7 </td><td> 99711873</td><td> 99711873</td><td>Frameshift</td><td>*</td><td>-C</td><td>7 </td><td> 99711868</td><td>GC</td><td>G </td><td>0.00585808</td><td>0.00585808</td></tr>\n",
       "</tbody>\n",
       "</table>\n"
      ],
      "text/latex": [
       "A data.table: 6 × 16\n",
       "\\begin{tabular}{llllllllllllllll}\n",
       " dbSNPid & Identifier & gene\\_name & geneID & Chromosome & Start & End & snpType & ref & alt & \\#CHROM & POS & REF & ALT & INFO & AF\\\\\n",
       " <chr> & <chr> & <chr> & <int> & <chr> & <int> & <int> & <chr> & <chr> & <chr> & <chr> & <int> & <chr> & <chr> & <dbl> & <dbl>\\\\\n",
       "\\hline\n",
       "\t rs113439845 & chr3:97806299\\_*\\_-T  & OR5AC2 &  81050 & 3  &  97806299 &  97806299 & Frameshift & * & -T & 3  &  97806298 & AT & A  & 0.00542950 & 0.00542950\\\\\n",
       "\t rs151293806 & chr19:57665822\\_*\\_-G & DUXA   & 503835 & 19 &  57665822 &  57665822 & Frameshift & * & -G & 19 &  57665821 & AG & A  & 0.00414446 & 0.00414446\\\\\n",
       "\t rs41303343  & chr7:99250394\\_*\\_+A  & CYP3A5 &   1577 & 7  &  99250394 &  99250394 & Frameshift & * & +A & 7  &  99250393 & T  & TA & 0.00731396 & 0.00731396\\\\\n",
       "\t rs45449493  & chr5:122365083\\_*\\_-C & PPIC   &   5480 & 5  & 122365083 & 122365083 & Frameshift & * & -C & 5  & 122365082 & TC & T  & 0.00505766 & 0.00505766\\\\\n",
       "\t rs58396798  & chr12:55820903\\_*\\_+T & OR6C76 & 390326 & 12 &  55820903 &  55820903 & Frameshift & * & +T & 12 &  55820902 & C  & CT & 0.00756375 & 0.00756375\\\\\n",
       "\t rs60187078  & chr7:99711873\\_*\\_-C  & TAF6   &   6878 & 7  &  99711873 &  99711873 & Frameshift & * & -C & 7  &  99711868 & GC & G  & 0.00585808 & 0.00585808\\\\\n",
       "\\end{tabular}\n"
      ],
      "text/markdown": [
       "\n",
       "A data.table: 6 × 16\n",
       "\n",
       "| dbSNPid &lt;chr&gt; | Identifier &lt;chr&gt; | gene_name &lt;chr&gt; | geneID &lt;int&gt; | Chromosome &lt;chr&gt; | Start &lt;int&gt; | End &lt;int&gt; | snpType &lt;chr&gt; | ref &lt;chr&gt; | alt &lt;chr&gt; | #CHROM &lt;chr&gt; | POS &lt;int&gt; | REF &lt;chr&gt; | ALT &lt;chr&gt; | INFO &lt;dbl&gt; | AF &lt;dbl&gt; |\n",
       "|---|---|---|---|---|---|---|---|---|---|---|---|---|---|---|---|\n",
       "| rs113439845 | chr3:97806299_*_-T  | OR5AC2 |  81050 | 3  |  97806299 |  97806299 | Frameshift | * | -T | 3  |  97806298 | AT | A  | 0.00542950 | 0.00542950 |\n",
       "| rs151293806 | chr19:57665822_*_-G | DUXA   | 503835 | 19 |  57665822 |  57665822 | Frameshift | * | -G | 19 |  57665821 | AG | A  | 0.00414446 | 0.00414446 |\n",
       "| rs41303343  | chr7:99250394_*_+A  | CYP3A5 |   1577 | 7  |  99250394 |  99250394 | Frameshift | * | +A | 7  |  99250393 | T  | TA | 0.00731396 | 0.00731396 |\n",
       "| rs45449493  | chr5:122365083_*_-C | PPIC   |   5480 | 5  | 122365083 | 122365083 | Frameshift | * | -C | 5  | 122365082 | TC | T  | 0.00505766 | 0.00505766 |\n",
       "| rs58396798  | chr12:55820903_*_+T | OR6C76 | 390326 | 12 |  55820903 |  55820903 | Frameshift | * | +T | 12 |  55820902 | C  | CT | 0.00756375 | 0.00756375 |\n",
       "| rs60187078  | chr7:99711873_*_-C  | TAF6   |   6878 | 7  |  99711873 |  99711873 | Frameshift | * | -C | 7  |  99711868 | GC | G  | 0.00585808 | 0.00585808 |\n",
       "\n"
      ],
      "text/plain": [
       "  dbSNPid     Identifier          gene_name geneID Chromosome Start    \n",
       "1 rs113439845 chr3:97806299_*_-T  OR5AC2     81050 3           97806299\n",
       "2 rs151293806 chr19:57665822_*_-G DUXA      503835 19          57665822\n",
       "3 rs41303343  chr7:99250394_*_+A  CYP3A5      1577 7           99250394\n",
       "4 rs45449493  chr5:122365083_*_-C PPIC        5480 5          122365083\n",
       "5 rs58396798  chr12:55820903_*_+T OR6C76    390326 12          55820903\n",
       "6 rs60187078  chr7:99711873_*_-C  TAF6        6878 7           99711873\n",
       "  End       snpType    ref alt #CHROM POS       REF ALT INFO       AF        \n",
       "1  97806299 Frameshift *   -T  3       97806298 AT  A   0.00542950 0.00542950\n",
       "2  57665822 Frameshift *   -G  19      57665821 AG  A   0.00414446 0.00414446\n",
       "3  99250394 Frameshift *   +A  7       99250393 T   TA  0.00731396 0.00731396\n",
       "4 122365083 Frameshift *   -C  5      122365082 TC  T   0.00505766 0.00505766\n",
       "5  55820903 Frameshift *   +T  12      55820902 C   CT  0.00756375 0.00756375\n",
       "6  99711873 Frameshift *   -C  7       99711868 GC  G   0.00585808 0.00585808"
      ]
     },
     "metadata": {},
     "output_type": "display_data"
    }
   ],
   "source": [
    "rs_matched_special <- rs_matched[startsWith(rs_matched$ref, \"*\") | startsWith(rs_matched$alt, \"+\") | startsWith(rs_matched$alt, \"-\"), ]\n",
    "rs_matched_special$row = 1:nrow(rs_matched_special)\n",
    "rs_matched_special <- rs_matched_special[c(2:4,7,9,12,16:18,20:23,24:25,27, 29:33, 35:37, 39),]\n",
    "rs_matched_special <- rs_matched_special[,-17]\n",
    "rs_matched_special$AF <- rs_matched_special$INFO\n",
    "rs_matched_special <- rs_matched_special[rs_matched_special$AF < 0.01,]\n",
    "rs_matched_special"
   ]
  },
  {
   "cell_type": "code",
   "execution_count": 12,
   "id": "dc97c239",
   "metadata": {},
   "outputs": [
    {
     "data": {
      "text/html": [
       "16398"
      ],
      "text/latex": [
       "16398"
      ],
      "text/markdown": [
       "16398"
      ],
      "text/plain": [
       "[1] 16398"
      ]
     },
     "metadata": {},
     "output_type": "display_data"
    },
    {
     "data": {
      "text/html": [
       "<table class=\"dataframe\">\n",
       "<caption>A data.table: 6 × 16</caption>\n",
       "<thead>\n",
       "\t<tr><th scope=col>dbSNPid</th><th scope=col>Identifier</th><th scope=col>gene_name</th><th scope=col>geneID</th><th scope=col>Chromosome</th><th scope=col>Start</th><th scope=col>End</th><th scope=col>snpType</th><th scope=col>ref</th><th scope=col>alt</th><th scope=col>#CHROM</th><th scope=col>POS</th><th scope=col>REF</th><th scope=col>ALT</th><th scope=col>INFO</th><th scope=col>AF</th></tr>\n",
       "\t<tr><th scope=col>&lt;chr&gt;</th><th scope=col>&lt;chr&gt;</th><th scope=col>&lt;chr&gt;</th><th scope=col>&lt;int&gt;</th><th scope=col>&lt;chr&gt;</th><th scope=col>&lt;int&gt;</th><th scope=col>&lt;int&gt;</th><th scope=col>&lt;chr&gt;</th><th scope=col>&lt;chr&gt;</th><th scope=col>&lt;chr&gt;</th><th scope=col>&lt;chr&gt;</th><th scope=col>&lt;int&gt;</th><th scope=col>&lt;chr&gt;</th><th scope=col>&lt;chr&gt;</th><th scope=col>&lt;dbl&gt;</th><th scope=col>&lt;dbl&gt;</th></tr>\n",
       "</thead>\n",
       "<tbody>\n",
       "\t<tr><td>rs10000692</td><td>chr4:122078317_T_C </td><td>TNIP3 </td><td> 79931</td><td>4 </td><td>122078317</td><td>122078317</td><td>Missense</td><td>T</td><td>C</td><td>4 </td><td>122078317</td><td>T</td><td>C                   </td><td>1.19879e-05</td><td>1.19879e-05</td></tr>\n",
       "\t<tr><td>rs10008444</td><td>chr4:48492434_G_C  </td><td>ZAR1  </td><td>326340</td><td>4 </td><td> 48492434</td><td> 48492434</td><td>Missense</td><td>G</td><td>C</td><td>4 </td><td> 48492434</td><td>G</td><td>GCGGCAGGGGCTGGCAGCAC</td><td>1.02482e-05</td><td>1.02482e-05</td></tr>\n",
       "\t<tr><td>rs10008444</td><td>chr4:48492434_G_C  </td><td>ZAR1  </td><td>326340</td><td>4 </td><td> 48492434</td><td> 48492434</td><td>Missense</td><td>G</td><td>C</td><td>4 </td><td> 48492434</td><td>G</td><td>GGCGGCAGCTGGCAGCAC  </td><td>3.07446e-05</td><td>3.07446e-05</td></tr>\n",
       "\t<tr><td>rs1000952 </td><td>chr3:183755822_G_A </td><td>HTR3D </td><td>200909</td><td>3 </td><td>183755822</td><td>183755822</td><td>Missense</td><td>G</td><td>A</td><td>3 </td><td>183755822</td><td>G</td><td>GGTGCAGGCA          </td><td>3.58394e-05</td><td>3.58394e-05</td></tr>\n",
       "\t<tr><td>rs1000952 </td><td>chr3:183755822_G_A </td><td>HTR3D </td><td>200909</td><td>3 </td><td>183755822</td><td>183755822</td><td>Missense</td><td>G</td><td>A</td><td>3 </td><td>183755822</td><td>G</td><td>T                   </td><td>3.98216e-06</td><td>3.98216e-06</td></tr>\n",
       "\t<tr><td>rs1001178 </td><td>chr12:122691045_T_A</td><td>B3GNT4</td><td> 79369</td><td>12</td><td>122691045</td><td>122691045</td><td>Missense</td><td>T</td><td>A</td><td>12</td><td>122691045</td><td>T</td><td>C                   </td><td>1.98842e-05</td><td>1.98842e-05</td></tr>\n",
       "</tbody>\n",
       "</table>\n"
      ],
      "text/latex": [
       "A data.table: 6 × 16\n",
       "\\begin{tabular}{llllllllllllllll}\n",
       " dbSNPid & Identifier & gene\\_name & geneID & Chromosome & Start & End & snpType & ref & alt & \\#CHROM & POS & REF & ALT & INFO & AF\\\\\n",
       " <chr> & <chr> & <chr> & <int> & <chr> & <int> & <int> & <chr> & <chr> & <chr> & <chr> & <int> & <chr> & <chr> & <dbl> & <dbl>\\\\\n",
       "\\hline\n",
       "\t rs10000692 & chr4:122078317\\_T\\_C  & TNIP3  &  79931 & 4  & 122078317 & 122078317 & Missense & T & C & 4  & 122078317 & T & C                    & 1.19879e-05 & 1.19879e-05\\\\\n",
       "\t rs10008444 & chr4:48492434\\_G\\_C   & ZAR1   & 326340 & 4  &  48492434 &  48492434 & Missense & G & C & 4  &  48492434 & G & GCGGCAGGGGCTGGCAGCAC & 1.02482e-05 & 1.02482e-05\\\\\n",
       "\t rs10008444 & chr4:48492434\\_G\\_C   & ZAR1   & 326340 & 4  &  48492434 &  48492434 & Missense & G & C & 4  &  48492434 & G & GGCGGCAGCTGGCAGCAC   & 3.07446e-05 & 3.07446e-05\\\\\n",
       "\t rs1000952  & chr3:183755822\\_G\\_A  & HTR3D  & 200909 & 3  & 183755822 & 183755822 & Missense & G & A & 3  & 183755822 & G & GGTGCAGGCA           & 3.58394e-05 & 3.58394e-05\\\\\n",
       "\t rs1000952  & chr3:183755822\\_G\\_A  & HTR3D  & 200909 & 3  & 183755822 & 183755822 & Missense & G & A & 3  & 183755822 & G & T                    & 3.98216e-06 & 3.98216e-06\\\\\n",
       "\t rs1001178  & chr12:122691045\\_T\\_A & B3GNT4 &  79369 & 12 & 122691045 & 122691045 & Missense & T & A & 12 & 122691045 & T & C                    & 1.98842e-05 & 1.98842e-05\\\\\n",
       "\\end{tabular}\n"
      ],
      "text/markdown": [
       "\n",
       "A data.table: 6 × 16\n",
       "\n",
       "| dbSNPid &lt;chr&gt; | Identifier &lt;chr&gt; | gene_name &lt;chr&gt; | geneID &lt;int&gt; | Chromosome &lt;chr&gt; | Start &lt;int&gt; | End &lt;int&gt; | snpType &lt;chr&gt; | ref &lt;chr&gt; | alt &lt;chr&gt; | #CHROM &lt;chr&gt; | POS &lt;int&gt; | REF &lt;chr&gt; | ALT &lt;chr&gt; | INFO &lt;dbl&gt; | AF &lt;dbl&gt; |\n",
       "|---|---|---|---|---|---|---|---|---|---|---|---|---|---|---|---|\n",
       "| rs10000692 | chr4:122078317_T_C  | TNIP3  |  79931 | 4  | 122078317 | 122078317 | Missense | T | C | 4  | 122078317 | T | C                    | 1.19879e-05 | 1.19879e-05 |\n",
       "| rs10008444 | chr4:48492434_G_C   | ZAR1   | 326340 | 4  |  48492434 |  48492434 | Missense | G | C | 4  |  48492434 | G | GCGGCAGGGGCTGGCAGCAC | 1.02482e-05 | 1.02482e-05 |\n",
       "| rs10008444 | chr4:48492434_G_C   | ZAR1   | 326340 | 4  |  48492434 |  48492434 | Missense | G | C | 4  |  48492434 | G | GGCGGCAGCTGGCAGCAC   | 3.07446e-05 | 3.07446e-05 |\n",
       "| rs1000952  | chr3:183755822_G_A  | HTR3D  | 200909 | 3  | 183755822 | 183755822 | Missense | G | A | 3  | 183755822 | G | GGTGCAGGCA           | 3.58394e-05 | 3.58394e-05 |\n",
       "| rs1000952  | chr3:183755822_G_A  | HTR3D  | 200909 | 3  | 183755822 | 183755822 | Missense | G | A | 3  | 183755822 | G | T                    | 3.98216e-06 | 3.98216e-06 |\n",
       "| rs1001178  | chr12:122691045_T_A | B3GNT4 |  79369 | 12 | 122691045 | 122691045 | Missense | T | A | 12 | 122691045 | T | C                    | 1.98842e-05 | 1.98842e-05 |\n",
       "\n"
      ],
      "text/plain": [
       "  dbSNPid    Identifier          gene_name geneID Chromosome Start    \n",
       "1 rs10000692 chr4:122078317_T_C  TNIP3      79931 4          122078317\n",
       "2 rs10008444 chr4:48492434_G_C   ZAR1      326340 4           48492434\n",
       "3 rs10008444 chr4:48492434_G_C   ZAR1      326340 4           48492434\n",
       "4 rs1000952  chr3:183755822_G_A  HTR3D     200909 3          183755822\n",
       "5 rs1000952  chr3:183755822_G_A  HTR3D     200909 3          183755822\n",
       "6 rs1001178  chr12:122691045_T_A B3GNT4     79369 12         122691045\n",
       "  End       snpType  ref alt #CHROM POS       REF ALT                 \n",
       "1 122078317 Missense T   C   4      122078317 T   C                   \n",
       "2  48492434 Missense G   C   4       48492434 G   GCGGCAGGGGCTGGCAGCAC\n",
       "3  48492434 Missense G   C   4       48492434 G   GGCGGCAGCTGGCAGCAC  \n",
       "4 183755822 Missense G   A   3      183755822 G   GGTGCAGGCA          \n",
       "5 183755822 Missense G   A   3      183755822 G   T                   \n",
       "6 122691045 Missense T   A   12     122691045 T   C                   \n",
       "  INFO        AF         \n",
       "1 1.19879e-05 1.19879e-05\n",
       "2 1.02482e-05 1.02482e-05\n",
       "3 3.07446e-05 3.07446e-05\n",
       "4 3.58394e-05 3.58394e-05\n",
       "5 3.98216e-06 3.98216e-06\n",
       "6 1.98842e-05 1.98842e-05"
      ]
     },
     "metadata": {},
     "output_type": "display_data"
    }
   ],
   "source": [
    "rs_matched_filtered <- rs_matched[!rs_matched$Identifier %in% rs_matched_special$Identifier, ]\n",
    "rs_matched_rare <- rs_matched_filtered[rs_matched_filtered$AF<0.01,]\n",
    "rs_matched_rare <- rbind(rs_matched_rare, rs_matched_special)\n",
    "nrow(rs_matched_rare)\n",
    "head(rs_matched_rare)"
   ]
  },
  {
   "cell_type": "code",
   "execution_count": 13,
   "id": "762d99fb",
   "metadata": {},
   "outputs": [
    {
     "data": {
      "text/html": [
       "<table class=\"dataframe\">\n",
       "<caption>A data.table: 6 × 16</caption>\n",
       "<thead>\n",
       "\t<tr><th scope=col>dbSNPid</th><th scope=col>Identifier</th><th scope=col>gene_name</th><th scope=col>geneID</th><th scope=col>Chromosome</th><th scope=col>Start</th><th scope=col>End</th><th scope=col>snpType</th><th scope=col>ref</th><th scope=col>alt</th><th scope=col>#CHROM</th><th scope=col>POS</th><th scope=col>REF</th><th scope=col>ALT</th><th scope=col>INFO</th><th scope=col>AF</th></tr>\n",
       "\t<tr><th scope=col>&lt;chr&gt;</th><th scope=col>&lt;chr&gt;</th><th scope=col>&lt;chr&gt;</th><th scope=col>&lt;int&gt;</th><th scope=col>&lt;chr&gt;</th><th scope=col>&lt;int&gt;</th><th scope=col>&lt;int&gt;</th><th scope=col>&lt;chr&gt;</th><th scope=col>&lt;chr&gt;</th><th scope=col>&lt;chr&gt;</th><th scope=col>&lt;chr&gt;</th><th scope=col>&lt;int&gt;</th><th scope=col>&lt;chr&gt;</th><th scope=col>&lt;chr&gt;</th><th scope=col>&lt;dbl&gt;</th><th scope=col>&lt;dbl&gt;</th></tr>\n",
       "</thead>\n",
       "<tbody>\n",
       "\t<tr><td>rs10000692</td><td>chr4:122078317_T_C </td><td>TNIP3  </td><td> 79931</td><td>4 </td><td>122078317</td><td>122078317</td><td>Missense</td><td>T</td><td>C</td><td>4 </td><td>122078317</td><td>T</td><td>C                   </td><td>1.19879e-05</td><td>1.19879e-05</td></tr>\n",
       "\t<tr><td>rs10008444</td><td>chr4:48492434_G_C  </td><td>ZAR1   </td><td>326340</td><td>4 </td><td> 48492434</td><td> 48492434</td><td>Missense</td><td>G</td><td>C</td><td>4 </td><td> 48492434</td><td>G</td><td>GCGGCAGGGGCTGGCAGCAC</td><td>1.02482e-05</td><td>1.02482e-05</td></tr>\n",
       "\t<tr><td>rs1000952 </td><td>chr3:183755822_G_A </td><td>HTR3D  </td><td>200909</td><td>3 </td><td>183755822</td><td>183755822</td><td>Missense</td><td>G</td><td>A</td><td>3 </td><td>183755822</td><td>G</td><td>GGTGCAGGCA          </td><td>3.58394e-05</td><td>3.58394e-05</td></tr>\n",
       "\t<tr><td>rs1001178 </td><td>chr12:122691045_T_A</td><td>B3GNT4 </td><td> 79369</td><td>12</td><td>122691045</td><td>122691045</td><td>Missense</td><td>T</td><td>A</td><td>12</td><td>122691045</td><td>T</td><td>C                   </td><td>1.98842e-05</td><td>1.98842e-05</td></tr>\n",
       "\t<tr><td>rs10014170</td><td>chr4:40104051_A_G  </td><td>N4BP2  </td><td> 55728</td><td>4 </td><td> 40104051</td><td> 40104051</td><td>Missense</td><td>A</td><td>G</td><td>4 </td><td> 40104051</td><td>A</td><td>G                   </td><td>7.65804e-03</td><td>7.65804e-03</td></tr>\n",
       "\t<tr><td>rs10016702</td><td>chr4:10447640_A_G  </td><td>ZNF518B</td><td> 85460</td><td>4 </td><td> 10447640</td><td> 10447640</td><td>Missense</td><td>A</td><td>G</td><td>4 </td><td> 10447640</td><td>A</td><td>T                   </td><td>3.98000e-06</td><td>3.98000e-06</td></tr>\n",
       "</tbody>\n",
       "</table>\n"
      ],
      "text/latex": [
       "A data.table: 6 × 16\n",
       "\\begin{tabular}{llllllllllllllll}\n",
       " dbSNPid & Identifier & gene\\_name & geneID & Chromosome & Start & End & snpType & ref & alt & \\#CHROM & POS & REF & ALT & INFO & AF\\\\\n",
       " <chr> & <chr> & <chr> & <int> & <chr> & <int> & <int> & <chr> & <chr> & <chr> & <chr> & <int> & <chr> & <chr> & <dbl> & <dbl>\\\\\n",
       "\\hline\n",
       "\t rs10000692 & chr4:122078317\\_T\\_C  & TNIP3   &  79931 & 4  & 122078317 & 122078317 & Missense & T & C & 4  & 122078317 & T & C                    & 1.19879e-05 & 1.19879e-05\\\\\n",
       "\t rs10008444 & chr4:48492434\\_G\\_C   & ZAR1    & 326340 & 4  &  48492434 &  48492434 & Missense & G & C & 4  &  48492434 & G & GCGGCAGGGGCTGGCAGCAC & 1.02482e-05 & 1.02482e-05\\\\\n",
       "\t rs1000952  & chr3:183755822\\_G\\_A  & HTR3D   & 200909 & 3  & 183755822 & 183755822 & Missense & G & A & 3  & 183755822 & G & GGTGCAGGCA           & 3.58394e-05 & 3.58394e-05\\\\\n",
       "\t rs1001178  & chr12:122691045\\_T\\_A & B3GNT4  &  79369 & 12 & 122691045 & 122691045 & Missense & T & A & 12 & 122691045 & T & C                    & 1.98842e-05 & 1.98842e-05\\\\\n",
       "\t rs10014170 & chr4:40104051\\_A\\_G   & N4BP2   &  55728 & 4  &  40104051 &  40104051 & Missense & A & G & 4  &  40104051 & A & G                    & 7.65804e-03 & 7.65804e-03\\\\\n",
       "\t rs10016702 & chr4:10447640\\_A\\_G   & ZNF518B &  85460 & 4  &  10447640 &  10447640 & Missense & A & G & 4  &  10447640 & A & T                    & 3.98000e-06 & 3.98000e-06\\\\\n",
       "\\end{tabular}\n"
      ],
      "text/markdown": [
       "\n",
       "A data.table: 6 × 16\n",
       "\n",
       "| dbSNPid &lt;chr&gt; | Identifier &lt;chr&gt; | gene_name &lt;chr&gt; | geneID &lt;int&gt; | Chromosome &lt;chr&gt; | Start &lt;int&gt; | End &lt;int&gt; | snpType &lt;chr&gt; | ref &lt;chr&gt; | alt &lt;chr&gt; | #CHROM &lt;chr&gt; | POS &lt;int&gt; | REF &lt;chr&gt; | ALT &lt;chr&gt; | INFO &lt;dbl&gt; | AF &lt;dbl&gt; |\n",
       "|---|---|---|---|---|---|---|---|---|---|---|---|---|---|---|---|\n",
       "| rs10000692 | chr4:122078317_T_C  | TNIP3   |  79931 | 4  | 122078317 | 122078317 | Missense | T | C | 4  | 122078317 | T | C                    | 1.19879e-05 | 1.19879e-05 |\n",
       "| rs10008444 | chr4:48492434_G_C   | ZAR1    | 326340 | 4  |  48492434 |  48492434 | Missense | G | C | 4  |  48492434 | G | GCGGCAGGGGCTGGCAGCAC | 1.02482e-05 | 1.02482e-05 |\n",
       "| rs1000952  | chr3:183755822_G_A  | HTR3D   | 200909 | 3  | 183755822 | 183755822 | Missense | G | A | 3  | 183755822 | G | GGTGCAGGCA           | 3.58394e-05 | 3.58394e-05 |\n",
       "| rs1001178  | chr12:122691045_T_A | B3GNT4  |  79369 | 12 | 122691045 | 122691045 | Missense | T | A | 12 | 122691045 | T | C                    | 1.98842e-05 | 1.98842e-05 |\n",
       "| rs10014170 | chr4:40104051_A_G   | N4BP2   |  55728 | 4  |  40104051 |  40104051 | Missense | A | G | 4  |  40104051 | A | G                    | 7.65804e-03 | 7.65804e-03 |\n",
       "| rs10016702 | chr4:10447640_A_G   | ZNF518B |  85460 | 4  |  10447640 |  10447640 | Missense | A | G | 4  |  10447640 | A | T                    | 3.98000e-06 | 3.98000e-06 |\n",
       "\n"
      ],
      "text/plain": [
       "  dbSNPid    Identifier          gene_name geneID Chromosome Start    \n",
       "1 rs10000692 chr4:122078317_T_C  TNIP3      79931 4          122078317\n",
       "2 rs10008444 chr4:48492434_G_C   ZAR1      326340 4           48492434\n",
       "3 rs1000952  chr3:183755822_G_A  HTR3D     200909 3          183755822\n",
       "4 rs1001178  chr12:122691045_T_A B3GNT4     79369 12         122691045\n",
       "5 rs10014170 chr4:40104051_A_G   N4BP2      55728 4           40104051\n",
       "6 rs10016702 chr4:10447640_A_G   ZNF518B    85460 4           10447640\n",
       "  End       snpType  ref alt #CHROM POS       REF ALT                 \n",
       "1 122078317 Missense T   C   4      122078317 T   C                   \n",
       "2  48492434 Missense G   C   4       48492434 G   GCGGCAGGGGCTGGCAGCAC\n",
       "3 183755822 Missense G   A   3      183755822 G   GGTGCAGGCA          \n",
       "4 122691045 Missense T   A   12     122691045 T   C                   \n",
       "5  40104051 Missense A   G   4       40104051 A   G                   \n",
       "6  10447640 Missense A   G   4       10447640 A   T                   \n",
       "  INFO        AF         \n",
       "1 1.19879e-05 1.19879e-05\n",
       "2 1.02482e-05 1.02482e-05\n",
       "3 3.58394e-05 3.58394e-05\n",
       "4 1.98842e-05 1.98842e-05\n",
       "5 7.65804e-03 7.65804e-03\n",
       "6 3.98000e-06 3.98000e-06"
      ]
     },
     "metadata": {},
     "output_type": "display_data"
    },
    {
     "data": {
      "text/html": [
       "13747"
      ],
      "text/latex": [
       "13747"
      ],
      "text/markdown": [
       "13747"
      ],
      "text/plain": [
       "[1] 13747"
      ]
     },
     "metadata": {},
     "output_type": "display_data"
    }
   ],
   "source": [
    "rs_matched_rare <- rs_matched_rare[!duplicated(rs_matched_rare$Identifier),]\n",
    "head(rs_matched_rare)\n",
    "nrow(rs_matched_rare)"
   ]
  },
  {
   "cell_type": "code",
   "execution_count": 14,
   "id": "88947d95",
   "metadata": {},
   "outputs": [
    {
     "data": {
      "text/html": [
       "95"
      ],
      "text/latex": [
       "95"
      ],
      "text/markdown": [
       "95"
      ],
      "text/plain": [
       "[1] 95"
      ]
     },
     "metadata": {},
     "output_type": "display_data"
    },
    {
     "data": {
      "text/html": [
       "13652"
      ],
      "text/latex": [
       "13652"
      ],
      "text/markdown": [
       "13652"
      ],
      "text/plain": [
       "[1] 13652"
      ]
     },
     "metadata": {},
     "output_type": "display_data"
    }
   ],
   "source": [
    "rs_matched_rare_nogene <- rs_matched_rare[rs_matched_rare$gene_name=='-',]\n",
    "nrow(rs_matched_rare_nogene)\n",
    "rs_matched_rare_gene <- rs_matched_rare[rs_matched_rare$gene_name!='-',]\n",
    "nrow(rs_matched_rare_gene)"
   ]
  },
  {
   "cell_type": "code",
   "execution_count": 15,
   "id": "046c0129",
   "metadata": {},
   "outputs": [
    {
     "data": {
      "text/html": [
       "<table class=\"dataframe\">\n",
       "<caption>A data.table: 6 × 15</caption>\n",
       "<thead>\n",
       "\t<tr><th scope=col>Chromosome</th><th scope=col>Start</th><th scope=col>Identifier</th><th scope=col>gene_name</th><th scope=col>geneID</th><th scope=col>End</th><th scope=col>dbSNPid</th><th scope=col>snpType</th><th scope=col>ref</th><th scope=col>alt</th><th scope=col>ID</th><th scope=col>REF</th><th scope=col>ALT</th><th scope=col>INFO</th><th scope=col>AF</th></tr>\n",
       "\t<tr><th scope=col>&lt;chr&gt;</th><th scope=col>&lt;int&gt;</th><th scope=col>&lt;chr&gt;</th><th scope=col>&lt;chr&gt;</th><th scope=col>&lt;int&gt;</th><th scope=col>&lt;int&gt;</th><th scope=col>&lt;chr&gt;</th><th scope=col>&lt;chr&gt;</th><th scope=col>&lt;chr&gt;</th><th scope=col>&lt;chr&gt;</th><th scope=col>&lt;chr&gt;</th><th scope=col>&lt;chr&gt;</th><th scope=col>&lt;chr&gt;</th><th scope=col>&lt;dbl&gt;</th><th scope=col>&lt;dbl&gt;</th></tr>\n",
       "</thead>\n",
       "<tbody>\n",
       "\t<tr><td>1</td><td>871199</td><td>chr1:871199_G_A </td><td>SAMD11</td><td>148398</td><td>871199</td><td>rs756140787</td><td>Missense  </td><td>G</td><td>A </td><td>rs756140787</td><td>G                                                 </td><td>A                                                                                                 </td><td>3.58449e-05</td><td>3.58449e-05</td></tr>\n",
       "\t<tr><td>1</td><td>871199</td><td>chr1:871199_G_A </td><td>SAMD11</td><td>148398</td><td>871199</td><td>rs756140787</td><td>Missense  </td><td>G</td><td>A </td><td>rs756140787</td><td>G                                                 </td><td>T                                                                                                 </td><td>7.96553e-06</td><td>7.96553e-06</td></tr>\n",
       "\t<tr><td>1</td><td>874816</td><td>chr1:874816_*_+T</td><td>SAMD11</td><td>148398</td><td>874816</td><td>rs200996316</td><td>Frameshift</td><td>*</td><td>+T</td><td>rs200996316</td><td>C                                                 </td><td>CCCCCTCATCACCTCCCCAGCCACGGTGAGGACCCACCCTGGCATGATCCCCCTCATCACCTCCCCAGCCACGGTGAGGACCCACCCTGGCATGATCT</td><td>4.16396e-06</td><td>1.00000e-05</td></tr>\n",
       "\t<tr><td>1</td><td>874816</td><td>chr1:874816_*_+T</td><td>SAMD11</td><td>148398</td><td>874816</td><td>rs200996316</td><td>Frameshift</td><td>*</td><td>+T</td><td>rs200996316</td><td>C                                                 </td><td>CCCCCTCATCACCTCCCCAGCCACGGTGAGGACCCACCCTGGCATGATCT                                                </td><td>3.78920e-04</td><td>1.00000e-05</td></tr>\n",
       "\t<tr><td>1</td><td>874816</td><td>chr1:874816_*_+T</td><td>SAMD11</td><td>148398</td><td>874816</td><td>rs200996316</td><td>Frameshift</td><td>*</td><td>+T</td><td>rs200996316</td><td>C                                                 </td><td>CT                                                                                                </td><td>2.37346e-04</td><td>1.00000e-05</td></tr>\n",
       "\t<tr><td>1</td><td>874816</td><td>chr1:874816_*_+T</td><td>SAMD11</td><td>148398</td><td>874816</td><td>rs200996316</td><td>Frameshift</td><td>*</td><td>+T</td><td>rs200996316</td><td>CCCCCTCATCACCTCCCCAGCCACGGTGAGGACCCACCCTGGCATGATCT</td><td>C                                                                                                 </td><td>1.12427e-03</td><td>1.00000e-05</td></tr>\n",
       "</tbody>\n",
       "</table>\n"
      ],
      "text/latex": [
       "A data.table: 6 × 15\n",
       "\\begin{tabular}{lllllllllllllll}\n",
       " Chromosome & Start & Identifier & gene\\_name & geneID & End & dbSNPid & snpType & ref & alt & ID & REF & ALT & INFO & AF\\\\\n",
       " <chr> & <int> & <chr> & <chr> & <int> & <int> & <chr> & <chr> & <chr> & <chr> & <chr> & <chr> & <chr> & <dbl> & <dbl>\\\\\n",
       "\\hline\n",
       "\t 1 & 871199 & chr1:871199\\_G\\_A  & SAMD11 & 148398 & 871199 & rs756140787 & Missense   & G & A  & rs756140787 & G                                                  & A                                                                                                  & 3.58449e-05 & 3.58449e-05\\\\\n",
       "\t 1 & 871199 & chr1:871199\\_G\\_A  & SAMD11 & 148398 & 871199 & rs756140787 & Missense   & G & A  & rs756140787 & G                                                  & T                                                                                                  & 7.96553e-06 & 7.96553e-06\\\\\n",
       "\t 1 & 874816 & chr1:874816\\_*\\_+T & SAMD11 & 148398 & 874816 & rs200996316 & Frameshift & * & +T & rs200996316 & C                                                  & CCCCCTCATCACCTCCCCAGCCACGGTGAGGACCCACCCTGGCATGATCCCCCTCATCACCTCCCCAGCCACGGTGAGGACCCACCCTGGCATGATCT & 4.16396e-06 & 1.00000e-05\\\\\n",
       "\t 1 & 874816 & chr1:874816\\_*\\_+T & SAMD11 & 148398 & 874816 & rs200996316 & Frameshift & * & +T & rs200996316 & C                                                  & CCCCCTCATCACCTCCCCAGCCACGGTGAGGACCCACCCTGGCATGATCT                                                 & 3.78920e-04 & 1.00000e-05\\\\\n",
       "\t 1 & 874816 & chr1:874816\\_*\\_+T & SAMD11 & 148398 & 874816 & rs200996316 & Frameshift & * & +T & rs200996316 & C                                                  & CT                                                                                                 & 2.37346e-04 & 1.00000e-05\\\\\n",
       "\t 1 & 874816 & chr1:874816\\_*\\_+T & SAMD11 & 148398 & 874816 & rs200996316 & Frameshift & * & +T & rs200996316 & CCCCCTCATCACCTCCCCAGCCACGGTGAGGACCCACCCTGGCATGATCT & C                                                                                                  & 1.12427e-03 & 1.00000e-05\\\\\n",
       "\\end{tabular}\n"
      ],
      "text/markdown": [
       "\n",
       "A data.table: 6 × 15\n",
       "\n",
       "| Chromosome &lt;chr&gt; | Start &lt;int&gt; | Identifier &lt;chr&gt; | gene_name &lt;chr&gt; | geneID &lt;int&gt; | End &lt;int&gt; | dbSNPid &lt;chr&gt; | snpType &lt;chr&gt; | ref &lt;chr&gt; | alt &lt;chr&gt; | ID &lt;chr&gt; | REF &lt;chr&gt; | ALT &lt;chr&gt; | INFO &lt;dbl&gt; | AF &lt;dbl&gt; |\n",
       "|---|---|---|---|---|---|---|---|---|---|---|---|---|---|---|\n",
       "| 1 | 871199 | chr1:871199_G_A  | SAMD11 | 148398 | 871199 | rs756140787 | Missense   | G | A  | rs756140787 | G                                                  | A                                                                                                  | 3.58449e-05 | 3.58449e-05 |\n",
       "| 1 | 871199 | chr1:871199_G_A  | SAMD11 | 148398 | 871199 | rs756140787 | Missense   | G | A  | rs756140787 | G                                                  | T                                                                                                  | 7.96553e-06 | 7.96553e-06 |\n",
       "| 1 | 874816 | chr1:874816_*_+T | SAMD11 | 148398 | 874816 | rs200996316 | Frameshift | * | +T | rs200996316 | C                                                  | CCCCCTCATCACCTCCCCAGCCACGGTGAGGACCCACCCTGGCATGATCCCCCTCATCACCTCCCCAGCCACGGTGAGGACCCACCCTGGCATGATCT | 4.16396e-06 | 1.00000e-05 |\n",
       "| 1 | 874816 | chr1:874816_*_+T | SAMD11 | 148398 | 874816 | rs200996316 | Frameshift | * | +T | rs200996316 | C                                                  | CCCCCTCATCACCTCCCCAGCCACGGTGAGGACCCACCCTGGCATGATCT                                                 | 3.78920e-04 | 1.00000e-05 |\n",
       "| 1 | 874816 | chr1:874816_*_+T | SAMD11 | 148398 | 874816 | rs200996316 | Frameshift | * | +T | rs200996316 | C                                                  | CT                                                                                                 | 2.37346e-04 | 1.00000e-05 |\n",
       "| 1 | 874816 | chr1:874816_*_+T | SAMD11 | 148398 | 874816 | rs200996316 | Frameshift | * | +T | rs200996316 | CCCCCTCATCACCTCCCCAGCCACGGTGAGGACCCACCCTGGCATGATCT | C                                                                                                  | 1.12427e-03 | 1.00000e-05 |\n",
       "\n"
      ],
      "text/plain": [
       "  Chromosome Start  Identifier       gene_name geneID End    dbSNPid    \n",
       "1 1          871199 chr1:871199_G_A  SAMD11    148398 871199 rs756140787\n",
       "2 1          871199 chr1:871199_G_A  SAMD11    148398 871199 rs756140787\n",
       "3 1          874816 chr1:874816_*_+T SAMD11    148398 874816 rs200996316\n",
       "4 1          874816 chr1:874816_*_+T SAMD11    148398 874816 rs200996316\n",
       "5 1          874816 chr1:874816_*_+T SAMD11    148398 874816 rs200996316\n",
       "6 1          874816 chr1:874816_*_+T SAMD11    148398 874816 rs200996316\n",
       "  snpType    ref alt ID         \n",
       "1 Missense   G   A   rs756140787\n",
       "2 Missense   G   A   rs756140787\n",
       "3 Frameshift *   +T  rs200996316\n",
       "4 Frameshift *   +T  rs200996316\n",
       "5 Frameshift *   +T  rs200996316\n",
       "6 Frameshift *   +T  rs200996316\n",
       "  REF                                               \n",
       "1 G                                                 \n",
       "2 G                                                 \n",
       "3 C                                                 \n",
       "4 C                                                 \n",
       "5 C                                                 \n",
       "6 CCCCCTCATCACCTCCCCAGCCACGGTGAGGACCCACCCTGGCATGATCT\n",
       "  ALT                                                                                               \n",
       "1 A                                                                                                 \n",
       "2 T                                                                                                 \n",
       "3 CCCCCTCATCACCTCCCCAGCCACGGTGAGGACCCACCCTGGCATGATCCCCCTCATCACCTCCCCAGCCACGGTGAGGACCCACCCTGGCATGATCT\n",
       "4 CCCCCTCATCACCTCCCCAGCCACGGTGAGGACCCACCCTGGCATGATCT                                                \n",
       "5 CT                                                                                                \n",
       "6 C                                                                                                 \n",
       "  INFO        AF         \n",
       "1 3.58449e-05 3.58449e-05\n",
       "2 7.96553e-06 7.96553e-06\n",
       "3 4.16396e-06 1.00000e-05\n",
       "4 3.78920e-04 1.00000e-05\n",
       "5 2.37346e-04 1.00000e-05\n",
       "6 1.12427e-03 1.00000e-05"
      ]
     },
     "metadata": {},
     "output_type": "display_data"
    },
    {
     "data": {
      "text/html": [
       "15318"
      ],
      "text/latex": [
       "15318"
      ],
      "text/markdown": [
       "15318"
      ],
      "text/plain": [
       "[1] 15318"
      ]
     },
     "metadata": {},
     "output_type": "display_data"
    }
   ],
   "source": [
    "pos_matched <- merge(variant_meta[!variant_meta$Identifier %in% rs_matched$Identifier], vcfs, \n",
    "                     by.x = c(\"Chromosome\", 'Start'), by.y = c(\"#CHROM\", 'POS'))\n",
    "pos_matched$dbSNPid <- pos_matched$ID\n",
    "pos_matched$AF <- apply(pos_matched, 1, function(x){\n",
    "    if(x[9]==x[12]){\n",
    "        return(as.numeric(x[14]))\n",
    "    }\n",
    "    if(x[10]==x[13]){\n",
    "        return(as.numeric(x[14]))\n",
    "    }\n",
    "    if(x[13]==x[9]){\n",
    "        return(1-as.numeric(x[14]))\n",
    "    }\n",
    "    if(x[10]==x[12]){\n",
    "        return(1-as.numeric(x[14]))\n",
    "    }\n",
    "    else{\n",
    "        return(0.00001)\n",
    "    }\n",
    "})\n",
    "\n",
    "head(pos_matched)\n",
    "nrow(pos_matched)"
   ]
  },
  {
   "cell_type": "code",
   "execution_count": 16,
   "id": "7002e3ee",
   "metadata": {},
   "outputs": [],
   "source": [
    "pos_matched_special <- pos_matched[startsWith(pos_matched$ref, \"*\") | startsWith(pos_matched$alt, \"+\") | startsWith(pos_matched$alt, \"-\"), ]\n",
    "pos_matched_filtered <- pos_matched[!pos_matched$Identifier %in% pos_matched_special$Identifier, ]\n"
   ]
  },
  {
   "cell_type": "code",
   "execution_count": 17,
   "id": "76a2304d",
   "metadata": {},
   "outputs": [
    {
     "data": {
      "text/html": [
       "68"
      ],
      "text/latex": [
       "68"
      ],
      "text/markdown": [
       "68"
      ],
      "text/plain": [
       "[1] 68"
      ]
     },
     "metadata": {},
     "output_type": "display_data"
    },
    {
     "data": {
      "text/html": [
       "<table class=\"dataframe\">\n",
       "<caption>A data.table: 6 × 15</caption>\n",
       "<thead>\n",
       "\t<tr><th scope=col>Chromosome</th><th scope=col>Start</th><th scope=col>Identifier</th><th scope=col>gene_name</th><th scope=col>geneID</th><th scope=col>End</th><th scope=col>dbSNPid</th><th scope=col>snpType</th><th scope=col>ref</th><th scope=col>alt</th><th scope=col>ID</th><th scope=col>REF</th><th scope=col>ALT</th><th scope=col>INFO</th><th scope=col>AF</th></tr>\n",
       "\t<tr><th scope=col>&lt;chr&gt;</th><th scope=col>&lt;int&gt;</th><th scope=col>&lt;chr&gt;</th><th scope=col>&lt;chr&gt;</th><th scope=col>&lt;int&gt;</th><th scope=col>&lt;int&gt;</th><th scope=col>&lt;chr&gt;</th><th scope=col>&lt;chr&gt;</th><th scope=col>&lt;chr&gt;</th><th scope=col>&lt;chr&gt;</th><th scope=col>&lt;chr&gt;</th><th scope=col>&lt;chr&gt;</th><th scope=col>&lt;chr&gt;</th><th scope=col>&lt;dbl&gt;</th><th scope=col>&lt;dbl&gt;</th></tr>\n",
       "</thead>\n",
       "<tbody>\n",
       "\t<tr><td>1 </td><td>  1887091</td><td>chr1:1887091_*_-C     </td><td>C1orf222</td><td>339457</td><td>  1887091</td><td>rs774261814</td><td>Frameshift</td><td>*</td><td>-C   </td><td>rs774261814</td><td>CG </td><td>C    </td><td>0.1776260</td><td>1e-05</td></tr>\n",
       "\t<tr><td>1 </td><td> 40981245</td><td>chr1:40981245_*_+G    </td><td>EXO5    </td><td> 64789</td><td> 40981245</td><td>rs150018949</td><td>Frameshift</td><td>*</td><td>+G   </td><td>rs150018949</td><td>C  </td><td>CG   </td><td>0.0127079</td><td>1e-05</td></tr>\n",
       "\t<tr><td>1 </td><td> 54605319</td><td>chr1:54605319_*_+CG   </td><td>CDCP2   </td><td>200008</td><td> 54605319</td><td>rs36013100 </td><td>Frameshift</td><td>*</td><td>+CG  </td><td>rs36013100 </td><td>G  </td><td>GC   </td><td>0.7021450</td><td>1e-05</td></tr>\n",
       "\t<tr><td>19</td><td> 37879852</td><td>chr19:37879852_*_+TGTG</td><td>ZNF527  </td><td> 84503</td><td> 37879852</td><td>rs376931538</td><td>Frameshift</td><td>*</td><td>+TGTG</td><td>rs376931538</td><td>C  </td><td>CTGTG</td><td>0.0337805</td><td>1e-05</td></tr>\n",
       "\t<tr><td>20</td><td>   126310</td><td>chr20:126310_*_-AC    </td><td>DEFB126 </td><td> 81623</td><td>   126311</td><td>rs111739970</td><td>Frameshift</td><td>*</td><td>-AC  </td><td>rs111739970</td><td>ACC</td><td>A    </td><td>0.5522220</td><td>1e-05</td></tr>\n",
       "\t<tr><td>3 </td><td>149238595</td><td>chr3:149238595_*_+TTAA</td><td>WWTR1   </td><td> 25937</td><td>149238595</td><td>rs34351019 </td><td>Nonsense  </td><td>*</td><td>+TTAA</td><td>rs34351019 </td><td>C  </td><td>CTTAA</td><td>0.0929217</td><td>1e-05</td></tr>\n",
       "</tbody>\n",
       "</table>\n"
      ],
      "text/latex": [
       "A data.table: 6 × 15\n",
       "\\begin{tabular}{lllllllllllllll}\n",
       " Chromosome & Start & Identifier & gene\\_name & geneID & End & dbSNPid & snpType & ref & alt & ID & REF & ALT & INFO & AF\\\\\n",
       " <chr> & <int> & <chr> & <chr> & <int> & <int> & <chr> & <chr> & <chr> & <chr> & <chr> & <chr> & <chr> & <dbl> & <dbl>\\\\\n",
       "\\hline\n",
       "\t 1  &   1887091 & chr1:1887091\\_*\\_-C      & C1orf222 & 339457 &   1887091 & rs774261814 & Frameshift & * & -C    & rs774261814 & CG  & C     & 0.1776260 & 1e-05\\\\\n",
       "\t 1  &  40981245 & chr1:40981245\\_*\\_+G     & EXO5     &  64789 &  40981245 & rs150018949 & Frameshift & * & +G    & rs150018949 & C   & CG    & 0.0127079 & 1e-05\\\\\n",
       "\t 1  &  54605319 & chr1:54605319\\_*\\_+CG    & CDCP2    & 200008 &  54605319 & rs36013100  & Frameshift & * & +CG   & rs36013100  & G   & GC    & 0.7021450 & 1e-05\\\\\n",
       "\t 19 &  37879852 & chr19:37879852\\_*\\_+TGTG & ZNF527   &  84503 &  37879852 & rs376931538 & Frameshift & * & +TGTG & rs376931538 & C   & CTGTG & 0.0337805 & 1e-05\\\\\n",
       "\t 20 &    126310 & chr20:126310\\_*\\_-AC     & DEFB126  &  81623 &    126311 & rs111739970 & Frameshift & * & -AC   & rs111739970 & ACC & A     & 0.5522220 & 1e-05\\\\\n",
       "\t 3  & 149238595 & chr3:149238595\\_*\\_+TTAA & WWTR1    &  25937 & 149238595 & rs34351019  & Nonsense   & * & +TTAA & rs34351019  & C   & CTTAA & 0.0929217 & 1e-05\\\\\n",
       "\\end{tabular}\n"
      ],
      "text/markdown": [
       "\n",
       "A data.table: 6 × 15\n",
       "\n",
       "| Chromosome &lt;chr&gt; | Start &lt;int&gt; | Identifier &lt;chr&gt; | gene_name &lt;chr&gt; | geneID &lt;int&gt; | End &lt;int&gt; | dbSNPid &lt;chr&gt; | snpType &lt;chr&gt; | ref &lt;chr&gt; | alt &lt;chr&gt; | ID &lt;chr&gt; | REF &lt;chr&gt; | ALT &lt;chr&gt; | INFO &lt;dbl&gt; | AF &lt;dbl&gt; |\n",
       "|---|---|---|---|---|---|---|---|---|---|---|---|---|---|---|\n",
       "| 1  |   1887091 | chr1:1887091_*_-C      | C1orf222 | 339457 |   1887091 | rs774261814 | Frameshift | * | -C    | rs774261814 | CG  | C     | 0.1776260 | 1e-05 |\n",
       "| 1  |  40981245 | chr1:40981245_*_+G     | EXO5     |  64789 |  40981245 | rs150018949 | Frameshift | * | +G    | rs150018949 | C   | CG    | 0.0127079 | 1e-05 |\n",
       "| 1  |  54605319 | chr1:54605319_*_+CG    | CDCP2    | 200008 |  54605319 | rs36013100  | Frameshift | * | +CG   | rs36013100  | G   | GC    | 0.7021450 | 1e-05 |\n",
       "| 19 |  37879852 | chr19:37879852_*_+TGTG | ZNF527   |  84503 |  37879852 | rs376931538 | Frameshift | * | +TGTG | rs376931538 | C   | CTGTG | 0.0337805 | 1e-05 |\n",
       "| 20 |    126310 | chr20:126310_*_-AC     | DEFB126  |  81623 |    126311 | rs111739970 | Frameshift | * | -AC   | rs111739970 | ACC | A     | 0.5522220 | 1e-05 |\n",
       "| 3  | 149238595 | chr3:149238595_*_+TTAA | WWTR1    |  25937 | 149238595 | rs34351019  | Nonsense   | * | +TTAA | rs34351019  | C   | CTTAA | 0.0929217 | 1e-05 |\n",
       "\n"
      ],
      "text/plain": [
       "  Chromosome Start     Identifier             gene_name geneID End      \n",
       "1 1            1887091 chr1:1887091_*_-C      C1orf222  339457   1887091\n",
       "2 1           40981245 chr1:40981245_*_+G     EXO5       64789  40981245\n",
       "3 1           54605319 chr1:54605319_*_+CG    CDCP2     200008  54605319\n",
       "4 19          37879852 chr19:37879852_*_+TGTG ZNF527     84503  37879852\n",
       "5 20            126310 chr20:126310_*_-AC     DEFB126    81623    126311\n",
       "6 3          149238595 chr3:149238595_*_+TTAA WWTR1      25937 149238595\n",
       "  dbSNPid     snpType    ref alt   ID          REF ALT   INFO      AF   \n",
       "1 rs774261814 Frameshift *   -C    rs774261814 CG  C     0.1776260 1e-05\n",
       "2 rs150018949 Frameshift *   +G    rs150018949 C   CG    0.0127079 1e-05\n",
       "3 rs36013100  Frameshift *   +CG   rs36013100  G   GC    0.7021450 1e-05\n",
       "4 rs376931538 Frameshift *   +TGTG rs376931538 C   CTGTG 0.0337805 1e-05\n",
       "5 rs111739970 Frameshift *   -AC   rs111739970 ACC A     0.5522220 1e-05\n",
       "6 rs34351019  Nonsense   *   +TTAA rs34351019  C   CTTAA 0.0929217 1e-05"
      ]
     },
     "metadata": {},
     "output_type": "display_data"
    },
    {
     "data": {
      "text/html": [
       "80"
      ],
      "text/latex": [
       "80"
      ],
      "text/markdown": [
       "80"
      ],
      "text/plain": [
       "[1] 80"
      ]
     },
     "metadata": {},
     "output_type": "display_data"
    }
   ],
   "source": [
    "pos_matched_special_before <- unique(pos_matched_special$Identifier)\n",
    "pos_matched_special <- pos_matched_special %>% \n",
    "  filter( !(REF %in% c(\"G\", \"C\", \"T\", \"A\") & ALT %in% c(\"G\", \"C\", \"T\", \"A\")))\n",
    "pos_matched_special_ids <- unique(pos_matched_special$Identifier)\n",
    "length(unique(pos_matched_special$Identifier))\n",
    "pos_matched_special[pos_matched_special $INFO >0.01,]\n",
    "pos_matched_special_notrare <- c(\"chr1:40981245_*_+G\", 'chr10:118215310_*_+A', \"chr19:1004896_*_+CGTT\", \"chr19:37879852_*_+TGTG\", \"chr2:158958551_*_+A\",\n",
    " \"chr20:126310_*_-AC\", \"chr3:149238595_*_+TTAA\")\n",
    "pos_matched_special <- pos_matched_special[!pos_matched_special$Identifier %in% pos_matched_special_notrare, ]\n",
    "nrow(pos_matched_special)"
   ]
  },
  {
   "cell_type": "code",
   "execution_count": 18,
   "id": "fcc82277",
   "metadata": {},
   "outputs": [
    {
     "data": {
      "text/html": [
       "68"
      ],
      "text/latex": [
       "68"
      ],
      "text/markdown": [
       "68"
      ],
      "text/plain": [
       "[1] 68"
      ]
     },
     "metadata": {},
     "output_type": "display_data"
    }
   ],
   "source": [
    "length(intersect(pos_matched_special_before, pos_matched_special_ids))"
   ]
  },
  {
   "cell_type": "code",
   "execution_count": 19,
   "id": "a35a0a5c",
   "metadata": {},
   "outputs": [
    {
     "data": {
      "text/html": [
       "14313"
      ],
      "text/latex": [
       "14313"
      ],
      "text/markdown": [
       "14313"
      ],
      "text/plain": [
       "[1] 14313"
      ]
     },
     "metadata": {},
     "output_type": "display_data"
    },
    {
     "data": {
      "text/html": [
       "<table class=\"dataframe\">\n",
       "<caption>A data.table: 6 × 15</caption>\n",
       "<thead>\n",
       "\t<tr><th scope=col>Chromosome</th><th scope=col>Start</th><th scope=col>Identifier</th><th scope=col>gene_name</th><th scope=col>geneID</th><th scope=col>End</th><th scope=col>dbSNPid</th><th scope=col>snpType</th><th scope=col>ref</th><th scope=col>alt</th><th scope=col>ID</th><th scope=col>REF</th><th scope=col>ALT</th><th scope=col>INFO</th><th scope=col>AF</th></tr>\n",
       "\t<tr><th scope=col>&lt;chr&gt;</th><th scope=col>&lt;int&gt;</th><th scope=col>&lt;chr&gt;</th><th scope=col>&lt;chr&gt;</th><th scope=col>&lt;int&gt;</th><th scope=col>&lt;int&gt;</th><th scope=col>&lt;chr&gt;</th><th scope=col>&lt;chr&gt;</th><th scope=col>&lt;chr&gt;</th><th scope=col>&lt;chr&gt;</th><th scope=col>&lt;chr&gt;</th><th scope=col>&lt;chr&gt;</th><th scope=col>&lt;chr&gt;</th><th scope=col>&lt;dbl&gt;</th><th scope=col>&lt;dbl&gt;</th></tr>\n",
       "</thead>\n",
       "<tbody>\n",
       "\t<tr><td>1</td><td>871199</td><td>chr1:871199_G_A</td><td>SAMD11 </td><td>148398</td><td>871199</td><td>rs756140787 </td><td>Missense</td><td>G</td><td>A</td><td>rs756140787 </td><td>G</td><td>A</td><td>3.58449e-05</td><td>3.58449e-05</td></tr>\n",
       "\t<tr><td>1</td><td>871199</td><td>chr1:871199_G_A</td><td>SAMD11 </td><td>148398</td><td>871199</td><td>rs756140787 </td><td>Missense</td><td>G</td><td>A</td><td>rs756140787 </td><td>G</td><td>T</td><td>7.96553e-06</td><td>7.96553e-06</td></tr>\n",
       "\t<tr><td>1</td><td>879391</td><td>chr1:879391_G_A</td><td>SAMD11 </td><td>148398</td><td>879391</td><td>rs369456516 </td><td>Missense</td><td>G</td><td>A</td><td>rs369456516 </td><td>G</td><td>A</td><td>8.04978e-05</td><td>8.04978e-05</td></tr>\n",
       "\t<tr><td>1</td><td>896816</td><td>chr1:896816_G_A</td><td>KLHL17 </td><td>339451</td><td>896816</td><td>rs1474892152</td><td>Missense</td><td>G</td><td>A</td><td>rs1474892152</td><td>G</td><td>A</td><td>4.17286e-06</td><td>4.17286e-06</td></tr>\n",
       "\t<tr><td>1</td><td>908958</td><td>chr1:908958_G_A</td><td>PLEKHN1</td><td> 84069</td><td>908958</td><td>rs1349045521</td><td>Missense</td><td>G</td><td>A</td><td>rs1349045521</td><td>G</td><td>A</td><td>1.20211e-05</td><td>1.20211e-05</td></tr>\n",
       "\t<tr><td>1</td><td>909723</td><td>chr1:909723_G_A</td><td>PLEKHN1</td><td> 84069</td><td>909723</td><td>rs752461073 </td><td>Missense</td><td>G</td><td>A</td><td>rs752461073 </td><td>G</td><td>A</td><td>9.97869e-05</td><td>9.97869e-05</td></tr>\n",
       "</tbody>\n",
       "</table>\n"
      ],
      "text/latex": [
       "A data.table: 6 × 15\n",
       "\\begin{tabular}{lllllllllllllll}\n",
       " Chromosome & Start & Identifier & gene\\_name & geneID & End & dbSNPid & snpType & ref & alt & ID & REF & ALT & INFO & AF\\\\\n",
       " <chr> & <int> & <chr> & <chr> & <int> & <int> & <chr> & <chr> & <chr> & <chr> & <chr> & <chr> & <chr> & <dbl> & <dbl>\\\\\n",
       "\\hline\n",
       "\t 1 & 871199 & chr1:871199\\_G\\_A & SAMD11  & 148398 & 871199 & rs756140787  & Missense & G & A & rs756140787  & G & A & 3.58449e-05 & 3.58449e-05\\\\\n",
       "\t 1 & 871199 & chr1:871199\\_G\\_A & SAMD11  & 148398 & 871199 & rs756140787  & Missense & G & A & rs756140787  & G & T & 7.96553e-06 & 7.96553e-06\\\\\n",
       "\t 1 & 879391 & chr1:879391\\_G\\_A & SAMD11  & 148398 & 879391 & rs369456516  & Missense & G & A & rs369456516  & G & A & 8.04978e-05 & 8.04978e-05\\\\\n",
       "\t 1 & 896816 & chr1:896816\\_G\\_A & KLHL17  & 339451 & 896816 & rs1474892152 & Missense & G & A & rs1474892152 & G & A & 4.17286e-06 & 4.17286e-06\\\\\n",
       "\t 1 & 908958 & chr1:908958\\_G\\_A & PLEKHN1 &  84069 & 908958 & rs1349045521 & Missense & G & A & rs1349045521 & G & A & 1.20211e-05 & 1.20211e-05\\\\\n",
       "\t 1 & 909723 & chr1:909723\\_G\\_A & PLEKHN1 &  84069 & 909723 & rs752461073  & Missense & G & A & rs752461073  & G & A & 9.97869e-05 & 9.97869e-05\\\\\n",
       "\\end{tabular}\n"
      ],
      "text/markdown": [
       "\n",
       "A data.table: 6 × 15\n",
       "\n",
       "| Chromosome &lt;chr&gt; | Start &lt;int&gt; | Identifier &lt;chr&gt; | gene_name &lt;chr&gt; | geneID &lt;int&gt; | End &lt;int&gt; | dbSNPid &lt;chr&gt; | snpType &lt;chr&gt; | ref &lt;chr&gt; | alt &lt;chr&gt; | ID &lt;chr&gt; | REF &lt;chr&gt; | ALT &lt;chr&gt; | INFO &lt;dbl&gt; | AF &lt;dbl&gt; |\n",
       "|---|---|---|---|---|---|---|---|---|---|---|---|---|---|---|\n",
       "| 1 | 871199 | chr1:871199_G_A | SAMD11  | 148398 | 871199 | rs756140787  | Missense | G | A | rs756140787  | G | A | 3.58449e-05 | 3.58449e-05 |\n",
       "| 1 | 871199 | chr1:871199_G_A | SAMD11  | 148398 | 871199 | rs756140787  | Missense | G | A | rs756140787  | G | T | 7.96553e-06 | 7.96553e-06 |\n",
       "| 1 | 879391 | chr1:879391_G_A | SAMD11  | 148398 | 879391 | rs369456516  | Missense | G | A | rs369456516  | G | A | 8.04978e-05 | 8.04978e-05 |\n",
       "| 1 | 896816 | chr1:896816_G_A | KLHL17  | 339451 | 896816 | rs1474892152 | Missense | G | A | rs1474892152 | G | A | 4.17286e-06 | 4.17286e-06 |\n",
       "| 1 | 908958 | chr1:908958_G_A | PLEKHN1 |  84069 | 908958 | rs1349045521 | Missense | G | A | rs1349045521 | G | A | 1.20211e-05 | 1.20211e-05 |\n",
       "| 1 | 909723 | chr1:909723_G_A | PLEKHN1 |  84069 | 909723 | rs752461073  | Missense | G | A | rs752461073  | G | A | 9.97869e-05 | 9.97869e-05 |\n",
       "\n"
      ],
      "text/plain": [
       "  Chromosome Start  Identifier      gene_name geneID End    dbSNPid     \n",
       "1 1          871199 chr1:871199_G_A SAMD11    148398 871199 rs756140787 \n",
       "2 1          871199 chr1:871199_G_A SAMD11    148398 871199 rs756140787 \n",
       "3 1          879391 chr1:879391_G_A SAMD11    148398 879391 rs369456516 \n",
       "4 1          896816 chr1:896816_G_A KLHL17    339451 896816 rs1474892152\n",
       "5 1          908958 chr1:908958_G_A PLEKHN1    84069 908958 rs1349045521\n",
       "6 1          909723 chr1:909723_G_A PLEKHN1    84069 909723 rs752461073 \n",
       "  snpType  ref alt ID           REF ALT INFO        AF         \n",
       "1 Missense G   A   rs756140787  G   A   3.58449e-05 3.58449e-05\n",
       "2 Missense G   A   rs756140787  G   T   7.96553e-06 7.96553e-06\n",
       "3 Missense G   A   rs369456516  G   A   8.04978e-05 8.04978e-05\n",
       "4 Missense G   A   rs1474892152 G   A   4.17286e-06 4.17286e-06\n",
       "5 Missense G   A   rs1349045521 G   A   1.20211e-05 1.20211e-05\n",
       "6 Missense G   A   rs752461073  G   A   9.97869e-05 9.97869e-05"
      ]
     },
     "metadata": {},
     "output_type": "display_data"
    }
   ],
   "source": [
    "pos_matched_rare <- pos_matched_filtered[pos_matched_filtered$AF <0.01,]\n",
    "pos_matched_rare <- rbind(pos_matched_rare, pos_matched_special)\n",
    "nrow(pos_matched_rare)\n",
    "head(pos_matched_rare)"
   ]
  },
  {
   "cell_type": "code",
   "execution_count": 20,
   "id": "7ab7a3c2",
   "metadata": {},
   "outputs": [
    {
     "data": {
      "text/html": [
       "12227"
      ],
      "text/latex": [
       "12227"
      ],
      "text/markdown": [
       "12227"
      ],
      "text/plain": [
       "[1] 12227"
      ]
     },
     "metadata": {},
     "output_type": "display_data"
    },
    {
     "data": {
      "text/html": [
       "<table class=\"dataframe\">\n",
       "<caption>A data.table: 6 × 15</caption>\n",
       "<thead>\n",
       "\t<tr><th scope=col>Chromosome</th><th scope=col>Start</th><th scope=col>Identifier</th><th scope=col>gene_name</th><th scope=col>geneID</th><th scope=col>End</th><th scope=col>dbSNPid</th><th scope=col>snpType</th><th scope=col>ref</th><th scope=col>alt</th><th scope=col>ID</th><th scope=col>REF</th><th scope=col>ALT</th><th scope=col>INFO</th><th scope=col>AF</th></tr>\n",
       "\t<tr><th scope=col>&lt;chr&gt;</th><th scope=col>&lt;int&gt;</th><th scope=col>&lt;chr&gt;</th><th scope=col>&lt;chr&gt;</th><th scope=col>&lt;int&gt;</th><th scope=col>&lt;int&gt;</th><th scope=col>&lt;chr&gt;</th><th scope=col>&lt;chr&gt;</th><th scope=col>&lt;chr&gt;</th><th scope=col>&lt;chr&gt;</th><th scope=col>&lt;chr&gt;</th><th scope=col>&lt;chr&gt;</th><th scope=col>&lt;chr&gt;</th><th scope=col>&lt;dbl&gt;</th><th scope=col>&lt;dbl&gt;</th></tr>\n",
       "</thead>\n",
       "<tbody>\n",
       "\t<tr><td>1</td><td>871199</td><td>chr1:871199_G_A</td><td>SAMD11 </td><td>148398</td><td>871199</td><td>rs756140787 </td><td>Missense</td><td>G</td><td>A</td><td>rs756140787 </td><td>G</td><td>A</td><td>3.58449e-05</td><td>3.58449e-05</td></tr>\n",
       "\t<tr><td>1</td><td>879391</td><td>chr1:879391_G_A</td><td>SAMD11 </td><td>148398</td><td>879391</td><td>rs369456516 </td><td>Missense</td><td>G</td><td>A</td><td>rs369456516 </td><td>G</td><td>A</td><td>8.04978e-05</td><td>8.04978e-05</td></tr>\n",
       "\t<tr><td>1</td><td>896816</td><td>chr1:896816_G_A</td><td>KLHL17 </td><td>339451</td><td>896816</td><td>rs1474892152</td><td>Missense</td><td>G</td><td>A</td><td>rs1474892152</td><td>G</td><td>A</td><td>4.17286e-06</td><td>4.17286e-06</td></tr>\n",
       "\t<tr><td>1</td><td>908958</td><td>chr1:908958_G_A</td><td>PLEKHN1</td><td> 84069</td><td>908958</td><td>rs1349045521</td><td>Missense</td><td>G</td><td>A</td><td>rs1349045521</td><td>G</td><td>A</td><td>1.20211e-05</td><td>1.20211e-05</td></tr>\n",
       "\t<tr><td>1</td><td>909723</td><td>chr1:909723_G_A</td><td>PLEKHN1</td><td> 84069</td><td>909723</td><td>rs752461073 </td><td>Missense</td><td>G</td><td>A</td><td>rs752461073 </td><td>G</td><td>A</td><td>9.97869e-05</td><td>9.97869e-05</td></tr>\n",
       "\t<tr><td>1</td><td>949478</td><td>chr1:949478_G_A</td><td>ISG15  </td><td>  9636</td><td>949478</td><td>rs201238613 </td><td>Missense</td><td>G</td><td>A</td><td>rs201238613 </td><td>G</td><td>A</td><td>2.39479e-05</td><td>2.39479e-05</td></tr>\n",
       "</tbody>\n",
       "</table>\n"
      ],
      "text/latex": [
       "A data.table: 6 × 15\n",
       "\\begin{tabular}{lllllllllllllll}\n",
       " Chromosome & Start & Identifier & gene\\_name & geneID & End & dbSNPid & snpType & ref & alt & ID & REF & ALT & INFO & AF\\\\\n",
       " <chr> & <int> & <chr> & <chr> & <int> & <int> & <chr> & <chr> & <chr> & <chr> & <chr> & <chr> & <chr> & <dbl> & <dbl>\\\\\n",
       "\\hline\n",
       "\t 1 & 871199 & chr1:871199\\_G\\_A & SAMD11  & 148398 & 871199 & rs756140787  & Missense & G & A & rs756140787  & G & A & 3.58449e-05 & 3.58449e-05\\\\\n",
       "\t 1 & 879391 & chr1:879391\\_G\\_A & SAMD11  & 148398 & 879391 & rs369456516  & Missense & G & A & rs369456516  & G & A & 8.04978e-05 & 8.04978e-05\\\\\n",
       "\t 1 & 896816 & chr1:896816\\_G\\_A & KLHL17  & 339451 & 896816 & rs1474892152 & Missense & G & A & rs1474892152 & G & A & 4.17286e-06 & 4.17286e-06\\\\\n",
       "\t 1 & 908958 & chr1:908958\\_G\\_A & PLEKHN1 &  84069 & 908958 & rs1349045521 & Missense & G & A & rs1349045521 & G & A & 1.20211e-05 & 1.20211e-05\\\\\n",
       "\t 1 & 909723 & chr1:909723\\_G\\_A & PLEKHN1 &  84069 & 909723 & rs752461073  & Missense & G & A & rs752461073  & G & A & 9.97869e-05 & 9.97869e-05\\\\\n",
       "\t 1 & 949478 & chr1:949478\\_G\\_A & ISG15   &   9636 & 949478 & rs201238613  & Missense & G & A & rs201238613  & G & A & 2.39479e-05 & 2.39479e-05\\\\\n",
       "\\end{tabular}\n"
      ],
      "text/markdown": [
       "\n",
       "A data.table: 6 × 15\n",
       "\n",
       "| Chromosome &lt;chr&gt; | Start &lt;int&gt; | Identifier &lt;chr&gt; | gene_name &lt;chr&gt; | geneID &lt;int&gt; | End &lt;int&gt; | dbSNPid &lt;chr&gt; | snpType &lt;chr&gt; | ref &lt;chr&gt; | alt &lt;chr&gt; | ID &lt;chr&gt; | REF &lt;chr&gt; | ALT &lt;chr&gt; | INFO &lt;dbl&gt; | AF &lt;dbl&gt; |\n",
       "|---|---|---|---|---|---|---|---|---|---|---|---|---|---|---|\n",
       "| 1 | 871199 | chr1:871199_G_A | SAMD11  | 148398 | 871199 | rs756140787  | Missense | G | A | rs756140787  | G | A | 3.58449e-05 | 3.58449e-05 |\n",
       "| 1 | 879391 | chr1:879391_G_A | SAMD11  | 148398 | 879391 | rs369456516  | Missense | G | A | rs369456516  | G | A | 8.04978e-05 | 8.04978e-05 |\n",
       "| 1 | 896816 | chr1:896816_G_A | KLHL17  | 339451 | 896816 | rs1474892152 | Missense | G | A | rs1474892152 | G | A | 4.17286e-06 | 4.17286e-06 |\n",
       "| 1 | 908958 | chr1:908958_G_A | PLEKHN1 |  84069 | 908958 | rs1349045521 | Missense | G | A | rs1349045521 | G | A | 1.20211e-05 | 1.20211e-05 |\n",
       "| 1 | 909723 | chr1:909723_G_A | PLEKHN1 |  84069 | 909723 | rs752461073  | Missense | G | A | rs752461073  | G | A | 9.97869e-05 | 9.97869e-05 |\n",
       "| 1 | 949478 | chr1:949478_G_A | ISG15   |   9636 | 949478 | rs201238613  | Missense | G | A | rs201238613  | G | A | 2.39479e-05 | 2.39479e-05 |\n",
       "\n"
      ],
      "text/plain": [
       "  Chromosome Start  Identifier      gene_name geneID End    dbSNPid     \n",
       "1 1          871199 chr1:871199_G_A SAMD11    148398 871199 rs756140787 \n",
       "2 1          879391 chr1:879391_G_A SAMD11    148398 879391 rs369456516 \n",
       "3 1          896816 chr1:896816_G_A KLHL17    339451 896816 rs1474892152\n",
       "4 1          908958 chr1:908958_G_A PLEKHN1    84069 908958 rs1349045521\n",
       "5 1          909723 chr1:909723_G_A PLEKHN1    84069 909723 rs752461073 \n",
       "6 1          949478 chr1:949478_G_A ISG15       9636 949478 rs201238613 \n",
       "  snpType  ref alt ID           REF ALT INFO        AF         \n",
       "1 Missense G   A   rs756140787  G   A   3.58449e-05 3.58449e-05\n",
       "2 Missense G   A   rs369456516  G   A   8.04978e-05 8.04978e-05\n",
       "3 Missense G   A   rs1474892152 G   A   4.17286e-06 4.17286e-06\n",
       "4 Missense G   A   rs1349045521 G   A   1.20211e-05 1.20211e-05\n",
       "5 Missense G   A   rs752461073  G   A   9.97869e-05 9.97869e-05\n",
       "6 Missense G   A   rs201238613  G   A   2.39479e-05 2.39479e-05"
      ]
     },
     "metadata": {},
     "output_type": "display_data"
    }
   ],
   "source": [
    "#pos_matched_rare <- pos_matched_rare[,c(3,4,7)]\n",
    "pos_matched_rare <- pos_matched_rare[!duplicated(pos_matched_rare$Identifier),]\n",
    "nrow(pos_matched_rare)\n",
    "head(pos_matched_rare)"
   ]
  },
  {
   "cell_type": "code",
   "execution_count": 21,
   "id": "914e9a34",
   "metadata": {},
   "outputs": [
    {
     "data": {
      "text/html": [
       "51"
      ],
      "text/latex": [
       "51"
      ],
      "text/markdown": [
       "51"
      ],
      "text/plain": [
       "[1] 51"
      ]
     },
     "metadata": {},
     "output_type": "display_data"
    },
    {
     "data": {
      "text/html": [
       "12176"
      ],
      "text/latex": [
       "12176"
      ],
      "text/markdown": [
       "12176"
      ],
      "text/plain": [
       "[1] 12176"
      ]
     },
     "metadata": {},
     "output_type": "display_data"
    }
   ],
   "source": [
    "pos_matched_rare_nogene <- pos_matched_rare[pos_matched_rare$gene_name=='-',]\n",
    "pos_matched_rare_gene <- pos_matched_rare[pos_matched_rare$gene_name!='-',]\n",
    "nrow(pos_matched_rare_nogene)\n",
    "nrow(pos_matched_rare_gene)"
   ]
  },
  {
   "cell_type": "code",
   "execution_count": 22,
   "id": "c567a9b0",
   "metadata": {},
   "outputs": [
    {
     "data": {
      "text/html": [
       "<style>\n",
       ".list-inline {list-style: none; margin:0; padding: 0}\n",
       ".list-inline>li {display: inline-block}\n",
       ".list-inline>li:not(:last-child)::after {content: \"\\00b7\"; padding: 0 .5ex}\n",
       "</style>\n",
       "<ol class=list-inline><li>'rs200318618'</li><li>'rs45606732'</li><li>'rs373855079'</li><li>'rs780118642'</li><li>'rs369311018'</li><li>'rs199816295'</li><li>'rs752753802'</li><li>'rs372027293'</li><li>'rs774001128'</li><li>'rs776925459'</li><li>'rs1367868848'</li><li>'rs1249562451'</li><li>'rs755094258'</li><li>'rs749947758'</li><li>'rs760597072'</li><li>'rs761422114'</li><li>'rs756250058'</li><li>'rs61731919'</li><li>'rs1260237933'</li><li>'rs1253583472'</li><li>'rs768577818'</li><li>'rs201582547'</li><li>'rs1237539326'</li><li>'rs200625323'</li><li>'rs747687070'</li><li>'rs780225147'</li><li>'rs1488144097'</li><li>'rs1167131093'</li><li>'rs1470200189'</li><li>'rs762703767'</li><li>'rs373945186'</li><li>'rs759236870'</li><li>'rs1185740885'</li><li>'rs1225035849'</li><li>'rs371086562'</li><li>'rs752968297'</li><li>'rs775046833'</li><li>'rs1316356710'</li><li>'rs754619006'</li><li>'rs746545215'</li><li>'rs540565542'</li><li>'rs563215458'</li><li>'rs961962373'</li><li>'rs765800071'</li><li>'rs374331982'</li><li>'rs757679541'</li><li>'rs765372741'</li><li>'rs1441487644'</li><li>'rs745463626'</li><li>'rs770965566'</li><li>'rs188422825'</li></ol>\n"
      ],
      "text/latex": [
       "\\begin{enumerate*}\n",
       "\\item 'rs200318618'\n",
       "\\item 'rs45606732'\n",
       "\\item 'rs373855079'\n",
       "\\item 'rs780118642'\n",
       "\\item 'rs369311018'\n",
       "\\item 'rs199816295'\n",
       "\\item 'rs752753802'\n",
       "\\item 'rs372027293'\n",
       "\\item 'rs774001128'\n",
       "\\item 'rs776925459'\n",
       "\\item 'rs1367868848'\n",
       "\\item 'rs1249562451'\n",
       "\\item 'rs755094258'\n",
       "\\item 'rs749947758'\n",
       "\\item 'rs760597072'\n",
       "\\item 'rs761422114'\n",
       "\\item 'rs756250058'\n",
       "\\item 'rs61731919'\n",
       "\\item 'rs1260237933'\n",
       "\\item 'rs1253583472'\n",
       "\\item 'rs768577818'\n",
       "\\item 'rs201582547'\n",
       "\\item 'rs1237539326'\n",
       "\\item 'rs200625323'\n",
       "\\item 'rs747687070'\n",
       "\\item 'rs780225147'\n",
       "\\item 'rs1488144097'\n",
       "\\item 'rs1167131093'\n",
       "\\item 'rs1470200189'\n",
       "\\item 'rs762703767'\n",
       "\\item 'rs373945186'\n",
       "\\item 'rs759236870'\n",
       "\\item 'rs1185740885'\n",
       "\\item 'rs1225035849'\n",
       "\\item 'rs371086562'\n",
       "\\item 'rs752968297'\n",
       "\\item 'rs775046833'\n",
       "\\item 'rs1316356710'\n",
       "\\item 'rs754619006'\n",
       "\\item 'rs746545215'\n",
       "\\item 'rs540565542'\n",
       "\\item 'rs563215458'\n",
       "\\item 'rs961962373'\n",
       "\\item 'rs765800071'\n",
       "\\item 'rs374331982'\n",
       "\\item 'rs757679541'\n",
       "\\item 'rs765372741'\n",
       "\\item 'rs1441487644'\n",
       "\\item 'rs745463626'\n",
       "\\item 'rs770965566'\n",
       "\\item 'rs188422825'\n",
       "\\end{enumerate*}\n"
      ],
      "text/markdown": [
       "1. 'rs200318618'\n",
       "2. 'rs45606732'\n",
       "3. 'rs373855079'\n",
       "4. 'rs780118642'\n",
       "5. 'rs369311018'\n",
       "6. 'rs199816295'\n",
       "7. 'rs752753802'\n",
       "8. 'rs372027293'\n",
       "9. 'rs774001128'\n",
       "10. 'rs776925459'\n",
       "11. 'rs1367868848'\n",
       "12. 'rs1249562451'\n",
       "13. 'rs755094258'\n",
       "14. 'rs749947758'\n",
       "15. 'rs760597072'\n",
       "16. 'rs761422114'\n",
       "17. 'rs756250058'\n",
       "18. 'rs61731919'\n",
       "19. 'rs1260237933'\n",
       "20. 'rs1253583472'\n",
       "21. 'rs768577818'\n",
       "22. 'rs201582547'\n",
       "23. 'rs1237539326'\n",
       "24. 'rs200625323'\n",
       "25. 'rs747687070'\n",
       "26. 'rs780225147'\n",
       "27. 'rs1488144097'\n",
       "28. 'rs1167131093'\n",
       "29. 'rs1470200189'\n",
       "30. 'rs762703767'\n",
       "31. 'rs373945186'\n",
       "32. 'rs759236870'\n",
       "33. 'rs1185740885'\n",
       "34. 'rs1225035849'\n",
       "35. 'rs371086562'\n",
       "36. 'rs752968297'\n",
       "37. 'rs775046833'\n",
       "38. 'rs1316356710'\n",
       "39. 'rs754619006'\n",
       "40. 'rs746545215'\n",
       "41. 'rs540565542'\n",
       "42. 'rs563215458'\n",
       "43. 'rs961962373'\n",
       "44. 'rs765800071'\n",
       "45. 'rs374331982'\n",
       "46. 'rs757679541'\n",
       "47. 'rs765372741'\n",
       "48. 'rs1441487644'\n",
       "49. 'rs745463626'\n",
       "50. 'rs770965566'\n",
       "51. 'rs188422825'\n",
       "\n",
       "\n"
      ],
      "text/plain": [
       " [1] \"rs200318618\"  \"rs45606732\"   \"rs373855079\"  \"rs780118642\"  \"rs369311018\" \n",
       " [6] \"rs199816295\"  \"rs752753802\"  \"rs372027293\"  \"rs774001128\"  \"rs776925459\" \n",
       "[11] \"rs1367868848\" \"rs1249562451\" \"rs755094258\"  \"rs749947758\"  \"rs760597072\" \n",
       "[16] \"rs761422114\"  \"rs756250058\"  \"rs61731919\"   \"rs1260237933\" \"rs1253583472\"\n",
       "[21] \"rs768577818\"  \"rs201582547\"  \"rs1237539326\" \"rs200625323\"  \"rs747687070\" \n",
       "[26] \"rs780225147\"  \"rs1488144097\" \"rs1167131093\" \"rs1470200189\" \"rs762703767\" \n",
       "[31] \"rs373945186\"  \"rs759236870\"  \"rs1185740885\" \"rs1225035849\" \"rs371086562\" \n",
       "[36] \"rs752968297\"  \"rs775046833\"  \"rs1316356710\" \"rs754619006\"  \"rs746545215\" \n",
       "[41] \"rs540565542\"  \"rs563215458\"  \"rs961962373\"  \"rs765800071\"  \"rs374331982\" \n",
       "[46] \"rs757679541\"  \"rs765372741\"  \"rs1441487644\" \"rs745463626\"  \"rs770965566\" \n",
       "[51] \"rs188422825\" "
      ]
     },
     "metadata": {},
     "output_type": "display_data"
    }
   ],
   "source": [
    "#old ids mapped to the new ids\n",
    "unique(pos_matched_rare_nogene$dbSNPid)"
   ]
  },
  {
   "cell_type": "code",
   "execution_count": 23,
   "id": "22c1ea61",
   "metadata": {},
   "outputs": [
    {
     "data": {
      "text/html": [
       "30286"
      ],
      "text/latex": [
       "30286"
      ],
      "text/markdown": [
       "30286"
      ],
      "text/plain": [
       "[1] 30286"
      ]
     },
     "metadata": {},
     "output_type": "display_data"
    },
    {
     "data": {
      "text/html": [
       "17368"
      ],
      "text/latex": [
       "17368"
      ],
      "text/markdown": [
       "17368"
      ],
      "text/plain": [
       "[1] 17368"
      ]
     },
     "metadata": {},
     "output_type": "display_data"
    }
   ],
   "source": [
    "remain <- variant_meta[!variant_meta$Identifier %in% rs_matched$Identifier, ]\n",
    "nrow(remain)\n",
    "remain <- remain[!remain$Identifier %in% pos_matched$Identifier, ]\n",
    "nrow(remain)"
   ]
  },
  {
   "cell_type": "code",
   "execution_count": 24,
   "id": "c30bd82a",
   "metadata": {},
   "outputs": [
    {
     "data": {
      "text/html": [
       "68"
      ],
      "text/latex": [
       "68"
      ],
      "text/markdown": [
       "68"
      ],
      "text/plain": [
       "[1] 68"
      ]
     },
     "metadata": {},
     "output_type": "display_data"
    },
    {
     "data": {
      "text/html": [
       "17300"
      ],
      "text/latex": [
       "17300"
      ],
      "text/markdown": [
       "17300"
      ],
      "text/plain": [
       "[1] 17300"
      ]
     },
     "metadata": {},
     "output_type": "display_data"
    }
   ],
   "source": [
    "remain_nogene <- remain[remain$gene_name=='-',]\n",
    "nrow(remain_nogene)\n",
    "remain_gene <- remain[remain$gene_name!='-',]\n",
    "nrow(remain_gene)"
   ]
  },
  {
   "cell_type": "code",
   "execution_count": 25,
   "id": "28d74baf",
   "metadata": {},
   "outputs": [
    {
     "data": {
      "text/html": [
       "<table class=\"dataframe\">\n",
       "<caption>A data.table: 6 × 10</caption>\n",
       "<thead>\n",
       "\t<tr><th scope=col>Identifier</th><th scope=col>gene_name</th><th scope=col>geneID</th><th scope=col>Chromosome</th><th scope=col>Start</th><th scope=col>End</th><th scope=col>dbSNPid</th><th scope=col>snpType</th><th scope=col>ref</th><th scope=col>alt</th></tr>\n",
       "\t<tr><th scope=col>&lt;chr&gt;</th><th scope=col>&lt;chr&gt;</th><th scope=col>&lt;int&gt;</th><th scope=col>&lt;chr&gt;</th><th scope=col>&lt;int&gt;</th><th scope=col>&lt;int&gt;</th><th scope=col>&lt;chr&gt;</th><th scope=col>&lt;chr&gt;</th><th scope=col>&lt;chr&gt;</th><th scope=col>&lt;chr&gt;</th></tr>\n",
       "</thead>\n",
       "<tbody>\n",
       "\t<tr><td>chr1:75005934_T_G </td><td>-</td><td>0</td><td>1</td><td> 75005934</td><td> 75005934</td><td>-</td><td>Missense</td><td>T</td><td>G</td></tr>\n",
       "\t<tr><td>chr1:155162039_C_A</td><td>-</td><td>0</td><td>1</td><td>155162039</td><td>155162039</td><td>-</td><td>Missense</td><td>C</td><td>A</td></tr>\n",
       "\t<tr><td>chr1:156212572_G_T</td><td>-</td><td>0</td><td>1</td><td>156212572</td><td>156212572</td><td>-</td><td>Missense</td><td>G</td><td>T</td></tr>\n",
       "\t<tr><td>chr2:18745293_G_C </td><td>-</td><td>0</td><td>2</td><td> 18745293</td><td> 18745293</td><td>-</td><td>Nonsense</td><td>G</td><td>C</td></tr>\n",
       "\t<tr><td>chr2:48808233_A_T </td><td>-</td><td>0</td><td>2</td><td> 48808233</td><td> 48808233</td><td>-</td><td>Missense</td><td>A</td><td>T</td></tr>\n",
       "\t<tr><td>chr2:48809206_G_T </td><td>-</td><td>0</td><td>2</td><td> 48809206</td><td> 48809206</td><td>-</td><td>Missense</td><td>G</td><td>T</td></tr>\n",
       "</tbody>\n",
       "</table>\n"
      ],
      "text/latex": [
       "A data.table: 6 × 10\n",
       "\\begin{tabular}{llllllllll}\n",
       " Identifier & gene\\_name & geneID & Chromosome & Start & End & dbSNPid & snpType & ref & alt\\\\\n",
       " <chr> & <chr> & <int> & <chr> & <int> & <int> & <chr> & <chr> & <chr> & <chr>\\\\\n",
       "\\hline\n",
       "\t chr1:75005934\\_T\\_G  & - & 0 & 1 &  75005934 &  75005934 & - & Missense & T & G\\\\\n",
       "\t chr1:155162039\\_C\\_A & - & 0 & 1 & 155162039 & 155162039 & - & Missense & C & A\\\\\n",
       "\t chr1:156212572\\_G\\_T & - & 0 & 1 & 156212572 & 156212572 & - & Missense & G & T\\\\\n",
       "\t chr2:18745293\\_G\\_C  & - & 0 & 2 &  18745293 &  18745293 & - & Nonsense & G & C\\\\\n",
       "\t chr2:48808233\\_A\\_T  & - & 0 & 2 &  48808233 &  48808233 & - & Missense & A & T\\\\\n",
       "\t chr2:48809206\\_G\\_T  & - & 0 & 2 &  48809206 &  48809206 & - & Missense & G & T\\\\\n",
       "\\end{tabular}\n"
      ],
      "text/markdown": [
       "\n",
       "A data.table: 6 × 10\n",
       "\n",
       "| Identifier &lt;chr&gt; | gene_name &lt;chr&gt; | geneID &lt;int&gt; | Chromosome &lt;chr&gt; | Start &lt;int&gt; | End &lt;int&gt; | dbSNPid &lt;chr&gt; | snpType &lt;chr&gt; | ref &lt;chr&gt; | alt &lt;chr&gt; |\n",
       "|---|---|---|---|---|---|---|---|---|---|\n",
       "| chr1:75005934_T_G  | - | 0 | 1 |  75005934 |  75005934 | - | Missense | T | G |\n",
       "| chr1:155162039_C_A | - | 0 | 1 | 155162039 | 155162039 | - | Missense | C | A |\n",
       "| chr1:156212572_G_T | - | 0 | 1 | 156212572 | 156212572 | - | Missense | G | T |\n",
       "| chr2:18745293_G_C  | - | 0 | 2 |  18745293 |  18745293 | - | Nonsense | G | C |\n",
       "| chr2:48808233_A_T  | - | 0 | 2 |  48808233 |  48808233 | - | Missense | A | T |\n",
       "| chr2:48809206_G_T  | - | 0 | 2 |  48809206 |  48809206 | - | Missense | G | T |\n",
       "\n"
      ],
      "text/plain": [
       "  Identifier         gene_name geneID Chromosome Start     End       dbSNPid\n",
       "1 chr1:75005934_T_G  -         0      1           75005934  75005934 -      \n",
       "2 chr1:155162039_C_A -         0      1          155162039 155162039 -      \n",
       "3 chr1:156212572_G_T -         0      1          156212572 156212572 -      \n",
       "4 chr2:18745293_G_C  -         0      2           18745293  18745293 -      \n",
       "5 chr2:48808233_A_T  -         0      2           48808233  48808233 -      \n",
       "6 chr2:48809206_G_T  -         0      2           48809206  48809206 -      \n",
       "  snpType  ref alt\n",
       "1 Missense T   G  \n",
       "2 Missense C   A  \n",
       "3 Missense G   T  \n",
       "4 Nonsense G   C  \n",
       "5 Missense A   T  \n",
       "6 Missense G   T  "
      ]
     },
     "metadata": {},
     "output_type": "display_data"
    },
    {
     "data": {
      "text/html": [
       "67"
      ],
      "text/latex": [
       "67"
      ],
      "text/markdown": [
       "67"
      ],
      "text/plain": [
       "[1] 67"
      ]
     },
     "metadata": {},
     "output_type": "display_data"
    }
   ],
   "source": [
    "head(remain_nogene[remain_nogene$dbSNPid=='-',])\n",
    "nrow(remain_nogene[remain_nogene$dbSNPid=='-',])"
   ]
  },
  {
   "cell_type": "code",
   "execution_count": 26,
   "id": "ae75bc97",
   "metadata": {},
   "outputs": [],
   "source": [
    "withgene <- rbind(rs_matched_rare_gene[,c(\"dbSNPid\", \"Identifier\", \"gene_name\", \"snpType\")],\n",
    "                 pos_matched_rare_gene[,c(\"dbSNPid\", \"Identifier\", \"gene_name\", \"snpType\")],\n",
    "                 remain_gene[,c(\"dbSNPid\", \"Identifier\", \"gene_name\", \"snpType\")])"
   ]
  },
  {
   "cell_type": "code",
   "execution_count": 27,
   "id": "0a66d1a0",
   "metadata": {},
   "outputs": [
    {
     "data": {
      "text/html": [
       "43128"
      ],
      "text/latex": [
       "43128"
      ],
      "text/markdown": [
       "43128"
      ],
      "text/plain": [
       "[1] 43128"
      ]
     },
     "metadata": {},
     "output_type": "display_data"
    },
    {
     "data": {
      "text/html": [
       "<table class=\"dataframe\">\n",
       "<caption>A data.table: 6 × 4</caption>\n",
       "<thead>\n",
       "\t<tr><th scope=col>dbSNPid</th><th scope=col>Identifier</th><th scope=col>gene_name</th><th scope=col>snpType</th></tr>\n",
       "\t<tr><th scope=col>&lt;chr&gt;</th><th scope=col>&lt;chr&gt;</th><th scope=col>&lt;chr&gt;</th><th scope=col>&lt;chr&gt;</th></tr>\n",
       "</thead>\n",
       "<tbody>\n",
       "\t<tr><td>rs10000692</td><td>chr4:122078317_T_C </td><td>TNIP3  </td><td>Missense</td></tr>\n",
       "\t<tr><td>rs10008444</td><td>chr4:48492434_G_C  </td><td>ZAR1   </td><td>Missense</td></tr>\n",
       "\t<tr><td>rs1000952 </td><td>chr3:183755822_G_A </td><td>HTR3D  </td><td>Missense</td></tr>\n",
       "\t<tr><td>rs1001178 </td><td>chr12:122691045_T_A</td><td>B3GNT4 </td><td>Missense</td></tr>\n",
       "\t<tr><td>rs10014170</td><td>chr4:40104051_A_G  </td><td>N4BP2  </td><td>Missense</td></tr>\n",
       "\t<tr><td>rs10016702</td><td>chr4:10447640_A_G  </td><td>ZNF518B</td><td>Missense</td></tr>\n",
       "</tbody>\n",
       "</table>\n"
      ],
      "text/latex": [
       "A data.table: 6 × 4\n",
       "\\begin{tabular}{llll}\n",
       " dbSNPid & Identifier & gene\\_name & snpType\\\\\n",
       " <chr> & <chr> & <chr> & <chr>\\\\\n",
       "\\hline\n",
       "\t rs10000692 & chr4:122078317\\_T\\_C  & TNIP3   & Missense\\\\\n",
       "\t rs10008444 & chr4:48492434\\_G\\_C   & ZAR1    & Missense\\\\\n",
       "\t rs1000952  & chr3:183755822\\_G\\_A  & HTR3D   & Missense\\\\\n",
       "\t rs1001178  & chr12:122691045\\_T\\_A & B3GNT4  & Missense\\\\\n",
       "\t rs10014170 & chr4:40104051\\_A\\_G   & N4BP2   & Missense\\\\\n",
       "\t rs10016702 & chr4:10447640\\_A\\_G   & ZNF518B & Missense\\\\\n",
       "\\end{tabular}\n"
      ],
      "text/markdown": [
       "\n",
       "A data.table: 6 × 4\n",
       "\n",
       "| dbSNPid &lt;chr&gt; | Identifier &lt;chr&gt; | gene_name &lt;chr&gt; | snpType &lt;chr&gt; |\n",
       "|---|---|---|---|\n",
       "| rs10000692 | chr4:122078317_T_C  | TNIP3   | Missense |\n",
       "| rs10008444 | chr4:48492434_G_C   | ZAR1    | Missense |\n",
       "| rs1000952  | chr3:183755822_G_A  | HTR3D   | Missense |\n",
       "| rs1001178  | chr12:122691045_T_A | B3GNT4  | Missense |\n",
       "| rs10014170 | chr4:40104051_A_G   | N4BP2   | Missense |\n",
       "| rs10016702 | chr4:10447640_A_G   | ZNF518B | Missense |\n",
       "\n"
      ],
      "text/plain": [
       "  dbSNPid    Identifier          gene_name snpType \n",
       "1 rs10000692 chr4:122078317_T_C  TNIP3     Missense\n",
       "2 rs10008444 chr4:48492434_G_C   ZAR1      Missense\n",
       "3 rs1000952  chr3:183755822_G_A  HTR3D     Missense\n",
       "4 rs1001178  chr12:122691045_T_A B3GNT4    Missense\n",
       "5 rs10014170 chr4:40104051_A_G   N4BP2     Missense\n",
       "6 rs10016702 chr4:10447640_A_G   ZNF518B   Missense"
      ]
     },
     "metadata": {},
     "output_type": "display_data"
    },
    {
     "data": {
      "text/html": [
       "43128"
      ],
      "text/latex": [
       "43128"
      ],
      "text/markdown": [
       "43128"
      ],
      "text/plain": [
       "[1] 43128"
      ]
     },
     "metadata": {},
     "output_type": "display_data"
    }
   ],
   "source": [
    "nrow(withgene)\n",
    "head(withgene)\n",
    "length(unique(withgene$Identifier))"
   ]
  },
  {
   "cell_type": "code",
   "execution_count": 28,
   "id": "cb22d684",
   "metadata": {},
   "outputs": [],
   "source": [
    "write.csv(withgene, \"withgene.csv\", row.names=FALSE, quote=FALSE)"
   ]
  },
  {
   "cell_type": "code",
   "execution_count": 29,
   "id": "dd3079d7",
   "metadata": {},
   "outputs": [],
   "source": [
    "without_gene <- rbind(rs_matched_rare_nogene[,c(\"dbSNPid\", \"Identifier\", \"gene_name\", \"snpType\")],\n",
    "                 pos_matched_rare_nogene[,c(\"dbSNPid\", \"Identifier\", \"gene_name\", \"snpType\")],\n",
    "                 remain_nogene[,c(\"dbSNPid\", \"Identifier\", \"gene_name\", \"snpType\")])"
   ]
  },
  {
   "cell_type": "code",
   "execution_count": 30,
   "id": "21a2f357",
   "metadata": {},
   "outputs": [
    {
     "data": {
      "text/html": [
       "<table class=\"dataframe\">\n",
       "<caption>A data.table: 6 × 4</caption>\n",
       "<thead>\n",
       "\t<tr><th scope=col>dbSNPid</th><th scope=col>Identifier</th><th scope=col>gene_name</th><th scope=col>snpType</th></tr>\n",
       "\t<tr><th scope=col>&lt;chr&gt;</th><th scope=col>&lt;chr&gt;</th><th scope=col>&lt;chr&gt;</th><th scope=col>&lt;chr&gt;</th></tr>\n",
       "</thead>\n",
       "<tbody>\n",
       "\t<tr><td>rs10265    </td><td>chr7:139026152_T_G</td><td>-</td><td>Missense</td></tr>\n",
       "\t<tr><td>rs1052053  </td><td>chr1:156202173_A_G</td><td>-</td><td>Missense</td></tr>\n",
       "\t<tr><td>rs10896517 </td><td>chr11:56468561_A_G</td><td>-</td><td>Missense</td></tr>\n",
       "\t<tr><td>rs113336462</td><td>chrX:101970662_A_G</td><td>-</td><td>Missense</td></tr>\n",
       "\t<tr><td>rs114861534</td><td>chr9:112899430_C_T</td><td>-</td><td>Missense</td></tr>\n",
       "\t<tr><td>rs11540816 </td><td>chr1:156206181_C_T</td><td>-</td><td>Missense</td></tr>\n",
       "</tbody>\n",
       "</table>\n"
      ],
      "text/latex": [
       "A data.table: 6 × 4\n",
       "\\begin{tabular}{llll}\n",
       " dbSNPid & Identifier & gene\\_name & snpType\\\\\n",
       " <chr> & <chr> & <chr> & <chr>\\\\\n",
       "\\hline\n",
       "\t rs10265     & chr7:139026152\\_T\\_G & - & Missense\\\\\n",
       "\t rs1052053   & chr1:156202173\\_A\\_G & - & Missense\\\\\n",
       "\t rs10896517  & chr11:56468561\\_A\\_G & - & Missense\\\\\n",
       "\t rs113336462 & chrX:101970662\\_A\\_G & - & Missense\\\\\n",
       "\t rs114861534 & chr9:112899430\\_C\\_T & - & Missense\\\\\n",
       "\t rs11540816  & chr1:156206181\\_C\\_T & - & Missense\\\\\n",
       "\\end{tabular}\n"
      ],
      "text/markdown": [
       "\n",
       "A data.table: 6 × 4\n",
       "\n",
       "| dbSNPid &lt;chr&gt; | Identifier &lt;chr&gt; | gene_name &lt;chr&gt; | snpType &lt;chr&gt; |\n",
       "|---|---|---|---|\n",
       "| rs10265     | chr7:139026152_T_G | - | Missense |\n",
       "| rs1052053   | chr1:156202173_A_G | - | Missense |\n",
       "| rs10896517  | chr11:56468561_A_G | - | Missense |\n",
       "| rs113336462 | chrX:101970662_A_G | - | Missense |\n",
       "| rs114861534 | chr9:112899430_C_T | - | Missense |\n",
       "| rs11540816  | chr1:156206181_C_T | - | Missense |\n",
       "\n"
      ],
      "text/plain": [
       "  dbSNPid     Identifier         gene_name snpType \n",
       "1 rs10265     chr7:139026152_T_G -         Missense\n",
       "2 rs1052053   chr1:156202173_A_G -         Missense\n",
       "3 rs10896517  chr11:56468561_A_G -         Missense\n",
       "4 rs113336462 chrX:101970662_A_G -         Missense\n",
       "5 rs114861534 chr9:112899430_C_T -         Missense\n",
       "6 rs11540816  chr1:156206181_C_T -         Missense"
      ]
     },
     "metadata": {},
     "output_type": "display_data"
    },
    {
     "data": {
      "text/html": [
       "214"
      ],
      "text/latex": [
       "214"
      ],
      "text/markdown": [
       "214"
      ],
      "text/plain": [
       "[1] 214"
      ]
     },
     "metadata": {},
     "output_type": "display_data"
    }
   ],
   "source": [
    "head(without_gene)\n",
    "nrow(without_gene)"
   ]
  },
  {
   "cell_type": "code",
   "execution_count": 31,
   "id": "b4c747d1",
   "metadata": {},
   "outputs": [
    {
     "data": {
      "text/html": [
       "148"
      ],
      "text/latex": [
       "148"
      ],
      "text/markdown": [
       "148"
      ],
      "text/plain": [
       "[1] 148"
      ]
     },
     "metadata": {},
     "output_type": "display_data"
    }
   ],
   "source": [
    "without_gene_rsid <- unique(without_gene$dbSNPid)\n",
    "length(without_gene_rsid)"
   ]
  },
  {
   "cell_type": "code",
   "execution_count": 32,
   "id": "7056890d",
   "metadata": {},
   "outputs": [],
   "source": [
    "write.csv(without_gene_rsid, \"rsid.csv\", row.names=FALSE, quote=FALSE)"
   ]
  },
  {
   "cell_type": "code",
   "execution_count": 33,
   "id": "448e1c4d",
   "metadata": {
    "scrolled": true
   },
   "outputs": [
    {
     "data": {
      "text/html": [
       "<table class=\"dataframe\">\n",
       "<caption>A data.table: 6 × 4</caption>\n",
       "<thead>\n",
       "\t<tr><th scope=col>dbSNPid</th><th scope=col>Identifier</th><th scope=col>gene_name</th><th scope=col>snpType</th></tr>\n",
       "\t<tr><th scope=col>&lt;chr&gt;</th><th scope=col>&lt;chr&gt;</th><th scope=col>&lt;chr&gt;</th><th scope=col>&lt;chr&gt;</th></tr>\n",
       "</thead>\n",
       "<tbody>\n",
       "\t<tr><td>-</td><td>chr1:75005934_T_G </td><td>-</td><td>Missense</td></tr>\n",
       "\t<tr><td>-</td><td>chr1:155162039_C_A</td><td>-</td><td>Missense</td></tr>\n",
       "\t<tr><td>-</td><td>chr1:156212572_G_T</td><td>-</td><td>Missense</td></tr>\n",
       "\t<tr><td>-</td><td>chr2:18745293_G_C </td><td>-</td><td>Nonsense</td></tr>\n",
       "\t<tr><td>-</td><td>chr2:48808233_A_T </td><td>-</td><td>Missense</td></tr>\n",
       "\t<tr><td>-</td><td>chr2:48809206_G_T </td><td>-</td><td>Missense</td></tr>\n",
       "</tbody>\n",
       "</table>\n"
      ],
      "text/latex": [
       "A data.table: 6 × 4\n",
       "\\begin{tabular}{llll}\n",
       " dbSNPid & Identifier & gene\\_name & snpType\\\\\n",
       " <chr> & <chr> & <chr> & <chr>\\\\\n",
       "\\hline\n",
       "\t - & chr1:75005934\\_T\\_G  & - & Missense\\\\\n",
       "\t - & chr1:155162039\\_C\\_A & - & Missense\\\\\n",
       "\t - & chr1:156212572\\_G\\_T & - & Missense\\\\\n",
       "\t - & chr2:18745293\\_G\\_C  & - & Nonsense\\\\\n",
       "\t - & chr2:48808233\\_A\\_T  & - & Missense\\\\\n",
       "\t - & chr2:48809206\\_G\\_T  & - & Missense\\\\\n",
       "\\end{tabular}\n"
      ],
      "text/markdown": [
       "\n",
       "A data.table: 6 × 4\n",
       "\n",
       "| dbSNPid &lt;chr&gt; | Identifier &lt;chr&gt; | gene_name &lt;chr&gt; | snpType &lt;chr&gt; |\n",
       "|---|---|---|---|\n",
       "| - | chr1:75005934_T_G  | - | Missense |\n",
       "| - | chr1:155162039_C_A | - | Missense |\n",
       "| - | chr1:156212572_G_T | - | Missense |\n",
       "| - | chr2:18745293_G_C  | - | Nonsense |\n",
       "| - | chr2:48808233_A_T  | - | Missense |\n",
       "| - | chr2:48809206_G_T  | - | Missense |\n",
       "\n"
      ],
      "text/plain": [
       "  dbSNPid Identifier         gene_name snpType \n",
       "1 -       chr1:75005934_T_G  -         Missense\n",
       "2 -       chr1:155162039_C_A -         Missense\n",
       "3 -       chr1:156212572_G_T -         Missense\n",
       "4 -       chr2:18745293_G_C  -         Nonsense\n",
       "5 -       chr2:48808233_A_T  -         Missense\n",
       "6 -       chr2:48809206_G_T  -         Missense"
      ]
     },
     "metadata": {},
     "output_type": "display_data"
    },
    {
     "data": {
      "text/html": [
       "67"
      ],
      "text/latex": [
       "67"
      ],
      "text/markdown": [
       "67"
      ],
      "text/plain": [
       "[1] 67"
      ]
     },
     "metadata": {},
     "output_type": "display_data"
    }
   ],
   "source": [
    "head(without_gene[without_gene$dbSNPid=='-',])\n",
    "nrow(without_gene[without_gene$dbSNPid=='-',])"
   ]
  },
  {
   "cell_type": "code",
   "execution_count": 34,
   "id": "67a58c4a",
   "metadata": {},
   "outputs": [
    {
     "data": {
      "text/html": [
       "352"
      ],
      "text/latex": [
       "352"
      ],
      "text/markdown": [
       "352"
      ],
      "text/plain": [
       "[1] 352"
      ]
     },
     "metadata": {},
     "output_type": "display_data"
    },
    {
     "data": {
      "text/html": [
       "<table class=\"dataframe\">\n",
       "<caption>A data.table: 6 × 3</caption>\n",
       "<thead>\n",
       "\t<tr><th scope=col>dbSNPid</th><th scope=col>POS</th><th scope=col>gene_symbol</th></tr>\n",
       "\t<tr><th scope=col>&lt;chr&gt;</th><th scope=col>&lt;chr&gt;</th><th scope=col>&lt;chr&gt;</th></tr>\n",
       "</thead>\n",
       "<tbody>\n",
       "\t<tr><td>rs200318618</td><td>1:74716374-74716374</td><td>TNNI3K      </td></tr>\n",
       "\t<tr><td>rs200318618</td><td>1:74716374-74716374</td><td>FPGT-TNNI3K </td></tr>\n",
       "\t<tr><td>rs149949210</td><td>1:74819664-74819664</td><td>TNNI3K      </td></tr>\n",
       "\t<tr><td>rs149949210</td><td>1:74819664-74819664</td><td>FPGT-TNNI3K </td></tr>\n",
       "\t<tr><td>rs149949210</td><td>1:74819664-74819664</td><td>RP11-439H8.4</td></tr>\n",
       "\t<tr><td>rs76686923 </td><td>1:74819748-74819748</td><td>TNNI3K      </td></tr>\n",
       "</tbody>\n",
       "</table>\n"
      ],
      "text/latex": [
       "A data.table: 6 × 3\n",
       "\\begin{tabular}{lll}\n",
       " dbSNPid & POS & gene\\_symbol\\\\\n",
       " <chr> & <chr> & <chr>\\\\\n",
       "\\hline\n",
       "\t rs200318618 & 1:74716374-74716374 & TNNI3K      \\\\\n",
       "\t rs200318618 & 1:74716374-74716374 & FPGT-TNNI3K \\\\\n",
       "\t rs149949210 & 1:74819664-74819664 & TNNI3K      \\\\\n",
       "\t rs149949210 & 1:74819664-74819664 & FPGT-TNNI3K \\\\\n",
       "\t rs149949210 & 1:74819664-74819664 & RP11-439H8.4\\\\\n",
       "\t rs76686923  & 1:74819748-74819748 & TNNI3K      \\\\\n",
       "\\end{tabular}\n"
      ],
      "text/markdown": [
       "\n",
       "A data.table: 6 × 3\n",
       "\n",
       "| dbSNPid &lt;chr&gt; | POS &lt;chr&gt; | gene_symbol &lt;chr&gt; |\n",
       "|---|---|---|\n",
       "| rs200318618 | 1:74716374-74716374 | TNNI3K       |\n",
       "| rs200318618 | 1:74716374-74716374 | FPGT-TNNI3K  |\n",
       "| rs149949210 | 1:74819664-74819664 | TNNI3K       |\n",
       "| rs149949210 | 1:74819664-74819664 | FPGT-TNNI3K  |\n",
       "| rs149949210 | 1:74819664-74819664 | RP11-439H8.4 |\n",
       "| rs76686923  | 1:74819748-74819748 | TNNI3K       |\n",
       "\n"
      ],
      "text/plain": [
       "  dbSNPid     POS                 gene_symbol \n",
       "1 rs200318618 1:74716374-74716374 TNNI3K      \n",
       "2 rs200318618 1:74716374-74716374 FPGT-TNNI3K \n",
       "3 rs149949210 1:74819664-74819664 TNNI3K      \n",
       "4 rs149949210 1:74819664-74819664 FPGT-TNNI3K \n",
       "5 rs149949210 1:74819664-74819664 RP11-439H8.4\n",
       "6 rs76686923  1:74819748-74819748 TNNI3K      "
      ]
     },
     "metadata": {},
     "output_type": "display_data"
    }
   ],
   "source": [
    "withoutgene_vep <- fread(\"withoutgene_vep.txt\")\n",
    "withoutgene_vep <- withoutgene_vep[, c(1,2,6)]\n",
    "colnames(withoutgene_vep) <- c(\"dbSNPid\", \"POS\", \"gene_symbol\")\n",
    "withoutgene_vep <- withoutgene_vep[!duplicated(withoutgene_vep),]\n",
    "withoutgene_vep <- withoutgene_vep[withoutgene_vep $gene_symbol!='-',]\n",
    "withoutgene_vep <- withoutgene_vep[!startsWith(withoutgene_vep$POS, \"HG\"),]\n",
    "nrow(withoutgene_vep)\n",
    "head(withoutgene_vep)"
   ]
  },
  {
   "cell_type": "code",
   "execution_count": 35,
   "id": "437b9de7",
   "metadata": {},
   "outputs": [
    {
     "data": {
      "text/html": [
       "<table class=\"dataframe\">\n",
       "<caption>A data.table: 6 × 4</caption>\n",
       "<thead>\n",
       "\t<tr><th scope=col>dbSNPid</th><th scope=col>Identifier</th><th scope=col>gene_name</th><th scope=col>snpType</th></tr>\n",
       "\t<tr><th scope=col>&lt;chr&gt;</th><th scope=col>&lt;chr&gt;</th><th scope=col>&lt;chr&gt;</th><th scope=col>&lt;chr&gt;</th></tr>\n",
       "</thead>\n",
       "<tbody>\n",
       "\t<tr><td>-          </td><td>chr10:22607063_G_A</td><td>-          </td><td>Missense</td></tr>\n",
       "\t<tr><td>rs369311018</td><td>chr10:22607893_T_C</td><td>BMI1       </td><td>Missense</td></tr>\n",
       "\t<tr><td>rs369311018</td><td>chr10:22607893_T_C</td><td>COMMD3     </td><td>Missense</td></tr>\n",
       "\t<tr><td>rs369311018</td><td>chr10:22607893_T_C</td><td>COMMD3-BMI1</td><td>Missense</td></tr>\n",
       "\t<tr><td>-          </td><td>chr10:22618232_G_A</td><td>-          </td><td>Missense</td></tr>\n",
       "\t<tr><td>-          </td><td>chr10:22618256_G_T</td><td>-          </td><td>Missense</td></tr>\n",
       "</tbody>\n",
       "</table>\n"
      ],
      "text/latex": [
       "A data.table: 6 × 4\n",
       "\\begin{tabular}{llll}\n",
       " dbSNPid & Identifier & gene\\_name & snpType\\\\\n",
       " <chr> & <chr> & <chr> & <chr>\\\\\n",
       "\\hline\n",
       "\t -           & chr10:22607063\\_G\\_A & -           & Missense\\\\\n",
       "\t rs369311018 & chr10:22607893\\_T\\_C & BMI1        & Missense\\\\\n",
       "\t rs369311018 & chr10:22607893\\_T\\_C & COMMD3      & Missense\\\\\n",
       "\t rs369311018 & chr10:22607893\\_T\\_C & COMMD3-BMI1 & Missense\\\\\n",
       "\t -           & chr10:22618232\\_G\\_A & -           & Missense\\\\\n",
       "\t -           & chr10:22618256\\_G\\_T & -           & Missense\\\\\n",
       "\\end{tabular}\n"
      ],
      "text/markdown": [
       "\n",
       "A data.table: 6 × 4\n",
       "\n",
       "| dbSNPid &lt;chr&gt; | Identifier &lt;chr&gt; | gene_name &lt;chr&gt; | snpType &lt;chr&gt; |\n",
       "|---|---|---|---|\n",
       "| -           | chr10:22607063_G_A | -           | Missense |\n",
       "| rs369311018 | chr10:22607893_T_C | BMI1        | Missense |\n",
       "| rs369311018 | chr10:22607893_T_C | COMMD3      | Missense |\n",
       "| rs369311018 | chr10:22607893_T_C | COMMD3-BMI1 | Missense |\n",
       "| -           | chr10:22618232_G_A | -           | Missense |\n",
       "| -           | chr10:22618256_G_T | -           | Missense |\n",
       "\n"
      ],
      "text/plain": [
       "  dbSNPid     Identifier         gene_name   snpType \n",
       "1 -           chr10:22607063_G_A -           Missense\n",
       "2 rs369311018 chr10:22607893_T_C BMI1        Missense\n",
       "3 rs369311018 chr10:22607893_T_C COMMD3      Missense\n",
       "4 rs369311018 chr10:22607893_T_C COMMD3-BMI1 Missense\n",
       "5 -           chr10:22618232_G_A -           Missense\n",
       "6 -           chr10:22618256_G_T -           Missense"
      ]
     },
     "metadata": {},
     "output_type": "display_data"
    }
   ],
   "source": [
    "without_gene_annotated <- merge(without_gene, withoutgene_vep, all.x=TRUE)\n",
    "without_gene_annotated <- without_gene_annotated[order(without_gene_annotated$Identifier),]\n",
    "without_gene_annotated$gene_name <- without_gene_annotated$gene_symbol\n",
    "without_gene_annotated <- without_gene_annotated[, -c(5,6)]\n",
    "without_gene_annotated[is.na(without_gene_annotated)] <- '-'\n",
    "head(without_gene_annotated)"
   ]
  },
  {
   "cell_type": "code",
   "execution_count": 36,
   "id": "80147a4a",
   "metadata": {},
   "outputs": [
    {
     "data": {
      "text/html": [
       "<table class=\"dataframe\">\n",
       "<caption>A data.table: 6 × 4</caption>\n",
       "<thead>\n",
       "\t<tr><th scope=col>dbSNPid</th><th scope=col>Identifier</th><th scope=col>gene_name</th><th scope=col>snpType</th></tr>\n",
       "\t<tr><th scope=col>&lt;chr&gt;</th><th scope=col>&lt;chr&gt;</th><th scope=col>&lt;chr&gt;</th><th scope=col>&lt;chr&gt;</th></tr>\n",
       "</thead>\n",
       "<tbody>\n",
       "\t<tr><td>-</td><td>chr10:22607063_G_A</td><td>-</td><td>Missense</td></tr>\n",
       "\t<tr><td>-</td><td>chr10:22618232_G_A</td><td>-</td><td>Missense</td></tr>\n",
       "\t<tr><td>-</td><td>chr10:22618256_G_T</td><td>-</td><td>Missense</td></tr>\n",
       "\t<tr><td>-</td><td>chr11:193788_G_T  </td><td>-</td><td>Missense</td></tr>\n",
       "\t<tr><td>-</td><td>chr11:194439_G_A  </td><td>-</td><td>Missense</td></tr>\n",
       "\t<tr><td>-</td><td>chr11:56143354_C_A</td><td>-</td><td>Missense</td></tr>\n",
       "</tbody>\n",
       "</table>\n"
      ],
      "text/latex": [
       "A data.table: 6 × 4\n",
       "\\begin{tabular}{llll}\n",
       " dbSNPid & Identifier & gene\\_name & snpType\\\\\n",
       " <chr> & <chr> & <chr> & <chr>\\\\\n",
       "\\hline\n",
       "\t - & chr10:22607063\\_G\\_A & - & Missense\\\\\n",
       "\t - & chr10:22618232\\_G\\_A & - & Missense\\\\\n",
       "\t - & chr10:22618256\\_G\\_T & - & Missense\\\\\n",
       "\t - & chr11:193788\\_G\\_T   & - & Missense\\\\\n",
       "\t - & chr11:194439\\_G\\_A   & - & Missense\\\\\n",
       "\t - & chr11:56143354\\_C\\_A & - & Missense\\\\\n",
       "\\end{tabular}\n"
      ],
      "text/markdown": [
       "\n",
       "A data.table: 6 × 4\n",
       "\n",
       "| dbSNPid &lt;chr&gt; | Identifier &lt;chr&gt; | gene_name &lt;chr&gt; | snpType &lt;chr&gt; |\n",
       "|---|---|---|---|\n",
       "| - | chr10:22607063_G_A | - | Missense |\n",
       "| - | chr10:22618232_G_A | - | Missense |\n",
       "| - | chr10:22618256_G_T | - | Missense |\n",
       "| - | chr11:193788_G_T   | - | Missense |\n",
       "| - | chr11:194439_G_A   | - | Missense |\n",
       "| - | chr11:56143354_C_A | - | Missense |\n",
       "\n"
      ],
      "text/plain": [
       "  dbSNPid Identifier         gene_name snpType \n",
       "1 -       chr10:22607063_G_A -         Missense\n",
       "2 -       chr10:22618232_G_A -         Missense\n",
       "3 -       chr10:22618256_G_T -         Missense\n",
       "4 -       chr11:193788_G_T   -         Missense\n",
       "5 -       chr11:194439_G_A   -         Missense\n",
       "6 -       chr11:56143354_C_A -         Missense"
      ]
     },
     "metadata": {},
     "output_type": "display_data"
    },
    {
     "data": {
      "text/html": [
       "67"
      ],
      "text/latex": [
       "67"
      ],
      "text/markdown": [
       "67"
      ],
      "text/plain": [
       "[1] 67"
      ]
     },
     "metadata": {},
     "output_type": "display_data"
    }
   ],
   "source": [
    "head(without_gene_annotated[without_gene_annotated$gene_name=='-',])\n",
    "nrow(without_gene_annotated[without_gene_annotated$gene_name=='-',])"
   ]
  },
  {
   "cell_type": "code",
   "execution_count": 37,
   "id": "827db993",
   "metadata": {},
   "outputs": [
    {
     "data": {
      "text/html": [
       "<table class=\"dataframe\">\n",
       "<caption>A data.table: 6 × 4</caption>\n",
       "<thead>\n",
       "\t<tr><th scope=col>Identifier</th><th scope=col>dbSNPid</th><th scope=col>gene_name</th><th scope=col>snpType</th></tr>\n",
       "\t<tr><th scope=col>&lt;chr&gt;</th><th scope=col>&lt;chr&gt;</th><th scope=col>&lt;chr&gt;</th><th scope=col>&lt;chr&gt;</th></tr>\n",
       "</thead>\n",
       "<tbody>\n",
       "\t<tr><td>chr10:22607063_G_A</td><td>-</td><td>COMMD3     </td><td>Missense</td></tr>\n",
       "\t<tr><td>chr10:22618232_G_A</td><td>-</td><td>COMMD3     </td><td>Missense</td></tr>\n",
       "\t<tr><td>chr10:22618232_G_A</td><td>-</td><td>COMMD3-BMI1</td><td>Missense</td></tr>\n",
       "\t<tr><td>chr10:22618256_G_T</td><td>-</td><td>COMMD3     </td><td>Missense</td></tr>\n",
       "\t<tr><td>chr10:22618256_G_T</td><td>-</td><td>COMMD3-BMI1</td><td>Missense</td></tr>\n",
       "\t<tr><td>chr11:193788_G_T  </td><td>-</td><td>SCGB1C1    </td><td>Missense</td></tr>\n",
       "</tbody>\n",
       "</table>\n"
      ],
      "text/latex": [
       "A data.table: 6 × 4\n",
       "\\begin{tabular}{llll}\n",
       " Identifier & dbSNPid & gene\\_name & snpType\\\\\n",
       " <chr> & <chr> & <chr> & <chr>\\\\\n",
       "\\hline\n",
       "\t chr10:22607063\\_G\\_A & - & COMMD3      & Missense\\\\\n",
       "\t chr10:22618232\\_G\\_A & - & COMMD3      & Missense\\\\\n",
       "\t chr10:22618232\\_G\\_A & - & COMMD3-BMI1 & Missense\\\\\n",
       "\t chr10:22618256\\_G\\_T & - & COMMD3      & Missense\\\\\n",
       "\t chr10:22618256\\_G\\_T & - & COMMD3-BMI1 & Missense\\\\\n",
       "\t chr11:193788\\_G\\_T   & - & SCGB1C1     & Missense\\\\\n",
       "\\end{tabular}\n"
      ],
      "text/markdown": [
       "\n",
       "A data.table: 6 × 4\n",
       "\n",
       "| Identifier &lt;chr&gt; | dbSNPid &lt;chr&gt; | gene_name &lt;chr&gt; | snpType &lt;chr&gt; |\n",
       "|---|---|---|---|\n",
       "| chr10:22607063_G_A | - | COMMD3      | Missense |\n",
       "| chr10:22618232_G_A | - | COMMD3      | Missense |\n",
       "| chr10:22618232_G_A | - | COMMD3-BMI1 | Missense |\n",
       "| chr10:22618256_G_T | - | COMMD3      | Missense |\n",
       "| chr10:22618256_G_T | - | COMMD3-BMI1 | Missense |\n",
       "| chr11:193788_G_T   | - | SCGB1C1     | Missense |\n",
       "\n"
      ],
      "text/plain": [
       "  Identifier         dbSNPid gene_name   snpType \n",
       "1 chr10:22607063_G_A -       COMMD3      Missense\n",
       "2 chr10:22618232_G_A -       COMMD3      Missense\n",
       "3 chr10:22618232_G_A -       COMMD3-BMI1 Missense\n",
       "4 chr10:22618256_G_T -       COMMD3      Missense\n",
       "5 chr10:22618256_G_T -       COMMD3-BMI1 Missense\n",
       "6 chr11:193788_G_T   -       SCGB1C1     Missense"
      ]
     },
     "metadata": {},
     "output_type": "display_data"
    },
    {
     "data": {
      "text/html": [
       "73"
      ],
      "text/latex": [
       "73"
      ],
      "text/markdown": [
       "73"
      ],
      "text/plain": [
       "[1] 73"
      ]
     },
     "metadata": {},
     "output_type": "display_data"
    }
   ],
   "source": [
    "self_annotate <- fread(\"self_annotate.csv\")\n",
    "self_annotate<- merge(self_annotate, without_gene_annotated)\n",
    "self_annotate$gene_name <-  self_annotate$gene_symbol\n",
    "self_annotate <- self_annotate[, -2]\n",
    "head(self_annotate)\n",
    "nrow(self_annotate)"
   ]
  },
  {
   "cell_type": "code",
   "execution_count": 38,
   "id": "8c052185",
   "metadata": {},
   "outputs": [
    {
     "data": {
      "text/html": [
       "214"
      ],
      "text/latex": [
       "214"
      ],
      "text/markdown": [
       "214"
      ],
      "text/plain": [
       "[1] 214"
      ]
     },
     "metadata": {},
     "output_type": "display_data"
    },
    {
     "data": {
      "text/html": [
       "66"
      ],
      "text/latex": [
       "66"
      ],
      "text/markdown": [
       "66"
      ],
      "text/plain": [
       "[1] 66"
      ]
     },
     "metadata": {},
     "output_type": "display_data"
    },
    {
     "data": {
      "text/html": [
       "147"
      ],
      "text/latex": [
       "147"
      ],
      "text/markdown": [
       "147"
      ],
      "text/plain": [
       "[1] 147"
      ]
     },
     "metadata": {},
     "output_type": "display_data"
    }
   ],
   "source": [
    "length(unique(without_gene$Identifier))\n",
    "length(unique(self_annotate$Identifier))\n",
    "length(unique(without_gene_annotated[without_gene_annotated$gene_name!='-',]$Identifier))"
   ]
  },
  {
   "cell_type": "code",
   "execution_count": 39,
   "id": "314518d0",
   "metadata": {},
   "outputs": [
    {
     "data": {
      "text/html": [
       "'chr2:160673483_*_-A'"
      ],
      "text/latex": [
       "'chr2:160673483\\_*\\_-A'"
      ],
      "text/markdown": [
       "'chr2:160673483_*_-A'"
      ],
      "text/plain": [
       "[1] \"chr2:160673483_*_-A\""
      ]
     },
     "metadata": {},
     "output_type": "display_data"
    }
   ],
   "source": [
    "setdiff(unique(without_gene$Identifier), union(unique(self_annotate$Identifier), unique(without_gene_annotated[without_gene_annotated$gene_name!='-',]$Identifier)) )\n",
    "#chr2:160673483_*_-A no gnomad variant info, remove"
   ]
  },
  {
   "cell_type": "code",
   "execution_count": 40,
   "id": "592fa87a",
   "metadata": {},
   "outputs": [
    {
     "data": {
      "text/html": [
       "<table class=\"dataframe\">\n",
       "<caption>A data.table: 6 × 4</caption>\n",
       "<thead>\n",
       "\t<tr><th scope=col>Identifier</th><th scope=col>dbSNPid</th><th scope=col>gene_name</th><th scope=col>snpType</th></tr>\n",
       "\t<tr><th scope=col>&lt;chr&gt;</th><th scope=col>&lt;chr&gt;</th><th scope=col>&lt;chr&gt;</th><th scope=col>&lt;chr&gt;</th></tr>\n",
       "</thead>\n",
       "<tbody>\n",
       "\t<tr><td>chr10:22607063_G_A</td><td>-</td><td>COMMD3     </td><td>Missense</td></tr>\n",
       "\t<tr><td>chr10:22618232_G_A</td><td>-</td><td>COMMD3     </td><td>Missense</td></tr>\n",
       "\t<tr><td>chr10:22618232_G_A</td><td>-</td><td>COMMD3-BMI1</td><td>Missense</td></tr>\n",
       "\t<tr><td>chr10:22618256_G_T</td><td>-</td><td>COMMD3     </td><td>Missense</td></tr>\n",
       "\t<tr><td>chr10:22618256_G_T</td><td>-</td><td>COMMD3-BMI1</td><td>Missense</td></tr>\n",
       "\t<tr><td>chr11:193788_G_T  </td><td>-</td><td>SCGB1C1    </td><td>Missense</td></tr>\n",
       "</tbody>\n",
       "</table>\n"
      ],
      "text/latex": [
       "A data.table: 6 × 4\n",
       "\\begin{tabular}{llll}\n",
       " Identifier & dbSNPid & gene\\_name & snpType\\\\\n",
       " <chr> & <chr> & <chr> & <chr>\\\\\n",
       "\\hline\n",
       "\t chr10:22607063\\_G\\_A & - & COMMD3      & Missense\\\\\n",
       "\t chr10:22618232\\_G\\_A & - & COMMD3      & Missense\\\\\n",
       "\t chr10:22618232\\_G\\_A & - & COMMD3-BMI1 & Missense\\\\\n",
       "\t chr10:22618256\\_G\\_T & - & COMMD3      & Missense\\\\\n",
       "\t chr10:22618256\\_G\\_T & - & COMMD3-BMI1 & Missense\\\\\n",
       "\t chr11:193788\\_G\\_T   & - & SCGB1C1     & Missense\\\\\n",
       "\\end{tabular}\n"
      ],
      "text/markdown": [
       "\n",
       "A data.table: 6 × 4\n",
       "\n",
       "| Identifier &lt;chr&gt; | dbSNPid &lt;chr&gt; | gene_name &lt;chr&gt; | snpType &lt;chr&gt; |\n",
       "|---|---|---|---|\n",
       "| chr10:22607063_G_A | - | COMMD3      | Missense |\n",
       "| chr10:22618232_G_A | - | COMMD3      | Missense |\n",
       "| chr10:22618232_G_A | - | COMMD3-BMI1 | Missense |\n",
       "| chr10:22618256_G_T | - | COMMD3      | Missense |\n",
       "| chr10:22618256_G_T | - | COMMD3-BMI1 | Missense |\n",
       "| chr11:193788_G_T   | - | SCGB1C1     | Missense |\n",
       "\n"
      ],
      "text/plain": [
       "  Identifier         dbSNPid gene_name   snpType \n",
       "1 chr10:22607063_G_A -       COMMD3      Missense\n",
       "2 chr10:22618232_G_A -       COMMD3      Missense\n",
       "3 chr10:22618232_G_A -       COMMD3-BMI1 Missense\n",
       "4 chr10:22618256_G_T -       COMMD3      Missense\n",
       "5 chr10:22618256_G_T -       COMMD3-BMI1 Missense\n",
       "6 chr11:193788_G_T   -       SCGB1C1     Missense"
      ]
     },
     "metadata": {},
     "output_type": "display_data"
    },
    {
     "data": {
      "text/html": [
       "425"
      ],
      "text/latex": [
       "425"
      ],
      "text/markdown": [
       "425"
      ],
      "text/plain": [
       "[1] 425"
      ]
     },
     "metadata": {},
     "output_type": "display_data"
    }
   ],
   "source": [
    "without_gene <- rbind(self_annotate, without_gene_annotated[without_gene_annotated$gene_name!='-',])\n",
    "head(without_gene )\n",
    "nrow(without_gene )"
   ]
  },
  {
   "cell_type": "code",
   "execution_count": 42,
   "id": "f9f77774",
   "metadata": {},
   "outputs": [
    {
     "data": {
      "text/html": [
       "<table class=\"dataframe\">\n",
       "<caption>A data.table: 6 × 4</caption>\n",
       "<thead>\n",
       "\t<tr><th scope=col>dbSNPid</th><th scope=col>Identifier</th><th scope=col>gene_name</th><th scope=col>snpType</th></tr>\n",
       "\t<tr><th scope=col>&lt;chr&gt;</th><th scope=col>&lt;chr&gt;</th><th scope=col>&lt;chr&gt;</th><th scope=col>&lt;chr&gt;</th></tr>\n",
       "</thead>\n",
       "<tbody>\n",
       "\t<tr><td>rs10000692</td><td>chr4:122078317_T_C </td><td>TNIP3  </td><td>Missense</td></tr>\n",
       "\t<tr><td>rs10008444</td><td>chr4:48492434_G_C  </td><td>ZAR1   </td><td>Missense</td></tr>\n",
       "\t<tr><td>rs1000952 </td><td>chr3:183755822_G_A </td><td>HTR3D  </td><td>Missense</td></tr>\n",
       "\t<tr><td>rs1001178 </td><td>chr12:122691045_T_A</td><td>B3GNT4 </td><td>Missense</td></tr>\n",
       "\t<tr><td>rs10014170</td><td>chr4:40104051_A_G  </td><td>N4BP2  </td><td>Missense</td></tr>\n",
       "\t<tr><td>rs10016702</td><td>chr4:10447640_A_G  </td><td>ZNF518B</td><td>Missense</td></tr>\n",
       "</tbody>\n",
       "</table>\n"
      ],
      "text/latex": [
       "A data.table: 6 × 4\n",
       "\\begin{tabular}{llll}\n",
       " dbSNPid & Identifier & gene\\_name & snpType\\\\\n",
       " <chr> & <chr> & <chr> & <chr>\\\\\n",
       "\\hline\n",
       "\t rs10000692 & chr4:122078317\\_T\\_C  & TNIP3   & Missense\\\\\n",
       "\t rs10008444 & chr4:48492434\\_G\\_C   & ZAR1    & Missense\\\\\n",
       "\t rs1000952  & chr3:183755822\\_G\\_A  & HTR3D   & Missense\\\\\n",
       "\t rs1001178  & chr12:122691045\\_T\\_A & B3GNT4  & Missense\\\\\n",
       "\t rs10014170 & chr4:40104051\\_A\\_G   & N4BP2   & Missense\\\\\n",
       "\t rs10016702 & chr4:10447640\\_A\\_G   & ZNF518B & Missense\\\\\n",
       "\\end{tabular}\n"
      ],
      "text/markdown": [
       "\n",
       "A data.table: 6 × 4\n",
       "\n",
       "| dbSNPid &lt;chr&gt; | Identifier &lt;chr&gt; | gene_name &lt;chr&gt; | snpType &lt;chr&gt; |\n",
       "|---|---|---|---|\n",
       "| rs10000692 | chr4:122078317_T_C  | TNIP3   | Missense |\n",
       "| rs10008444 | chr4:48492434_G_C   | ZAR1    | Missense |\n",
       "| rs1000952  | chr3:183755822_G_A  | HTR3D   | Missense |\n",
       "| rs1001178  | chr12:122691045_T_A | B3GNT4  | Missense |\n",
       "| rs10014170 | chr4:40104051_A_G   | N4BP2   | Missense |\n",
       "| rs10016702 | chr4:10447640_A_G   | ZNF518B | Missense |\n",
       "\n"
      ],
      "text/plain": [
       "  dbSNPid    Identifier          gene_name snpType \n",
       "1 rs10000692 chr4:122078317_T_C  TNIP3     Missense\n",
       "2 rs10008444 chr4:48492434_G_C   ZAR1      Missense\n",
       "3 rs1000952  chr3:183755822_G_A  HTR3D     Missense\n",
       "4 rs1001178  chr12:122691045_T_A B3GNT4    Missense\n",
       "5 rs10014170 chr4:40104051_A_G   N4BP2     Missense\n",
       "6 rs10016702 chr4:10447640_A_G   ZNF518B   Missense"
      ]
     },
     "metadata": {},
     "output_type": "display_data"
    },
    {
     "data": {
      "text/html": [
       "43553"
      ],
      "text/latex": [
       "43553"
      ],
      "text/markdown": [
       "43553"
      ],
      "text/plain": [
       "[1] 43553"
      ]
     },
     "metadata": {},
     "output_type": "display_data"
    }
   ],
   "source": [
    "rare_variant_list <- rbind(withgene, without_gene)\n",
    "head(rare_variant_list )\n",
    "nrow(rare_variant_list )"
   ]
  },
  {
   "cell_type": "code",
   "execution_count": 43,
   "id": "9a2dc2e1",
   "metadata": {},
   "outputs": [
    {
     "data": {
      "text/html": [
       "43341"
      ],
      "text/latex": [
       "43341"
      ],
      "text/markdown": [
       "43341"
      ],
      "text/plain": [
       "[1] 43341"
      ]
     },
     "metadata": {},
     "output_type": "display_data"
    },
    {
     "data": {
      "text/html": [
       "<table class=\"dataframe\">\n",
       "<caption>A data.frame: 6 × 61</caption>\n",
       "<thead>\n",
       "\t<tr><th></th><th scope=col>BR:MCF7</th><th scope=col>BR:MDA-MB-231</th><th scope=col>BR:HS 578T</th><th scope=col>BR:BT-549</th><th scope=col>BR:T-47D</th><th scope=col>CNS:SF-268</th><th scope=col>CNS:SF-295</th><th scope=col>CNS:SF-539</th><th scope=col>CNS:SNB-19</th><th scope=col>CNS:SNB-75</th><th scope=col>⋯</th><th scope=col>PR:DU-145</th><th scope=col>RE:786-0</th><th scope=col>RE:A498</th><th scope=col>RE:ACHN</th><th scope=col>RE:CAKI-1</th><th scope=col>RE:RXF 393</th><th scope=col>RE:SN12C</th><th scope=col>RE:TK-10</th><th scope=col>RE:UO-31</th><th scope=col>Identifier</th></tr>\n",
       "\t<tr><th></th><th scope=col>&lt;dbl&gt;</th><th scope=col>&lt;dbl&gt;</th><th scope=col>&lt;dbl&gt;</th><th scope=col>&lt;dbl&gt;</th><th scope=col>&lt;dbl&gt;</th><th scope=col>&lt;dbl&gt;</th><th scope=col>&lt;dbl&gt;</th><th scope=col>&lt;dbl&gt;</th><th scope=col>&lt;dbl&gt;</th><th scope=col>&lt;dbl&gt;</th><th scope=col>⋯</th><th scope=col>&lt;dbl&gt;</th><th scope=col>&lt;dbl&gt;</th><th scope=col>&lt;dbl&gt;</th><th scope=col>&lt;dbl&gt;</th><th scope=col>&lt;dbl&gt;</th><th scope=col>&lt;dbl&gt;</th><th scope=col>&lt;dbl&gt;</th><th scope=col>&lt;dbl&gt;</th><th scope=col>&lt;dbl&gt;</th><th scope=col>&lt;chr&gt;</th></tr>\n",
       "</thead>\n",
       "<tbody>\n",
       "\t<tr><th scope=row>2</th><td>0</td><td>0</td><td>0</td><td>0</td><td>0</td><td>0</td><td>0</td><td> 0.000</td><td>0</td><td>0</td><td>⋯</td><td>0</td><td>  0</td><td>0</td><td>0</td><td>0</td><td>0</td><td>85.714</td><td>  0</td><td>0</td><td>chr1:865628_G_A </td></tr>\n",
       "\t<tr><th scope=row>3</th><td>0</td><td>0</td><td>0</td><td>0</td><td>0</td><td>0</td><td>0</td><td> 0.000</td><td>0</td><td>0</td><td>⋯</td><td>0</td><td>  0</td><td>0</td><td>0</td><td>0</td><td>0</td><td> 0.000</td><td>  0</td><td>0</td><td>chr1:871199_G_A </td></tr>\n",
       "\t<tr><th scope=row>4</th><td>0</td><td>0</td><td>0</td><td>0</td><td>0</td><td>0</td><td>0</td><td> 0.000</td><td>0</td><td>0</td><td>⋯</td><td>0</td><td>  0</td><td>0</td><td>0</td><td>0</td><td>0</td><td> 0.000</td><td>  0</td><td>0</td><td>chr1:874788_C_G </td></tr>\n",
       "\t<tr><th scope=row>5</th><td>0</td><td>0</td><td>0</td><td>0</td><td>0</td><td>0</td><td>0</td><td> 0.000</td><td>0</td><td>0</td><td>⋯</td><td>0</td><td>  0</td><td>0</td><td>0</td><td>0</td><td>0</td><td> 0.000</td><td>  0</td><td>0</td><td>chr1:874816_*_+T</td></tr>\n",
       "\t<tr><th scope=row>7</th><td>0</td><td>0</td><td>0</td><td>0</td><td>0</td><td>0</td><td>0</td><td> 0.000</td><td>0</td><td>0</td><td>⋯</td><td>0</td><td>100</td><td>0</td><td>0</td><td>0</td><td>0</td><td> 0.000</td><td>100</td><td>0</td><td>chr1:877831_T_C </td></tr>\n",
       "\t<tr><th scope=row>9</th><td>0</td><td>0</td><td>0</td><td>0</td><td>0</td><td>0</td><td>0</td><td>66.667</td><td>0</td><td>0</td><td>⋯</td><td>0</td><td>  0</td><td>0</td><td>0</td><td>0</td><td>0</td><td> 0.000</td><td>  0</td><td>0</td><td>chr1:878331_C_T </td></tr>\n",
       "</tbody>\n",
       "</table>\n"
      ],
      "text/latex": [
       "A data.frame: 6 × 61\n",
       "\\begin{tabular}{r|lllllllllllllllllllll}\n",
       "  & BR:MCF7 & BR:MDA-MB-231 & BR:HS 578T & BR:BT-549 & BR:T-47D & CNS:SF-268 & CNS:SF-295 & CNS:SF-539 & CNS:SNB-19 & CNS:SNB-75 & ⋯ & PR:DU-145 & RE:786-0 & RE:A498 & RE:ACHN & RE:CAKI-1 & RE:RXF 393 & RE:SN12C & RE:TK-10 & RE:UO-31 & Identifier\\\\\n",
       "  & <dbl> & <dbl> & <dbl> & <dbl> & <dbl> & <dbl> & <dbl> & <dbl> & <dbl> & <dbl> & ⋯ & <dbl> & <dbl> & <dbl> & <dbl> & <dbl> & <dbl> & <dbl> & <dbl> & <dbl> & <chr>\\\\\n",
       "\\hline\n",
       "\t2 & 0 & 0 & 0 & 0 & 0 & 0 & 0 &  0.000 & 0 & 0 & ⋯ & 0 &   0 & 0 & 0 & 0 & 0 & 85.714 &   0 & 0 & chr1:865628\\_G\\_A \\\\\n",
       "\t3 & 0 & 0 & 0 & 0 & 0 & 0 & 0 &  0.000 & 0 & 0 & ⋯ & 0 &   0 & 0 & 0 & 0 & 0 &  0.000 &   0 & 0 & chr1:871199\\_G\\_A \\\\\n",
       "\t4 & 0 & 0 & 0 & 0 & 0 & 0 & 0 &  0.000 & 0 & 0 & ⋯ & 0 &   0 & 0 & 0 & 0 & 0 &  0.000 &   0 & 0 & chr1:874788\\_C\\_G \\\\\n",
       "\t5 & 0 & 0 & 0 & 0 & 0 & 0 & 0 &  0.000 & 0 & 0 & ⋯ & 0 &   0 & 0 & 0 & 0 & 0 &  0.000 &   0 & 0 & chr1:874816\\_*\\_+T\\\\\n",
       "\t7 & 0 & 0 & 0 & 0 & 0 & 0 & 0 &  0.000 & 0 & 0 & ⋯ & 0 & 100 & 0 & 0 & 0 & 0 &  0.000 & 100 & 0 & chr1:877831\\_T\\_C \\\\\n",
       "\t9 & 0 & 0 & 0 & 0 & 0 & 0 & 0 & 66.667 & 0 & 0 & ⋯ & 0 &   0 & 0 & 0 & 0 & 0 &  0.000 &   0 & 0 & chr1:878331\\_C\\_T \\\\\n",
       "\\end{tabular}\n"
      ],
      "text/markdown": [
       "\n",
       "A data.frame: 6 × 61\n",
       "\n",
       "| <!--/--> | BR:MCF7 &lt;dbl&gt; | BR:MDA-MB-231 &lt;dbl&gt; | BR:HS 578T &lt;dbl&gt; | BR:BT-549 &lt;dbl&gt; | BR:T-47D &lt;dbl&gt; | CNS:SF-268 &lt;dbl&gt; | CNS:SF-295 &lt;dbl&gt; | CNS:SF-539 &lt;dbl&gt; | CNS:SNB-19 &lt;dbl&gt; | CNS:SNB-75 &lt;dbl&gt; | ⋯ ⋯ | PR:DU-145 &lt;dbl&gt; | RE:786-0 &lt;dbl&gt; | RE:A498 &lt;dbl&gt; | RE:ACHN &lt;dbl&gt; | RE:CAKI-1 &lt;dbl&gt; | RE:RXF 393 &lt;dbl&gt; | RE:SN12C &lt;dbl&gt; | RE:TK-10 &lt;dbl&gt; | RE:UO-31 &lt;dbl&gt; | Identifier &lt;chr&gt; |\n",
       "|---|---|---|---|---|---|---|---|---|---|---|---|---|---|---|---|---|---|---|---|---|---|\n",
       "| 2 | 0 | 0 | 0 | 0 | 0 | 0 | 0 |  0.000 | 0 | 0 | ⋯ | 0 |   0 | 0 | 0 | 0 | 0 | 85.714 |   0 | 0 | chr1:865628_G_A  |\n",
       "| 3 | 0 | 0 | 0 | 0 | 0 | 0 | 0 |  0.000 | 0 | 0 | ⋯ | 0 |   0 | 0 | 0 | 0 | 0 |  0.000 |   0 | 0 | chr1:871199_G_A  |\n",
       "| 4 | 0 | 0 | 0 | 0 | 0 | 0 | 0 |  0.000 | 0 | 0 | ⋯ | 0 |   0 | 0 | 0 | 0 | 0 |  0.000 |   0 | 0 | chr1:874788_C_G  |\n",
       "| 5 | 0 | 0 | 0 | 0 | 0 | 0 | 0 |  0.000 | 0 | 0 | ⋯ | 0 |   0 | 0 | 0 | 0 | 0 |  0.000 |   0 | 0 | chr1:874816_*_+T |\n",
       "| 7 | 0 | 0 | 0 | 0 | 0 | 0 | 0 |  0.000 | 0 | 0 | ⋯ | 0 | 100 | 0 | 0 | 0 | 0 |  0.000 | 100 | 0 | chr1:877831_T_C  |\n",
       "| 9 | 0 | 0 | 0 | 0 | 0 | 0 | 0 | 66.667 | 0 | 0 | ⋯ | 0 |   0 | 0 | 0 | 0 | 0 |  0.000 |   0 | 0 | chr1:878331_C_T  |\n",
       "\n"
      ],
      "text/plain": [
       "  BR:MCF7 BR:MDA-MB-231 BR:HS 578T BR:BT-549 BR:T-47D CNS:SF-268 CNS:SF-295\n",
       "2 0       0             0          0         0        0          0         \n",
       "3 0       0             0          0         0        0          0         \n",
       "4 0       0             0          0         0        0          0         \n",
       "5 0       0             0          0         0        0          0         \n",
       "7 0       0             0          0         0        0          0         \n",
       "9 0       0             0          0         0        0          0         \n",
       "  CNS:SF-539 CNS:SNB-19 CNS:SNB-75 ⋯ PR:DU-145 RE:786-0 RE:A498 RE:ACHN\n",
       "2  0.000     0          0          ⋯ 0           0      0       0      \n",
       "3  0.000     0          0          ⋯ 0           0      0       0      \n",
       "4  0.000     0          0          ⋯ 0           0      0       0      \n",
       "5  0.000     0          0          ⋯ 0           0      0       0      \n",
       "7  0.000     0          0          ⋯ 0         100      0       0      \n",
       "9 66.667     0          0          ⋯ 0           0      0       0      \n",
       "  RE:CAKI-1 RE:RXF 393 RE:SN12C RE:TK-10 RE:UO-31 Identifier      \n",
       "2 0         0          85.714     0      0        chr1:865628_G_A \n",
       "3 0         0           0.000     0      0        chr1:871199_G_A \n",
       "4 0         0           0.000     0      0        chr1:874788_C_G \n",
       "5 0         0           0.000     0      0        chr1:874816_*_+T\n",
       "7 0         0           0.000   100      0        chr1:877831_T_C \n",
       "9 0         0           0.000     0      0        chr1:878331_C_T "
      ]
     },
     "metadata": {},
     "output_type": "display_data"
    }
   ],
   "source": [
    "# extract data for each cell line\n",
    "variant_sample <- variant[,17:ncol(variant)]\n",
    "variant_sample$Identifier <- variant$`Identifier (c)`\n",
    "variant_sample <- variant_sample[variant_sample$Identifier %in% unique(rare_variant_list$Identifier),]\n",
    "nrow(variant_sample)\n",
    "head(variant_sample)"
   ]
  },
  {
   "cell_type": "code",
   "execution_count": 44,
   "id": "a700023b",
   "metadata": {},
   "outputs": [
    {
     "name": "stderr",
     "output_type": "stream",
     "text": [
      "Warning message in melt(variant_sample, variable.name = \"sampleID\", value.name = \"frequency\"):\n",
      "“The melt generic in data.table has been passed a data.frame and will attempt to redirect to the relevant reshape2 method; please note that reshape2 is deprecated, and this redirection is now deprecated as well. To continue using melt methods from reshape2 while both libraries are attached, e.g. melt.list, you can prepend the namespace like reshape2::melt(variant_sample). In the next version, this warning will become an error.”\n",
      "Using Identifier as id variables\n",
      "\n"
     ]
    },
    {
     "data": {
      "text/html": [
       "<table class=\"dataframe\">\n",
       "<caption>A data.frame: 6 × 2</caption>\n",
       "<thead>\n",
       "\t<tr><th></th><th scope=col>Identifier</th><th scope=col>sampleID</th></tr>\n",
       "\t<tr><th></th><th scope=col>&lt;chr&gt;</th><th scope=col>&lt;fct&gt;</th></tr>\n",
       "</thead>\n",
       "<tbody>\n",
       "\t<tr><th scope=row>32</th><td>chr1:1120431_G_A</td><td>BR:MCF7</td></tr>\n",
       "\t<tr><th scope=row>49</th><td>chr1:1269554_T_C</td><td>BR:MCF7</td></tr>\n",
       "\t<tr><th scope=row>67</th><td>chr1:1558792_T_C</td><td>BR:MCF7</td></tr>\n",
       "\t<tr><th scope=row>72</th><td>chr1:1686040_G_T</td><td>BR:MCF7</td></tr>\n",
       "\t<tr><th scope=row>100</th><td>chr1:2461313_C_T</td><td>BR:MCF7</td></tr>\n",
       "\t<tr><th scope=row>113</th><td>chr1:3328358_T_C</td><td>BR:MCF7</td></tr>\n",
       "</tbody>\n",
       "</table>\n"
      ],
      "text/latex": [
       "A data.frame: 6 × 2\n",
       "\\begin{tabular}{r|ll}\n",
       "  & Identifier & sampleID\\\\\n",
       "  & <chr> & <fct>\\\\\n",
       "\\hline\n",
       "\t32 & chr1:1120431\\_G\\_A & BR:MCF7\\\\\n",
       "\t49 & chr1:1269554\\_T\\_C & BR:MCF7\\\\\n",
       "\t67 & chr1:1558792\\_T\\_C & BR:MCF7\\\\\n",
       "\t72 & chr1:1686040\\_G\\_T & BR:MCF7\\\\\n",
       "\t100 & chr1:2461313\\_C\\_T & BR:MCF7\\\\\n",
       "\t113 & chr1:3328358\\_T\\_C & BR:MCF7\\\\\n",
       "\\end{tabular}\n"
      ],
      "text/markdown": [
       "\n",
       "A data.frame: 6 × 2\n",
       "\n",
       "| <!--/--> | Identifier &lt;chr&gt; | sampleID &lt;fct&gt; |\n",
       "|---|---|---|\n",
       "| 32 | chr1:1120431_G_A | BR:MCF7 |\n",
       "| 49 | chr1:1269554_T_C | BR:MCF7 |\n",
       "| 67 | chr1:1558792_T_C | BR:MCF7 |\n",
       "| 72 | chr1:1686040_G_T | BR:MCF7 |\n",
       "| 100 | chr1:2461313_C_T | BR:MCF7 |\n",
       "| 113 | chr1:3328358_T_C | BR:MCF7 |\n",
       "\n"
      ],
      "text/plain": [
       "    Identifier       sampleID\n",
       "32  chr1:1120431_G_A BR:MCF7 \n",
       "49  chr1:1269554_T_C BR:MCF7 \n",
       "67  chr1:1558792_T_C BR:MCF7 \n",
       "72  chr1:1686040_G_T BR:MCF7 \n",
       "100 chr1:2461313_C_T BR:MCF7 \n",
       "113 chr1:3328358_T_C BR:MCF7 "
      ]
     },
     "metadata": {},
     "output_type": "display_data"
    },
    {
     "data": {
      "text/html": [
       "112838"
      ],
      "text/latex": [
       "112838"
      ],
      "text/markdown": [
       "112838"
      ],
      "text/plain": [
       "[1] 112838"
      ]
     },
     "metadata": {},
     "output_type": "display_data"
    }
   ],
   "source": [
    "# use cutoff on the variant allele frequency to define presence of a variant in a given sample (start with > 0)\n",
    "variant_sample <- melt(variant_sample, variable.name = \"sampleID\", value.name = \"frequency\")\n",
    "variant_sample <- variant_sample[variant_sample$frequency > 0,]\n",
    "variant_sample <- variant_sample[,-3]\n",
    "head(variant_sample)\n",
    "nrow(variant_sample)"
   ]
  },
  {
   "cell_type": "code",
   "execution_count": 45,
   "id": "d738a713",
   "metadata": {},
   "outputs": [
    {
     "data": {
      "text/html": [
       "43341"
      ],
      "text/latex": [
       "43341"
      ],
      "text/markdown": [
       "43341"
      ],
      "text/plain": [
       "[1] 43341"
      ]
     },
     "metadata": {},
     "output_type": "display_data"
    }
   ],
   "source": [
    "length(unique(variant_sample$Identifier))"
   ]
  },
  {
   "cell_type": "code",
   "execution_count": 46,
   "id": "9eff97e2",
   "metadata": {},
   "outputs": [
    {
     "data": {
      "text/html": [
       "<table class=\"dataframe\">\n",
       "<caption>A data.frame: 6 × 5</caption>\n",
       "<thead>\n",
       "\t<tr><th></th><th scope=col>Identifier</th><th scope=col>sampleID</th><th scope=col>dbSNPid</th><th scope=col>gene_name</th><th scope=col>snpType</th></tr>\n",
       "\t<tr><th></th><th scope=col>&lt;chr&gt;</th><th scope=col>&lt;fct&gt;</th><th scope=col>&lt;chr&gt;</th><th scope=col>&lt;chr&gt;</th><th scope=col>&lt;chr&gt;</th></tr>\n",
       "</thead>\n",
       "<tbody>\n",
       "\t<tr><th scope=row>1</th><td>chr10:100010849_G_A</td><td>ME:SK-MEL-2</td><td>rs770272930</td><td>LOXL4  </td><td>Missense</td></tr>\n",
       "\t<tr><th scope=row>2</th><td>chr10:100013418_T_G</td><td>ME:SK-MEL-2</td><td>rs148260647</td><td>LOXL4  </td><td>Missense</td></tr>\n",
       "\t<tr><th scope=row>3</th><td>chr10:100020867_C_A</td><td>CO:HCT-15  </td><td>-          </td><td>LOXL4  </td><td>Missense</td></tr>\n",
       "\t<tr><th scope=row>4</th><td>chr10:100021911_C_T</td><td>BR:MCF7    </td><td>rs139735732</td><td>LOXL4  </td><td>Missense</td></tr>\n",
       "\t<tr><th scope=row>5</th><td>chr10:100167409_A_C</td><td>CO:HCC-2998</td><td>-          </td><td>PYROXD2</td><td>Missense</td></tr>\n",
       "\t<tr><th scope=row>6</th><td>chr10:100183570_G_C</td><td>ME:SK-MEL-5</td><td>rs2296434  </td><td>HPS1   </td><td>Missense</td></tr>\n",
       "</tbody>\n",
       "</table>\n"
      ],
      "text/latex": [
       "A data.frame: 6 × 5\n",
       "\\begin{tabular}{r|lllll}\n",
       "  & Identifier & sampleID & dbSNPid & gene\\_name & snpType\\\\\n",
       "  & <chr> & <fct> & <chr> & <chr> & <chr>\\\\\n",
       "\\hline\n",
       "\t1 & chr10:100010849\\_G\\_A & ME:SK-MEL-2 & rs770272930 & LOXL4   & Missense\\\\\n",
       "\t2 & chr10:100013418\\_T\\_G & ME:SK-MEL-2 & rs148260647 & LOXL4   & Missense\\\\\n",
       "\t3 & chr10:100020867\\_C\\_A & CO:HCT-15   & -           & LOXL4   & Missense\\\\\n",
       "\t4 & chr10:100021911\\_C\\_T & BR:MCF7     & rs139735732 & LOXL4   & Missense\\\\\n",
       "\t5 & chr10:100167409\\_A\\_C & CO:HCC-2998 & -           & PYROXD2 & Missense\\\\\n",
       "\t6 & chr10:100183570\\_G\\_C & ME:SK-MEL-5 & rs2296434   & HPS1    & Missense\\\\\n",
       "\\end{tabular}\n"
      ],
      "text/markdown": [
       "\n",
       "A data.frame: 6 × 5\n",
       "\n",
       "| <!--/--> | Identifier &lt;chr&gt; | sampleID &lt;fct&gt; | dbSNPid &lt;chr&gt; | gene_name &lt;chr&gt; | snpType &lt;chr&gt; |\n",
       "|---|---|---|---|---|---|\n",
       "| 1 | chr10:100010849_G_A | ME:SK-MEL-2 | rs770272930 | LOXL4   | Missense |\n",
       "| 2 | chr10:100013418_T_G | ME:SK-MEL-2 | rs148260647 | LOXL4   | Missense |\n",
       "| 3 | chr10:100020867_C_A | CO:HCT-15   | -           | LOXL4   | Missense |\n",
       "| 4 | chr10:100021911_C_T | BR:MCF7     | rs139735732 | LOXL4   | Missense |\n",
       "| 5 | chr10:100167409_A_C | CO:HCC-2998 | -           | PYROXD2 | Missense |\n",
       "| 6 | chr10:100183570_G_C | ME:SK-MEL-5 | rs2296434   | HPS1    | Missense |\n",
       "\n"
      ],
      "text/plain": [
       "  Identifier          sampleID    dbSNPid     gene_name snpType \n",
       "1 chr10:100010849_G_A ME:SK-MEL-2 rs770272930 LOXL4     Missense\n",
       "2 chr10:100013418_T_G ME:SK-MEL-2 rs148260647 LOXL4     Missense\n",
       "3 chr10:100020867_C_A CO:HCT-15   -           LOXL4     Missense\n",
       "4 chr10:100021911_C_T BR:MCF7     rs139735732 LOXL4     Missense\n",
       "5 chr10:100167409_A_C CO:HCC-2998 -           PYROXD2   Missense\n",
       "6 chr10:100183570_G_C ME:SK-MEL-5 rs2296434   HPS1      Missense"
      ]
     },
     "metadata": {},
     "output_type": "display_data"
    },
    {
     "data": {
      "text/html": [
       "113641"
      ],
      "text/latex": [
       "113641"
      ],
      "text/markdown": [
       "113641"
      ],
      "text/plain": [
       "[1] 113641"
      ]
     },
     "metadata": {},
     "output_type": "display_data"
    },
    {
     "data": {
      "text/html": [
       "43341"
      ],
      "text/latex": [
       "43341"
      ],
      "text/markdown": [
       "43341"
      ],
      "text/plain": [
       "[1] 43341"
      ]
     },
     "metadata": {},
     "output_type": "display_data"
    }
   ],
   "source": [
    "variant_sample_maf <- merge(variant_sample, rare_variant_list)\n",
    "head(variant_sample_maf)\n",
    "nrow(variant_sample_maf)\n",
    "length(unique(variant_sample_maf$Identifier))"
   ]
  },
  {
   "cell_type": "code",
   "execution_count": 47,
   "id": "0801df8b",
   "metadata": {},
   "outputs": [],
   "source": [
    "write.csv(variant_sample_maf, \"insample.csv\", row.names=FALSE,quote=FALSE)"
   ]
  }
 ],
 "metadata": {
  "kernelspec": {
   "display_name": "R",
   "language": "R",
   "name": "ir"
  },
  "language_info": {
   "codemirror_mode": "r",
   "file_extension": ".r",
   "mimetype": "text/x-r-source",
   "name": "R",
   "pygments_lexer": "r",
   "version": "4.2.2"
  }
 },
 "nbformat": 4,
 "nbformat_minor": 5
}
