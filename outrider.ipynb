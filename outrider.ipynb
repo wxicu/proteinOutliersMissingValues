{
 "cells": [
  {
   "cell_type": "code",
   "execution_count": 1,
   "id": "71540c61",
   "metadata": {},
   "outputs": [
    {
     "name": "stderr",
     "output_type": "stream",
     "text": [
      "\n",
      "Attache Paket: ‘dplyr’\n",
      "\n",
      "\n",
      "Die folgenden Objekte sind maskiert von ‘package:stats’:\n",
      "\n",
      "    filter, lag\n",
      "\n",
      "\n",
      "Die folgenden Objekte sind maskiert von ‘package:base’:\n",
      "\n",
      "    intersect, setdiff, setequal, union\n",
      "\n",
      "\n",
      "\n",
      "Attache Paket: ‘data.table’\n",
      "\n",
      "\n",
      "Die folgenden Objekte sind maskiert von ‘package:dplyr’:\n",
      "\n",
      "    between, first, last\n",
      "\n",
      "\n"
     ]
    }
   ],
   "source": [
    "library(dplyr)\n",
    "library(data.table)"
   ]
  },
  {
   "cell_type": "code",
   "execution_count": 2,
   "id": "dc103ed0",
   "metadata": {},
   "outputs": [],
   "source": [
    "# extract protein intensity\n",
    "dat <- fread(\"proteinGroups.txt\")\n",
    "prot_int <- as.data.frame(dat[,327:386])"
   ]
  },
  {
   "cell_type": "code",
   "execution_count": 3,
   "id": "b43d7996",
   "metadata": {},
   "outputs": [],
   "source": [
    "samples <- sub(\"Intensity \", \"\", colnames(dat)[327:386])\n",
    "colnames(prot_int) <- samples\n",
    "rownames(prot_int) <- dat$`Protein IDs`"
   ]
  },
  {
   "cell_type": "code",
   "execution_count": 4,
   "id": "5bd5abb2",
   "metadata": {},
   "outputs": [
    {
     "data": {
      "text/html": [
       "<table class=\"dataframe\">\n",
       "<caption>A data.frame: 6 × 60</caption>\n",
       "<thead>\n",
       "\t<tr><th></th><th scope=col>786O_NCI60</th><th scope=col>A498_NCI60</th><th scope=col>A549_NCI60</th><th scope=col>ACHN_NCI60</th><th scope=col>BT549_NCI60</th><th scope=col>CAKI1_NCI60</th><th scope=col>CCRFCEM_NCI60</th><th scope=col>COLO205_NCI60</th><th scope=col>DU145_NCI60</th><th scope=col>EKVX_NCI60</th><th scope=col>⋯</th><th scope=col>SNB19_NCI60</th><th scope=col>SNB75_NCI60</th><th scope=col>SR_NCI60</th><th scope=col>SW620_NCI60</th><th scope=col>T47D_NCI60</th><th scope=col>TK10_NCI60</th><th scope=col>U031_NCI60</th><th scope=col>U251_NCI60</th><th scope=col>UACC257_NCI60</th><th scope=col>UACC62_NCI60</th></tr>\n",
       "\t<tr><th></th><th scope=col>&lt;int64&gt;</th><th scope=col>&lt;int64&gt;</th><th scope=col>&lt;int64&gt;</th><th scope=col>&lt;int64&gt;</th><th scope=col>&lt;int64&gt;</th><th scope=col>&lt;int64&gt;</th><th scope=col>&lt;int64&gt;</th><th scope=col>&lt;int64&gt;</th><th scope=col>&lt;int64&gt;</th><th scope=col>&lt;int64&gt;</th><th scope=col>⋯</th><th scope=col>&lt;int64&gt;</th><th scope=col>&lt;int64&gt;</th><th scope=col>&lt;int64&gt;</th><th scope=col>&lt;int64&gt;</th><th scope=col>&lt;int64&gt;</th><th scope=col>&lt;int64&gt;</th><th scope=col>&lt;int64&gt;</th><th scope=col>&lt;int64&gt;</th><th scope=col>&lt;int64&gt;</th><th scope=col>&lt;int64&gt;</th></tr>\n",
       "</thead>\n",
       "<tbody>\n",
       "\t<tr><th scope=row>P0DN26;A0A075B759;Q9Y536;F5H284;A0A0B4J2A2;P0DN37</th><td> 3812400</td><td> 32150000</td><td>  6094400</td><td>   4313900</td><td>       0</td><td> 47658000</td><td>  5785500</td><td>  64889000</td><td> 33141000</td><td>  30032000</td><td>⋯</td><td>18067000</td><td>60596000</td><td> 7556500</td><td>  8213600</td><td> 48755000</td><td> 161350000</td><td>        0</td><td>54603000</td><td> 48719000</td><td> 14605000</td></tr>\n",
       "\t<tr><th scope=row>A0A0B4J2F0</th><td>       0</td><td>        0</td><td>        0</td><td>         0</td><td>       0</td><td>        0</td><td>        0</td><td>         0</td><td>        0</td><td>   6635200</td><td>⋯</td><td>       0</td><td>       0</td><td>       0</td><td>        0</td><td>        0</td><td>         0</td><td>        0</td><td>       0</td><td>        0</td><td>        0</td></tr>\n",
       "\t<tr><th scope=row>A0A0C4DH73</th><td>       0</td><td>        0</td><td>        0</td><td>         0</td><td>       0</td><td>        0</td><td>        0</td><td>         0</td><td>        0</td><td>         0</td><td>⋯</td><td>       0</td><td>       0</td><td>       0</td><td>        0</td><td>        0</td><td>         0</td><td>        0</td><td>       0</td><td>        0</td><td>        0</td></tr>\n",
       "\t<tr><th scope=row>A0A5B9;P01850</th><td>       0</td><td>        0</td><td>        0</td><td>         0</td><td>       0</td><td>        0</td><td>234380000</td><td>         0</td><td>  7342300</td><td>         0</td><td>⋯</td><td>       0</td><td>       0</td><td> 5834700</td><td>        0</td><td>        0</td><td>         0</td><td>        0</td><td>10133000</td><td>        0</td><td> 35631000</td></tr>\n",
       "\t<tr><th scope=row>A0AV96;A0AV96-2</th><td>73467000</td><td>567040000</td><td>490700000</td><td>1056000000</td><td>23231000</td><td>242810000</td><td> 21620000</td><td>3138100000</td><td>108070000</td><td>1439200000</td><td>⋯</td><td>81147000</td><td>21566000</td><td>11199000</td><td>513940000</td><td>857760000</td><td>1651300000</td><td>470600000</td><td>40020000</td><td>106450000</td><td>        0</td></tr>\n",
       "\t<tr><th scope=row>A0AVF1;A0AVF1-2;A0AVF1-3</th><td> 6052600</td><td> 54431000</td><td> 24653000</td><td>  52919000</td><td>15826000</td><td>        0</td><td> 17568000</td><td>  18730000</td><td>  9006900</td><td>  12765000</td><td>⋯</td><td>75090000</td><td>46642000</td><td>       0</td><td> 70986000</td><td> 20219000</td><td>  62485000</td><td> 13611000</td><td>29807000</td><td> 53550000</td><td>114360000</td></tr>\n",
       "</tbody>\n",
       "</table>\n"
      ],
      "text/latex": [
       "A data.frame: 6 × 60\n",
       "\\begin{tabular}{r|lllllllllllllllllllll}\n",
       "  & 786O\\_NCI60 & A498\\_NCI60 & A549\\_NCI60 & ACHN\\_NCI60 & BT549\\_NCI60 & CAKI1\\_NCI60 & CCRFCEM\\_NCI60 & COLO205\\_NCI60 & DU145\\_NCI60 & EKVX\\_NCI60 & ⋯ & SNB19\\_NCI60 & SNB75\\_NCI60 & SR\\_NCI60 & SW620\\_NCI60 & T47D\\_NCI60 & TK10\\_NCI60 & U031\\_NCI60 & U251\\_NCI60 & UACC257\\_NCI60 & UACC62\\_NCI60\\\\\n",
       "  & <int64> & <int64> & <int64> & <int64> & <int64> & <int64> & <int64> & <int64> & <int64> & <int64> & ⋯ & <int64> & <int64> & <int64> & <int64> & <int64> & <int64> & <int64> & <int64> & <int64> & <int64>\\\\\n",
       "\\hline\n",
       "\tP0DN26;A0A075B759;Q9Y536;F5H284;A0A0B4J2A2;P0DN37 &  3812400 &  32150000 &   6094400 &    4313900 &        0 &  47658000 &   5785500 &   64889000 &  33141000 &   30032000 & ⋯ & 18067000 & 60596000 &  7556500 &   8213600 &  48755000 &  161350000 &         0 & 54603000 &  48719000 &  14605000\\\\\n",
       "\tA0A0B4J2F0 &        0 &         0 &         0 &          0 &        0 &         0 &         0 &          0 &         0 &    6635200 & ⋯ &        0 &        0 &        0 &         0 &         0 &          0 &         0 &        0 &         0 &         0\\\\\n",
       "\tA0A0C4DH73 &        0 &         0 &         0 &          0 &        0 &         0 &         0 &          0 &         0 &          0 & ⋯ &        0 &        0 &        0 &         0 &         0 &          0 &         0 &        0 &         0 &         0\\\\\n",
       "\tA0A5B9;P01850 &        0 &         0 &         0 &          0 &        0 &         0 & 234380000 &          0 &   7342300 &          0 & ⋯ &        0 &        0 &  5834700 &         0 &         0 &          0 &         0 & 10133000 &         0 &  35631000\\\\\n",
       "\tA0AV96;A0AV96-2 & 73467000 & 567040000 & 490700000 & 1056000000 & 23231000 & 242810000 &  21620000 & 3138100000 & 108070000 & 1439200000 & ⋯ & 81147000 & 21566000 & 11199000 & 513940000 & 857760000 & 1651300000 & 470600000 & 40020000 & 106450000 &         0\\\\\n",
       "\tA0AVF1;A0AVF1-2;A0AVF1-3 &  6052600 &  54431000 &  24653000 &   52919000 & 15826000 &         0 &  17568000 &   18730000 &   9006900 &   12765000 & ⋯ & 75090000 & 46642000 &        0 &  70986000 &  20219000 &   62485000 &  13611000 & 29807000 &  53550000 & 114360000\\\\\n",
       "\\end{tabular}\n"
      ],
      "text/markdown": [
       "\n",
       "A data.frame: 6 × 60\n",
       "\n",
       "| <!--/--> | 786O_NCI60 &lt;int64&gt; | A498_NCI60 &lt;int64&gt; | A549_NCI60 &lt;int64&gt; | ACHN_NCI60 &lt;int64&gt; | BT549_NCI60 &lt;int64&gt; | CAKI1_NCI60 &lt;int64&gt; | CCRFCEM_NCI60 &lt;int64&gt; | COLO205_NCI60 &lt;int64&gt; | DU145_NCI60 &lt;int64&gt; | EKVX_NCI60 &lt;int64&gt; | ⋯ ⋯ | SNB19_NCI60 &lt;int64&gt; | SNB75_NCI60 &lt;int64&gt; | SR_NCI60 &lt;int64&gt; | SW620_NCI60 &lt;int64&gt; | T47D_NCI60 &lt;int64&gt; | TK10_NCI60 &lt;int64&gt; | U031_NCI60 &lt;int64&gt; | U251_NCI60 &lt;int64&gt; | UACC257_NCI60 &lt;int64&gt; | UACC62_NCI60 &lt;int64&gt; |\n",
       "|---|---|---|---|---|---|---|---|---|---|---|---|---|---|---|---|---|---|---|---|---|---|\n",
       "| P0DN26;A0A075B759;Q9Y536;F5H284;A0A0B4J2A2;P0DN37 |  3812400 |  32150000 |   6094400 |    4313900 |        0 |  47658000 |   5785500 |   64889000 |  33141000 |   30032000 | ⋯ | 18067000 | 60596000 |  7556500 |   8213600 |  48755000 |  161350000 |         0 | 54603000 |  48719000 |  14605000 |\n",
       "| A0A0B4J2F0 |        0 |         0 |         0 |          0 |        0 |         0 |         0 |          0 |         0 |    6635200 | ⋯ |        0 |        0 |        0 |         0 |         0 |          0 |         0 |        0 |         0 |         0 |\n",
       "| A0A0C4DH73 |        0 |         0 |         0 |          0 |        0 |         0 |         0 |          0 |         0 |          0 | ⋯ |        0 |        0 |        0 |         0 |         0 |          0 |         0 |        0 |         0 |         0 |\n",
       "| A0A5B9;P01850 |        0 |         0 |         0 |          0 |        0 |         0 | 234380000 |          0 |   7342300 |          0 | ⋯ |        0 |        0 |  5834700 |         0 |         0 |          0 |         0 | 10133000 |         0 |  35631000 |\n",
       "| A0AV96;A0AV96-2 | 73467000 | 567040000 | 490700000 | 1056000000 | 23231000 | 242810000 |  21620000 | 3138100000 | 108070000 | 1439200000 | ⋯ | 81147000 | 21566000 | 11199000 | 513940000 | 857760000 | 1651300000 | 470600000 | 40020000 | 106450000 |         0 |\n",
       "| A0AVF1;A0AVF1-2;A0AVF1-3 |  6052600 |  54431000 |  24653000 |   52919000 | 15826000 |         0 |  17568000 |   18730000 |   9006900 |   12765000 | ⋯ | 75090000 | 46642000 |        0 |  70986000 |  20219000 |   62485000 |  13611000 | 29807000 |  53550000 | 114360000 |\n",
       "\n"
      ],
      "text/plain": [
       "                                                  786O_NCI60 A498_NCI60\n",
       "P0DN26;A0A075B759;Q9Y536;F5H284;A0A0B4J2A2;P0DN37  3812400    32150000 \n",
       "A0A0B4J2F0                                               0           0 \n",
       "A0A0C4DH73                                               0           0 \n",
       "A0A5B9;P01850                                            0           0 \n",
       "A0AV96;A0AV96-2                                   73467000   567040000 \n",
       "A0AVF1;A0AVF1-2;A0AVF1-3                           6052600    54431000 \n",
       "                                                  A549_NCI60 ACHN_NCI60\n",
       "P0DN26;A0A075B759;Q9Y536;F5H284;A0A0B4J2A2;P0DN37   6094400     4313900\n",
       "A0A0B4J2F0                                                0           0\n",
       "A0A0C4DH73                                                0           0\n",
       "A0A5B9;P01850                                             0           0\n",
       "A0AV96;A0AV96-2                                   490700000  1056000000\n",
       "A0AVF1;A0AVF1-2;A0AVF1-3                           24653000    52919000\n",
       "                                                  BT549_NCI60 CAKI1_NCI60\n",
       "P0DN26;A0A075B759;Q9Y536;F5H284;A0A0B4J2A2;P0DN37        0     47658000  \n",
       "A0A0B4J2F0                                               0            0  \n",
       "A0A0C4DH73                                               0            0  \n",
       "A0A5B9;P01850                                            0            0  \n",
       "A0AV96;A0AV96-2                                   23231000    242810000  \n",
       "A0AVF1;A0AVF1-2;A0AVF1-3                          15826000            0  \n",
       "                                                  CCRFCEM_NCI60 COLO205_NCI60\n",
       "P0DN26;A0A075B759;Q9Y536;F5H284;A0A0B4J2A2;P0DN37   5785500       64889000   \n",
       "A0A0B4J2F0                                                0              0   \n",
       "A0A0C4DH73                                                0              0   \n",
       "A0A5B9;P01850                                     234380000              0   \n",
       "A0AV96;A0AV96-2                                    21620000     3138100000   \n",
       "A0AVF1;A0AVF1-2;A0AVF1-3                           17568000       18730000   \n",
       "                                                  DU145_NCI60 EKVX_NCI60 ⋯\n",
       "P0DN26;A0A075B759;Q9Y536;F5H284;A0A0B4J2A2;P0DN37  33141000     30032000 ⋯\n",
       "A0A0B4J2F0                                                0      6635200 ⋯\n",
       "A0A0C4DH73                                                0            0 ⋯\n",
       "A0A5B9;P01850                                       7342300            0 ⋯\n",
       "A0AV96;A0AV96-2                                   108070000   1439200000 ⋯\n",
       "A0AVF1;A0AVF1-2;A0AVF1-3                            9006900     12765000 ⋯\n",
       "                                                  SNB19_NCI60 SNB75_NCI60\n",
       "P0DN26;A0A075B759;Q9Y536;F5H284;A0A0B4J2A2;P0DN37 18067000    60596000   \n",
       "A0A0B4J2F0                                               0           0   \n",
       "A0A0C4DH73                                               0           0   \n",
       "A0A5B9;P01850                                            0           0   \n",
       "A0AV96;A0AV96-2                                   81147000    21566000   \n",
       "A0AVF1;A0AVF1-2;A0AVF1-3                          75090000    46642000   \n",
       "                                                  SR_NCI60 SW620_NCI60\n",
       "P0DN26;A0A075B759;Q9Y536;F5H284;A0A0B4J2A2;P0DN37  7556500   8213600  \n",
       "A0A0B4J2F0                                               0         0  \n",
       "A0A0C4DH73                                               0         0  \n",
       "A0A5B9;P01850                                      5834700         0  \n",
       "A0AV96;A0AV96-2                                   11199000 513940000  \n",
       "A0AVF1;A0AVF1-2;A0AVF1-3                                 0  70986000  \n",
       "                                                  T47D_NCI60 TK10_NCI60\n",
       "P0DN26;A0A075B759;Q9Y536;F5H284;A0A0B4J2A2;P0DN37  48755000   161350000\n",
       "A0A0B4J2F0                                                0           0\n",
       "A0A0C4DH73                                                0           0\n",
       "A0A5B9;P01850                                             0           0\n",
       "A0AV96;A0AV96-2                                   857760000  1651300000\n",
       "A0AVF1;A0AVF1-2;A0AVF1-3                           20219000    62485000\n",
       "                                                  U031_NCI60 U251_NCI60\n",
       "P0DN26;A0A075B759;Q9Y536;F5H284;A0A0B4J2A2;P0DN37         0  54603000  \n",
       "A0A0B4J2F0                                                0         0  \n",
       "A0A0C4DH73                                                0         0  \n",
       "A0A5B9;P01850                                             0  10133000  \n",
       "A0AV96;A0AV96-2                                   470600000  40020000  \n",
       "A0AVF1;A0AVF1-2;A0AVF1-3                           13611000  29807000  \n",
       "                                                  UACC257_NCI60 UACC62_NCI60\n",
       "P0DN26;A0A075B759;Q9Y536;F5H284;A0A0B4J2A2;P0DN37  48719000      14605000   \n",
       "A0A0B4J2F0                                                0             0   \n",
       "A0A0C4DH73                                                0             0   \n",
       "A0A5B9;P01850                                             0      35631000   \n",
       "A0AV96;A0AV96-2                                   106450000             0   \n",
       "A0AVF1;A0AVF1-2;A0AVF1-3                           53550000     114360000   "
      ]
     },
     "metadata": {},
     "output_type": "display_data"
    }
   ],
   "source": [
    "head(prot_int)"
   ]
  },
  {
   "cell_type": "code",
   "execution_count": 16,
   "id": "fbfb228f",
   "metadata": {},
   "outputs": [
    {
     "data": {
      "text/html": [
       "<style>\n",
       ".list-inline {list-style: none; margin:0; padding: 0}\n",
       ".list-inline>li {display: inline-block}\n",
       ".list-inline>li:not(:last-child)::after {content: \"\\00b7\"; padding: 0 .5ex}\n",
       "</style>\n",
       "<ol class=list-inline><li>10825</li><li>60</li></ol>\n"
      ],
      "text/latex": [
       "\\begin{enumerate*}\n",
       "\\item 10825\n",
       "\\item 60\n",
       "\\end{enumerate*}\n"
      ],
      "text/markdown": [
       "1. 10825\n",
       "2. 60\n",
       "\n",
       "\n"
      ],
      "text/plain": [
       "[1] 10825    60"
      ]
     },
     "metadata": {},
     "output_type": "display_data"
    }
   ],
   "source": [
    "# BiocManager::install(\"gagneurlab/OUTRIDER\", ref=\"outrider2\",force = TRUE)\n",
    "library(OUTRIDER)\n",
    "library(dplyr)\n",
    "\n",
    "# load protein intensities\n",
    "prot_int <- read.table(\"prot_int.csv\")\n",
    "dim(prot_int)\n"
   ]
  },
  {
   "cell_type": "code",
   "execution_count": 17,
   "id": "bafa9a37",
   "metadata": {},
   "outputs": [
    {
     "name": "stderr",
     "output_type": "stream",
     "text": [
      "260 features did not pass the filter due to no variability across samples. This is 2.4% of the features.\n",
      "\n",
      "3590 features are filtered out. This is 34% of the features.\n",
      "\n"
     ]
    }
   ],
   "source": [
    "# missing values due to missing detection in the mass-spectrometry must be declared as such, \n",
    "# e.g. NAN and must not be kept 0, as this will be considered as true value.\n",
    "prot_int[prot_int==0] <- NA\n",
    "\n",
    "outrider_ds <- Outrider2DataSet(inputData=prot_int, profile=\"protrider\")\n",
    "\n",
    "# filter out features that are not variable across samples or have many N\n",
    "outrider_ds <- filterExpression(outrider_ds)\n"
   ]
  },
  {
   "cell_type": "code",
   "execution_count": 18,
   "id": "8a7ffe57",
   "metadata": {},
   "outputs": [
    {
     "data": {
      "text/plain": [
       "class: Outrider2DataSet\n",
       "class: RangedSummarizedExperiment \n",
       "dim: 6975 60 \n",
       "metadata(1): version\n",
       "assays(1): observed\n",
       "rownames(6975): P0DN26;A0A075B759;Q9Y536;F5H284;A0A0B4J2A2;P0DN37\n",
       "  A0AV96;A0AV96-2 ...\n",
       "  REV__Q9UL68-2;REV__Q9UL68-4;REV__Q9UL68;REV__Q9UL68-3\n",
       "  REV__Q9UMY1-2;REV__Q9UMY1\n",
       "rowData names(4): passedFilter passedVariableFeatureFilter\n",
       "  passedPercentileFilter passedNAFilter\n",
       "colnames(60): X786O_NCI60 A498_NCI60 ... UACC257_NCI60 UACC62_NCI60\n",
       "colData names(6): sampleID expressedFeatures ... passedFilterFeatures\n",
       "  expressedFeaturesRank\n",
       "------------------- Model parameters -------------------\n",
       "Profile:                   protrider \n",
       "Default distribution:      gaussian \n"
      ]
     },
     "metadata": {},
     "output_type": "display_data"
    }
   ],
   "source": [
    "outrider_ds "
   ]
  },
  {
   "cell_type": "code",
   "execution_count": 59,
   "id": "addb2ed2",
   "metadata": {},
   "outputs": [
    {
     "ename": "ERROR",
     "evalue": "Error in plotSampleCorHeatmap(outrider_ds, normalized = FALSE): konnte Funktion \"plotSampleCorHeatmap\" nicht finden\n",
     "output_type": "error",
     "traceback": [
      "Error in plotSampleCorHeatmap(outrider_ds, normalized = FALSE): konnte Funktion \"plotSampleCorHeatmap\" nicht finden\nTraceback:\n"
     ]
    }
   ],
   "source": [
    "# visualize the correlations between samples through heatmap\n",
    "# In most RNA-seq experiments correlations between the samples can be observed. \n",
    "# These are often due to technical confounders (e.g. sequencing batch) or biological confounders (e.g. sex, age). \n",
    "# These confounders can adversely affect the detection of aberrant features. \n",
    "plotSampleCorHeatmap(outrider_ds, normalized=FALSE)"
   ]
  },
  {
   "cell_type": "code",
   "execution_count": 58,
   "id": "639fe354",
   "metadata": {},
   "outputs": [
    {
     "ename": "ERROR",
     "evalue": "Error in is(ods, \"OutriderDataSet\"): Objekt 'ods' nicht gefunden\n",
     "output_type": "error",
     "traceback": [
      "Error in is(ods, \"OutriderDataSet\"): Objekt 'ods' nicht gefunden\nTraceback:\n",
      "1. OUTRIDER:::plotSampleCorHeatmap(outrider_ds)",
      "2. is(ods, \"OutriderDataSet\")"
     ]
    }
   ],
   "source": [
    "OUTRIDER:::plotSampleCorHeatmap(outrider_ds)"
   ]
  },
  {
   "cell_type": "code",
   "execution_count": 60,
   "id": "12a95c2c",
   "metadata": {},
   "outputs": [
    {
     "ename": "ERROR",
     "evalue": "Error in is(ods, \"OutriderDataSet\"): Objekt 'ods' nicht gefunden\n",
     "output_type": "error",
     "traceback": [
      "Error in is(ods, \"OutriderDataSet\"): Objekt 'ods' nicht gefunden\nTraceback:\n",
      "1. plotCountCorHeatmap(outrider_ds, normalized = FALSE)",
      "2. plotCountCorHeatmap(outrider_ds, normalized = FALSE)",
      "3. .local(object, ...)",
      "4. is(ods, \"OutriderDataSet\")"
     ]
    }
   ],
   "source": [
    "plotCountCorHeatmap(outrider_ds, normalized=FALSE)"
   ]
  },
  {
   "cell_type": "code",
   "execution_count": 22,
   "id": "afc4b145",
   "metadata": {},
   "outputs": [
    {
     "name": "stderr",
     "output_type": "stream",
     "text": [
      "Thu Jan 12 11:41:48 2023: Preprocessing ...\n",
      "\n",
      "\tThu Jan 12 11:41:48 2023:  Applying preprocessing function ...\n",
      "\n",
      "\tThu Jan 12 11:41:48 2023: SizeFactor estimation ...\n",
      "\n",
      "Thu Jan 12 11:41:48 2023: Controlling for confounders ...\n",
      "\n",
      "Using specified q = 17\n",
      "\n",
      "Thu Jan 12 11:41:48 2023: Using the python autoencoder implementation for controlling.\n",
      "\n",
      "Connecting to the py_outrider python package using reticulate (useBasilisk = FALSE)... \n",
      "In case of errors, please make sure to specify the right python binary when loading R.\n",
      "If you rather want us to automatically setup a conda environment with 'py_outrider'\n",
      "installed using the 'basilisk' package, please use the argument 'useBasilisk = TRUE'.\n",
      "\n",
      "Thu Jan 12 12:00:21 2023: Used the python autoencoder implementation for controlling.\n",
      "\n",
      "Thu Jan 12 12:00:21 2023: P-value calculation ...\n",
      "\n",
      "Thu Jan 12 12:00:21 2023: Fold-change / zScore / delta calculation ...\n",
      "\n"
     ]
    }
   ],
   "source": [
    "reticulate::use_condaenv(\"py_outrider1\", conda=\"/opt/homebrew/bin/conda\")\n",
    "# according to the result before, the optimal result is encod_dim 17, noise factor 1\n",
    "# here to save time, we only run q = 17\n",
    "outrider_ds <- OUTRIDER(outrider_ds, q=17)\n"
   ]
  },
  {
   "cell_type": "code",
   "execution_count": 25,
   "id": "8823e498",
   "metadata": {},
   "outputs": [],
   "source": [
    "res <- results(outrider_ds, all = TRUE)"
   ]
  },
  {
   "cell_type": "code",
   "execution_count": 24,
   "id": "94aaf81b",
   "metadata": {},
   "outputs": [
    {
     "name": "stderr",
     "output_type": "stream",
     "text": [
      "Warning message:\n",
      "“\u001b[1m\u001b[22mTransformation introduced infinite values in continuous y-axis”\n",
      "Warning message:\n",
      "“\u001b[1m\u001b[22mRemoved 31 rows containing missing values (`geom_bar()`).”\n"
     ]
    },
    {
     "data": {
      "image/png": "[encoded data removed]",
      "text/plain": [
       "plot without title"
      ]
     },
     "metadata": {
      "image/png": {
       "height": 420,
       "width": 420
      }
     },
     "output_type": "display_data"
    }
   ],
   "source": [
    "plotAberrantPerSample(outrider_ds, padjCutoff=0.05)"
   ]
  },
  {
   "cell_type": "code",
   "execution_count": 61,
   "id": "83305792",
   "metadata": {},
   "outputs": [
    {
     "name": "stderr",
     "output_type": "stream",
     "text": [
      "Warning message:\n",
      "“\u001b[1m\u001b[22mTransformation introduced infinite values in continuous y-axis”\n",
      "Warning message:\n",
      "“\u001b[1m\u001b[22mRemoved 31 rows containing missing values (`geom_bar()`).”\n"
     ]
    },
    {
     "data": {
      "text/html": [
       "<strong>pdf:</strong> 2"
      ],
      "text/latex": [
       "\\textbf{pdf:} 2"
      ],
      "text/markdown": [
       "**pdf:** 2"
      ],
      "text/plain": [
       "pdf \n",
       "  2 "
      ]
     },
     "metadata": {},
     "output_type": "display_data"
    }
   ],
   "source": [
    "# save the plot\n",
    "png(\"AberrantPerSample.png\")\n",
    "plotAberrantPerSample(outrider_ds, padjCutoff=0.05)\n",
    "dev.off()"
   ]
  },
  {
   "cell_type": "code",
   "execution_count": 26,
   "id": "caf45346",
   "metadata": {},
   "outputs": [
    {
     "ename": "ERROR",
     "evalue": "Error in plotSampleCorHeatmap(outrider_ds, normalized = FALSE): konnte Funktion \"plotSampleCorHeatmap\" nicht finden\n",
     "output_type": "error",
     "traceback": [
      "Error in plotSampleCorHeatmap(outrider_ds, normalized = FALSE): konnte Funktion \"plotSampleCorHeatmap\" nicht finden\nTraceback:\n"
     ]
    }
   ],
   "source": [
    "plotSampleCorHeatmap(outrider_ds, normalized=FALSE)"
   ]
  },
  {
   "cell_type": "code",
   "execution_count": 27,
   "id": "60e4ec93",
   "metadata": {},
   "outputs": [
    {
     "ename": "ERROR",
     "evalue": "Error in is(ods, \"OutriderDataSet\"): Objekt 'ods' nicht gefunden\n",
     "output_type": "error",
     "traceback": [
      "Error in is(ods, \"OutriderDataSet\"): Objekt 'ods' nicht gefunden\nTraceback:\n",
      "1. plotCountCorHeatmap(outrider_ds)",
      "2. plotCountCorHeatmap(outrider_ds)",
      "3. .local(object, ...)",
      "4. is(ods, \"OutriderDataSet\")"
     ]
    }
   ],
   "source": [
    "plotCountCorHeatmap(outrider_ds)"
   ]
  },
  {
   "cell_type": "code",
   "execution_count": 33,
   "id": "3349c45e",
   "metadata": {},
   "outputs": [],
   "source": [
    "# extract fitted AE weights\n",
    "E <- OUTRIDER:::E(outrider_ds) # encoder weights\n",
    "D <- OUTRIDER:::D(outrider_ds) # decoder weights\n",
    "b <- OUTRIDER:::b(outrider_ds) # bias, originally initialized as mean(log.intensity) per protein\n",
    "\n"
   ]
  },
  {
   "cell_type": "code",
   "execution_count": 34,
   "id": "46f5c432",
   "metadata": {},
   "outputs": [],
   "source": [
    "# recompute AE predictions without NA\n",
    "x0 <- preprocessed(outrider_ds) # input values in log space\n",
    "b0 <- rowMeans(x0, na.rm=TRUE)\n",
    "x <- t(x0 - b0) # input to the AE, values are centered\n",
    "x[is.na(x)] <- 0 # NAs get replaced with zeros to allow matrix multiplication\n",
    "H <- x %*% E # computation of the latent space\n",
    "pred_no_na <- t(H %*% D) + matrix(b, nrow=nrow(outrider_ds), ncol=ncol(outrider_ds)) # decode from latent space with decoder weights and bias"
   ]
  },
  {
   "cell_type": "code",
   "execution_count": 50,
   "id": "b51542b9",
   "metadata": {},
   "outputs": [],
   "source": [
    "rownames(pred_no_na) <- rownames(outrider_ds)"
   ]
  },
  {
   "cell_type": "code",
   "execution_count": 52,
   "id": "468d4e60",
   "metadata": {},
   "outputs": [
    {
     "data": {
      "text/html": [
       "<table class=\"dataframe\">\n",
       "<caption>A matrix: 6 × 60 of type dbl</caption>\n",
       "<thead>\n",
       "\t<tr><th></th><th scope=col>X786O_NCI60</th><th scope=col>A498_NCI60</th><th scope=col>A549_NCI60</th><th scope=col>ACHN_NCI60</th><th scope=col>BT549_NCI60</th><th scope=col>CAKI1_NCI60</th><th scope=col>CCRFCEM_NCI60</th><th scope=col>COLO205_NCI60</th><th scope=col>DU145_NCI60</th><th scope=col>EKVX_NCI60</th><th scope=col>⋯</th><th scope=col>SNB19_NCI60</th><th scope=col>SNB75_NCI60</th><th scope=col>SR_NCI60</th><th scope=col>SW620_NCI60</th><th scope=col>T47D_NCI60</th><th scope=col>TK10_NCI60</th><th scope=col>U031_NCI60</th><th scope=col>U251_NCI60</th><th scope=col>UACC257_NCI60</th><th scope=col>UACC62_NCI60</th></tr>\n",
       "</thead>\n",
       "<tbody>\n",
       "\t<tr><th scope=row>P0DN26;A0A075B759;Q9Y536;F5H284;A0A0B4J2A2;P0DN37</th><td>23.82530</td><td>24.89250</td><td>23.46536</td><td>24.26511</td><td>24.99417</td><td>25.46808</td><td>23.91395</td><td>25.65536</td><td>23.57569</td><td>24.38698</td><td>⋯</td><td>25.54598</td><td>26.19636</td><td>22.81692</td><td>24.31618</td><td>25.50504</td><td>25.56392</td><td>23.95363</td><td>25.12832</td><td>25.17307</td><td>25.84836</td></tr>\n",
       "\t<tr><th scope=row>A0AV96;A0AV96-2</th><td>26.95893</td><td>28.67702</td><td>29.12149</td><td>29.22591</td><td>24.08905</td><td>27.47051</td><td>22.85227</td><td>32.45874</td><td>28.00763</td><td>29.90481</td><td>⋯</td><td>25.51139</td><td>25.44076</td><td>26.48217</td><td>28.93228</td><td>29.98096</td><td>28.86376</td><td>26.97917</td><td>26.17529</td><td>25.60923</td><td>25.94243</td></tr>\n",
       "\t<tr><th scope=row>A0AVF1;A0AVF1-2;A0AVF1-3</th><td>23.77847</td><td>24.47958</td><td>23.40375</td><td>26.09918</td><td>24.29845</td><td>24.66992</td><td>25.21604</td><td>24.20237</td><td>24.03991</td><td>23.12396</td><td>⋯</td><td>25.57966</td><td>25.25518</td><td>26.65104</td><td>25.98517</td><td>23.99013</td><td>24.89343</td><td>25.10870</td><td>25.50019</td><td>24.60681</td><td>24.27626</td></tr>\n",
       "\t<tr><th scope=row>A0AVT1;A0AVT1-2;A0AVT1-3;A0AVT1-4</th><td>31.90762</td><td>31.70965</td><td>31.41251</td><td>32.39082</td><td>31.29363</td><td>32.02402</td><td>31.57607</td><td>31.04223</td><td>31.72583</td><td>31.25707</td><td>⋯</td><td>31.48502</td><td>31.35044</td><td>31.52994</td><td>31.32385</td><td>31.54180</td><td>32.04987</td><td>31.81649</td><td>31.61414</td><td>30.10508</td><td>30.35830</td></tr>\n",
       "\t<tr><th scope=row>A0FGR8-6;A0FGR8</th><td>29.53564</td><td>26.32843</td><td>26.11850</td><td>24.78599</td><td>26.70081</td><td>25.57264</td><td>27.98287</td><td>27.27502</td><td>26.03777</td><td>27.61926</td><td>⋯</td><td>26.92745</td><td>26.57684</td><td>28.59774</td><td>26.38374</td><td>25.82347</td><td>25.27722</td><td>26.00291</td><td>25.33322</td><td>26.35553</td><td>24.34689</td></tr>\n",
       "\t<tr><th scope=row>A0JLT2;A0JLT2-2</th><td>24.02672</td><td>25.56828</td><td>26.18665</td><td>24.93679</td><td>25.16909</td><td>25.26828</td><td>26.73343</td><td>25.75000</td><td>25.72822</td><td>25.16022</td><td>⋯</td><td>25.08475</td><td>24.77894</td><td>25.33499</td><td>25.66370</td><td>26.69872</td><td>24.44849</td><td>25.86691</td><td>25.13800</td><td>25.44573</td><td>25.14074</td></tr>\n",
       "</tbody>\n",
       "</table>\n"
      ],
      "text/latex": [
       "A matrix: 6 × 60 of type dbl\n",
       "\\begin{tabular}{r|lllllllllllllllllllll}\n",
       "  & X786O\\_NCI60 & A498\\_NCI60 & A549\\_NCI60 & ACHN\\_NCI60 & BT549\\_NCI60 & CAKI1\\_NCI60 & CCRFCEM\\_NCI60 & COLO205\\_NCI60 & DU145\\_NCI60 & EKVX\\_NCI60 & ⋯ & SNB19\\_NCI60 & SNB75\\_NCI60 & SR\\_NCI60 & SW620\\_NCI60 & T47D\\_NCI60 & TK10\\_NCI60 & U031\\_NCI60 & U251\\_NCI60 & UACC257\\_NCI60 & UACC62\\_NCI60\\\\\n",
       "\\hline\n",
       "\tP0DN26;A0A075B759;Q9Y536;F5H284;A0A0B4J2A2;P0DN37 & 23.82530 & 24.89250 & 23.46536 & 24.26511 & 24.99417 & 25.46808 & 23.91395 & 25.65536 & 23.57569 & 24.38698 & ⋯ & 25.54598 & 26.19636 & 22.81692 & 24.31618 & 25.50504 & 25.56392 & 23.95363 & 25.12832 & 25.17307 & 25.84836\\\\\n",
       "\tA0AV96;A0AV96-2 & 26.95893 & 28.67702 & 29.12149 & 29.22591 & 24.08905 & 27.47051 & 22.85227 & 32.45874 & 28.00763 & 29.90481 & ⋯ & 25.51139 & 25.44076 & 26.48217 & 28.93228 & 29.98096 & 28.86376 & 26.97917 & 26.17529 & 25.60923 & 25.94243\\\\\n",
       "\tA0AVF1;A0AVF1-2;A0AVF1-3 & 23.77847 & 24.47958 & 23.40375 & 26.09918 & 24.29845 & 24.66992 & 25.21604 & 24.20237 & 24.03991 & 23.12396 & ⋯ & 25.57966 & 25.25518 & 26.65104 & 25.98517 & 23.99013 & 24.89343 & 25.10870 & 25.50019 & 24.60681 & 24.27626\\\\\n",
       "\tA0AVT1;A0AVT1-2;A0AVT1-3;A0AVT1-4 & 31.90762 & 31.70965 & 31.41251 & 32.39082 & 31.29363 & 32.02402 & 31.57607 & 31.04223 & 31.72583 & 31.25707 & ⋯ & 31.48502 & 31.35044 & 31.52994 & 31.32385 & 31.54180 & 32.04987 & 31.81649 & 31.61414 & 30.10508 & 30.35830\\\\\n",
       "\tA0FGR8-6;A0FGR8 & 29.53564 & 26.32843 & 26.11850 & 24.78599 & 26.70081 & 25.57264 & 27.98287 & 27.27502 & 26.03777 & 27.61926 & ⋯ & 26.92745 & 26.57684 & 28.59774 & 26.38374 & 25.82347 & 25.27722 & 26.00291 & 25.33322 & 26.35553 & 24.34689\\\\\n",
       "\tA0JLT2;A0JLT2-2 & 24.02672 & 25.56828 & 26.18665 & 24.93679 & 25.16909 & 25.26828 & 26.73343 & 25.75000 & 25.72822 & 25.16022 & ⋯ & 25.08475 & 24.77894 & 25.33499 & 25.66370 & 26.69872 & 24.44849 & 25.86691 & 25.13800 & 25.44573 & 25.14074\\\\\n",
       "\\end{tabular}\n"
      ],
      "text/markdown": [
       "\n",
       "A matrix: 6 × 60 of type dbl\n",
       "\n",
       "| <!--/--> | X786O_NCI60 | A498_NCI60 | A549_NCI60 | ACHN_NCI60 | BT549_NCI60 | CAKI1_NCI60 | CCRFCEM_NCI60 | COLO205_NCI60 | DU145_NCI60 | EKVX_NCI60 | ⋯ | SNB19_NCI60 | SNB75_NCI60 | SR_NCI60 | SW620_NCI60 | T47D_NCI60 | TK10_NCI60 | U031_NCI60 | U251_NCI60 | UACC257_NCI60 | UACC62_NCI60 |\n",
       "|---|---|---|---|---|---|---|---|---|---|---|---|---|---|---|---|---|---|---|---|---|---|\n",
       "| P0DN26;A0A075B759;Q9Y536;F5H284;A0A0B4J2A2;P0DN37 | 23.82530 | 24.89250 | 23.46536 | 24.26511 | 24.99417 | 25.46808 | 23.91395 | 25.65536 | 23.57569 | 24.38698 | ⋯ | 25.54598 | 26.19636 | 22.81692 | 24.31618 | 25.50504 | 25.56392 | 23.95363 | 25.12832 | 25.17307 | 25.84836 |\n",
       "| A0AV96;A0AV96-2 | 26.95893 | 28.67702 | 29.12149 | 29.22591 | 24.08905 | 27.47051 | 22.85227 | 32.45874 | 28.00763 | 29.90481 | ⋯ | 25.51139 | 25.44076 | 26.48217 | 28.93228 | 29.98096 | 28.86376 | 26.97917 | 26.17529 | 25.60923 | 25.94243 |\n",
       "| A0AVF1;A0AVF1-2;A0AVF1-3 | 23.77847 | 24.47958 | 23.40375 | 26.09918 | 24.29845 | 24.66992 | 25.21604 | 24.20237 | 24.03991 | 23.12396 | ⋯ | 25.57966 | 25.25518 | 26.65104 | 25.98517 | 23.99013 | 24.89343 | 25.10870 | 25.50019 | 24.60681 | 24.27626 |\n",
       "| A0AVT1;A0AVT1-2;A0AVT1-3;A0AVT1-4 | 31.90762 | 31.70965 | 31.41251 | 32.39082 | 31.29363 | 32.02402 | 31.57607 | 31.04223 | 31.72583 | 31.25707 | ⋯ | 31.48502 | 31.35044 | 31.52994 | 31.32385 | 31.54180 | 32.04987 | 31.81649 | 31.61414 | 30.10508 | 30.35830 |\n",
       "| A0FGR8-6;A0FGR8 | 29.53564 | 26.32843 | 26.11850 | 24.78599 | 26.70081 | 25.57264 | 27.98287 | 27.27502 | 26.03777 | 27.61926 | ⋯ | 26.92745 | 26.57684 | 28.59774 | 26.38374 | 25.82347 | 25.27722 | 26.00291 | 25.33322 | 26.35553 | 24.34689 |\n",
       "| A0JLT2;A0JLT2-2 | 24.02672 | 25.56828 | 26.18665 | 24.93679 | 25.16909 | 25.26828 | 26.73343 | 25.75000 | 25.72822 | 25.16022 | ⋯ | 25.08475 | 24.77894 | 25.33499 | 25.66370 | 26.69872 | 24.44849 | 25.86691 | 25.13800 | 25.44573 | 25.14074 |\n",
       "\n"
      ],
      "text/plain": [
       "                                                  X786O_NCI60 A498_NCI60\n",
       "P0DN26;A0A075B759;Q9Y536;F5H284;A0A0B4J2A2;P0DN37 23.82530    24.89250  \n",
       "A0AV96;A0AV96-2                                   26.95893    28.67702  \n",
       "A0AVF1;A0AVF1-2;A0AVF1-3                          23.77847    24.47958  \n",
       "A0AVT1;A0AVT1-2;A0AVT1-3;A0AVT1-4                 31.90762    31.70965  \n",
       "A0FGR8-6;A0FGR8                                   29.53564    26.32843  \n",
       "A0JLT2;A0JLT2-2                                   24.02672    25.56828  \n",
       "                                                  A549_NCI60 ACHN_NCI60\n",
       "P0DN26;A0A075B759;Q9Y536;F5H284;A0A0B4J2A2;P0DN37 23.46536   24.26511  \n",
       "A0AV96;A0AV96-2                                   29.12149   29.22591  \n",
       "A0AVF1;A0AVF1-2;A0AVF1-3                          23.40375   26.09918  \n",
       "A0AVT1;A0AVT1-2;A0AVT1-3;A0AVT1-4                 31.41251   32.39082  \n",
       "A0FGR8-6;A0FGR8                                   26.11850   24.78599  \n",
       "A0JLT2;A0JLT2-2                                   26.18665   24.93679  \n",
       "                                                  BT549_NCI60 CAKI1_NCI60\n",
       "P0DN26;A0A075B759;Q9Y536;F5H284;A0A0B4J2A2;P0DN37 24.99417    25.46808   \n",
       "A0AV96;A0AV96-2                                   24.08905    27.47051   \n",
       "A0AVF1;A0AVF1-2;A0AVF1-3                          24.29845    24.66992   \n",
       "A0AVT1;A0AVT1-2;A0AVT1-3;A0AVT1-4                 31.29363    32.02402   \n",
       "A0FGR8-6;A0FGR8                                   26.70081    25.57264   \n",
       "A0JLT2;A0JLT2-2                                   25.16909    25.26828   \n",
       "                                                  CCRFCEM_NCI60 COLO205_NCI60\n",
       "P0DN26;A0A075B759;Q9Y536;F5H284;A0A0B4J2A2;P0DN37 23.91395      25.65536     \n",
       "A0AV96;A0AV96-2                                   22.85227      32.45874     \n",
       "A0AVF1;A0AVF1-2;A0AVF1-3                          25.21604      24.20237     \n",
       "A0AVT1;A0AVT1-2;A0AVT1-3;A0AVT1-4                 31.57607      31.04223     \n",
       "A0FGR8-6;A0FGR8                                   27.98287      27.27502     \n",
       "A0JLT2;A0JLT2-2                                   26.73343      25.75000     \n",
       "                                                  DU145_NCI60 EKVX_NCI60 ⋯\n",
       "P0DN26;A0A075B759;Q9Y536;F5H284;A0A0B4J2A2;P0DN37 23.57569    24.38698   ⋯\n",
       "A0AV96;A0AV96-2                                   28.00763    29.90481   ⋯\n",
       "A0AVF1;A0AVF1-2;A0AVF1-3                          24.03991    23.12396   ⋯\n",
       "A0AVT1;A0AVT1-2;A0AVT1-3;A0AVT1-4                 31.72583    31.25707   ⋯\n",
       "A0FGR8-6;A0FGR8                                   26.03777    27.61926   ⋯\n",
       "A0JLT2;A0JLT2-2                                   25.72822    25.16022   ⋯\n",
       "                                                  SNB19_NCI60 SNB75_NCI60\n",
       "P0DN26;A0A075B759;Q9Y536;F5H284;A0A0B4J2A2;P0DN37 25.54598    26.19636   \n",
       "A0AV96;A0AV96-2                                   25.51139    25.44076   \n",
       "A0AVF1;A0AVF1-2;A0AVF1-3                          25.57966    25.25518   \n",
       "A0AVT1;A0AVT1-2;A0AVT1-3;A0AVT1-4                 31.48502    31.35044   \n",
       "A0FGR8-6;A0FGR8                                   26.92745    26.57684   \n",
       "A0JLT2;A0JLT2-2                                   25.08475    24.77894   \n",
       "                                                  SR_NCI60 SW620_NCI60\n",
       "P0DN26;A0A075B759;Q9Y536;F5H284;A0A0B4J2A2;P0DN37 22.81692 24.31618   \n",
       "A0AV96;A0AV96-2                                   26.48217 28.93228   \n",
       "A0AVF1;A0AVF1-2;A0AVF1-3                          26.65104 25.98517   \n",
       "A0AVT1;A0AVT1-2;A0AVT1-3;A0AVT1-4                 31.52994 31.32385   \n",
       "A0FGR8-6;A0FGR8                                   28.59774 26.38374   \n",
       "A0JLT2;A0JLT2-2                                   25.33499 25.66370   \n",
       "                                                  T47D_NCI60 TK10_NCI60\n",
       "P0DN26;A0A075B759;Q9Y536;F5H284;A0A0B4J2A2;P0DN37 25.50504   25.56392  \n",
       "A0AV96;A0AV96-2                                   29.98096   28.86376  \n",
       "A0AVF1;A0AVF1-2;A0AVF1-3                          23.99013   24.89343  \n",
       "A0AVT1;A0AVT1-2;A0AVT1-3;A0AVT1-4                 31.54180   32.04987  \n",
       "A0FGR8-6;A0FGR8                                   25.82347   25.27722  \n",
       "A0JLT2;A0JLT2-2                                   26.69872   24.44849  \n",
       "                                                  U031_NCI60 U251_NCI60\n",
       "P0DN26;A0A075B759;Q9Y536;F5H284;A0A0B4J2A2;P0DN37 23.95363   25.12832  \n",
       "A0AV96;A0AV96-2                                   26.97917   26.17529  \n",
       "A0AVF1;A0AVF1-2;A0AVF1-3                          25.10870   25.50019  \n",
       "A0AVT1;A0AVT1-2;A0AVT1-3;A0AVT1-4                 31.81649   31.61414  \n",
       "A0FGR8-6;A0FGR8                                   26.00291   25.33322  \n",
       "A0JLT2;A0JLT2-2                                   25.86691   25.13800  \n",
       "                                                  UACC257_NCI60 UACC62_NCI60\n",
       "P0DN26;A0A075B759;Q9Y536;F5H284;A0A0B4J2A2;P0DN37 25.17307      25.84836    \n",
       "A0AV96;A0AV96-2                                   25.60923      25.94243    \n",
       "A0AVF1;A0AVF1-2;A0AVF1-3                          24.60681      24.27626    \n",
       "A0AVT1;A0AVT1-2;A0AVT1-3;A0AVT1-4                 30.10508      30.35830    \n",
       "A0FGR8-6;A0FGR8                                   26.35553      24.34689    \n",
       "A0JLT2;A0JLT2-2                                   25.44573      25.14074    "
      ]
     },
     "metadata": {},
     "output_type": "display_data"
    }
   ],
   "source": [
    "head(pred_no_na)\n",
    "write.table(pred_no_na, \"pred_no_na.txt\", row.names = TRUE)"
   ]
  },
  {
   "cell_type": "code",
   "execution_count": 62,
   "id": "d99acd8d",
   "metadata": {},
   "outputs": [],
   "source": [
    "write.table(res, \"outrider_res.txt\", row.names = TRUE)"
   ]
  }
 ],
 "metadata": {
  "kernelspec": {
   "display_name": "R",
   "language": "R",
   "name": "ir"
  },
  "language_info": {
   "codemirror_mode": "r",
   "file_extension": ".r",
   "mimetype": "text/x-r-source",
   "name": "R",
   "pygments_lexer": "r",
   "version": "4.2.2"
  }
 },
 "nbformat": 4,
 "nbformat_minor": 5
}
