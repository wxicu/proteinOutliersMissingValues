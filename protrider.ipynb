{
 "cells": [
  {
   "cell_type": "code",
   "execution_count": 1,
   "id": "71540c61",
   "metadata": {},
   "outputs": [
    {
     "name": "stderr",
     "output_type": "stream",
     "text": [
      "\n",
      "Attache Paket: ‘dplyr’\n",
      "\n",
      "\n",
      "Die folgenden Objekte sind maskiert von ‘package:stats’:\n",
      "\n",
      "    filter, lag\n",
      "\n",
      "\n",
      "Die folgenden Objekte sind maskiert von ‘package:base’:\n",
      "\n",
      "    intersect, setdiff, setequal, union\n",
      "\n",
      "\n",
      "\n",
      "Attache Paket: ‘data.table’\n",
      "\n",
      "\n",
      "Die folgenden Objekte sind maskiert von ‘package:dplyr’:\n",
      "\n",
      "    between, first, last\n",
      "\n",
      "\n",
      "Lade nötiges Paket: ggpp\n",
      "\n",
      "Lade nötiges Paket: ggplot2\n",
      "\n",
      "\n",
      "Attache Paket: ‘ggpp’\n",
      "\n",
      "\n",
      "Das folgende Objekt ist maskiert ‘package:ggplot2’:\n",
      "\n",
      "    annotate\n",
      "\n",
      "\n",
      "Lade nötiges Paket: BiocParallel\n",
      "\n",
      "Lade nötiges Paket: GenomicFeatures\n",
      "\n",
      "Lade nötiges Paket: BiocGenerics\n",
      "\n",
      "\n",
      "Attache Paket: ‘BiocGenerics’\n",
      "\n",
      "\n",
      "Die folgenden Objekte sind maskiert von ‘package:dplyr’:\n",
      "\n",
      "    combine, intersect, setdiff, union\n",
      "\n",
      "\n",
      "Die folgenden Objekte sind maskiert von ‘package:stats’:\n",
      "\n",
      "    IQR, mad, sd, var, xtabs\n",
      "\n",
      "\n",
      "Die folgenden Objekte sind maskiert von ‘package:base’:\n",
      "\n",
      "    Filter, Find, Map, Position, Reduce, anyDuplicated, aperm, append,\n",
      "    as.data.frame, basename, cbind, colnames, dirname, do.call,\n",
      "    duplicated, eval, evalq, get, grep, grepl, intersect, is.unsorted,\n",
      "    lapply, mapply, match, mget, order, paste, pmax, pmax.int, pmin,\n",
      "    pmin.int, rank, rbind, rownames, sapply, setdiff, sort, table,\n",
      "    tapply, union, unique, unsplit, which.max, which.min\n",
      "\n",
      "\n",
      "Lade nötiges Paket: S4Vectors\n",
      "\n",
      "Lade nötiges Paket: stats4\n",
      "\n",
      "\n",
      "Attache Paket: ‘S4Vectors’\n",
      "\n",
      "\n",
      "Die folgenden Objekte sind maskiert von ‘package:data.table’:\n",
      "\n",
      "    first, second\n",
      "\n",
      "\n",
      "Die folgenden Objekte sind maskiert von ‘package:dplyr’:\n",
      "\n",
      "    first, rename\n",
      "\n",
      "\n",
      "Die folgenden Objekte sind maskiert von ‘package:base’:\n",
      "\n",
      "    I, expand.grid, unname\n",
      "\n",
      "\n",
      "Lade nötiges Paket: IRanges\n",
      "\n",
      "\n",
      "Attache Paket: ‘IRanges’\n",
      "\n",
      "\n",
      "Das folgende Objekt ist maskiert ‘package:data.table’:\n",
      "\n",
      "    shift\n",
      "\n",
      "\n",
      "Die folgenden Objekte sind maskiert von ‘package:dplyr’:\n",
      "\n",
      "    collapse, desc, slice\n",
      "\n",
      "\n",
      "Lade nötiges Paket: GenomeInfoDb\n",
      "\n",
      "Lade nötiges Paket: GenomicRanges\n",
      "\n",
      "Lade nötiges Paket: AnnotationDbi\n",
      "\n",
      "Lade nötiges Paket: Biobase\n",
      "\n",
      "Welcome to Bioconductor\n",
      "\n",
      "    Vignettes contain introductory material; view with\n",
      "    'browseVignettes()'. To cite Bioconductor, see\n",
      "    'citation(\"Biobase\")', and for packages 'citation(\"pkgname\")'.\n",
      "\n",
      "\n",
      "\n",
      "Attache Paket: ‘AnnotationDbi’\n",
      "\n",
      "\n",
      "Das folgende Objekt ist maskiert ‘package:dplyr’:\n",
      "\n",
      "    select\n",
      "\n",
      "\n",
      "Lade nötiges Paket: SummarizedExperiment\n",
      "\n",
      "Lade nötiges Paket: MatrixGenerics\n",
      "\n",
      "Lade nötiges Paket: matrixStats\n",
      "\n",
      "\n",
      "Attache Paket: ‘matrixStats’\n",
      "\n",
      "\n",
      "Die folgenden Objekte sind maskiert von ‘package:Biobase’:\n",
      "\n",
      "    anyMissing, rowMedians\n",
      "\n",
      "\n",
      "Das folgende Objekt ist maskiert ‘package:dplyr’:\n",
      "\n",
      "    count\n",
      "\n",
      "\n",
      "\n",
      "Attache Paket: ‘MatrixGenerics’\n",
      "\n",
      "\n",
      "Die folgenden Objekte sind maskiert von ‘package:matrixStats’:\n",
      "\n",
      "    colAlls, colAnyNAs, colAnys, colAvgsPerRowSet, colCollapse,\n",
      "    colCounts, colCummaxs, colCummins, colCumprods, colCumsums,\n",
      "    colDiffs, colIQRDiffs, colIQRs, colLogSumExps, colMadDiffs,\n",
      "    colMads, colMaxs, colMeans2, colMedians, colMins, colOrderStats,\n",
      "    colProds, colQuantiles, colRanges, colRanks, colSdDiffs, colSds,\n",
      "    colSums2, colTabulates, colVarDiffs, colVars, colWeightedMads,\n",
      "    colWeightedMeans, colWeightedMedians, colWeightedSds,\n",
      "    colWeightedVars, rowAlls, rowAnyNAs, rowAnys, rowAvgsPerColSet,\n",
      "    rowCollapse, rowCounts, rowCummaxs, rowCummins, rowCumprods,\n",
      "    rowCumsums, rowDiffs, rowIQRDiffs, rowIQRs, rowLogSumExps,\n",
      "    rowMadDiffs, rowMads, rowMaxs, rowMeans2, rowMedians, rowMins,\n",
      "    rowOrderStats, rowProds, rowQuantiles, rowRanges, rowRanks,\n",
      "    rowSdDiffs, rowSds, rowSums2, rowTabulates, rowVarDiffs, rowVars,\n",
      "    rowWeightedMads, rowWeightedMeans, rowWeightedMedians,\n",
      "    rowWeightedSds, rowWeightedVars\n",
      "\n",
      "\n",
      "Das folgende Objekt ist maskiert ‘package:Biobase’:\n",
      "\n",
      "    rowMedians\n",
      "\n",
      "\n",
      "\n",
      "Attache Paket: ‘OUTRIDER’\n",
      "\n",
      "\n",
      "Das folgende Objekt ist maskiert ‘package:stats4’:\n",
      "\n",
      "    profile\n",
      "\n",
      "\n",
      "Das folgende Objekt ist maskiert ‘package:stats’:\n",
      "\n",
      "    profile\n",
      "\n",
      "\n"
     ]
    }
   ],
   "source": [
    "library(dplyr)\n",
    "library(data.table)\n",
    "library(ggpmisc)\n",
    "#BiocManager::install(\"gagneurlab/OUTRIDER\", ref=\"outrider2\",force = TRUE)\n",
    "library(OUTRIDER)"
   ]
  },
  {
   "cell_type": "code",
   "execution_count": 2,
   "id": "dc103ed0",
   "metadata": {},
   "outputs": [],
   "source": [
    "# extract protein intensity\n",
    "dat <- fread(\"proteinGroups.txt\")\n",
    "prot_int <- as.data.frame(dat[,327:386])"
   ]
  },
  {
   "cell_type": "code",
   "execution_count": 3,
   "id": "b43d7996",
   "metadata": {},
   "outputs": [],
   "source": [
    "samples <- sub(\"Intensity \", \"\", colnames(dat)[327:386])\n",
    "colnames(prot_int) <- samples\n",
    "rownames(prot_int) <- dat$`Protein IDs`"
   ]
  },
  {
   "cell_type": "code",
   "execution_count": 4,
   "id": "3fb96c2a",
   "metadata": {},
   "outputs": [],
   "source": [
    "write.table(prot_int, \"prot_int.csv\")"
   ]
  },
  {
   "cell_type": "code",
   "execution_count": 5,
   "id": "adbcc7e8",
   "metadata": {},
   "outputs": [
    {
     "data": {
      "text/html": [
       "<style>\n",
       ".list-inline {list-style: none; margin:0; padding: 0}\n",
       ".list-inline>li {display: inline-block}\n",
       ".list-inline>li:not(:last-child)::after {content: \"\\00b7\"; padding: 0 .5ex}\n",
       "</style>\n",
       "<ol class=list-inline><li>10825</li><li>60</li></ol>\n"
      ],
      "text/latex": [
       "\\begin{enumerate*}\n",
       "\\item 10825\n",
       "\\item 60\n",
       "\\end{enumerate*}\n"
      ],
      "text/markdown": [
       "1. 10825\n",
       "2. 60\n",
       "\n",
       "\n"
      ],
      "text/plain": [
       "[1] 10825    60"
      ]
     },
     "metadata": {},
     "output_type": "display_data"
    },
    {
     "data": {
      "text/html": [
       "<table class=\"dataframe\">\n",
       "<caption>A data.frame: 6 × 60</caption>\n",
       "<thead>\n",
       "\t<tr><th></th><th scope=col>X786O_NCI60</th><th scope=col>A498_NCI60</th><th scope=col>A549_NCI60</th><th scope=col>ACHN_NCI60</th><th scope=col>BT549_NCI60</th><th scope=col>CAKI1_NCI60</th><th scope=col>CCRFCEM_NCI60</th><th scope=col>COLO205_NCI60</th><th scope=col>DU145_NCI60</th><th scope=col>EKVX_NCI60</th><th scope=col>⋯</th><th scope=col>SNB19_NCI60</th><th scope=col>SNB75_NCI60</th><th scope=col>SR_NCI60</th><th scope=col>SW620_NCI60</th><th scope=col>T47D_NCI60</th><th scope=col>TK10_NCI60</th><th scope=col>U031_NCI60</th><th scope=col>U251_NCI60</th><th scope=col>UACC257_NCI60</th><th scope=col>UACC62_NCI60</th></tr>\n",
       "\t<tr><th></th><th scope=col>&lt;dbl&gt;</th><th scope=col>&lt;dbl&gt;</th><th scope=col>&lt;dbl&gt;</th><th scope=col>&lt;dbl&gt;</th><th scope=col>&lt;dbl&gt;</th><th scope=col>&lt;dbl&gt;</th><th scope=col>&lt;dbl&gt;</th><th scope=col>&lt;dbl&gt;</th><th scope=col>&lt;dbl&gt;</th><th scope=col>&lt;dbl&gt;</th><th scope=col>⋯</th><th scope=col>&lt;dbl&gt;</th><th scope=col>&lt;dbl&gt;</th><th scope=col>&lt;dbl&gt;</th><th scope=col>&lt;dbl&gt;</th><th scope=col>&lt;dbl&gt;</th><th scope=col>&lt;dbl&gt;</th><th scope=col>&lt;dbl&gt;</th><th scope=col>&lt;dbl&gt;</th><th scope=col>&lt;dbl&gt;</th><th scope=col>&lt;dbl&gt;</th></tr>\n",
       "</thead>\n",
       "<tbody>\n",
       "\t<tr><th scope=row>P0DN26;A0A075B759;Q9Y536;F5H284;A0A0B4J2A2;P0DN37</th><td> 3812400</td><td> 32150000</td><td>  6094400</td><td>   4313900</td><td>       0</td><td> 47658000</td><td>  5785500</td><td>  64889000</td><td> 33141000</td><td>  30032000</td><td>⋯</td><td>18067000</td><td>60596000</td><td> 7556500</td><td>  8213600</td><td> 48755000</td><td> 161350000</td><td>        0</td><td>54603000</td><td> 48719000</td><td> 14605000</td></tr>\n",
       "\t<tr><th scope=row>A0A0B4J2F0</th><td>       0</td><td>        0</td><td>        0</td><td>         0</td><td>       0</td><td>        0</td><td>        0</td><td>         0</td><td>        0</td><td>   6635200</td><td>⋯</td><td>       0</td><td>       0</td><td>       0</td><td>        0</td><td>        0</td><td>         0</td><td>        0</td><td>       0</td><td>        0</td><td>        0</td></tr>\n",
       "\t<tr><th scope=row>A0A0C4DH73</th><td>       0</td><td>        0</td><td>        0</td><td>         0</td><td>       0</td><td>        0</td><td>        0</td><td>         0</td><td>        0</td><td>         0</td><td>⋯</td><td>       0</td><td>       0</td><td>       0</td><td>        0</td><td>        0</td><td>         0</td><td>        0</td><td>       0</td><td>        0</td><td>        0</td></tr>\n",
       "\t<tr><th scope=row>A0A5B9;P01850</th><td>       0</td><td>        0</td><td>        0</td><td>         0</td><td>       0</td><td>        0</td><td>234380000</td><td>         0</td><td>  7342300</td><td>         0</td><td>⋯</td><td>       0</td><td>       0</td><td> 5834700</td><td>        0</td><td>        0</td><td>         0</td><td>        0</td><td>10133000</td><td>        0</td><td> 35631000</td></tr>\n",
       "\t<tr><th scope=row>A0AV96;A0AV96-2</th><td>73467000</td><td>567040000</td><td>490700000</td><td>1056000000</td><td>23231000</td><td>242810000</td><td> 21620000</td><td>3138100000</td><td>108070000</td><td>1439200000</td><td>⋯</td><td>81147000</td><td>21566000</td><td>11199000</td><td>513940000</td><td>857760000</td><td>1651300000</td><td>470600000</td><td>40020000</td><td>106450000</td><td>        0</td></tr>\n",
       "\t<tr><th scope=row>A0AVF1;A0AVF1-2;A0AVF1-3</th><td> 6052600</td><td> 54431000</td><td> 24653000</td><td>  52919000</td><td>15826000</td><td>        0</td><td> 17568000</td><td>  18730000</td><td>  9006900</td><td>  12765000</td><td>⋯</td><td>75090000</td><td>46642000</td><td>       0</td><td> 70986000</td><td> 20219000</td><td>  62485000</td><td> 13611000</td><td>29807000</td><td> 53550000</td><td>114360000</td></tr>\n",
       "</tbody>\n",
       "</table>\n"
      ],
      "text/latex": [
       "A data.frame: 6 × 60\n",
       "\\begin{tabular}{r|lllllllllllllllllllll}\n",
       "  & X786O\\_NCI60 & A498\\_NCI60 & A549\\_NCI60 & ACHN\\_NCI60 & BT549\\_NCI60 & CAKI1\\_NCI60 & CCRFCEM\\_NCI60 & COLO205\\_NCI60 & DU145\\_NCI60 & EKVX\\_NCI60 & ⋯ & SNB19\\_NCI60 & SNB75\\_NCI60 & SR\\_NCI60 & SW620\\_NCI60 & T47D\\_NCI60 & TK10\\_NCI60 & U031\\_NCI60 & U251\\_NCI60 & UACC257\\_NCI60 & UACC62\\_NCI60\\\\\n",
       "  & <dbl> & <dbl> & <dbl> & <dbl> & <dbl> & <dbl> & <dbl> & <dbl> & <dbl> & <dbl> & ⋯ & <dbl> & <dbl> & <dbl> & <dbl> & <dbl> & <dbl> & <dbl> & <dbl> & <dbl> & <dbl>\\\\\n",
       "\\hline\n",
       "\tP0DN26;A0A075B759;Q9Y536;F5H284;A0A0B4J2A2;P0DN37 &  3812400 &  32150000 &   6094400 &    4313900 &        0 &  47658000 &   5785500 &   64889000 &  33141000 &   30032000 & ⋯ & 18067000 & 60596000 &  7556500 &   8213600 &  48755000 &  161350000 &         0 & 54603000 &  48719000 &  14605000\\\\\n",
       "\tA0A0B4J2F0 &        0 &         0 &         0 &          0 &        0 &         0 &         0 &          0 &         0 &    6635200 & ⋯ &        0 &        0 &        0 &         0 &         0 &          0 &         0 &        0 &         0 &         0\\\\\n",
       "\tA0A0C4DH73 &        0 &         0 &         0 &          0 &        0 &         0 &         0 &          0 &         0 &          0 & ⋯ &        0 &        0 &        0 &         0 &         0 &          0 &         0 &        0 &         0 &         0\\\\\n",
       "\tA0A5B9;P01850 &        0 &         0 &         0 &          0 &        0 &         0 & 234380000 &          0 &   7342300 &          0 & ⋯ &        0 &        0 &  5834700 &         0 &         0 &          0 &         0 & 10133000 &         0 &  35631000\\\\\n",
       "\tA0AV96;A0AV96-2 & 73467000 & 567040000 & 490700000 & 1056000000 & 23231000 & 242810000 &  21620000 & 3138100000 & 108070000 & 1439200000 & ⋯ & 81147000 & 21566000 & 11199000 & 513940000 & 857760000 & 1651300000 & 470600000 & 40020000 & 106450000 &         0\\\\\n",
       "\tA0AVF1;A0AVF1-2;A0AVF1-3 &  6052600 &  54431000 &  24653000 &   52919000 & 15826000 &         0 &  17568000 &   18730000 &   9006900 &   12765000 & ⋯ & 75090000 & 46642000 &        0 &  70986000 &  20219000 &   62485000 &  13611000 & 29807000 &  53550000 & 114360000\\\\\n",
       "\\end{tabular}\n"
      ],
      "text/markdown": [
       "\n",
       "A data.frame: 6 × 60\n",
       "\n",
       "| <!--/--> | X786O_NCI60 &lt;dbl&gt; | A498_NCI60 &lt;dbl&gt; | A549_NCI60 &lt;dbl&gt; | ACHN_NCI60 &lt;dbl&gt; | BT549_NCI60 &lt;dbl&gt; | CAKI1_NCI60 &lt;dbl&gt; | CCRFCEM_NCI60 &lt;dbl&gt; | COLO205_NCI60 &lt;dbl&gt; | DU145_NCI60 &lt;dbl&gt; | EKVX_NCI60 &lt;dbl&gt; | ⋯ ⋯ | SNB19_NCI60 &lt;dbl&gt; | SNB75_NCI60 &lt;dbl&gt; | SR_NCI60 &lt;dbl&gt; | SW620_NCI60 &lt;dbl&gt; | T47D_NCI60 &lt;dbl&gt; | TK10_NCI60 &lt;dbl&gt; | U031_NCI60 &lt;dbl&gt; | U251_NCI60 &lt;dbl&gt; | UACC257_NCI60 &lt;dbl&gt; | UACC62_NCI60 &lt;dbl&gt; |\n",
       "|---|---|---|---|---|---|---|---|---|---|---|---|---|---|---|---|---|---|---|---|---|---|\n",
       "| P0DN26;A0A075B759;Q9Y536;F5H284;A0A0B4J2A2;P0DN37 |  3812400 |  32150000 |   6094400 |    4313900 |        0 |  47658000 |   5785500 |   64889000 |  33141000 |   30032000 | ⋯ | 18067000 | 60596000 |  7556500 |   8213600 |  48755000 |  161350000 |         0 | 54603000 |  48719000 |  14605000 |\n",
       "| A0A0B4J2F0 |        0 |         0 |         0 |          0 |        0 |         0 |         0 |          0 |         0 |    6635200 | ⋯ |        0 |        0 |        0 |         0 |         0 |          0 |         0 |        0 |         0 |         0 |\n",
       "| A0A0C4DH73 |        0 |         0 |         0 |          0 |        0 |         0 |         0 |          0 |         0 |          0 | ⋯ |        0 |        0 |        0 |         0 |         0 |          0 |         0 |        0 |         0 |         0 |\n",
       "| A0A5B9;P01850 |        0 |         0 |         0 |          0 |        0 |         0 | 234380000 |          0 |   7342300 |          0 | ⋯ |        0 |        0 |  5834700 |         0 |         0 |          0 |         0 | 10133000 |         0 |  35631000 |\n",
       "| A0AV96;A0AV96-2 | 73467000 | 567040000 | 490700000 | 1056000000 | 23231000 | 242810000 |  21620000 | 3138100000 | 108070000 | 1439200000 | ⋯ | 81147000 | 21566000 | 11199000 | 513940000 | 857760000 | 1651300000 | 470600000 | 40020000 | 106450000 |         0 |\n",
       "| A0AVF1;A0AVF1-2;A0AVF1-3 |  6052600 |  54431000 |  24653000 |   52919000 | 15826000 |         0 |  17568000 |   18730000 |   9006900 |   12765000 | ⋯ | 75090000 | 46642000 |        0 |  70986000 |  20219000 |   62485000 |  13611000 | 29807000 |  53550000 | 114360000 |\n",
       "\n"
      ],
      "text/plain": [
       "                                                  X786O_NCI60 A498_NCI60\n",
       "P0DN26;A0A075B759;Q9Y536;F5H284;A0A0B4J2A2;P0DN37  3812400     32150000 \n",
       "A0A0B4J2F0                                               0            0 \n",
       "A0A0C4DH73                                               0            0 \n",
       "A0A5B9;P01850                                            0            0 \n",
       "A0AV96;A0AV96-2                                   73467000    567040000 \n",
       "A0AVF1;A0AVF1-2;A0AVF1-3                           6052600     54431000 \n",
       "                                                  A549_NCI60 ACHN_NCI60\n",
       "P0DN26;A0A075B759;Q9Y536;F5H284;A0A0B4J2A2;P0DN37   6094400     4313900\n",
       "A0A0B4J2F0                                                0           0\n",
       "A0A0C4DH73                                                0           0\n",
       "A0A5B9;P01850                                             0           0\n",
       "A0AV96;A0AV96-2                                   490700000  1056000000\n",
       "A0AVF1;A0AVF1-2;A0AVF1-3                           24653000    52919000\n",
       "                                                  BT549_NCI60 CAKI1_NCI60\n",
       "P0DN26;A0A075B759;Q9Y536;F5H284;A0A0B4J2A2;P0DN37        0     47658000  \n",
       "A0A0B4J2F0                                               0            0  \n",
       "A0A0C4DH73                                               0            0  \n",
       "A0A5B9;P01850                                            0            0  \n",
       "A0AV96;A0AV96-2                                   23231000    242810000  \n",
       "A0AVF1;A0AVF1-2;A0AVF1-3                          15826000            0  \n",
       "                                                  CCRFCEM_NCI60 COLO205_NCI60\n",
       "P0DN26;A0A075B759;Q9Y536;F5H284;A0A0B4J2A2;P0DN37   5785500       64889000   \n",
       "A0A0B4J2F0                                                0              0   \n",
       "A0A0C4DH73                                                0              0   \n",
       "A0A5B9;P01850                                     234380000              0   \n",
       "A0AV96;A0AV96-2                                    21620000     3138100000   \n",
       "A0AVF1;A0AVF1-2;A0AVF1-3                           17568000       18730000   \n",
       "                                                  DU145_NCI60 EKVX_NCI60 ⋯\n",
       "P0DN26;A0A075B759;Q9Y536;F5H284;A0A0B4J2A2;P0DN37  33141000     30032000 ⋯\n",
       "A0A0B4J2F0                                                0      6635200 ⋯\n",
       "A0A0C4DH73                                                0            0 ⋯\n",
       "A0A5B9;P01850                                       7342300            0 ⋯\n",
       "A0AV96;A0AV96-2                                   108070000   1439200000 ⋯\n",
       "A0AVF1;A0AVF1-2;A0AVF1-3                            9006900     12765000 ⋯\n",
       "                                                  SNB19_NCI60 SNB75_NCI60\n",
       "P0DN26;A0A075B759;Q9Y536;F5H284;A0A0B4J2A2;P0DN37 18067000    60596000   \n",
       "A0A0B4J2F0                                               0           0   \n",
       "A0A0C4DH73                                               0           0   \n",
       "A0A5B9;P01850                                            0           0   \n",
       "A0AV96;A0AV96-2                                   81147000    21566000   \n",
       "A0AVF1;A0AVF1-2;A0AVF1-3                          75090000    46642000   \n",
       "                                                  SR_NCI60 SW620_NCI60\n",
       "P0DN26;A0A075B759;Q9Y536;F5H284;A0A0B4J2A2;P0DN37  7556500   8213600  \n",
       "A0A0B4J2F0                                               0         0  \n",
       "A0A0C4DH73                                               0         0  \n",
       "A0A5B9;P01850                                      5834700         0  \n",
       "A0AV96;A0AV96-2                                   11199000 513940000  \n",
       "A0AVF1;A0AVF1-2;A0AVF1-3                                 0  70986000  \n",
       "                                                  T47D_NCI60 TK10_NCI60\n",
       "P0DN26;A0A075B759;Q9Y536;F5H284;A0A0B4J2A2;P0DN37  48755000   161350000\n",
       "A0A0B4J2F0                                                0           0\n",
       "A0A0C4DH73                                                0           0\n",
       "A0A5B9;P01850                                             0           0\n",
       "A0AV96;A0AV96-2                                   857760000  1651300000\n",
       "A0AVF1;A0AVF1-2;A0AVF1-3                           20219000    62485000\n",
       "                                                  U031_NCI60 U251_NCI60\n",
       "P0DN26;A0A075B759;Q9Y536;F5H284;A0A0B4J2A2;P0DN37         0  54603000  \n",
       "A0A0B4J2F0                                                0         0  \n",
       "A0A0C4DH73                                                0         0  \n",
       "A0A5B9;P01850                                             0  10133000  \n",
       "A0AV96;A0AV96-2                                   470600000  40020000  \n",
       "A0AVF1;A0AVF1-2;A0AVF1-3                           13611000  29807000  \n",
       "                                                  UACC257_NCI60 UACC62_NCI60\n",
       "P0DN26;A0A075B759;Q9Y536;F5H284;A0A0B4J2A2;P0DN37  48719000      14605000   \n",
       "A0A0B4J2F0                                                0             0   \n",
       "A0A0C4DH73                                                0             0   \n",
       "A0A5B9;P01850                                             0      35631000   \n",
       "A0AV96;A0AV96-2                                   106450000             0   \n",
       "A0AVF1;A0AVF1-2;A0AVF1-3                           53550000     114360000   "
      ]
     },
     "metadata": {},
     "output_type": "display_data"
    }
   ],
   "source": [
    "prot_int <- read.table(\"prot_int.csv\")\n",
    "dim(prot_int)\n",
    "head(prot_int)"
   ]
  },
  {
   "cell_type": "code",
   "execution_count": 6,
   "id": "bafa9a37",
   "metadata": {},
   "outputs": [
    {
     "name": "stderr",
     "output_type": "stream",
     "text": [
      "260 features did not pass the filter due to no variability across samples. This is 2.4% of the features.\n",
      "\n",
      "3590 features are filtered out. This is 34% of the features.\n",
      "\n"
     ]
    }
   ],
   "source": [
    "# missing values due to missing detection in the mass-spectrometry must be declared as such, \n",
    "# e.g. NAN and must not be kept 0, as this will be considered as true value.\n",
    "prot_int[prot_int==0] <- NA\n",
    "\n",
    "outrider_ds <- Outrider2DataSet(inputData=prot_int, profile=\"protrider\")\n",
    "\n",
    "# filter out features that are not variable across samples or have many NAs\n",
    "outrider_ds <- filterExpression(outrider_ds)\n"
   ]
  },
  {
   "cell_type": "code",
   "execution_count": 7,
   "id": "8a7ffe57",
   "metadata": {},
   "outputs": [
    {
     "data": {
      "text/plain": [
       "class: Outrider2DataSet\n",
       "class: RangedSummarizedExperiment \n",
       "dim: 6975 60 \n",
       "metadata(1): version\n",
       "assays(1): observed\n",
       "rownames(6975): P0DN26;A0A075B759;Q9Y536;F5H284;A0A0B4J2A2;P0DN37\n",
       "  A0AV96;A0AV96-2 ...\n",
       "  REV__Q9UL68-2;REV__Q9UL68-4;REV__Q9UL68;REV__Q9UL68-3\n",
       "  REV__Q9UMY1-2;REV__Q9UMY1\n",
       "rowData names(4): passedFilter passedVariableFeatureFilter\n",
       "  passedPercentileFilter passedNAFilter\n",
       "colnames(60): X786O_NCI60 A498_NCI60 ... UACC257_NCI60 UACC62_NCI60\n",
       "colData names(6): sampleID expressedFeatures ... passedFilterFeatures\n",
       "  expressedFeaturesRank\n",
       "------------------- Model parameters -------------------\n",
       "Profile:                   protrider \n",
       "Default distribution:      gaussian \n"
      ]
     },
     "metadata": {},
     "output_type": "display_data"
    }
   ],
   "source": [
    "outrider_ds "
   ]
  },
  {
   "cell_type": "code",
   "execution_count": null,
   "id": "addb2ed2",
   "metadata": {},
   "outputs": [],
   "source": [
    "# visualize the correlations between samples through heatmap\n",
    "# In most RNA-seq experiments correlations between the samples can be observed. \n",
    "# These are often due to technical confounders (e.g. sequencing batch) or biological confounders (e.g. sex, age). \n",
    "# These confounders can adversely affect the detection of aberrant features. \n",
    "plotCountCorHeatmap(outrider_ds, normalized=FALSE, nRowCluster=NA, nColCluster=NA, main=\"before autoencoder correction\")"
   ]
  },
  {
   "cell_type": "code",
   "execution_count": null,
   "id": "afc4b145",
   "metadata": {},
   "outputs": [],
   "source": [
    "reticulate::use_condaenv(\"py_outrider1\", conda=\"/opt/homebrew/bin/conda\")\n",
    "# according to the result before, the optimal result is encod_dim 17, noise factor 1\n",
    "# here to save time, we only run q = 17\n",
    "outrider_ds <- OUTRIDER(outrider_ds)"
   ]
  },
  {
   "cell_type": "code",
   "execution_count": null,
   "id": "8d364608",
   "metadata": {},
   "outputs": [],
   "source": [
    "results(outrider_ds)"
   ]
  },
  {
   "cell_type": "code",
   "execution_count": null,
   "id": "94aaf81b",
   "metadata": {},
   "outputs": [],
   "source": [
    "# One quantity of interest is the number of aberrantly expressed proteins per sample. \n",
    "# This can be displayed using the plotting function plotAberrantPerSample. \n",
    "# Alternatively, the function aberrant can be used to identify aberrant events, \n",
    "# which can be summed by sample or protein using the paramter by. \n",
    "# numbers depend on the cutoffs, which can be specified in both functions (padjCutoff and zScoreCutoff).\n",
    "plotAberrantPerSample(outrider_ds, padjCutoff=0.05)"
   ]
  },
  {
   "cell_type": "code",
   "execution_count": null,
   "id": "725621d0",
   "metadata": {},
   "outputs": [],
   "source": [
    "outrider_ds"
   ]
  },
  {
   "cell_type": "code",
   "execution_count": null,
   "id": "60e4ec93",
   "metadata": {},
   "outputs": [],
   "source": [
    "plotCountCorHeatmap(outrider_ds, normalized = TRUE, nRowCluster=NA, nColCluster=NA, main=\"after autoencoder correction\" )"
   ]
  },
  {
   "cell_type": "code",
   "execution_count": null,
   "id": "cd1a3d4d",
   "metadata": {},
   "outputs": [],
   "source": [
    "# Observed versus expected protein expression\n",
    "# Since we do test how fare the observed count is away from the exprected expression level, \n",
    "# it is also helpful to visualize the predictions against the observed counts.\n",
    "plotExpectedVsObserved(outrider_ds, \"Q96JM3\", basePlot=TRUE)"
   ]
  },
  {
   "cell_type": "code",
   "execution_count": null,
   "id": "0582d682",
   "metadata": {},
   "outputs": [],
   "source": [
    "# expression rank of a protein with outlier events\n",
    "# plotExpressionRank plots the counts in ascending order. \n",
    "# By default, the controlled counts are plotted. \n",
    "# To plot raw counts, the argument normalized can be set to FALSE.\n",
    "plotExpressionRank(outrider_ds, \"Q96JM3\", basePlot=TRUE)"
   ]
  },
  {
   "cell_type": "code",
   "execution_count": null,
   "id": "ad5f7da8",
   "metadata": {},
   "outputs": [],
   "source": [
    "# The quantile-quantile plot can be used to see whether the fit converged well. \n",
    "# In presence of an outlier, it can happen that most of the points end up below the confidence band. \n",
    "# This is fine and indicates that we have conservative P-values for the other points. \n",
    "# QQ-plot for a given protein\n",
    "plotQQ(outrider_ds, \"Q96JM3\") "
   ]
  },
  {
   "cell_type": "code",
   "execution_count": null,
   "id": "b55993ec",
   "metadata": {},
   "outputs": [],
   "source": [
    "plotQQ(outrider_ds, \"REV__Q8NB66\") "
   ]
  },
  {
   "cell_type": "code",
   "execution_count": null,
   "id": "4a5afc40",
   "metadata": {},
   "outputs": [],
   "source": [
    "plotQQ(outrider_ds, global = TRUE) "
   ]
  },
  {
   "cell_type": "code",
   "execution_count": null,
   "id": "3349c45e",
   "metadata": {},
   "outputs": [],
   "source": [
    "# extract fitted AE weights\n",
    "E <- OUTRIDER:::E(outrider_ds) # encoder weights\n",
    "D <- OUTRIDER:::D(outrider_ds) # decoder weights\n",
    "b <- OUTRIDER:::b(outrider_ds) # bias, originally initialized as mean(log.intensity) per protein"
   ]
  },
  {
   "cell_type": "code",
   "execution_count": null,
   "id": "46f5c432",
   "metadata": {},
   "outputs": [],
   "source": [
    "# recompute AE predictions without NA\n",
    "x0 <- preprocessed(outrider_ds) # input values in log space\n",
    "b0 <- rowMeans(x0, na.rm=TRUE)\n",
    "x <- t(x0 - b0) # input to the AE, values are centered\n",
    "x[is.na(x)] <- 0 # NAs get replaced with zeros to allow matrix multiplication\n",
    "H <- x %*% E # computation of the latent space\n",
    "pred_no_na <- t(H %*% D) + matrix(b, nrow=nrow(outrider_ds), ncol=ncol(outrider_ds)) # decode from latent space with decoder weights and bias"
   ]
  },
  {
   "cell_type": "code",
   "execution_count": null,
   "id": "b51542b9",
   "metadata": {},
   "outputs": [],
   "source": [
    "rownames(pred_no_na) <- rownames(outrider_ds)"
   ]
  },
  {
   "cell_type": "code",
   "execution_count": null,
   "id": "eb2c52c9",
   "metadata": {},
   "outputs": [],
   "source": [
    "head(pred_no_na)\n",
    "nrow(pred_no_na)"
   ]
  },
  {
   "cell_type": "code",
   "execution_count": null,
   "id": "468d4e60",
   "metadata": {},
   "outputs": [],
   "source": [
    "write.table(pred_no_na, \"pred_no_na.txt\", row.names = TRUE)"
   ]
  },
  {
   "cell_type": "code",
   "execution_count": null,
   "id": "b49efeb7",
   "metadata": {},
   "outputs": [],
   "source": [
    "res <- results(outrider_ds, all = TRUE)"
   ]
  },
  {
   "cell_type": "code",
   "execution_count": null,
   "id": "d99acd8d",
   "metadata": {},
   "outputs": [],
   "source": [
    "write.table(res, \"outrider_res.txt\", row.names = TRUE)"
   ]
  },
  {
   "cell_type": "code",
   "execution_count": null,
   "id": "93803993",
   "metadata": {},
   "outputs": [],
   "source": [
    "# plot for hyper-parameter optimazation\n",
    "library(dplyr)\n",
    "library(ggplot2)\n",
    "\n",
    "number <- c(3,4,5,6,7,8,9,10,12,13,15,17,20)\n",
    "endoc_f <- c(0.0,0.5,1.0)\n",
    "\n",
    "encod_dim <- rep(number, each=3)\n",
    "\n",
    "num <- length(encod_dim)\n",
    "noice_factor  <- rep(endoc_f, times=num/3, each=1)\n",
    "\n",
    "prec_rec <- c(0.117340,\n",
    "              0.117340,\n",
    "              0.117391,\n",
    "              0.117345,\n",
    "              0.118319,\n",
    "              0.118359,\n",
    "              0.118115,\n",
    "              0.118138,\n",
    "              0.118217,\n",
    "              0.119884,\n",
    "              0.119973,\n",
    "              0.119568,\n",
    "              0.119807,\n",
    "              0.119807,\n",
    "              0.120970,\n",
    "              0.129179,\n",
    "              0.129221,\n",
    "              0.129020,\n",
    "              0.129781,\n",
    "              0.129499,\n",
    "              0.129785,\n",
    "              0.130128,\n",
    "              0.130324,\n",
    "              0.129944,\n",
    "              0.135832,\n",
    "              0.135517,\n",
    "              0.134839,\n",
    "              0.135588,\n",
    "              0.135242,\n",
    "              0.136288,\n",
    "              0.136370,\n",
    "              0.137169,\n",
    "              0.139956,\n",
    "              0.138798,\n",
    "              0.137209,\n",
    "              0.141131,\n",
    "              0.132473,\n",
    "              0.130786,\n",
    "              0.134723)\n",
    "report_pre_rec <- data.frame(\"encod_dim\" = encod_dim, \"noise_factor\" = noice_factor %>% as.character(), \"prec_rec\" = prec_rec)\n",
    "\n",
    "write.table(report_pre_rec, \"report_pre_rec_original.txt\",sep = \"\\t\",quote = F, row.names = F,col.names = T)\n"
   ]
  },
  {
   "cell_type": "code",
   "execution_count": null,
   "id": "0d35de47",
   "metadata": {},
   "outputs": [],
   "source": [
    "report_pre_rec_plot <- ggplot(report_pre_rec, aes(encod_dim,prec_rec))+\n",
    "  geom_point(aes(color= noise_factor), size=1.5)+ theme_bw() + \n",
    "  xlab(\"Encoding dimension\") + ylab(\"Area under the ROC Curve (AUC)\") + \n",
    "  ggtitle(\"Hyper-parameter tuning of the autoencoder\")+\n",
    "   theme(plot.title = element_text(size = 8),\n",
    "         axis.text.x = element_text(size = 8),\n",
    "         axis.title.x = element_text(size = 8),\n",
    "         axis.title.y = element_text(size = 8),\n",
    "         axis.text.y = element_text(size = 8),\n",
    "         legend.title=element_text(size=8),\n",
    "         legend.text=element_text(size=8))  + labs(color='Noise factor') \n",
    "  #stat_peaks(span = NULL,\n",
    "     #        geom = \"text_s\",\n",
    "     #        x.label.fmt = \" [encod_dim : 17, \\nnoise_factor : 1]\",\n",
    "     #        segment.colour = \"black\",\n",
    "     #        arrow = grid::arrow(length = unit(0.1, \"mm\")),\n",
    "     #        position = position_nudge_keep(x = 0.4, y = 0.002),\n",
    "     #        hjust = 0.5)\n",
    "report_pre_rec_plot\n",
    "ggsave(\"report_pre_rec.png\",report_pre_rec_plot, device=\"png\", height=3.5, width=4)"
   ]
  },
  {
   "cell_type": "code",
   "execution_count": null,
   "id": "0948d436",
   "metadata": {},
   "outputs": [],
   "source": []
  }
 ],
 "metadata": {
  "kernelspec": {
   "display_name": "R",
   "language": "R",
   "name": "ir"
  },
  "language_info": {
   "codemirror_mode": "r",
   "file_extension": ".r",
   "mimetype": "text/x-r-source",
   "name": "R",
   "pygments_lexer": "r",
   "version": "4.2.2"
  }
 },
 "nbformat": 4,
 "nbformat_minor": 5
}
